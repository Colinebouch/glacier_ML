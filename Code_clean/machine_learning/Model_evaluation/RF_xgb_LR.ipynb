{
 "cells": [
  {
   "cell_type": "markdown",
   "id": "392b9b9a-510a-4766-b98b-4ebce499caac",
   "metadata": {},
   "source": [
    "# Comparison of random forest, logistic regression and xgboost model"
   ]
  },
  {
   "cell_type": "code",
   "execution_count": 1,
   "id": "6d83fdb7-2064-4b15-878d-cc0923182d37",
   "metadata": {},
   "outputs": [],
   "source": [
    "import numpy as np\n",
    "import pandas as pd\n",
    "import matplotlib.pyplot as plt\n",
    "import matplotlib as mpl\n",
    "import itertools\n",
    "\n",
    "import sklearn.metrics as metrics\n",
    "import xgboost\n",
    "from sklearn.model_selection import train_test_split\n",
    "from sklearn.tree import DecisionTreeClassifier\n",
    "from sklearn.metrics import precision_score, recall_score, roc_auc_score, roc_curve, confusion_matrix\n",
    "from sklearn.utils import resample\n",
    "from sklearn.ensemble import RandomForestClassifier\n",
    "from sklearn.metrics import average_precision_score, precision_recall_curve, plot_precision_recall_curve\n",
    "from sklearn.linear_model import LogisticRegression"
   ]
  },
  {
   "cell_type": "markdown",
   "id": "a3217639-02e7-4e7a-a7b9-2b5a6d622d71",
   "metadata": {},
   "source": [
    "### Random seed to ensure reproductible runs"
   ]
  },
  {
   "cell_type": "code",
   "execution_count": 2,
   "id": "f2f031e1-fd2a-475f-9b41-5082760f85e5",
   "metadata": {},
   "outputs": [],
   "source": [
    "RSEED = 50"
   ]
  },
  {
   "cell_type": "markdown",
   "id": "6b09819f-3ca5-4128-a687-7f6103fdb328",
   "metadata": {},
   "source": [
    "### Set up colorbar"
   ]
  },
  {
   "cell_type": "code",
   "execution_count": 3,
   "id": "092aab6f-a7d7-4732-b0f5-4caba91d3cfa",
   "metadata": {},
   "outputs": [],
   "source": [
    "cmap = mpl.cm.get_cmap('BrBG')"
   ]
  },
  {
   "cell_type": "markdown",
   "id": "50388c6e-463a-4f51-8b88-777f4612e5f7",
   "metadata": {},
   "source": [
    "# Random forest"
   ]
  },
  {
   "cell_type": "code",
   "execution_count": 4,
   "id": "d23d6036-a169-4eb1-9aa0-626c8e1ff748",
   "metadata": {},
   "outputs": [
    {
     "name": "stderr",
     "output_type": "stream",
     "text": [
      "/home/colili/anaconda3/lib/python3.8/site-packages/IPython/core/interactiveshell.py:3165: DtypeWarning: Columns (21,22) have mixed types.Specify dtype option on import or set low_memory=False.\n",
      "  has_raised = await self.run_ast_nodes(code_ast.body, cell_name,\n"
     ]
    },
    {
     "data": {
      "text/plain": [
       "Index(['x', 'y', 'Surge', 'BgnDate', 'EndDate', 'CenLon', 'CenLat', 'Area',\n",
       "       'Zmin', 'Zmax', 'Zmed', 'Slope', 'Aspect', 'Lmax', 'Status', 'Connect',\n",
       "       'Form', 'TermType', 'Linkages', 'Name', 'check_geom', 'geometry', 'bed',\n",
       "       'thickness', 'surface_elevation', 'width_centerline', 'Runoff', 'ELA',\n",
       "       'beta', 'cmb', 'Bed_slope', 'Surface_slope', 'WHsin', 'WH', 'dummy',\n",
       "       'SMB_calc'],\n",
       "      dtype='object')"
      ]
     },
     "execution_count": 4,
     "metadata": {},
     "output_type": "execute_result"
    }
   ],
   "source": [
    "df_main = pd.read_csv('/home/colili/Documents/PhD/project_john/DataFrame_produced_clean/df_modelling.csv', index_col='rgiid')\n",
    "df_main.columns"
   ]
  },
  {
   "cell_type": "code",
   "execution_count": 5,
   "id": "aaaa1a5f-2de2-461e-8c92-a9600148a2be",
   "metadata": {},
   "outputs": [
    {
     "data": {
      "text/html": [
       "<div>\n",
       "<style scoped>\n",
       "    .dataframe tbody tr th:only-of-type {\n",
       "        vertical-align: middle;\n",
       "    }\n",
       "\n",
       "    .dataframe tbody tr th {\n",
       "        vertical-align: top;\n",
       "    }\n",
       "\n",
       "    .dataframe thead th {\n",
       "        text-align: right;\n",
       "    }\n",
       "</style>\n",
       "<table border=\"1\" class=\"dataframe\">\n",
       "  <thead>\n",
       "    <tr style=\"text-align: right;\">\n",
       "      <th></th>\n",
       "      <th>x</th>\n",
       "      <th>y</th>\n",
       "      <th>Surge</th>\n",
       "      <th>BgnDate</th>\n",
       "      <th>EndDate</th>\n",
       "      <th>CenLon</th>\n",
       "      <th>CenLat</th>\n",
       "      <th>Area</th>\n",
       "      <th>Zmin</th>\n",
       "      <th>Zmax</th>\n",
       "      <th>...</th>\n",
       "      <th>Runoff</th>\n",
       "      <th>ELA</th>\n",
       "      <th>beta</th>\n",
       "      <th>cmb</th>\n",
       "      <th>Bed_slope</th>\n",
       "      <th>Surface_slope</th>\n",
       "      <th>WHsin</th>\n",
       "      <th>WH</th>\n",
       "      <th>dummy</th>\n",
       "      <th>SMB_calc</th>\n",
       "    </tr>\n",
       "    <tr>\n",
       "      <th>rgiid</th>\n",
       "      <th></th>\n",
       "      <th></th>\n",
       "      <th></th>\n",
       "      <th></th>\n",
       "      <th></th>\n",
       "      <th></th>\n",
       "      <th></th>\n",
       "      <th></th>\n",
       "      <th></th>\n",
       "      <th></th>\n",
       "      <th></th>\n",
       "      <th></th>\n",
       "      <th></th>\n",
       "      <th></th>\n",
       "      <th></th>\n",
       "      <th></th>\n",
       "      <th></th>\n",
       "      <th></th>\n",
       "      <th></th>\n",
       "      <th></th>\n",
       "      <th></th>\n",
       "    </tr>\n",
       "  </thead>\n",
       "  <tbody>\n",
       "    <tr>\n",
       "      <th>RGI60-07.00004</th>\n",
       "      <td>524634.335707</td>\n",
       "      <td>8.539882e+06</td>\n",
       "      <td>0</td>\n",
       "      <td>20080901</td>\n",
       "      <td>-9999999</td>\n",
       "      <td>15.9932</td>\n",
       "      <td>76.9423</td>\n",
       "      <td>1.044</td>\n",
       "      <td>665</td>\n",
       "      <td>933</td>\n",
       "      <td>...</td>\n",
       "      <td>1.110227</td>\n",
       "      <td>431.471268</td>\n",
       "      <td>0.005068</td>\n",
       "      <td>1.388794</td>\n",
       "      <td>NaN</td>\n",
       "      <td>NaN</td>\n",
       "      <td>NaN</td>\n",
       "      <td>NaN</td>\n",
       "      <td>0.189930</td>\n",
       "      <td>NaN</td>\n",
       "    </tr>\n",
       "    <tr>\n",
       "      <th>RGI60-07.00004</th>\n",
       "      <td>524633.930457</td>\n",
       "      <td>8.539906e+06</td>\n",
       "      <td>0</td>\n",
       "      <td>20080901</td>\n",
       "      <td>-9999999</td>\n",
       "      <td>15.9932</td>\n",
       "      <td>76.9423</td>\n",
       "      <td>1.044</td>\n",
       "      <td>665</td>\n",
       "      <td>933</td>\n",
       "      <td>...</td>\n",
       "      <td>1.105706</td>\n",
       "      <td>431.784498</td>\n",
       "      <td>0.005069</td>\n",
       "      <td>1.394411</td>\n",
       "      <td>NaN</td>\n",
       "      <td>NaN</td>\n",
       "      <td>NaN</td>\n",
       "      <td>NaN</td>\n",
       "      <td>0.581230</td>\n",
       "      <td>NaN</td>\n",
       "    </tr>\n",
       "    <tr>\n",
       "      <th>RGI60-07.00004</th>\n",
       "      <td>524657.521964</td>\n",
       "      <td>8.539931e+06</td>\n",
       "      <td>0</td>\n",
       "      <td>20080901</td>\n",
       "      <td>-9999999</td>\n",
       "      <td>15.9932</td>\n",
       "      <td>76.9423</td>\n",
       "      <td>1.044</td>\n",
       "      <td>665</td>\n",
       "      <td>933</td>\n",
       "      <td>...</td>\n",
       "      <td>1.100061</td>\n",
       "      <td>432.103017</td>\n",
       "      <td>0.005069</td>\n",
       "      <td>1.392706</td>\n",
       "      <td>NaN</td>\n",
       "      <td>NaN</td>\n",
       "      <td>NaN</td>\n",
       "      <td>0.090480</td>\n",
       "      <td>0.934297</td>\n",
       "      <td>2.447634</td>\n",
       "    </tr>\n",
       "    <tr>\n",
       "      <th>RGI60-07.00004</th>\n",
       "      <td>524681.113471</td>\n",
       "      <td>8.539955e+06</td>\n",
       "      <td>0</td>\n",
       "      <td>20080901</td>\n",
       "      <td>-9999999</td>\n",
       "      <td>15.9932</td>\n",
       "      <td>76.9423</td>\n",
       "      <td>1.044</td>\n",
       "      <td>665</td>\n",
       "      <td>933</td>\n",
       "      <td>...</td>\n",
       "      <td>1.094416</td>\n",
       "      <td>432.421537</td>\n",
       "      <td>0.005068</td>\n",
       "      <td>1.391001</td>\n",
       "      <td>12.654898</td>\n",
       "      <td>3.372262</td>\n",
       "      <td>809.523242</td>\n",
       "      <td>0.104519</td>\n",
       "      <td>0.912001</td>\n",
       "      <td>2.435692</td>\n",
       "    </tr>\n",
       "    <tr>\n",
       "      <th>RGI60-07.00004</th>\n",
       "      <td>524704.704977</td>\n",
       "      <td>8.539980e+06</td>\n",
       "      <td>0</td>\n",
       "      <td>20080901</td>\n",
       "      <td>-9999999</td>\n",
       "      <td>15.9932</td>\n",
       "      <td>76.9423</td>\n",
       "      <td>1.044</td>\n",
       "      <td>665</td>\n",
       "      <td>933</td>\n",
       "      <td>...</td>\n",
       "      <td>1.088771</td>\n",
       "      <td>432.740057</td>\n",
       "      <td>0.005068</td>\n",
       "      <td>1.389296</td>\n",
       "      <td>12.654898</td>\n",
       "      <td>3.372262</td>\n",
       "      <td>904.899185</td>\n",
       "      <td>0.093502</td>\n",
       "      <td>0.798251</td>\n",
       "      <td>2.433887</td>\n",
       "    </tr>\n",
       "    <tr>\n",
       "      <th>...</th>\n",
       "      <td>...</td>\n",
       "      <td>...</td>\n",
       "      <td>...</td>\n",
       "      <td>...</td>\n",
       "      <td>...</td>\n",
       "      <td>...</td>\n",
       "      <td>...</td>\n",
       "      <td>...</td>\n",
       "      <td>...</td>\n",
       "      <td>...</td>\n",
       "      <td>...</td>\n",
       "      <td>...</td>\n",
       "      <td>...</td>\n",
       "      <td>...</td>\n",
       "      <td>...</td>\n",
       "      <td>...</td>\n",
       "      <td>...</td>\n",
       "      <td>...</td>\n",
       "      <td>...</td>\n",
       "      <td>...</td>\n",
       "      <td>...</td>\n",
       "    </tr>\n",
       "    <tr>\n",
       "      <th>RGI60-07.01567</th>\n",
       "      <td>534310.362510</td>\n",
       "      <td>8.675249e+06</td>\n",
       "      <td>3</td>\n",
       "      <td>20040713</td>\n",
       "      <td>-9999999</td>\n",
       "      <td>16.5502</td>\n",
       "      <td>78.1217</td>\n",
       "      <td>5.350</td>\n",
       "      <td>304</td>\n",
       "      <td>970</td>\n",
       "      <td>...</td>\n",
       "      <td>2.127417</td>\n",
       "      <td>627.625366</td>\n",
       "      <td>0.004614</td>\n",
       "      <td>-1.423469</td>\n",
       "      <td>4.401905</td>\n",
       "      <td>7.893963</td>\n",
       "      <td>-11421.363223</td>\n",
       "      <td>0.181951</td>\n",
       "      <td>0.569856</td>\n",
       "      <td>-1.604864</td>\n",
       "    </tr>\n",
       "    <tr>\n",
       "      <th>RGI60-07.01567</th>\n",
       "      <td>534309.250485</td>\n",
       "      <td>8.675291e+06</td>\n",
       "      <td>3</td>\n",
       "      <td>20040713</td>\n",
       "      <td>-9999999</td>\n",
       "      <td>16.5502</td>\n",
       "      <td>78.1217</td>\n",
       "      <td>5.350</td>\n",
       "      <td>304</td>\n",
       "      <td>970</td>\n",
       "      <td>...</td>\n",
       "      <td>2.076787</td>\n",
       "      <td>627.625366</td>\n",
       "      <td>0.004618</td>\n",
       "      <td>-1.395654</td>\n",
       "      <td>4.401905</td>\n",
       "      <td>7.893963</td>\n",
       "      <td>-10608.299012</td>\n",
       "      <td>0.195897</td>\n",
       "      <td>0.044070</td>\n",
       "      <td>-1.606379</td>\n",
       "    </tr>\n",
       "    <tr>\n",
       "      <th>RGI60-07.01567</th>\n",
       "      <td>534308.138459</td>\n",
       "      <td>8.675333e+06</td>\n",
       "      <td>3</td>\n",
       "      <td>20040713</td>\n",
       "      <td>-9999999</td>\n",
       "      <td>16.5502</td>\n",
       "      <td>78.1217</td>\n",
       "      <td>5.350</td>\n",
       "      <td>304</td>\n",
       "      <td>970</td>\n",
       "      <td>...</td>\n",
       "      <td>2.005969</td>\n",
       "      <td>627.625366</td>\n",
       "      <td>0.004620</td>\n",
       "      <td>-1.382369</td>\n",
       "      <td>-0.158243</td>\n",
       "      <td>-0.761801</td>\n",
       "      <td>-1682.075458</td>\n",
       "      <td>0.208355</td>\n",
       "      <td>0.720951</td>\n",
       "      <td>-1.604294</td>\n",
       "    </tr>\n",
       "    <tr>\n",
       "      <th>RGI60-07.01567</th>\n",
       "      <td>534307.026431</td>\n",
       "      <td>8.675375e+06</td>\n",
       "      <td>3</td>\n",
       "      <td>20040713</td>\n",
       "      <td>-9999999</td>\n",
       "      <td>16.5502</td>\n",
       "      <td>78.1217</td>\n",
       "      <td>5.350</td>\n",
       "      <td>304</td>\n",
       "      <td>970</td>\n",
       "      <td>...</td>\n",
       "      <td>1.935151</td>\n",
       "      <td>627.625366</td>\n",
       "      <td>0.004621</td>\n",
       "      <td>-1.369084</td>\n",
       "      <td>-0.158243</td>\n",
       "      <td>-0.761801</td>\n",
       "      <td>-1602.476034</td>\n",
       "      <td>0.218705</td>\n",
       "      <td>0.342674</td>\n",
       "      <td>-1.604788</td>\n",
       "    </tr>\n",
       "    <tr>\n",
       "      <th>RGI60-07.01567</th>\n",
       "      <td>534347.900282</td>\n",
       "      <td>8.675418e+06</td>\n",
       "      <td>3</td>\n",
       "      <td>20040713</td>\n",
       "      <td>-9999999</td>\n",
       "      <td>16.5502</td>\n",
       "      <td>78.1217</td>\n",
       "      <td>5.350</td>\n",
       "      <td>304</td>\n",
       "      <td>970</td>\n",
       "      <td>...</td>\n",
       "      <td>1.917944</td>\n",
       "      <td>627.625366</td>\n",
       "      <td>0.004620</td>\n",
       "      <td>-1.394770</td>\n",
       "      <td>NaN</td>\n",
       "      <td>NaN</td>\n",
       "      <td>NaN</td>\n",
       "      <td>NaN</td>\n",
       "      <td>0.709912</td>\n",
       "      <td>NaN</td>\n",
       "    </tr>\n",
       "  </tbody>\n",
       "</table>\n",
       "<p>97140 rows × 36 columns</p>\n",
       "</div>"
      ],
      "text/plain": [
       "                            x             y  Surge   BgnDate  EndDate  \\\n",
       "rgiid                                                                   \n",
       "RGI60-07.00004  524634.335707  8.539882e+06      0  20080901 -9999999   \n",
       "RGI60-07.00004  524633.930457  8.539906e+06      0  20080901 -9999999   \n",
       "RGI60-07.00004  524657.521964  8.539931e+06      0  20080901 -9999999   \n",
       "RGI60-07.00004  524681.113471  8.539955e+06      0  20080901 -9999999   \n",
       "RGI60-07.00004  524704.704977  8.539980e+06      0  20080901 -9999999   \n",
       "...                       ...           ...    ...       ...      ...   \n",
       "RGI60-07.01567  534310.362510  8.675249e+06      3  20040713 -9999999   \n",
       "RGI60-07.01567  534309.250485  8.675291e+06      3  20040713 -9999999   \n",
       "RGI60-07.01567  534308.138459  8.675333e+06      3  20040713 -9999999   \n",
       "RGI60-07.01567  534307.026431  8.675375e+06      3  20040713 -9999999   \n",
       "RGI60-07.01567  534347.900282  8.675418e+06      3  20040713 -9999999   \n",
       "\n",
       "                 CenLon   CenLat   Area  Zmin  Zmax  ...    Runoff  \\\n",
       "rgiid                                                ...             \n",
       "RGI60-07.00004  15.9932  76.9423  1.044   665   933  ...  1.110227   \n",
       "RGI60-07.00004  15.9932  76.9423  1.044   665   933  ...  1.105706   \n",
       "RGI60-07.00004  15.9932  76.9423  1.044   665   933  ...  1.100061   \n",
       "RGI60-07.00004  15.9932  76.9423  1.044   665   933  ...  1.094416   \n",
       "RGI60-07.00004  15.9932  76.9423  1.044   665   933  ...  1.088771   \n",
       "...                 ...      ...    ...   ...   ...  ...       ...   \n",
       "RGI60-07.01567  16.5502  78.1217  5.350   304   970  ...  2.127417   \n",
       "RGI60-07.01567  16.5502  78.1217  5.350   304   970  ...  2.076787   \n",
       "RGI60-07.01567  16.5502  78.1217  5.350   304   970  ...  2.005969   \n",
       "RGI60-07.01567  16.5502  78.1217  5.350   304   970  ...  1.935151   \n",
       "RGI60-07.01567  16.5502  78.1217  5.350   304   970  ...  1.917944   \n",
       "\n",
       "                       ELA      beta       cmb  Bed_slope  Surface_slope  \\\n",
       "rgiid                                                                      \n",
       "RGI60-07.00004  431.471268  0.005068  1.388794        NaN            NaN   \n",
       "RGI60-07.00004  431.784498  0.005069  1.394411        NaN            NaN   \n",
       "RGI60-07.00004  432.103017  0.005069  1.392706        NaN            NaN   \n",
       "RGI60-07.00004  432.421537  0.005068  1.391001  12.654898       3.372262   \n",
       "RGI60-07.00004  432.740057  0.005068  1.389296  12.654898       3.372262   \n",
       "...                    ...       ...       ...        ...            ...   \n",
       "RGI60-07.01567  627.625366  0.004614 -1.423469   4.401905       7.893963   \n",
       "RGI60-07.01567  627.625366  0.004618 -1.395654   4.401905       7.893963   \n",
       "RGI60-07.01567  627.625366  0.004620 -1.382369  -0.158243      -0.761801   \n",
       "RGI60-07.01567  627.625366  0.004621 -1.369084  -0.158243      -0.761801   \n",
       "RGI60-07.01567  627.625366  0.004620 -1.394770        NaN            NaN   \n",
       "\n",
       "                       WHsin        WH     dummy  SMB_calc  \n",
       "rgiid                                                       \n",
       "RGI60-07.00004           NaN       NaN  0.189930       NaN  \n",
       "RGI60-07.00004           NaN       NaN  0.581230       NaN  \n",
       "RGI60-07.00004           NaN  0.090480  0.934297  2.447634  \n",
       "RGI60-07.00004    809.523242  0.104519  0.912001  2.435692  \n",
       "RGI60-07.00004    904.899185  0.093502  0.798251  2.433887  \n",
       "...                      ...       ...       ...       ...  \n",
       "RGI60-07.01567 -11421.363223  0.181951  0.569856 -1.604864  \n",
       "RGI60-07.01567 -10608.299012  0.195897  0.044070 -1.606379  \n",
       "RGI60-07.01567  -1682.075458  0.208355  0.720951 -1.604294  \n",
       "RGI60-07.01567  -1602.476034  0.218705  0.342674 -1.604788  \n",
       "RGI60-07.01567           NaN       NaN  0.709912       NaN  \n",
       "\n",
       "[97140 rows x 36 columns]"
      ]
     },
     "execution_count": 5,
     "metadata": {},
     "output_type": "execute_result"
    }
   ],
   "source": [
    "df_main"
   ]
  },
  {
   "cell_type": "code",
   "execution_count": 6,
   "id": "2ed5116c-5969-431b-b8f1-acddb2135401",
   "metadata": {},
   "outputs": [
    {
     "data": {
      "text/html": [
       "<div>\n",
       "<style scoped>\n",
       "    .dataframe tbody tr th:only-of-type {\n",
       "        vertical-align: middle;\n",
       "    }\n",
       "\n",
       "    .dataframe tbody tr th {\n",
       "        vertical-align: top;\n",
       "    }\n",
       "\n",
       "    .dataframe thead th {\n",
       "        text-align: right;\n",
       "    }\n",
       "</style>\n",
       "<table border=\"1\" class=\"dataframe\">\n",
       "  <thead>\n",
       "    <tr style=\"text-align: right;\">\n",
       "      <th></th>\n",
       "      <th>Surge</th>\n",
       "      <th>Slope</th>\n",
       "      <th>TermType</th>\n",
       "      <th>bed</th>\n",
       "      <th>thickness</th>\n",
       "      <th>surface_elevation</th>\n",
       "      <th>width_centerline</th>\n",
       "      <th>Runoff</th>\n",
       "      <th>WHsin</th>\n",
       "      <th>WH</th>\n",
       "      <th>dummy</th>\n",
       "      <th>SMB_calc</th>\n",
       "    </tr>\n",
       "    <tr>\n",
       "      <th>rgiid</th>\n",
       "      <th></th>\n",
       "      <th></th>\n",
       "      <th></th>\n",
       "      <th></th>\n",
       "      <th></th>\n",
       "      <th></th>\n",
       "      <th></th>\n",
       "      <th></th>\n",
       "      <th></th>\n",
       "      <th></th>\n",
       "      <th></th>\n",
       "      <th></th>\n",
       "    </tr>\n",
       "  </thead>\n",
       "  <tbody>\n",
       "    <tr>\n",
       "      <th>RGI60-07.00004</th>\n",
       "      <td>0</td>\n",
       "      <td>13.8</td>\n",
       "      <td>0</td>\n",
       "      <td>882.06460</td>\n",
       "      <td>30.935455</td>\n",
       "      <td>913.00000</td>\n",
       "      <td>295.980219</td>\n",
       "      <td>1.094416</td>\n",
       "      <td>809.523242</td>\n",
       "      <td>0.104519</td>\n",
       "      <td>0.912001</td>\n",
       "      <td>2.435692</td>\n",
       "    </tr>\n",
       "    <tr>\n",
       "      <th>RGI60-07.00004</th>\n",
       "      <td>0</td>\n",
       "      <td>13.8</td>\n",
       "      <td>0</td>\n",
       "      <td>882.06460</td>\n",
       "      <td>30.935455</td>\n",
       "      <td>913.00000</td>\n",
       "      <td>330.851846</td>\n",
       "      <td>1.088771</td>\n",
       "      <td>904.899185</td>\n",
       "      <td>0.093502</td>\n",
       "      <td>0.798251</td>\n",
       "      <td>2.433887</td>\n",
       "    </tr>\n",
       "    <tr>\n",
       "      <th>RGI60-07.00004</th>\n",
       "      <td>0</td>\n",
       "      <td>13.8</td>\n",
       "      <td>0</td>\n",
       "      <td>882.06460</td>\n",
       "      <td>30.935455</td>\n",
       "      <td>913.00000</td>\n",
       "      <td>342.886985</td>\n",
       "      <td>1.083127</td>\n",
       "      <td>937.815996</td>\n",
       "      <td>0.090221</td>\n",
       "      <td>0.756957</td>\n",
       "      <td>2.432082</td>\n",
       "    </tr>\n",
       "    <tr>\n",
       "      <th>RGI60-07.00004</th>\n",
       "      <td>0</td>\n",
       "      <td>13.8</td>\n",
       "      <td>0</td>\n",
       "      <td>881.31860</td>\n",
       "      <td>34.681380</td>\n",
       "      <td>916.00000</td>\n",
       "      <td>336.403639</td>\n",
       "      <td>1.077530</td>\n",
       "      <td>11104.786522</td>\n",
       "      <td>0.103095</td>\n",
       "      <td>0.476094</td>\n",
       "      <td>2.445479</td>\n",
       "    </tr>\n",
       "    <tr>\n",
       "      <th>RGI60-07.00004</th>\n",
       "      <td>0</td>\n",
       "      <td>13.8</td>\n",
       "      <td>0</td>\n",
       "      <td>874.88640</td>\n",
       "      <td>35.113590</td>\n",
       "      <td>910.00000</td>\n",
       "      <td>330.094736</td>\n",
       "      <td>1.081518</td>\n",
       "      <td>7510.436075</td>\n",
       "      <td>0.106374</td>\n",
       "      <td>0.936589</td>\n",
       "      <td>2.414392</td>\n",
       "    </tr>\n",
       "    <tr>\n",
       "      <th>...</th>\n",
       "      <td>...</td>\n",
       "      <td>...</td>\n",
       "      <td>...</td>\n",
       "      <td>...</td>\n",
       "      <td>...</td>\n",
       "      <td>...</td>\n",
       "      <td>...</td>\n",
       "      <td>...</td>\n",
       "      <td>...</td>\n",
       "      <td>...</td>\n",
       "      <td>...</td>\n",
       "      <td>...</td>\n",
       "    </tr>\n",
       "    <tr>\n",
       "      <th>RGI60-07.01567</th>\n",
       "      <td>3</td>\n",
       "      <td>11.7</td>\n",
       "      <td>0</td>\n",
       "      <td>237.64468</td>\n",
       "      <td>50.380424</td>\n",
       "      <td>288.02512</td>\n",
       "      <td>278.553621</td>\n",
       "      <td>2.123592</td>\n",
       "      <td>-8877.735508</td>\n",
       "      <td>0.180864</td>\n",
       "      <td>0.621735</td>\n",
       "      <td>-1.566323</td>\n",
       "    </tr>\n",
       "    <tr>\n",
       "      <th>RGI60-07.01567</th>\n",
       "      <td>3</td>\n",
       "      <td>11.7</td>\n",
       "      <td>0</td>\n",
       "      <td>233.07228</td>\n",
       "      <td>46.717087</td>\n",
       "      <td>279.78937</td>\n",
       "      <td>256.755923</td>\n",
       "      <td>2.127417</td>\n",
       "      <td>-11421.363223</td>\n",
       "      <td>0.181951</td>\n",
       "      <td>0.569856</td>\n",
       "      <td>-1.604864</td>\n",
       "    </tr>\n",
       "    <tr>\n",
       "      <th>RGI60-07.01567</th>\n",
       "      <td>3</td>\n",
       "      <td>11.7</td>\n",
       "      <td>0</td>\n",
       "      <td>233.07228</td>\n",
       "      <td>46.717087</td>\n",
       "      <td>279.78937</td>\n",
       "      <td>238.477978</td>\n",
       "      <td>2.076787</td>\n",
       "      <td>-10608.299012</td>\n",
       "      <td>0.195897</td>\n",
       "      <td>0.044070</td>\n",
       "      <td>-1.606379</td>\n",
       "    </tr>\n",
       "    <tr>\n",
       "      <th>RGI60-07.01567</th>\n",
       "      <td>3</td>\n",
       "      <td>11.7</td>\n",
       "      <td>0</td>\n",
       "      <td>233.18828</td>\n",
       "      <td>47.159560</td>\n",
       "      <td>280.34784</td>\n",
       "      <td>226.342325</td>\n",
       "      <td>2.005969</td>\n",
       "      <td>-1682.075458</td>\n",
       "      <td>0.208355</td>\n",
       "      <td>0.720951</td>\n",
       "      <td>-1.604294</td>\n",
       "    </tr>\n",
       "    <tr>\n",
       "      <th>RGI60-07.01567</th>\n",
       "      <td>3</td>\n",
       "      <td>11.7</td>\n",
       "      <td>0</td>\n",
       "      <td>233.18828</td>\n",
       "      <td>47.159560</td>\n",
       "      <td>280.34784</td>\n",
       "      <td>215.631320</td>\n",
       "      <td>1.935151</td>\n",
       "      <td>-1602.476034</td>\n",
       "      <td>0.218705</td>\n",
       "      <td>0.342674</td>\n",
       "      <td>-1.604788</td>\n",
       "    </tr>\n",
       "  </tbody>\n",
       "</table>\n",
       "<p>81656 rows × 12 columns</p>\n",
       "</div>"
      ],
      "text/plain": [
       "                Surge  Slope  TermType        bed  thickness  \\\n",
       "rgiid                                                          \n",
       "RGI60-07.00004      0   13.8         0  882.06460  30.935455   \n",
       "RGI60-07.00004      0   13.8         0  882.06460  30.935455   \n",
       "RGI60-07.00004      0   13.8         0  882.06460  30.935455   \n",
       "RGI60-07.00004      0   13.8         0  881.31860  34.681380   \n",
       "RGI60-07.00004      0   13.8         0  874.88640  35.113590   \n",
       "...               ...    ...       ...        ...        ...   \n",
       "RGI60-07.01567      3   11.7         0  237.64468  50.380424   \n",
       "RGI60-07.01567      3   11.7         0  233.07228  46.717087   \n",
       "RGI60-07.01567      3   11.7         0  233.07228  46.717087   \n",
       "RGI60-07.01567      3   11.7         0  233.18828  47.159560   \n",
       "RGI60-07.01567      3   11.7         0  233.18828  47.159560   \n",
       "\n",
       "                surface_elevation  width_centerline    Runoff         WHsin  \\\n",
       "rgiid                                                                         \n",
       "RGI60-07.00004          913.00000        295.980219  1.094416    809.523242   \n",
       "RGI60-07.00004          913.00000        330.851846  1.088771    904.899185   \n",
       "RGI60-07.00004          913.00000        342.886985  1.083127    937.815996   \n",
       "RGI60-07.00004          916.00000        336.403639  1.077530  11104.786522   \n",
       "RGI60-07.00004          910.00000        330.094736  1.081518   7510.436075   \n",
       "...                           ...               ...       ...           ...   \n",
       "RGI60-07.01567          288.02512        278.553621  2.123592  -8877.735508   \n",
       "RGI60-07.01567          279.78937        256.755923  2.127417 -11421.363223   \n",
       "RGI60-07.01567          279.78937        238.477978  2.076787 -10608.299012   \n",
       "RGI60-07.01567          280.34784        226.342325  2.005969  -1682.075458   \n",
       "RGI60-07.01567          280.34784        215.631320  1.935151  -1602.476034   \n",
       "\n",
       "                      WH     dummy  SMB_calc  \n",
       "rgiid                                         \n",
       "RGI60-07.00004  0.104519  0.912001  2.435692  \n",
       "RGI60-07.00004  0.093502  0.798251  2.433887  \n",
       "RGI60-07.00004  0.090221  0.756957  2.432082  \n",
       "RGI60-07.00004  0.103095  0.476094  2.445479  \n",
       "RGI60-07.00004  0.106374  0.936589  2.414392  \n",
       "...                  ...       ...       ...  \n",
       "RGI60-07.01567  0.180864  0.621735 -1.566323  \n",
       "RGI60-07.01567  0.181951  0.569856 -1.604864  \n",
       "RGI60-07.01567  0.195897  0.044070 -1.606379  \n",
       "RGI60-07.01567  0.208355  0.720951 -1.604294  \n",
       "RGI60-07.01567  0.218705  0.342674 -1.604788  \n",
       "\n",
       "[81656 rows x 12 columns]"
      ]
     },
     "execution_count": 6,
     "metadata": {},
     "output_type": "execute_result"
    }
   ],
   "source": [
    "df_main.drop(df_main[df_main['Surge']==9].index, inplace = True)\n",
    "df_main.drop(df_main[df_main['Surge']==1].index, inplace = True)\n",
    "# df_main.drop(df_main[df_main['Surge']==2].index, inplace = True)\n",
    "# df = df_main.drop(columns = ['Unnamed: 0','x', 'y', 'ELA', 'beta', 'Name', 'Area'])\n",
    "df = df_main.drop(columns = ['x', 'y', 'BgnDate', 'EndDate', 'CenLon', 'CenLat', 'Area',\n",
    "       'Zmin', 'Zmax', 'Zmed', 'Aspect', 'Lmax', 'Status', 'Connect',\n",
    "       'Form', 'Linkages', 'Name', 'check_geom', 'geometry', 'ELA', 'beta',\n",
    "        'Bed_slope', 'Surface_slope', 'cmb'])\n",
    "df.dropna(how='any', inplace=True)\n",
    "df"
   ]
  },
  {
   "cell_type": "code",
   "execution_count": 7,
   "id": "e1cc48a8-1ee6-477b-913e-66497bbb33c7",
   "metadata": {},
   "outputs": [
    {
     "data": {
      "text/html": [
       "<div>\n",
       "<style scoped>\n",
       "    .dataframe tbody tr th:only-of-type {\n",
       "        vertical-align: middle;\n",
       "    }\n",
       "\n",
       "    .dataframe tbody tr th {\n",
       "        vertical-align: top;\n",
       "    }\n",
       "\n",
       "    .dataframe thead th {\n",
       "        text-align: right;\n",
       "    }\n",
       "</style>\n",
       "<table border=\"1\" class=\"dataframe\">\n",
       "  <thead>\n",
       "    <tr style=\"text-align: right;\">\n",
       "      <th></th>\n",
       "      <th>Slope</th>\n",
       "      <th>TermType</th>\n",
       "      <th>bed</th>\n",
       "      <th>thickness</th>\n",
       "      <th>surface_elevation</th>\n",
       "      <th>width_centerline</th>\n",
       "      <th>Runoff</th>\n",
       "      <th>WHsin</th>\n",
       "      <th>WH</th>\n",
       "      <th>dummy</th>\n",
       "      <th>SMB_calc</th>\n",
       "    </tr>\n",
       "    <tr>\n",
       "      <th>Surge</th>\n",
       "      <th></th>\n",
       "      <th></th>\n",
       "      <th></th>\n",
       "      <th></th>\n",
       "      <th></th>\n",
       "      <th></th>\n",
       "      <th></th>\n",
       "      <th></th>\n",
       "      <th></th>\n",
       "      <th></th>\n",
       "      <th></th>\n",
       "    </tr>\n",
       "  </thead>\n",
       "  <tbody>\n",
       "    <tr>\n",
       "      <th>0</th>\n",
       "      <td>66717</td>\n",
       "      <td>66717</td>\n",
       "      <td>66717</td>\n",
       "      <td>66717</td>\n",
       "      <td>66717</td>\n",
       "      <td>66717</td>\n",
       "      <td>66717</td>\n",
       "      <td>66717</td>\n",
       "      <td>66717</td>\n",
       "      <td>66717</td>\n",
       "      <td>66717</td>\n",
       "    </tr>\n",
       "    <tr>\n",
       "      <th>2</th>\n",
       "      <td>4195</td>\n",
       "      <td>4195</td>\n",
       "      <td>4195</td>\n",
       "      <td>4195</td>\n",
       "      <td>4195</td>\n",
       "      <td>4195</td>\n",
       "      <td>4195</td>\n",
       "      <td>4195</td>\n",
       "      <td>4195</td>\n",
       "      <td>4195</td>\n",
       "      <td>4195</td>\n",
       "    </tr>\n",
       "    <tr>\n",
       "      <th>3</th>\n",
       "      <td>10744</td>\n",
       "      <td>10744</td>\n",
       "      <td>10744</td>\n",
       "      <td>10744</td>\n",
       "      <td>10744</td>\n",
       "      <td>10744</td>\n",
       "      <td>10744</td>\n",
       "      <td>10744</td>\n",
       "      <td>10744</td>\n",
       "      <td>10744</td>\n",
       "      <td>10744</td>\n",
       "    </tr>\n",
       "  </tbody>\n",
       "</table>\n",
       "</div>"
      ],
      "text/plain": [
       "       Slope  TermType    bed  thickness  surface_elevation  width_centerline  \\\n",
       "Surge                                                                           \n",
       "0      66717     66717  66717      66717              66717             66717   \n",
       "2       4195      4195   4195       4195               4195              4195   \n",
       "3      10744     10744  10744      10744              10744             10744   \n",
       "\n",
       "       Runoff  WHsin     WH  dummy  SMB_calc  \n",
       "Surge                                         \n",
       "0       66717  66717  66717  66717     66717  \n",
       "2        4195   4195   4195   4195      4195  \n",
       "3       10744  10744  10744  10744     10744  "
      ]
     },
     "execution_count": 7,
     "metadata": {},
     "output_type": "execute_result"
    }
   ],
   "source": [
    "df.groupby('Surge').count()"
   ]
  },
  {
   "cell_type": "code",
   "execution_count": 8,
   "id": "0f2b0391-86c6-4317-bc8a-512dee2c0660",
   "metadata": {},
   "outputs": [
    {
     "data": {
      "text/plain": [
       "0    66717\n",
       "1    14939\n",
       "Name: label, dtype: int64"
      ]
     },
     "execution_count": 8,
     "metadata": {},
     "output_type": "execute_result"
    }
   ],
   "source": [
    "df['Surge'] = df['Surge'].replace({2: 1, 3: 1})\n",
    "df = df.loc[df['Surge'].isin([0, 1])].copy()\n",
    "df = df.rename(columns = {'Surge': 'label'})\n",
    "df['label'].value_counts()"
   ]
  },
  {
   "cell_type": "markdown",
   "id": "272717ac-1f5c-443e-a919-72f5371dd336",
   "metadata": {},
   "source": [
    "# Split in test/train"
   ]
  },
  {
   "cell_type": "code",
   "execution_count": 9,
   "id": "8ad3f251-7865-4782-ad9e-b137a6a392e2",
   "metadata": {},
   "outputs": [],
   "source": [
    "# Extract the labels\n",
    "labels = np.array(df.pop('label'))\n",
    "\n",
    "# 30% examples in test data\n",
    "train, test, train_labels, test_labels = train_test_split(df, labels, \n",
    "                                                          stratify = labels,\n",
    "                                                          test_size = 0.3, \n",
    "                                                          random_state = RSEED)"
   ]
  },
  {
   "cell_type": "markdown",
   "id": "452d40b7-1e17-4cac-962f-2f642b8b411b",
   "metadata": {},
   "source": [
    "## Evaluation of the decision tree function"
   ]
  },
  {
   "cell_type": "code",
   "execution_count": 10,
   "id": "10349ab7-21a3-4e15-bc55-3a45d8da2154",
   "metadata": {},
   "outputs": [],
   "source": [
    "def evaluate_model(predictions, probs, train_predictions, train_probs, color):\n",
    "    \"\"\"Compare machine learning model to baseline performance.\n",
    "    Computes statistics and shows ROC curve.\"\"\"\n",
    "    \n",
    "    baseline = {}\n",
    "    \n",
    "    baseline['recall'] = recall_score(test_labels, [1 for _ in range(len(test_labels))])\n",
    "    baseline['precision'] = precision_score(test_labels, [1 for _ in range(len(test_labels))])\n",
    "    baseline['roc'] = 0.5\n",
    "    \n",
    "    results = {}\n",
    "    \n",
    "    results['recall'] = recall_score(test_labels, predictions)\n",
    "    results['precision'] = precision_score(test_labels, predictions)\n",
    "    results['roc'] = roc_auc_score(test_labels, probs)\n",
    "    \n",
    "    train_results = {}\n",
    "    train_results['recall'] = recall_score(train_labels, train_predictions)\n",
    "    train_results['precision'] = precision_score(train_labels, train_predictions)\n",
    "    train_results['roc'] = roc_auc_score(train_labels, train_probs)\n",
    "    \n",
    "    for metric in ['recall', 'precision', 'roc']:\n",
    "        print(f'{metric.capitalize()} Baseline: {round(baseline[metric], 2)} Test: {round(results[metric], 2)} Train: {round(train_results[metric], 2)}')\n",
    "    \n",
    "    # Calculate false positive rates and true positive rates\n",
    "    base_fpr, base_tpr, _ = roc_curve(test_labels, [1 for _ in range(len(test_labels))])\n",
    "    model_fpr, model_tpr, _ = roc_curve(test_labels, probs)\n",
    "\n",
    "    \n",
    "    plt.figure(figsize = (8, 8))\n",
    "    plt.rcParams['font.size'] = 16\n",
    "    \n",
    "    # Plot both curves\n",
    "    plt.plot(base_fpr, base_tpr, 'k', label = 'baseline')\n",
    "    plt.plot(model_fpr, model_tpr, color, label = 'model')\n",
    "    plt.text(s = 'AUC = ' + str(round(roc_auc_score(train_labels, train_probs),2))\n",
    "    , x=0.6, y=0.0, fontsize=15\n",
    ")\n",
    "    plt.legend();\n",
    "    plt.xlabel('False Positive Rate'); plt.ylabel('True Positive Rate'); plt.title('ROC Curves');"
   ]
  },
  {
   "cell_type": "markdown",
   "id": "f36d218b-437e-425c-acfb-a29d5a87154b",
   "metadata": {},
   "source": [
    "## Confusion matrix function"
   ]
  },
  {
   "cell_type": "code",
   "execution_count": 11,
   "id": "be5697ad-ef2c-4400-b508-11211c3b6a01",
   "metadata": {},
   "outputs": [],
   "source": [
    "def plot_confusion_matrix(cm, classes,\n",
    "                          normalize=False,\n",
    "                          title='Confusion matrix',\n",
    "                          cmap=plt.cm.Oranges):\n",
    "    \"\"\"\n",
    "    This function prints and plots the confusion matrix.\n",
    "    Normalization can be applied by setting `normalize=True`.\n",
    "    Source: http://scikit-learn.org/stable/auto_examples/model_selection/plot_confusion_matrix.html\n",
    "    \"\"\"\n",
    "    if normalize:\n",
    "        cm = cm.astype('float') / cm.sum(axis=1)[:, np.newaxis]\n",
    "        print(\"Normalized confusion matrix\")\n",
    "    else:\n",
    "        print('Confusion matrix, without normalization')\n",
    "\n",
    "    print(cm)\n",
    "\n",
    "    plt.figure(figsize = (10, 10))\n",
    "    plt.imshow(cm, interpolation='nearest', cmap=cmap)\n",
    "    plt.title(title, size = 24)\n",
    "    cbar = plt.colorbar(aspect=4)\n",
    "    plt.clim(0,100)\n",
    "    cbar.set_label('Fraction (%)')\n",
    "    tick_marks = np.arange(len(classes))\n",
    "    plt.xticks(tick_marks, classes, rotation=45, size = 14)\n",
    "    plt.yticks(tick_marks, classes, size = 14)\n",
    "\n",
    "    fmt = '.2f' if normalize else 'd'\n",
    "    thresh = cm.max() / 2.\n",
    "    \n",
    "    # Labeling the plot\n",
    "    for i, j in itertools.product(range(cm.shape[0]), range(cm.shape[1])):\n",
    "        plt.text(j, i, format(cm[i, j], fmt), fontsize = 20,\n",
    "                 horizontalalignment=\"center\",\n",
    "#                  color=\"black\" if cm[i, j] > thresh else \"white\")\n",
    "                 color=\"black\")\n",
    "\n",
    "        \n",
    "    plt.grid(None)\n",
    "    plt.tight_layout()\n",
    "    plt.ylabel('True label', size = 18)\n",
    "    plt.xlabel('Predicted label', size = 18)"
   ]
  },
  {
   "cell_type": "markdown",
   "id": "4eadc270-6925-45d9-9abc-0c1876f2d954",
   "metadata": {},
   "source": [
    "# Random forest modelling"
   ]
  },
  {
   "cell_type": "code",
   "execution_count": 12,
   "id": "66d0c8af-2b17-4dd3-bd0c-3fd78563583d",
   "metadata": {},
   "outputs": [
    {
     "name": "stderr",
     "output_type": "stream",
     "text": [
      "[Parallel(n_jobs=-1)]: Using backend ThreadingBackend with 8 concurrent workers.\n",
      "[Parallel(n_jobs=-1)]: Done  34 tasks      | elapsed:    0.4s\n",
      "[Parallel(n_jobs=-1)]: Done 184 tasks      | elapsed:    1.6s\n",
      "[Parallel(n_jobs=-1)]: Done 434 tasks      | elapsed:    3.5s\n",
      "[Parallel(n_jobs=-1)]: Done 784 tasks      | elapsed:    6.2s\n",
      "[Parallel(n_jobs=-1)]: Done 1000 out of 1000 | elapsed:    8.1s finished\n"
     ]
    },
    {
     "data": {
      "text/plain": [
       "RandomForestClassifier(max_depth=2, max_features='sqrt', n_estimators=1000,\n",
       "                       n_jobs=-1, random_state=50, verbose=1)"
      ]
     },
     "execution_count": 12,
     "metadata": {},
     "output_type": "execute_result"
    }
   ],
   "source": [
    "model = RandomForestClassifier(n_estimators=1000, \n",
    "                               random_state=RSEED, \n",
    "                               max_features = 'sqrt',\n",
    "                               max_depth = 2,\n",
    "                               n_jobs=-1, verbose = 1)\n",
    "\n",
    "# Fit on training data\n",
    "model.fit(train, train_labels)"
   ]
  },
  {
   "cell_type": "markdown",
   "id": "0877fdd6-bd90-49f0-b76a-d5b235063730",
   "metadata": {},
   "source": [
    "### Evaluation of the random forest"
   ]
  },
  {
   "cell_type": "code",
   "execution_count": 13,
   "id": "463aa433-8cb3-42ea-b7c0-52e845c56c96",
   "metadata": {},
   "outputs": [
    {
     "name": "stdout",
     "output_type": "stream",
     "text": [
      "Average number of nodes 7\n",
      "Average maximum depth 2\n"
     ]
    }
   ],
   "source": [
    "n_nodes = []\n",
    "max_depths = []\n",
    "\n",
    "for ind_tree in model.estimators_:\n",
    "    n_nodes.append(ind_tree.tree_.node_count)\n",
    "    max_depths.append(ind_tree.tree_.max_depth)\n",
    "    \n",
    "print(f'Average number of nodes {int(np.mean(n_nodes))}')\n",
    "print(f'Average maximum depth {int(np.mean(max_depths))}')"
   ]
  },
  {
   "cell_type": "code",
   "execution_count": 14,
   "id": "f619be80-1ecb-41b2-9316-c5c5d1abadf4",
   "metadata": {},
   "outputs": [
    {
     "name": "stderr",
     "output_type": "stream",
     "text": [
      "[Parallel(n_jobs=8)]: Using backend ThreadingBackend with 8 concurrent workers.\n",
      "[Parallel(n_jobs=8)]: Done  34 tasks      | elapsed:    0.1s\n",
      "[Parallel(n_jobs=8)]: Done 184 tasks      | elapsed:    0.3s\n",
      "[Parallel(n_jobs=8)]: Done 434 tasks      | elapsed:    0.5s\n",
      "[Parallel(n_jobs=8)]: Done 784 tasks      | elapsed:    0.9s\n",
      "[Parallel(n_jobs=8)]: Done 1000 out of 1000 | elapsed:    1.1s finished\n",
      "[Parallel(n_jobs=8)]: Using backend ThreadingBackend with 8 concurrent workers.\n",
      "[Parallel(n_jobs=8)]: Done  34 tasks      | elapsed:    0.0s\n",
      "[Parallel(n_jobs=8)]: Done 184 tasks      | elapsed:    0.2s\n",
      "[Parallel(n_jobs=8)]: Done 434 tasks      | elapsed:    0.5s\n",
      "[Parallel(n_jobs=8)]: Done 784 tasks      | elapsed:    0.8s\n",
      "[Parallel(n_jobs=8)]: Done 1000 out of 1000 | elapsed:    1.0s finished\n",
      "[Parallel(n_jobs=8)]: Using backend ThreadingBackend with 8 concurrent workers.\n",
      "[Parallel(n_jobs=8)]: Done  34 tasks      | elapsed:    0.0s\n",
      "[Parallel(n_jobs=8)]: Done 184 tasks      | elapsed:    0.1s\n",
      "[Parallel(n_jobs=8)]: Done 434 tasks      | elapsed:    0.2s\n",
      "[Parallel(n_jobs=8)]: Done 784 tasks      | elapsed:    0.4s\n",
      "[Parallel(n_jobs=8)]: Done 1000 out of 1000 | elapsed:    0.5s finished\n",
      "[Parallel(n_jobs=8)]: Using backend ThreadingBackend with 8 concurrent workers.\n",
      "[Parallel(n_jobs=8)]: Done  34 tasks      | elapsed:    0.0s\n",
      "[Parallel(n_jobs=8)]: Done 184 tasks      | elapsed:    0.1s\n",
      "[Parallel(n_jobs=8)]: Done 434 tasks      | elapsed:    0.2s\n",
      "[Parallel(n_jobs=8)]: Done 784 tasks      | elapsed:    0.4s\n",
      "[Parallel(n_jobs=8)]: Done 1000 out of 1000 | elapsed:    0.5s finished\n"
     ]
    }
   ],
   "source": [
    "train_rf_predictions = model.predict(train)\n",
    "train_rf_probs = model.predict_proba(train)[:, 1]\n",
    "\n",
    "rf_predictions = model.predict(test)\n",
    "rf_probs = model.predict_proba(test)[:, 1]"
   ]
  },
  {
   "cell_type": "code",
   "execution_count": 15,
   "id": "8e581f86-29b7-442f-85f6-2e6634c44109",
   "metadata": {},
   "outputs": [],
   "source": [
    "pd.DataFrame({'true':test_labels, 'predictions':rf_predictions, 'probs':rf_probs}).to_csv('/home/colili/Documents/PhD/project_john/DataFrame_produced_clean/ROC_curve/df_evaluation_RF_raw.csv')"
   ]
  },
  {
   "cell_type": "code",
   "execution_count": 16,
   "id": "7762ccd6-d809-4621-b672-e3775ca615cd",
   "metadata": {},
   "outputs": [
    {
     "name": "stdout",
     "output_type": "stream",
     "text": [
      "Recall Baseline: 1.0 Test: 0.07 Train: 0.07\n",
      "Precision Baseline: 0.18 Test: 0.87 Train: 0.85\n",
      "Roc Baseline: 0.5 Test: 0.8 Train: 0.8\n"
     ]
    },
    {
     "data": {
      "image/png": "[encoded data removed]",
      "text/plain": [
       "<Figure size 576x576 with 1 Axes>"
      ]
     },
     "metadata": {
      "needs_background": "light"
     },
     "output_type": "display_data"
    }
   ],
   "source": [
    "evaluate_model(rf_predictions, rf_probs, train_rf_predictions, train_rf_probs, 'lightgray')"
   ]
  },
  {
   "cell_type": "code",
   "execution_count": 17,
   "id": "802aac23-ef84-458c-9fca-63364f3d1054",
   "metadata": {},
   "outputs": [
    {
     "name": "stdout",
     "output_type": "stream",
     "text": [
      "Confusion matrix, without normalization\n",
      "[[82  0]\n",
      " [17  1]]\n"
     ]
    },
    {
     "data": {
      "image/png": "[encoded data removed]",
      "text/plain": [
       "<Figure size 720x720 with 2 Axes>"
      ]
     },
     "metadata": {
      "needs_background": "light"
     },
     "output_type": "display_data"
    }
   ],
   "source": [
    "cm_rf = confusion_matrix(test_labels, rf_predictions)\n",
    "plot_confusion_matrix(np.round(cm_rf/(test_labels.shape)*100).astype(int), classes = ['Surge', 'Non-surge'],\n",
    "                      title = 'Confusion Matrix RF', cmap='Greys')"
   ]
  },
  {
   "cell_type": "code",
   "execution_count": 18,
   "id": "4218f3ad-23fe-471b-8019-d9b245228bc5",
   "metadata": {},
   "outputs": [
    {
     "name": "stdout",
     "output_type": "stream",
     "text": [
      "Average precision-recall score: 0.23\n"
     ]
    }
   ],
   "source": [
    "average_precision_rf = average_precision_score(test_labels, rf_predictions)\n",
    "\n",
    "print('Average precision-recall score: {0:0.2f}'.format(\n",
    "      average_precision_rf))"
   ]
  },
  {
   "cell_type": "code",
   "execution_count": 19,
   "id": "c0af9f64-2884-43b1-bb73-7953c92ea70a",
   "metadata": {
    "tags": []
   },
   "outputs": [],
   "source": [
    "# disp_rf = plot_precision_recall_curve(model, test, test_labels, 'grey')\n",
    "# disp_rf.ax_.set_title('2-class Precision-Recall curve RF: '\n",
    "#                    'AP={0:0.2f}'.format(average_precision_rf))"
   ]
  },
  {
   "cell_type": "code",
   "execution_count": 20,
   "id": "28ebd387-ac80-41d6-946a-ece0ea7d6e52",
   "metadata": {},
   "outputs": [
    {
     "name": "stdout",
     "output_type": "stream",
     "text": [
      "Decision tree has 3539 nodes with maximum depth 27.\n"
     ]
    }
   ],
   "source": [
    "tree = DecisionTreeClassifier(random_state=RSEED)\n",
    "tree.fit(train, train_labels)\n",
    "print(f'Decision tree has {tree.tree_.node_count} nodes with maximum depth {tree.tree_.max_depth}.')"
   ]
  },
  {
   "cell_type": "code",
   "execution_count": 21,
   "id": "d8235969-cc58-4aed-b63e-d8f27d8e337b",
   "metadata": {},
   "outputs": [
    {
     "data": {
      "text/html": [
       "<div>\n",
       "<style scoped>\n",
       "    .dataframe tbody tr th:only-of-type {\n",
       "        vertical-align: middle;\n",
       "    }\n",
       "\n",
       "    .dataframe tbody tr th {\n",
       "        vertical-align: top;\n",
       "    }\n",
       "\n",
       "    .dataframe thead th {\n",
       "        text-align: right;\n",
       "    }\n",
       "</style>\n",
       "<table border=\"1\" class=\"dataframe\">\n",
       "  <thead>\n",
       "    <tr style=\"text-align: right;\">\n",
       "      <th></th>\n",
       "      <th>feature</th>\n",
       "      <th>importance</th>\n",
       "    </tr>\n",
       "  </thead>\n",
       "  <tbody>\n",
       "    <tr>\n",
       "      <th>0</th>\n",
       "      <td>Slope</td>\n",
       "      <td>0.295871</td>\n",
       "    </tr>\n",
       "    <tr>\n",
       "      <th>5</th>\n",
       "      <td>width_centerline</td>\n",
       "      <td>0.174724</td>\n",
       "    </tr>\n",
       "    <tr>\n",
       "      <th>6</th>\n",
       "      <td>Runoff</td>\n",
       "      <td>0.111006</td>\n",
       "    </tr>\n",
       "    <tr>\n",
       "      <th>3</th>\n",
       "      <td>thickness</td>\n",
       "      <td>0.095974</td>\n",
       "    </tr>\n",
       "    <tr>\n",
       "      <th>10</th>\n",
       "      <td>SMB_calc</td>\n",
       "      <td>0.088684</td>\n",
       "    </tr>\n",
       "  </tbody>\n",
       "</table>\n",
       "</div>"
      ],
      "text/plain": [
       "             feature  importance\n",
       "0              Slope    0.295871\n",
       "5   width_centerline    0.174724\n",
       "6             Runoff    0.111006\n",
       "3          thickness    0.095974\n",
       "10          SMB_calc    0.088684"
      ]
     },
     "execution_count": 21,
     "metadata": {},
     "output_type": "execute_result"
    }
   ],
   "source": [
    "# Features for feature importances\n",
    "features = list(train.columns)\n",
    "features\n",
    "\n",
    "fi = pd.DataFrame({'feature': features,\n",
    "                   'importance': tree.feature_importances_}).\\\n",
    "                    sort_values('importance', ascending = False)\n",
    "fi.head()"
   ]
  },
  {
   "cell_type": "markdown",
   "id": "90a31818-f82b-4780-8867-8fbb7011a697",
   "metadata": {},
   "source": [
    "# Logistic regression"
   ]
  },
  {
   "cell_type": "code",
   "execution_count": 22,
   "id": "ee61fda0-a0c2-4afd-98ad-0bbab85514ac",
   "metadata": {},
   "outputs": [
    {
     "data": {
      "text/plain": [
       "LogisticRegression()"
      ]
     },
     "execution_count": 22,
     "metadata": {},
     "output_type": "execute_result"
    }
   ],
   "source": [
    "logreg = LogisticRegression()\n",
    "logreg.fit(train, train_labels)"
   ]
  },
  {
   "cell_type": "code",
   "execution_count": 23,
   "id": "d96bf276-eec2-4ab3-ad31-789eeaee4ff4",
   "metadata": {},
   "outputs": [
    {
     "name": "stdout",
     "output_type": "stream",
     "text": [
      "Accuracy of logistic regression classifier on test set: 0.82\n"
     ]
    }
   ],
   "source": [
    "predictions_LR = logreg.predict(test)\n",
    "probs_LR = logreg.predict_proba(test)[:, 1]\n",
    "print('Accuracy of logistic regression classifier on test set: {:.2f}'.format(logreg.score(test, test_labels)))"
   ]
  },
  {
   "cell_type": "code",
   "execution_count": 24,
   "id": "4b862f88-a473-4514-b09c-5f7e88a70f2a",
   "metadata": {},
   "outputs": [],
   "source": [
    "pd.DataFrame({'true':test_labels, 'predictions':predictions_LR, 'prob':probs_LR}).to_csv('/home/colili/Documents/PhD/project_john/DataFrame_produced_clean/ROC_curve/df_evaluation_LR_raw.csv')"
   ]
  },
  {
   "cell_type": "code",
   "execution_count": 25,
   "id": "2053f9c1-058a-4e35-a5e2-8219148437d6",
   "metadata": {},
   "outputs": [
    {
     "data": {
      "text/plain": [
       "(0.32941176470588235, 0.18823529411764706, 0.0196078431372549, 1.0)"
      ]
     },
     "execution_count": 25,
     "metadata": {},
     "output_type": "execute_result"
    }
   ],
   "source": [
    "cmap(0)"
   ]
  },
  {
   "cell_type": "code",
   "execution_count": 26,
   "id": "2ecc8b3c-79c5-42b9-9dc9-03ff1b92ce66",
   "metadata": {},
   "outputs": [
    {
     "data": {
      "image/png": "[encoded data removed]",
      "text/plain": [
       "<Figure size 648x576 with 1 Axes>"
      ]
     },
     "metadata": {
      "needs_background": "light"
     },
     "output_type": "display_data"
    }
   ],
   "source": [
    "logit_roc_auc = roc_auc_score(test_labels, logreg.predict_proba(test)[:,1])\n",
    "fpr, tpr, thresholds = roc_curve(test_labels, logreg.predict_proba(test)[:,1])\n",
    "plt.figure(figsize=(9, 8))\n",
    "plt.plot(fpr, tpr, color=cmap(0), label='AUC = %0.2f' % logit_roc_auc)\n",
    "plt.plot([0, 1], [0, 1], 'k')\n",
    "# # plt.xlim([0.0, 1.0])\n",
    "# plt.ylim([0.0, 1.05])\n",
    "plt.xlabel('False Positive Rate')\n",
    "plt.ylabel('True Positive Rate')\n",
    "plt.title('ROC Logistic regression')\n",
    "plt.legend(loc=\"lower right\")\n",
    "# plt.savefig('Log_ROC')\n",
    "plt.show()"
   ]
  },
  {
   "cell_type": "code",
   "execution_count": 27,
   "id": "0eb96d58-5739-4f09-9277-2684b3858bd2",
   "metadata": {},
   "outputs": [
    {
     "name": "stdout",
     "output_type": "stream",
     "text": [
      "<function confusion_matrix at 0x7f588089b3a0>\n",
      "Confusion matrix, without normalization\n",
      "[[78  3]\n",
      " [15  3]]\n"
     ]
    },
    {
     "data": {
      "image/png": "[encoded data removed]",
      "text/plain": [
       "<Figure size 720x720 with 2 Axes>"
      ]
     },
     "metadata": {
      "needs_background": "light"
     },
     "output_type": "display_data"
    }
   ],
   "source": [
    "cm_LR = confusion_matrix(test_labels, predictions_LR)\n",
    "print(confusion_matrix)\n",
    "plot_confusion_matrix((cm_LR/test_labels.shape*100).astype(int), classes = ['Surge', 'Non-surge'],\n",
    "                      title = 'Confusion Matrix Logistic Regression', cmap='BrBG')"
   ]
  },
  {
   "cell_type": "code",
   "execution_count": 28,
   "id": "0501adfb-cdc5-4657-a56f-18cdda05c937",
   "metadata": {},
   "outputs": [
    {
     "name": "stdout",
     "output_type": "stream",
     "text": [
      "Average precision-recall score: 0.24\n"
     ]
    }
   ],
   "source": [
    "average_precision_LR = average_precision_score(test_labels, predictions_LR)\n",
    "\n",
    "print('Average precision-recall score: {0:0.2f}'.format(\n",
    "      average_precision_LR))"
   ]
  },
  {
   "cell_type": "code",
   "execution_count": 29,
   "id": "617f534a-ec3a-4a7f-be03-6a062d88f5be",
   "metadata": {},
   "outputs": [
    {
     "data": {
      "text/plain": [
       "Text(0.5, 1.0, '2-class Precision-Recall curve RF: AP=0.24')"
      ]
     },
     "execution_count": 29,
     "metadata": {},
     "output_type": "execute_result"
    },
    {
     "data": {
      "image/png": "[encoded data removed]",
      "text/plain": [
       "<Figure size 432x288 with 1 Axes>"
      ]
     },
     "metadata": {
      "needs_background": "light"
     },
     "output_type": "display_data"
    }
   ],
   "source": [
    "disp_lr = plot_precision_recall_curve(logreg, test, test_labels)\n",
    "disp_lr.ax_.set_title('2-class Precision-Recall curve RF: '\n",
    "                   'AP={0:0.2f}'.format(average_precision_LR))"
   ]
  },
  {
   "cell_type": "markdown",
   "id": "04df94da-4717-4013-b834-714b494d75ab",
   "metadata": {},
   "source": [
    "# Gradient boosted"
   ]
  },
  {
   "cell_type": "code",
   "execution_count": 30,
   "id": "f44c43cf-3c01-4ee2-99bb-689711cfff34",
   "metadata": {},
   "outputs": [],
   "source": [
    "dmatrix_train = xgboost.DMatrix(train, label=train_labels)\n",
    "dmatrix_test = xgboost.DMatrix(test, label=test_labels)"
   ]
  },
  {
   "cell_type": "code",
   "execution_count": 31,
   "id": "69cf7a6a-f3fe-4480-96d4-209e9d8ac5cf",
   "metadata": {},
   "outputs": [
    {
     "data": {
      "text/html": [
       "<div>\n",
       "<style scoped>\n",
       "    .dataframe tbody tr th:only-of-type {\n",
       "        vertical-align: middle;\n",
       "    }\n",
       "\n",
       "    .dataframe tbody tr th {\n",
       "        vertical-align: top;\n",
       "    }\n",
       "\n",
       "    .dataframe thead th {\n",
       "        text-align: right;\n",
       "    }\n",
       "</style>\n",
       "<table border=\"1\" class=\"dataframe\">\n",
       "  <thead>\n",
       "    <tr style=\"text-align: right;\">\n",
       "      <th></th>\n",
       "      <th>Slope</th>\n",
       "      <th>TermType</th>\n",
       "      <th>bed</th>\n",
       "      <th>thickness</th>\n",
       "      <th>surface_elevation</th>\n",
       "      <th>width_centerline</th>\n",
       "      <th>Runoff</th>\n",
       "      <th>WHsin</th>\n",
       "      <th>WH</th>\n",
       "      <th>dummy</th>\n",
       "      <th>SMB_calc</th>\n",
       "      <th>y</th>\n",
       "    </tr>\n",
       "  </thead>\n",
       "  <tbody>\n",
       "    <tr>\n",
       "      <th>Slope</th>\n",
       "      <td>1.000000</td>\n",
       "      <td>-0.200386</td>\n",
       "      <td>0.412799</td>\n",
       "      <td>-0.506693</td>\n",
       "      <td>0.248780</td>\n",
       "      <td>-0.354571</td>\n",
       "      <td>-0.138672</td>\n",
       "      <td>-0.038013</td>\n",
       "      <td>-0.067776</td>\n",
       "      <td>-0.004303</td>\n",
       "      <td>0.131200</td>\n",
       "      <td>-0.308218</td>\n",
       "    </tr>\n",
       "    <tr>\n",
       "      <th>TermType</th>\n",
       "      <td>-0.200386</td>\n",
       "      <td>1.000000</td>\n",
       "      <td>-0.292667</td>\n",
       "      <td>0.414817</td>\n",
       "      <td>-0.154584</td>\n",
       "      <td>0.318486</td>\n",
       "      <td>0.126234</td>\n",
       "      <td>0.062134</td>\n",
       "      <td>-0.063286</td>\n",
       "      <td>-0.005313</td>\n",
       "      <td>-0.065356</td>\n",
       "      <td>0.299070</td>\n",
       "    </tr>\n",
       "    <tr>\n",
       "      <th>bed</th>\n",
       "      <td>0.412799</td>\n",
       "      <td>-0.292667</td>\n",
       "      <td>1.000000</td>\n",
       "      <td>-0.386866</td>\n",
       "      <td>0.932320</td>\n",
       "      <td>-0.213301</td>\n",
       "      <td>-0.600858</td>\n",
       "      <td>-0.031039</td>\n",
       "      <td>-0.141711</td>\n",
       "      <td>-0.005894</td>\n",
       "      <td>0.747199</td>\n",
       "      <td>-0.222419</td>\n",
       "    </tr>\n",
       "    <tr>\n",
       "      <th>thickness</th>\n",
       "      <td>-0.506693</td>\n",
       "      <td>0.414817</td>\n",
       "      <td>-0.386866</td>\n",
       "      <td>1.000000</td>\n",
       "      <td>-0.027208</td>\n",
       "      <td>0.526193</td>\n",
       "      <td>-0.057502</td>\n",
       "      <td>0.094029</td>\n",
       "      <td>0.168242</td>\n",
       "      <td>-0.000630</td>\n",
       "      <td>0.076886</td>\n",
       "      <td>0.285303</td>\n",
       "    </tr>\n",
       "    <tr>\n",
       "      <th>surface_elevation</th>\n",
       "      <td>0.248780</td>\n",
       "      <td>-0.154584</td>\n",
       "      <td>0.932320</td>\n",
       "      <td>-0.027208</td>\n",
       "      <td>1.000000</td>\n",
       "      <td>-0.024869</td>\n",
       "      <td>-0.673902</td>\n",
       "      <td>0.003228</td>\n",
       "      <td>-0.087640</td>\n",
       "      <td>-0.006637</td>\n",
       "      <td>0.840143</td>\n",
       "      <td>-0.129224</td>\n",
       "    </tr>\n",
       "    <tr>\n",
       "      <th>width_centerline</th>\n",
       "      <td>-0.354571</td>\n",
       "      <td>0.318486</td>\n",
       "      <td>-0.213301</td>\n",
       "      <td>0.526193</td>\n",
       "      <td>-0.024869</td>\n",
       "      <td>1.000000</td>\n",
       "      <td>-0.104613</td>\n",
       "      <td>0.145911</td>\n",
       "      <td>-0.199387</td>\n",
       "      <td>-0.001059</td>\n",
       "      <td>0.106785</td>\n",
       "      <td>0.221854</td>\n",
       "    </tr>\n",
       "    <tr>\n",
       "      <th>Runoff</th>\n",
       "      <td>-0.138672</td>\n",
       "      <td>0.126234</td>\n",
       "      <td>-0.600858</td>\n",
       "      <td>-0.057502</td>\n",
       "      <td>-0.673902</td>\n",
       "      <td>-0.104613</td>\n",
       "      <td>1.000000</td>\n",
       "      <td>-0.024620</td>\n",
       "      <td>-0.000878</td>\n",
       "      <td>0.006168</td>\n",
       "      <td>-0.676500</td>\n",
       "      <td>0.179434</td>\n",
       "    </tr>\n",
       "    <tr>\n",
       "      <th>WHsin</th>\n",
       "      <td>-0.038013</td>\n",
       "      <td>0.062134</td>\n",
       "      <td>-0.031039</td>\n",
       "      <td>0.094029</td>\n",
       "      <td>0.003228</td>\n",
       "      <td>0.145911</td>\n",
       "      <td>-0.024620</td>\n",
       "      <td>1.000000</td>\n",
       "      <td>-0.016088</td>\n",
       "      <td>0.001552</td>\n",
       "      <td>0.018444</td>\n",
       "      <td>0.037908</td>\n",
       "    </tr>\n",
       "    <tr>\n",
       "      <th>WH</th>\n",
       "      <td>-0.067776</td>\n",
       "      <td>-0.063286</td>\n",
       "      <td>-0.141711</td>\n",
       "      <td>0.168242</td>\n",
       "      <td>-0.087640</td>\n",
       "      <td>-0.199387</td>\n",
       "      <td>-0.000878</td>\n",
       "      <td>-0.016088</td>\n",
       "      <td>1.000000</td>\n",
       "      <td>0.005949</td>\n",
       "      <td>-0.084490</td>\n",
       "      <td>-0.031858</td>\n",
       "    </tr>\n",
       "    <tr>\n",
       "      <th>dummy</th>\n",
       "      <td>-0.004303</td>\n",
       "      <td>-0.005313</td>\n",
       "      <td>-0.005894</td>\n",
       "      <td>-0.000630</td>\n",
       "      <td>-0.006637</td>\n",
       "      <td>-0.001059</td>\n",
       "      <td>0.006168</td>\n",
       "      <td>0.001552</td>\n",
       "      <td>0.005949</td>\n",
       "      <td>1.000000</td>\n",
       "      <td>-0.003923</td>\n",
       "      <td>0.003262</td>\n",
       "    </tr>\n",
       "    <tr>\n",
       "      <th>SMB_calc</th>\n",
       "      <td>0.131200</td>\n",
       "      <td>-0.065356</td>\n",
       "      <td>0.747199</td>\n",
       "      <td>0.076886</td>\n",
       "      <td>0.840143</td>\n",
       "      <td>0.106785</td>\n",
       "      <td>-0.676500</td>\n",
       "      <td>0.018444</td>\n",
       "      <td>-0.084490</td>\n",
       "      <td>-0.003923</td>\n",
       "      <td>1.000000</td>\n",
       "      <td>-0.103618</td>\n",
       "    </tr>\n",
       "    <tr>\n",
       "      <th>y</th>\n",
       "      <td>-0.308218</td>\n",
       "      <td>0.299070</td>\n",
       "      <td>-0.222419</td>\n",
       "      <td>0.285303</td>\n",
       "      <td>-0.129224</td>\n",
       "      <td>0.221854</td>\n",
       "      <td>0.179434</td>\n",
       "      <td>0.037908</td>\n",
       "      <td>-0.031858</td>\n",
       "      <td>0.003262</td>\n",
       "      <td>-0.103618</td>\n",
       "      <td>1.000000</td>\n",
       "    </tr>\n",
       "  </tbody>\n",
       "</table>\n",
       "</div>"
      ],
      "text/plain": [
       "                      Slope  TermType       bed  thickness  surface_elevation  \\\n",
       "Slope              1.000000 -0.200386  0.412799  -0.506693           0.248780   \n",
       "TermType          -0.200386  1.000000 -0.292667   0.414817          -0.154584   \n",
       "bed                0.412799 -0.292667  1.000000  -0.386866           0.932320   \n",
       "thickness         -0.506693  0.414817 -0.386866   1.000000          -0.027208   \n",
       "surface_elevation  0.248780 -0.154584  0.932320  -0.027208           1.000000   \n",
       "width_centerline  -0.354571  0.318486 -0.213301   0.526193          -0.024869   \n",
       "Runoff            -0.138672  0.126234 -0.600858  -0.057502          -0.673902   \n",
       "WHsin             -0.038013  0.062134 -0.031039   0.094029           0.003228   \n",
       "WH                -0.067776 -0.063286 -0.141711   0.168242          -0.087640   \n",
       "dummy             -0.004303 -0.005313 -0.005894  -0.000630          -0.006637   \n",
       "SMB_calc           0.131200 -0.065356  0.747199   0.076886           0.840143   \n",
       "y                 -0.308218  0.299070 -0.222419   0.285303          -0.129224   \n",
       "\n",
       "                   width_centerline    Runoff     WHsin        WH     dummy  \\\n",
       "Slope                     -0.354571 -0.138672 -0.038013 -0.067776 -0.004303   \n",
       "TermType                   0.318486  0.126234  0.062134 -0.063286 -0.005313   \n",
       "bed                       -0.213301 -0.600858 -0.031039 -0.141711 -0.005894   \n",
       "thickness                  0.526193 -0.057502  0.094029  0.168242 -0.000630   \n",
       "surface_elevation         -0.024869 -0.673902  0.003228 -0.087640 -0.006637   \n",
       "width_centerline           1.000000 -0.104613  0.145911 -0.199387 -0.001059   \n",
       "Runoff                    -0.104613  1.000000 -0.024620 -0.000878  0.006168   \n",
       "WHsin                      0.145911 -0.024620  1.000000 -0.016088  0.001552   \n",
       "WH                        -0.199387 -0.000878 -0.016088  1.000000  0.005949   \n",
       "dummy                     -0.001059  0.006168  0.001552  0.005949  1.000000   \n",
       "SMB_calc                   0.106785 -0.676500  0.018444 -0.084490 -0.003923   \n",
       "y                          0.221854  0.179434  0.037908 -0.031858  0.003262   \n",
       "\n",
       "                   SMB_calc         y  \n",
       "Slope              0.131200 -0.308218  \n",
       "TermType          -0.065356  0.299070  \n",
       "bed                0.747199 -0.222419  \n",
       "thickness          0.076886  0.285303  \n",
       "surface_elevation  0.840143 -0.129224  \n",
       "width_centerline   0.106785  0.221854  \n",
       "Runoff            -0.676500  0.179434  \n",
       "WHsin              0.018444  0.037908  \n",
       "WH                -0.084490 -0.031858  \n",
       "dummy             -0.003923  0.003262  \n",
       "SMB_calc           1.000000 -0.103618  \n",
       "y                 -0.103618  1.000000  "
      ]
     },
     "execution_count": 31,
     "metadata": {},
     "output_type": "execute_result"
    }
   ],
   "source": [
    "trainprob = train.copy()\n",
    "trainprob['y'] = train_labels\n",
    "\n",
    "trainprob.corr()"
   ]
  },
  {
   "cell_type": "code",
   "execution_count": 32,
   "id": "16d24957-6c3b-4742-9893-6cf8552f9dfb",
   "metadata": {},
   "outputs": [
    {
     "name": "stdout",
     "output_type": "stream",
     "text": [
      "[15:55:47] WARNING: ../src/learner.cc:573: \n",
      "Parameters: { \"num_boost_round\" } might not be used.\n",
      "\n",
      "  This may not be accurate due to some parameters are only used in language bindings but\n",
      "  passed down to XGBoost core.  Or some parameters are not used but slip through this\n",
      "  verification. Please open an issue if you find above cases.\n",
      "\n",
      "\n"
     ]
    }
   ],
   "source": [
    "params = {'objective':'reg:logistic', 'num_boost_round':20000, 'max_depth':1, 'scale_pos_weight':0.5}\n",
    "\n",
    "xgb = xgboost.train(params, dmatrix_train, num_boost_round=20000)"
   ]
  },
  {
   "cell_type": "code",
   "execution_count": 33,
   "id": "12d7b659-6764-44a7-9606-a13a799e566d",
   "metadata": {},
   "outputs": [],
   "source": [
    "predictions_xgboost = xgb.predict(dmatrix_test)"
   ]
  },
  {
   "cell_type": "code",
   "execution_count": 34,
   "id": "c137e766-9f65-4b71-89b6-21f19c098a3f",
   "metadata": {},
   "outputs": [],
   "source": [
    "pd.DataFrame({'true':test_labels, 'predictions':predictions_xgboost}).to_csv('/home/colili/Documents/PhD/project_john/DataFrame_produced_clean/ROC_curve/df_eval_xgboost_raw.csv')"
   ]
  },
  {
   "cell_type": "code",
   "execution_count": 35,
   "id": "b5efd916-3281-46fd-b55b-3f1d29dcd28e",
   "metadata": {},
   "outputs": [
    {
     "data": {
      "text/plain": [
       "Text(0.6, 0.0, 'AUC = 0.89')"
      ]
     },
     "execution_count": 35,
     "metadata": {},
     "output_type": "execute_result"
    },
    {
     "data": {
      "image/png": "[encoded data removed]",
      "text/plain": [
       "<Figure size 648x576 with 1 Axes>"
      ]
     },
     "metadata": {
      "needs_background": "light"
     },
     "output_type": "display_data"
    }
   ],
   "source": [
    "fpr, tpr, t = metrics.roc_curve(y_true=test_labels, y_score=predictions_xgboost)\n",
    "\n",
    "fig, ax = plt.subplots(figsize=(9, 8))\n",
    "\n",
    "ax.plot(fpr, tpr, color=cmap(0.75))\n",
    "ax.plot([0, 1], [0, 1], 'k')\n",
    "\n",
    "ax.set_ylabel('True Positive Rate', fontsize=15)\n",
    "ax.set_xlabel('False Positive Rate', fontsize=15)\n",
    "ax.set_title('ROC XgBoost', fontsize=15)\n",
    "ax.text(\n",
    "s = 'AUC = ' + str(round(metrics.roc_auc_score(y_true=test_labels, y_score=predictions_xgboost),2))\n",
    "    , x=0.6, y=0.0, fontsize=15\n",
    ")"
   ]
  },
  {
   "cell_type": "code",
   "execution_count": 36,
   "id": "0ba93067-3428-4cfc-a34f-006c62b1e2bc",
   "metadata": {},
   "outputs": [
    {
     "data": {
      "text/plain": [
       "<AxesSubplot:title={'center':'Feature importance'}, xlabel='F score', ylabel='Features'>"
      ]
     },
     "execution_count": 36,
     "metadata": {},
     "output_type": "execute_result"
    },
    {
     "data": {
      "image/png": "[encoded data removed]",
      "text/plain": [
       "<Figure size 360x360 with 1 Axes>"
      ]
     },
     "metadata": {
      "needs_background": "light"
     },
     "output_type": "display_data"
    }
   ],
   "source": [
    "fig, ax = plt.subplots(figsize=(5, 5))\n",
    "xgboost.plot_importance(xgb, importance_type = 'gain', show_values=False, ax=ax, color=cmap(0.75))"
   ]
  },
  {
   "cell_type": "code",
   "execution_count": 37,
   "id": "fee0f471-b8a0-4c16-a4f4-e081af5f634d",
   "metadata": {},
   "outputs": [
    {
     "data": {
      "text/plain": [
       "<AxesSubplot:title={'center':'Feature importance'}, xlabel='F score', ylabel='Features'>"
      ]
     },
     "execution_count": 37,
     "metadata": {},
     "output_type": "execute_result"
    },
    {
     "data": {
      "image/png": "[encoded data removed]",
      "text/plain": [
       "<Figure size 360x360 with 1 Axes>"
      ]
     },
     "metadata": {
      "needs_background": "light"
     },
     "output_type": "display_data"
    }
   ],
   "source": [
    "fig, ax = plt.subplots(figsize=(5, 5))\n",
    "xgboost.plot_importance(xgb, importance_type = 'weight', show_values=False, ax=ax, color=cmap(0.75))"
   ]
  },
  {
   "cell_type": "code",
   "execution_count": 38,
   "id": "e667d917-8ea4-4045-b79e-7870672d5bfd",
   "metadata": {},
   "outputs": [
    {
     "data": {
      "text/plain": [
       "<AxesSubplot:title={'center':'Feature importance'}, xlabel='F score', ylabel='Features'>"
      ]
     },
     "execution_count": 38,
     "metadata": {},
     "output_type": "execute_result"
    },
    {
     "data": {
      "image/png": "[encoded data removed]",
      "text/plain": [
       "<Figure size 360x360 with 1 Axes>"
      ]
     },
     "metadata": {
      "needs_background": "light"
     },
     "output_type": "display_data"
    }
   ],
   "source": [
    "fig, ax = plt.subplots(figsize=(5, 5))\n",
    "xgboost.plot_importance(xgb, importance_type = 'cover', show_values=False, ax=ax, color=cmap(0.75))"
   ]
  },
  {
   "cell_type": "code",
   "execution_count": 39,
   "id": "c758074a-83cc-4192-be75-da2dd32d3758",
   "metadata": {},
   "outputs": [
    {
     "name": "stdout",
     "output_type": "stream",
     "text": [
      "Average precision-recall score: 0.73\n"
     ]
    }
   ],
   "source": [
    "average_precision_xgboost = average_precision_score(test_labels, predictions_xgboost)\n",
    "\n",
    "print('Average precision-recall score: {0:0.2f}'.format(\n",
    "      average_precision_xgboost))"
   ]
  },
  {
   "cell_type": "code",
   "execution_count": 40,
   "id": "39740e51-0e31-4da2-a394-7433fe08e4dc",
   "metadata": {},
   "outputs": [
    {
     "name": "stdout",
     "output_type": "stream",
     "text": [
      "Confusion matrix, without normalization\n",
      "[[81  0]\n",
      " [11  6]]\n"
     ]
    },
    {
     "data": {
      "image/png": "[encoded data removed]",
      "text/plain": [
       "<Figure size 720x720 with 2 Axes>"
      ]
     },
     "metadata": {
      "needs_background": "light"
     },
     "output_type": "display_data"
    }
   ],
   "source": [
    "# confusion_matrix(test_labels, predictions.round())\n",
    "cm_xgboost = confusion_matrix(test_labels, predictions_xgboost.round())\n",
    "plot_confusion_matrix((cm_xgboost/test_labels.shape*100).astype(int), classes = ['Surge', 'Non-surge'],\n",
    "                      title = 'Confusion Matrix XgBoost', cmap='BrBG_r')"
   ]
  }
 ],
 "metadata": {
  "kernelspec": {
   "display_name": "Python 3",
   "language": "python",
   "name": "python3"
  },
  "language_info": {
   "codemirror_mode": {
    "name": "ipython",
    "version": 3
   },
   "file_extension": ".py",
   "mimetype": "text/x-python",
   "name": "python",
   "nbconvert_exporter": "python",
   "pygments_lexer": "ipython3",
   "version": "3.8.8"
  }
 },
 "nbformat": 4,
 "nbformat_minor": 5
}
