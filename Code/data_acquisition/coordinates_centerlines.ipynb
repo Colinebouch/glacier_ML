{
 "cells": [
  {
   "cell_type": "markdown",
   "metadata": {},
   "source": [
    "# Extracting the coordinates of the centerlines for Svalbard glaciers"
   ]
  },
  {
   "cell_type": "markdown",
   "metadata": {},
   "source": [
    "We use the OGGM model to compute the centerline in Svalard: https://docs.oggm.org/en/latest/flowlines.html\n",
    "\n",
    "Glacier flowlines\n",
    "Computing the flowlines is the first task to run after the definition of the local map and topography.\n",
    "\n",
    "OGGM is a “flowline model”, which means that the glacier ice flow is assumed to happen along a representative “1.5D” flowline, as in the image below. “1.5D” here is used to emphasize that although glacier ice can flow only in one direction along the flowline, each point of the glacier has a geometrical width. This width means that flowline glaciers are able to match the observed area-elevation distribution of true glaciers, and can parametrize the changes in glacier width with thickness changes.\n",
    "\n",
    "Geometrical centerlines: Centerline determination\n",
    "\n",
    "Our algorithm is an implementation of the procedure described by Kienholz et al., (2014). Appart from some minor changes (mostly the choice of some parameters), we stay close to the original algorithm.\n",
    "\n",
    "The basic idea is to find the terminus of the glacier (its lowest point) and a series of centerline “heads” (local elevation maxima). The centerlines are then computed with a least cost routing algorithm minimizing both (i) the total elevation gain and (ii) the distance to the glacier terminus"
   ]
  },
  {
   "cell_type": "code",
   "execution_count": 1,
   "metadata": {},
   "outputs": [
    {
     "name": "stderr",
     "output_type": "stream",
     "text": [
      "2021-02-03 16:03:44: oggm.cfg: Reading default parameters from the OGGM `params.cfg` configuration file.\n",
      "2021-02-03 16:03:44: oggm.cfg: Multiprocessing switched ON according to the parameter file.\n",
      "2021-02-03 16:03:44: oggm.cfg: Multiprocessing: using all available processors (N=8)\n",
      "2021-02-03 16:03:46: oggm.cfg: Reading default parameters from the OGGM `params.cfg` configuration file.\n",
      "2021-02-03 16:03:46: oggm.cfg: Multiprocessing switched ON according to the parameter file.\n",
      "2021-02-03 16:03:46: oggm.cfg: Multiprocessing: using all available processors (N=8)\n"
     ]
    }
   ],
   "source": [
    "from oggm.utils import *\n",
    "%matplotlib inline\n",
    "import numpy as np\n",
    "import pandas as pd\n",
    "import geopandas as gpd\n",
    "import matplotlib.pyplot as plt\n",
    "import oggm\n",
    "import os\n",
    "from oggm import cfg, utils, workflow, tasks, graphics\n",
    "from oggm.core import inversion\n",
    "cfg.initialize(logging_level='WORKFLOW')\n",
    "\n",
    "import matplotlib.pyplot as plt\n",
    "import calendar\n",
    "import xarray as xr\n",
    "import salem\n",
    "import pandas as pd\n",
    "import holoviews as hv\n",
    "#hv.extension('bokeh')\n",
    "import geoviews as gv\n",
    "import geoviews.tile_sources as gts\n",
    "\n",
    "# set default font size in plots\n",
    "plt.rc('font', size=16)\n",
    "\n",
    "cfg.initialize(logging_level='WORKFLOW')\n",
    "cfg.PATHS['working_dir'] = utils.gettempdir(home='True')\n"
   ]
  },
  {
   "cell_type": "code",
   "execution_count": 2,
   "metadata": {},
   "outputs": [
    {
     "data": {
      "text/plain": [
       "'/home/colili/tmp/OGGM/'"
      ]
     },
     "execution_count": 2,
     "metadata": {},
     "output_type": "execute_result"
    }
   ],
   "source": [
    "cfg.PATHS['working_dir']"
   ]
  },
  {
   "cell_type": "markdown",
   "metadata": {},
   "source": [
    "## Define the area for Svalbard (zone 07)"
   ]
  },
  {
   "cell_type": "code",
   "execution_count": 3,
   "metadata": {},
   "outputs": [],
   "source": [
    "utils.get_rgi_dir(version='62')  # path to the data after download\n",
    "svalbard = utils.get_rgi_region_file('07', version='62')  # Svalbard region"
   ]
  },
  {
   "cell_type": "markdown",
   "metadata": {},
   "source": [
    "## Test on 2 glaciers"
   ]
  },
  {
   "cell_type": "code",
   "execution_count": 4,
   "metadata": {},
   "outputs": [
    {
     "name": "stderr",
     "output_type": "stream",
     "text": [
      "2021-02-03 16:03:54: oggm.workflow: init_glacier_directories from prepro level 3 on 1 glaciers.\n",
      "2021-02-03 16:03:54: oggm.workflow: Execute entity task gdir_from_prepro on 1 glaciers\n",
      "2021-02-03 16:03:55: oggm.workflow: init_glacier_directories from prepro level 3 on 1 glaciers.\n",
      "2021-02-03 16:03:55: oggm.workflow: Execute entity task gdir_from_prepro on 1 glaciers\n"
     ]
    }
   ],
   "source": [
    "from oggm.utils import *\n",
    "rgi_id = []\n",
    "gdir1 = workflow.init_glacier_directories('RGI60-07.01458', from_prepro_level=3, prepro_border=80)[0]\n",
    "gdir2 = workflow.init_glacier_directories('RGI60-07.01459', from_prepro_level=3, prepro_border=80)[0]\n",
    "# centerline_tuna = write_centerlines_to_shape([gdir1, gdir2], path = '/home/colili/Documents/PhD/project_john/'+rgi_id)\n",
    "# centerline_tuna = write_centerlines_to_shape([gdir1, gdir2], filesuffix = rgi_id, path = True)"
   ]
  },
  {
   "cell_type": "markdown",
   "metadata": {},
   "source": [
    "## Access the coordinates of the centerline"
   ]
  },
  {
   "cell_type": "code",
   "execution_count": 11,
   "metadata": {},
   "outputs": [
    {
     "data": {
      "text/plain": [
       "(array('d', [17.531155229534072, 17.539779401482495, 17.53978988181899, 17.548410243243296, 17.557028067560708, 17.55703600248701, 17.557043935029114, 17.557051865188097, 17.557059792965017, 17.557067718360944, 17.557075641376944, 17.55708356201408, 17.557091480273417, 17.55709939615602, 17.557107309662943, 17.557115220795257, 17.55712312955402, 17.557131035940294, 17.557138939955138, 17.55714684159961, 17.557154740874775, 17.557162637781683, 17.557170532321393, 17.557178424494968, 17.55718631430346, 17.557194201747926, 17.548621276050014, 17.54863041840934, 17.548639558030537, 17.540071664658758, 17.540082057314628, 17.540092446859287, 17.531529580538148, 17.522969229344092, 17.522982123561597, 17.514425539501364, 17.514439682249513, 17.514453820767518, 17.50590225247046, 17.505917637649812, 17.50593301822943, 17.505948394211362, 17.505963765597656, 17.505979132390355, 17.505994494591505, 17.506009852203153, 17.50602520522733, 17.506040553666093, 17.506055897521467, 17.514623153717295, 17.51463723741453, 17.5146513169079, 17.51466539219928, 17.514679463290534, 17.514693530183532, 17.514707592880136, 17.514721651382214, 17.514735705691624, 17.514749755810232, 17.514763801739903, 17.514777843482484, 17.51479188103985, 17.514805914413852, 17.514819943606344, 17.514833968619186, 17.51484798945423, 17.50633130547783, 17.506346562634874, 17.497833608127888, 17.497850100130254, 17.489340872496957, 17.489358597869764, 17.489376317967896, 17.489394032793694, 17.48089100341732, 17.48090994941077, 17.480928889769597, 17.472430815202035, 17.47245098489458, 17.47247114859119, 17.472491306294533, 17.46399941487069, 17.455510002049568, 17.455532619287148, 17.455555229806105, 17.455577833609414, 17.455600430700045, 17.455623021080964, 17.455645604755144, 17.447166054273776, 17.447189860715664, 17.447213660092864, 17.447237452408498, 17.43876405975808, 17.438789072662757, 17.43881407814904, 17.43034560873449, 17.43037183299528, 17.4303980494818, 17.430424258197476, 17.43045045914575, 17.430476652330043, 17.430502837753785, 17.430529015420394, 17.430555185333297, 17.430581347495913, 17.43060750191166, 17.430633648583953, 17.43065978751621, 17.430685918711834, 17.430712042174246, 17.43073815790685, 17.422290499980264, 17.422317828029673, 17.422345147996364, 17.422372459883892, 17.422399763695818, 17.422427059435694, 17.422454347107074, 17.422481626713516, 17.422508898258563, 17.414073440704097, 17.414101920637293, 17.414130392158043, 17.414158855270053, 17.405729493168376, 17.405759162524795, 17.39733346080929, 17.388910204100704, 17.380489391669247, 17.37203650205023, 17.363619364942316, 17.35520467064289, 17.34679241842188, 17.338382607549235, 17.329934656590286, 17.3215285184285]),\n",
       " array('d', [78.6647213544681, 78.66303008016268, 78.6613366194753, 78.65964509426526, 78.65795331879565, 78.65625985696748, 78.65456639494397, 78.65287293272512, 78.65117947031088, 78.64948600770121, 78.6477925448961, 78.64609908189554, 78.64440561869945, 78.64271215530786, 78.64101869172069, 78.63932522793796, 78.6376317639596, 78.63593829978562, 78.63424483541596, 78.6325513708506, 78.63085790608955, 78.62916444113273, 78.62747097598015, 78.62577751063176, 78.62408404508753, 78.62239057934747, 78.62069543316761, 78.61900196729219, 78.61730850122076, 78.61561310695872, 78.6139196407893, 78.61222617442372, 78.61053053234357, 78.6088346423628, 78.6071411761097, 78.60544503855255, 78.6037515723136, 78.602058105878, 78.60036172118093, 78.59866825479651, 78.59697478821522, 78.59528132143701, 78.59358785446183, 78.59189438728973, 78.59020091992062, 78.5885074523545, 78.58681398459132, 78.58512051663106, 78.5834270484737, 78.5817364933002, 78.58004302430534, 78.57834955511343, 78.57665608572447, 78.57496261613836, 78.57326914635513, 78.57157567637474, 78.56988220619715, 78.56818873582233, 78.5664952652503, 78.56480179448097, 78.56310832351433, 78.56141485235038, 78.55972138098907, 78.55802790943038, 78.55633443767428, 78.55464096572074, 78.55294458790556, 78.55125111599806, 78.54955449206213, 78.54786102023755, 78.54616415036735, 78.54447067866248, 78.54277720675955, 78.54108373465857, 78.53938661974915, 78.53769314780415, 78.53599967566082, 78.53430231565424, 78.53260884370337, 78.53091537155392, 78.52922189920587, 78.5275242947887, 78.52582644490101, 78.52413297324556, 78.52243950139103, 78.52074602933742, 78.51905255708463, 78.51735908463273, 78.51566561198163, 78.5139675197376, 78.51227404738692, 78.51058057483674, 78.50888710208709, 78.50718876642556, 78.50549529401206, 78.50380182139878, 78.50210324207758, 78.50040976983645, 78.49871629739519, 78.49702282475384, 78.49532935191232, 78.49363587887062, 78.49194240562875, 78.49024893218665, 78.48855545854427, 78.48686198470165, 78.48516851065871, 78.48347503641543, 78.4817815619718, 78.48008808732779, 78.47839461248336, 78.47670113743848, 78.47500232259983, 78.47330884795923, 78.47161537311788, 78.46992189807575, 78.46822842283284, 78.46653494738906, 78.46484147174446, 78.46314799589896, 78.46145451985257, 78.45975546617653, 78.45806199056827, 78.45636851475876, 78.45467503874801, 78.45297574353997, 78.45128226800254, 78.4495827301673, 78.44788294914036, 78.44618292503186, 78.44617613042789, 78.44447561963045, 78.44277486604534, 78.44107386978249, 78.4393726309518, 78.43936461729369, 78.43766289262003]))"
      ]
     },
     "execution_count": 11,
     "metadata": {},
     "output_type": "execute_result"
    }
   ],
   "source": [
    "centerline_data = get_main_glacier_segment(gdir1)\n",
    "centerline_data['geometry'].coords.xy"
   ]
  },
  {
   "cell_type": "markdown",
   "metadata": {},
   "source": [
    "## Get centerlines in lonlat, return the main centerline, and convert the shape file to dataframe"
   ]
  },
  {
   "cell_type": "code",
   "execution_count": 13,
   "metadata": {},
   "outputs": [
    {
     "data": {
      "text/plain": [
       "(array('d', [17.531155229534072, 17.539779401482495, 17.53978988181899, 17.548410243243296, 17.557028067560708, 17.55703600248701, 17.557043935029114, 17.557051865188097, 17.557059792965017, 17.557067718360944, 17.557075641376944, 17.55708356201408, 17.557091480273417, 17.55709939615602, 17.557107309662943, 17.557115220795257, 17.55712312955402, 17.557131035940294, 17.557138939955138, 17.55714684159961, 17.557154740874775, 17.557162637781683, 17.557170532321393, 17.557178424494968, 17.55718631430346, 17.557194201747926, 17.548621276050014, 17.54863041840934, 17.548639558030537, 17.540071664658758, 17.540082057314628, 17.540092446859287, 17.531529580538148, 17.522969229344092, 17.522982123561597, 17.514425539501364, 17.514439682249513, 17.514453820767518, 17.50590225247046, 17.505917637649812, 17.50593301822943, 17.505948394211362, 17.505963765597656, 17.505979132390355, 17.505994494591505, 17.506009852203153, 17.50602520522733, 17.506040553666093, 17.506055897521467, 17.514623153717295, 17.51463723741453, 17.5146513169079, 17.51466539219928, 17.514679463290534, 17.514693530183532, 17.514707592880136, 17.514721651382214, 17.514735705691624, 17.514749755810232, 17.514763801739903, 17.514777843482484, 17.51479188103985, 17.514805914413852, 17.514819943606344, 17.514833968619186, 17.51484798945423, 17.50633130547783, 17.506346562634874, 17.497833608127888, 17.497850100130254, 17.489340872496957, 17.489358597869764, 17.489376317967896, 17.489394032793694, 17.48089100341732, 17.48090994941077, 17.480928889769597, 17.472430815202035, 17.47245098489458, 17.47247114859119, 17.472491306294533, 17.46399941487069, 17.455510002049568, 17.455532619287148, 17.455555229806105, 17.455577833609414, 17.455600430700045, 17.455623021080964, 17.455645604755144, 17.447166054273776, 17.447189860715664, 17.447213660092864, 17.447237452408498, 17.43876405975808, 17.438789072662757, 17.43881407814904, 17.43034560873449, 17.43037183299528, 17.4303980494818, 17.430424258197476, 17.43045045914575, 17.430476652330043, 17.430502837753785, 17.430529015420394, 17.430555185333297, 17.430581347495913, 17.43060750191166, 17.430633648583953, 17.43065978751621, 17.430685918711834, 17.430712042174246, 17.43073815790685, 17.422290499980264, 17.422317828029673, 17.422345147996364, 17.422372459883892, 17.422399763695818, 17.422427059435694, 17.422454347107074, 17.422481626713516, 17.422508898258563, 17.414073440704097, 17.414101920637293, 17.414130392158043, 17.414158855270053, 17.405729493168376, 17.405759162524795, 17.39733346080929, 17.388910204100704, 17.380489391669247, 17.37203650205023, 17.363619364942316, 17.35520467064289, 17.34679241842188, 17.338382607549235, 17.329934656590286, 17.3215285184285]),\n",
       " array('d', [78.6647213544681, 78.66303008016268, 78.6613366194753, 78.65964509426526, 78.65795331879565, 78.65625985696748, 78.65456639494397, 78.65287293272512, 78.65117947031088, 78.64948600770121, 78.6477925448961, 78.64609908189554, 78.64440561869945, 78.64271215530786, 78.64101869172069, 78.63932522793796, 78.6376317639596, 78.63593829978562, 78.63424483541596, 78.6325513708506, 78.63085790608955, 78.62916444113273, 78.62747097598015, 78.62577751063176, 78.62408404508753, 78.62239057934747, 78.62069543316761, 78.61900196729219, 78.61730850122076, 78.61561310695872, 78.6139196407893, 78.61222617442372, 78.61053053234357, 78.6088346423628, 78.6071411761097, 78.60544503855255, 78.6037515723136, 78.602058105878, 78.60036172118093, 78.59866825479651, 78.59697478821522, 78.59528132143701, 78.59358785446183, 78.59189438728973, 78.59020091992062, 78.5885074523545, 78.58681398459132, 78.58512051663106, 78.5834270484737, 78.5817364933002, 78.58004302430534, 78.57834955511343, 78.57665608572447, 78.57496261613836, 78.57326914635513, 78.57157567637474, 78.56988220619715, 78.56818873582233, 78.5664952652503, 78.56480179448097, 78.56310832351433, 78.56141485235038, 78.55972138098907, 78.55802790943038, 78.55633443767428, 78.55464096572074, 78.55294458790556, 78.55125111599806, 78.54955449206213, 78.54786102023755, 78.54616415036735, 78.54447067866248, 78.54277720675955, 78.54108373465857, 78.53938661974915, 78.53769314780415, 78.53599967566082, 78.53430231565424, 78.53260884370337, 78.53091537155392, 78.52922189920587, 78.5275242947887, 78.52582644490101, 78.52413297324556, 78.52243950139103, 78.52074602933742, 78.51905255708463, 78.51735908463273, 78.51566561198163, 78.5139675197376, 78.51227404738692, 78.51058057483674, 78.50888710208709, 78.50718876642556, 78.50549529401206, 78.50380182139878, 78.50210324207758, 78.50040976983645, 78.49871629739519, 78.49702282475384, 78.49532935191232, 78.49363587887062, 78.49194240562875, 78.49024893218665, 78.48855545854427, 78.48686198470165, 78.48516851065871, 78.48347503641543, 78.4817815619718, 78.48008808732779, 78.47839461248336, 78.47670113743848, 78.47500232259983, 78.47330884795923, 78.47161537311788, 78.46992189807575, 78.46822842283284, 78.46653494738906, 78.46484147174446, 78.46314799589896, 78.46145451985257, 78.45975546617653, 78.45806199056827, 78.45636851475876, 78.45467503874801, 78.45297574353997, 78.45128226800254, 78.4495827301673, 78.44788294914036, 78.44618292503186, 78.44617613042789, 78.44447561963045, 78.44277486604534, 78.44107386978249, 78.4393726309518, 78.43936461729369, 78.43766289262003]))"
      ]
     },
     "execution_count": 13,
     "metadata": {},
     "output_type": "execute_result"
    }
   ],
   "source": [
    "def cust_get_centerline_lonlat(gdir):\n",
    "    \"\"\"Quick n dirty solution to write the centerlines as a shapefile\"\"\"\n",
    "\n",
    "    cls = gdir.read_pickle('centerlines')\n",
    "    olist = []\n",
    "    for j, cl in enumerate(cls[::-1]):\n",
    "        mm = 1 if j == 0 else 0\n",
    "        gs = dict()\n",
    "        gs['RGIID'] = gdir.rgi_id\n",
    "        gs['LE_SEGMENT'] = np.rint(np.max(cl.dis_on_line) * gdir.grid.dx)\n",
    "        gs['MAIN'] = mm\n",
    "#         tra_func = partial(gdir.grid.ij_to_crs, crs=wgs84)\n",
    "        tra_func = partial(gdir.grid.ij_to_crs, crs=wgs84)\n",
    "        gs['geometry'] = shp_trafo(tra_func, cl.line)\n",
    "        olist.append(gs)\n",
    "\n",
    "    return olist\n",
    "\n",
    "def get_main_glacier_segment(gdir):\n",
    "    \"\"\"\n",
    "    Returns segment in gdir that is the main\n",
    "    \n",
    "    This is because there are several segments usually\n",
    "    in the data but we only want the main segment since\n",
    "    this is the centerline of the glacier\n",
    "    \n",
    "    does no error handling or correction if there\n",
    "    is no main segment\n",
    "    \"\"\"\n",
    "    for segment in cust_get_centerline_lonlat(gdir):\n",
    "        if segment['MAIN'] == 1:\n",
    "            return segment\n",
    "        else:\n",
    "            pass\n",
    "        \n",
    "def convert_shape_to_dataframe(gdir):\n",
    "    \"\"\"\n",
    "    Converts the oggm output of the centerline finder function\n",
    "    to lat and lon dataframe\n",
    "    \n",
    "    Also projects the lat and lon to UTM 33N\n",
    "    \"\"\"\n",
    "#     centerline_data = cust_get_centerline_lonlat(gdir)[0] # returns only the first\n",
    "#     centerline_data = cust_get_centerline_lonlat(gdir) # returns only the first\n",
    "    centerline_data = get_main_glacier_segment(gdir)\n",
    "    rgiid = centerline_data['RGIID']\n",
    "#     x, y = centerline_data['geometry'].coords.xy\n",
    "    p = pyproj.Proj(proj='utm', zone=33, ellps='WGS84')\n",
    "    x, y = centerline_data['geometry'].coords.xy\n",
    "    x, y = p(x, y)\n",
    "    return pd.DataFrame({'rgiid':(rgiid,)*len(x), 'x':x, 'y':y})\n",
    "\n",
    "convert_shape_to_dataframe(gdir2)"
   ]
  },
  {
   "cell_type": "markdown",
   "metadata": {},
   "source": [
    "## Apply the centerline method for all glaciers in Svalbard taking there RGI-ID and save df to csv"
   ]
  },
  {
   "cell_type": "code",
   "execution_count": null,
   "metadata": {},
   "outputs": [],
   "source": [
    "gdf = gpd.read_file(svalbard)\n",
    "list(gdf)"
   ]
  },
  {
   "cell_type": "code",
   "execution_count": 5,
   "metadata": {
    "scrolled": true
   },
   "outputs": [
    {
     "ename": "NameError",
     "evalue": "name 'pd' is not defined",
     "output_type": "error",
     "traceback": [
      "\u001b[0;31m---------------------------------------------------------------------------\u001b[0m",
      "\u001b[0;31mNameError\u001b[0m                                 Traceback (most recent call last)",
      "\u001b[0;32m<ipython-input-5-19087cd232ea>\u001b[0m in \u001b[0;36m<module>\u001b[0;34m\u001b[0m\n\u001b[0;32m----> 1\u001b[0;31m \u001b[0mdf\u001b[0m \u001b[0;34m=\u001b[0m \u001b[0mpd\u001b[0m\u001b[0;34m.\u001b[0m\u001b[0mDataFrame\u001b[0m\u001b[0;34m(\u001b[0m\u001b[0;34m)\u001b[0m\u001b[0;34m\u001b[0m\u001b[0;34m\u001b[0m\u001b[0m\n\u001b[0m\u001b[1;32m      2\u001b[0m \u001b[0mmissing_glaciers\u001b[0m \u001b[0;34m=\u001b[0m \u001b[0;34m[\u001b[0m\u001b[0;34m]\u001b[0m\u001b[0;34m\u001b[0m\u001b[0;34m\u001b[0m\u001b[0m\n\u001b[1;32m      3\u001b[0m \u001b[0;34m\u001b[0m\u001b[0m\n\u001b[1;32m      4\u001b[0m \u001b[0;32mfor\u001b[0m \u001b[0mrgi_id\u001b[0m \u001b[0;32min\u001b[0m \u001b[0mgdf\u001b[0m\u001b[0;34m[\u001b[0m\u001b[0;34m'RGIId'\u001b[0m\u001b[0;34m]\u001b[0m\u001b[0;34m:\u001b[0m   \u001b[0;31m#[0:10]:\u001b[0m\u001b[0;34m\u001b[0m\u001b[0;34m\u001b[0m\u001b[0m\n\u001b[1;32m      5\u001b[0m \u001b[0;34m\u001b[0m\u001b[0m\n",
      "\u001b[0;31mNameError\u001b[0m: name 'pd' is not defined"
     ]
    }
   ],
   "source": [
    "df = pd.DataFrame()\n",
    "missing_glaciers = []\n",
    "\n",
    "for rgi_id in gdf['RGIId']:   #[0:10]:\n",
    "    \n",
    "    dataholder = []\n",
    "    surge = []\n",
    "    BgnDate = []\n",
    "    EndDate = []\n",
    "    CenLon = []\n",
    "    CenLat = []\n",
    "    Area = []\n",
    "    Zmin = []\n",
    "    Zmax = []\n",
    "    Zmed = []\n",
    "    Slope = []\n",
    "    Aspect=[]\n",
    "    Lmax = []\n",
    "    Status = []\n",
    "    Connect = []\n",
    "    Form = []\n",
    "    TermType = []\n",
    "    Linkages = []\n",
    "    Name = []\n",
    "    check_geom = []\n",
    "    geometry = []\n",
    "    \n",
    "    try:\n",
    "        surge.append(gdf[gdf.RGIId == rgi_id].Surging.values[0])\n",
    "        BgnDate.append(gdf[gdf.RGIId == rgi_id].BgnDate.values[0])\n",
    "        EndDate.append(gdf[gdf.RGIId == rgi_id].EndDate.values[0])\n",
    "        CenLon.append(gdf[gdf.RGIId == rgi_id].CenLon.values[0])\n",
    "        CenLat.append(gdf[gdf.RGIId == rgi_id].CenLat.values[0])\n",
    "        Area.append(gdf[gdf.RGIId == rgi_id].Area.values[0])\n",
    "        Zmin.append(gdf[gdf.RGIId == rgi_id].Zmin.values[0])\n",
    "        Zmax.append(gdf[gdf.RGIId == rgi_id].Zmax.values[0])\n",
    "        Zmed.append(gdf[gdf.RGIId == rgi_id].Zmed.values[0])\n",
    "        Slope.append(gdf[gdf.RGIId == rgi_id].Slope.values[0])\n",
    "        Aspect.append(gdf[gdf.RGIId == rgi_id].Aspect.values[0])\n",
    "        Lmax.append(gdf[gdf.RGIId == rgi_id].Lmax.values[0])\n",
    "        Status.append(gdf[gdf.RGIId == rgi_id].Status.values[0])\n",
    "        Connect.append(gdf[gdf.RGIId == rgi_id].Connect.values[0])\n",
    "        Form.append(gdf[gdf.RGIId == rgi_id].Form.values[0])\n",
    "        TermType.append(gdf[gdf.RGIId == rgi_id].TermType.values[0])\n",
    "        Linkages.append(gdf[gdf.RGIId == rgi_id].Linkages.values[0])\n",
    "        Name.append(gdf[gdf.RGIId == rgi_id].Name.values[0])\n",
    "        check_geom.append(gdf[gdf.RGIId == rgi_id].check_geom.values[0])\n",
    "        geometry.append(gdf[gdf.RGIId == rgi_id].geometry.values[0])\n",
    "\n",
    "\n",
    "        data_glaciers =  {'rgiid':rgi_id, 'Surge':surge,\\\n",
    "                          'BgnDate': BgnDate, 'EndDate':EndDate, 'CenLon':CenLon,\\\n",
    "                          'CenLat':CenLat, 'Area':Area, 'Zmin':Zmin, 'Zmax':Zmax,\\\n",
    "                          'Zmed':Zmed, 'Slope':Slope, 'Aspect':Aspect, 'Lmax':Lmax,\\\n",
    "                           'Status':Status, 'Connect':Connect, 'Form':Connect,\\\n",
    "                          'TermType':TermType, 'Linkages': Linkages, 'Name':Name, \\\n",
    "                          'check_geom': check_geom, 'geometry':check_geom}\n",
    "        single_glacier = pd.DataFrame(data_glaciers)\n",
    "\n",
    "        gdir = workflow.init_glacier_directories(rgi_id, from_prepro_level=3, prepro_border=80)[0]\n",
    "\n",
    "        centerlinedf = convert_shape_to_dataframe(gdir)\n",
    "        centerlinedf.set_index('rgiid', inplace=True)\n",
    "        single_glacier.set_index('rgiid', inplace=True)\n",
    "        combineddf = centerlinedf.join(single_glacier)\n",
    "    #     combineddf = pd.concat()\n",
    "        df = pd.concat([df, combineddf])\n",
    "    except os.error:\n",
    "        missing_glaciers.append(rgi_id)\n",
    "        pass\n",
    "\n",
    "df.to_csv('/home/colili/Documents/PhD/project_john/data_set/data_centerlines_svalbard/data_centerline_svalbard2.csv')   "
   ]
  }
 ],
 "metadata": {
  "kernelspec": {
   "display_name": "Python 3",
   "language": "python",
   "name": "python3"
  },
  "language_info": {
   "codemirror_mode": {
    "name": "ipython",
    "version": 3
   },
   "file_extension": ".py",
   "mimetype": "text/x-python",
   "name": "python",
   "nbconvert_exporter": "python",
   "pygments_lexer": "ipython3",
   "version": "3.8.6"
  }
 },
 "nbformat": 4,
 "nbformat_minor": 4
}
