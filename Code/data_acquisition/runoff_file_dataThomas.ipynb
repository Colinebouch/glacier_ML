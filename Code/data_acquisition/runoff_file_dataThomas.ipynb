{
 "cells": [
  {
   "cell_type": "markdown",
   "metadata": {},
   "source": [
    "# Extract Runoff from matlab file: problem!!! All data are nana"
   ]
  },
  {
   "cell_type": "markdown",
   "metadata": {},
   "source": [
    "The data are based on this paper: https://tc.copernicus.org/articles/13/2259/2019/#section6\n",
    "\n",
    "The digital elevation model can be accessed at https://doi.org/10.21334/npolar.2014.dce53a47 (Norwegian Polar Institute, 2014). The glacier and land masks were constructed from glacier outlines, which are available at https://doi.org/10.21334/npolar.2013.89f430f8 (König et al., 2013). The model outputs behind the presented figures of air temperature, precipitation, CMB, ELA, runoff, refreezing, T14, P14, snow onset, and disappearance dates are available in the following repository: https://doi.org/10.6084/m9.figshare.7836530.v1 (van Pelt et al., 2019). The full model dataset, of which only a selection is presented here, contains data with a 3-hourly temporal resolution and for an extended set of variables; a description of readily available data is accessible online (model output, http://www.wardvanpelt.com/model_output.txt, last access: 13 March 2019). Glacier-wide mass balances for KNG, HBR, HDF, MLB, and ABB are available in the database of the World Glacier Monitoring Service (WGMS; https://wgms.ch/, last access: 6 November 2018). Meteorological time series for Ny-Ålesund and Longyearbyen are accessible through the eKlima portal (Norwegian Meteorological Institute; http://eklima.met.no/, last access: 13 March 2019). The Kongsvegen AWS time series are also accessible at https://doi.org/10.21334/npolar.2017.5dc31930 (Kohler et al., 2017). Unrestricted access to the HIRLAM regional climate model data, point stake mass balance data, and the remaining AWS time series is provided upon request by contacting the institutes that collected/generated the data (see Sect. 2).\n",
    "\n",
    "\n",
    "Runoff data availability: van Pelt, W. J. J., Pohjola, V. A., Pettersson, R., Marchenko, S., Kohler, J., Luks, B., Hagen, J. O., Schuler, T. V., Dunse, T., Noël, B., and Reijmer, C. H.: A long-term dataset of climatic mass balance, snow conditions and runoff in Svalbard (1957–2018), https://doi.org/10.6084/m9.figshare.7836530.v1, 2019. a (Raw data: https://figshare.com/articles/dataset/A_long-term_dataset_of_climatic_mass_balance_snow_conditions_and_runoff_in_Svalbard_1957-2018_/7836530/1)"
   ]
  },
  {
   "cell_type": "markdown",
   "metadata": {},
   "source": [
    "# Convert .mat files into pd Dataframe"
   ]
  },
  {
   "cell_type": "code",
   "execution_count": 1,
   "metadata": {},
   "outputs": [],
   "source": [
    "import numpy as np\n",
    "from scipy.io import loadmat  # this is the SciPy module that loads mat-files\n",
    "import matplotlib.pyplot as plt\n",
    "from datetime import datetime, date, time\n",
    "import pandas as pd"
   ]
  },
  {
   "cell_type": "markdown",
   "metadata": {},
   "source": [
    "# Import data"
   ]
  },
  {
   "cell_type": "code",
   "execution_count": 2,
   "metadata": {},
   "outputs": [
    {
     "data": {
      "text/plain": [
       "'/home/colili/Documents/PhD/project_john/Code/data_acquisition'"
      ]
     },
     "execution_count": 2,
     "metadata": {},
     "output_type": "execute_result"
    }
   ],
   "source": [
    "pwd\n"
   ]
  },
  {
   "cell_type": "code",
   "execution_count": 3,
   "metadata": {},
   "outputs": [],
   "source": [
    "mat_file = loadmat('/home/colili/Documents/PhD/project_john/data_set/data_thomas_ELA_beta/Runoff.mat')\n",
    "mat_file_cmb = loadmat('/home/colili/Documents/PhD/project_john/data_set/data_thomas_ELA_beta/WVP_CMB_ELA_beta.mat')\n",
    "\n",
    "runoff = mat_file['Runoff'][0][0][0][:, :, -1]\n",
    "# annual_runoff = mat_file['Annual runoff (1 September - 31 August)']\n",
    "X = mat_file['Runoff'][0][0][3][:, :]\n",
    "Y = mat_file['Runoff'][0][0][4][:, :]\n",
    "Z = mat_file_cmb['Z']\n",
    "year = mat_file['Runoff'][0][0][5][:, 0]\n"
   ]
  },
  {
   "cell_type": "code",
   "execution_count": 4,
   "metadata": {},
   "outputs": [],
   "source": [
    "# # mat_file['Runoff'].dtype\n",
    "# runoff1 = mat_file['Runoff'][0][0][0][:, :, -1]\n",
    "# result = runoff1[np.logical_not(np.isnan(runoff1))]\n",
    "# result\n",
    "# # Z.shape"
   ]
  },
  {
   "cell_type": "code",
   "execution_count": 5,
   "metadata": {},
   "outputs": [
    {
     "data": {
      "text/plain": [
       "(550, 468)"
      ]
     },
     "execution_count": 5,
     "metadata": {},
     "output_type": "execute_result"
    }
   ],
   "source": [
    "Z.shape"
   ]
  },
  {
   "cell_type": "code",
   "execution_count": 6,
   "metadata": {},
   "outputs": [
    {
     "data": {
      "text/plain": [
       "(550, 468)"
      ]
     },
     "execution_count": 6,
     "metadata": {},
     "output_type": "execute_result"
    }
   ],
   "source": [
    "runoff.shape"
   ]
  },
  {
   "cell_type": "code",
   "execution_count": 7,
   "metadata": {},
   "outputs": [
    {
     "data": {
      "text/html": [
       "<div>\n",
       "<style scoped>\n",
       "    .dataframe tbody tr th:only-of-type {\n",
       "        vertical-align: middle;\n",
       "    }\n",
       "\n",
       "    .dataframe tbody tr th {\n",
       "        vertical-align: top;\n",
       "    }\n",
       "\n",
       "    .dataframe thead th {\n",
       "        text-align: right;\n",
       "    }\n",
       "</style>\n",
       "<table border=\"1\" class=\"dataframe\">\n",
       "  <thead>\n",
       "    <tr style=\"text-align: right;\">\n",
       "      <th></th>\n",
       "      <th>X</th>\n",
       "      <th>Y</th>\n",
       "      <th>Runoff</th>\n",
       "    </tr>\n",
       "  </thead>\n",
       "  <tbody>\n",
       "    <tr>\n",
       "      <th>11847</th>\n",
       "      <td>403490</td>\n",
       "      <td>8747290</td>\n",
       "      <td>0.665358</td>\n",
       "    </tr>\n",
       "    <tr>\n",
       "      <th>11848</th>\n",
       "      <td>403490</td>\n",
       "      <td>8748290</td>\n",
       "      <td>0.729583</td>\n",
       "    </tr>\n",
       "    <tr>\n",
       "      <th>11849</th>\n",
       "      <td>403490</td>\n",
       "      <td>8749290</td>\n",
       "      <td>0.778592</td>\n",
       "    </tr>\n",
       "    <tr>\n",
       "      <th>11850</th>\n",
       "      <td>403490</td>\n",
       "      <td>8750290</td>\n",
       "      <td>0.913370</td>\n",
       "    </tr>\n",
       "    <tr>\n",
       "      <th>11851</th>\n",
       "      <td>403490</td>\n",
       "      <td>8751290</td>\n",
       "      <td>0.787866</td>\n",
       "    </tr>\n",
       "    <tr>\n",
       "      <th>...</th>\n",
       "      <td>...</td>\n",
       "      <td>...</td>\n",
       "      <td>...</td>\n",
       "    </tr>\n",
       "    <tr>\n",
       "      <th>254611</th>\n",
       "      <td>844490</td>\n",
       "      <td>8961290</td>\n",
       "      <td>0.511356</td>\n",
       "    </tr>\n",
       "    <tr>\n",
       "      <th>254612</th>\n",
       "      <td>844490</td>\n",
       "      <td>8962290</td>\n",
       "      <td>0.520604</td>\n",
       "    </tr>\n",
       "    <tr>\n",
       "      <th>255156</th>\n",
       "      <td>845490</td>\n",
       "      <td>8956290</td>\n",
       "      <td>0.466077</td>\n",
       "    </tr>\n",
       "    <tr>\n",
       "      <th>255157</th>\n",
       "      <td>845490</td>\n",
       "      <td>8957290</td>\n",
       "      <td>0.444423</td>\n",
       "    </tr>\n",
       "    <tr>\n",
       "      <th>255158</th>\n",
       "      <td>845490</td>\n",
       "      <td>8958290</td>\n",
       "      <td>0.486146</td>\n",
       "    </tr>\n",
       "  </tbody>\n",
       "</table>\n",
       "<p>60570 rows × 3 columns</p>\n",
       "</div>"
      ],
      "text/plain": [
       "             X        Y    Runoff\n",
       "11847   403490  8747290  0.665358\n",
       "11848   403490  8748290  0.729583\n",
       "11849   403490  8749290  0.778592\n",
       "11850   403490  8750290  0.913370\n",
       "11851   403490  8751290  0.787866\n",
       "...        ...      ...       ...\n",
       "254611  844490  8961290  0.511356\n",
       "254612  844490  8962290  0.520604\n",
       "255156  845490  8956290  0.466077\n",
       "255157  845490  8957290  0.444423\n",
       "255158  845490  8958290  0.486146\n",
       "\n",
       "[60570 rows x 3 columns]"
      ]
     },
     "execution_count": 7,
     "metadata": {},
     "output_type": "execute_result"
    }
   ],
   "source": [
    "df_runoff = pd.DataFrame(runoff, index=Y[:, 0], columns=X[0]).unstack().reset_index()\n",
    "\n",
    "df_runoff.columns = ['X' , 'Y', 'Runoff']\n",
    "df_runoff = df_runoff.dropna()\n",
    "df_runoff"
   ]
  },
  {
   "cell_type": "code",
   "execution_count": 8,
   "metadata": {},
   "outputs": [
    {
     "data": {
      "text/plain": [
       "<matplotlib.colorbar.Colorbar at 0x7ff8e98e8910>"
      ]
     },
     "execution_count": 8,
     "metadata": {},
     "output_type": "execute_result"
    },
    {
     "data": {
      "image/png": "[encoded data removed]",
      "text/plain": [
       "<Figure size 432x288 with 2 Axes>"
      ]
     },
     "metadata": {
      "needs_background": "light"
     },
     "output_type": "display_data"
    }
   ],
   "source": [
    "map_cmb = plt.scatter(df_runoff.X, df_runoff.Y, c=df_runoff.Runoff)\n",
    "plt.colorbar(map_cmb)"
   ]
  },
  {
   "cell_type": "markdown",
   "metadata": {},
   "source": [
    "# Interpolate the data that it fits to the centerline coordinates"
   ]
  },
  {
   "cell_type": "code",
   "execution_count": 9,
   "metadata": {},
   "outputs": [
    {
     "data": {
      "text/html": [
       "<div>\n",
       "<style scoped>\n",
       "    .dataframe tbody tr th:only-of-type {\n",
       "        vertical-align: middle;\n",
       "    }\n",
       "\n",
       "    .dataframe tbody tr th {\n",
       "        vertical-align: top;\n",
       "    }\n",
       "\n",
       "    .dataframe thead th {\n",
       "        text-align: right;\n",
       "    }\n",
       "</style>\n",
       "<table border=\"1\" class=\"dataframe\">\n",
       "  <thead>\n",
       "    <tr style=\"text-align: right;\">\n",
       "      <th></th>\n",
       "      <th>X</th>\n",
       "      <th>Y</th>\n",
       "      <th>Runoff</th>\n",
       "    </tr>\n",
       "  </thead>\n",
       "  <tbody>\n",
       "    <tr>\n",
       "      <th>11847</th>\n",
       "      <td>403490</td>\n",
       "      <td>8747290</td>\n",
       "      <td>0.665358</td>\n",
       "    </tr>\n",
       "    <tr>\n",
       "      <th>11848</th>\n",
       "      <td>403490</td>\n",
       "      <td>8748290</td>\n",
       "      <td>0.729583</td>\n",
       "    </tr>\n",
       "    <tr>\n",
       "      <th>11849</th>\n",
       "      <td>403490</td>\n",
       "      <td>8749290</td>\n",
       "      <td>0.778592</td>\n",
       "    </tr>\n",
       "    <tr>\n",
       "      <th>11850</th>\n",
       "      <td>403490</td>\n",
       "      <td>8750290</td>\n",
       "      <td>0.913370</td>\n",
       "    </tr>\n",
       "    <tr>\n",
       "      <th>11851</th>\n",
       "      <td>403490</td>\n",
       "      <td>8751290</td>\n",
       "      <td>0.787866</td>\n",
       "    </tr>\n",
       "    <tr>\n",
       "      <th>...</th>\n",
       "      <td>...</td>\n",
       "      <td>...</td>\n",
       "      <td>...</td>\n",
       "    </tr>\n",
       "    <tr>\n",
       "      <th>254611</th>\n",
       "      <td>844490</td>\n",
       "      <td>8961290</td>\n",
       "      <td>0.511356</td>\n",
       "    </tr>\n",
       "    <tr>\n",
       "      <th>254612</th>\n",
       "      <td>844490</td>\n",
       "      <td>8962290</td>\n",
       "      <td>0.520604</td>\n",
       "    </tr>\n",
       "    <tr>\n",
       "      <th>255156</th>\n",
       "      <td>845490</td>\n",
       "      <td>8956290</td>\n",
       "      <td>0.466077</td>\n",
       "    </tr>\n",
       "    <tr>\n",
       "      <th>255157</th>\n",
       "      <td>845490</td>\n",
       "      <td>8957290</td>\n",
       "      <td>0.444423</td>\n",
       "    </tr>\n",
       "    <tr>\n",
       "      <th>255158</th>\n",
       "      <td>845490</td>\n",
       "      <td>8958290</td>\n",
       "      <td>0.486146</td>\n",
       "    </tr>\n",
       "  </tbody>\n",
       "</table>\n",
       "<p>60570 rows × 3 columns</p>\n",
       "</div>"
      ],
      "text/plain": [
       "             X        Y    Runoff\n",
       "11847   403490  8747290  0.665358\n",
       "11848   403490  8748290  0.729583\n",
       "11849   403490  8749290  0.778592\n",
       "11850   403490  8750290  0.913370\n",
       "11851   403490  8751290  0.787866\n",
       "...        ...      ...       ...\n",
       "254611  844490  8961290  0.511356\n",
       "254612  844490  8962290  0.520604\n",
       "255156  845490  8956290  0.466077\n",
       "255157  845490  8957290  0.444423\n",
       "255158  845490  8958290  0.486146\n",
       "\n",
       "[60570 rows x 3 columns]"
      ]
     },
     "execution_count": 9,
     "metadata": {},
     "output_type": "execute_result"
    }
   ],
   "source": [
    "df_runoff"
   ]
  },
  {
   "cell_type": "code",
   "execution_count": 10,
   "metadata": {},
   "outputs": [
    {
     "name": "stderr",
     "output_type": "stream",
     "text": [
      "/usr/lib/python3.8/site-packages/IPython/core/interactiveshell.py:3062: DtypeWarning: Columns (22,23) have mixed types. Specify dtype option on import or set low_memory=False.\n",
      "  has_raised = await self.run_ast_nodes(code_ast.body, cell_name,\n"
     ]
    },
    {
     "data": {
      "text/html": [
       "<div>\n",
       "<style scoped>\n",
       "    .dataframe tbody tr th:only-of-type {\n",
       "        vertical-align: middle;\n",
       "    }\n",
       "\n",
       "    .dataframe tbody tr th {\n",
       "        vertical-align: top;\n",
       "    }\n",
       "\n",
       "    .dataframe thead th {\n",
       "        text-align: right;\n",
       "    }\n",
       "</style>\n",
       "<table border=\"1\" class=\"dataframe\">\n",
       "  <thead>\n",
       "    <tr style=\"text-align: right;\">\n",
       "      <th></th>\n",
       "      <th>Unnamed: 0</th>\n",
       "      <th>rgiid</th>\n",
       "      <th>x</th>\n",
       "      <th>y</th>\n",
       "      <th>Surge</th>\n",
       "      <th>BgnDate</th>\n",
       "      <th>EndDate</th>\n",
       "      <th>CenLon</th>\n",
       "      <th>CenLat</th>\n",
       "      <th>Area</th>\n",
       "      <th>...</th>\n",
       "      <th>Connect</th>\n",
       "      <th>Form</th>\n",
       "      <th>TermType</th>\n",
       "      <th>Linkages</th>\n",
       "      <th>Name</th>\n",
       "      <th>check_geom</th>\n",
       "      <th>geometry</th>\n",
       "      <th>bed</th>\n",
       "      <th>thickness</th>\n",
       "      <th>surface_elevation</th>\n",
       "    </tr>\n",
       "  </thead>\n",
       "  <tbody>\n",
       "    <tr>\n",
       "      <th>0</th>\n",
       "      <td>0</td>\n",
       "      <td>RGI60-07.00001</td>\n",
       "      <td>552858.197838</td>\n",
       "      <td>8.514877e+06</td>\n",
       "      <td>0</td>\n",
       "      <td>20080901</td>\n",
       "      <td>-9999999</td>\n",
       "      <td>17.0347</td>\n",
       "      <td>76.7052</td>\n",
       "      <td>0.597</td>\n",
       "      <td>...</td>\n",
       "      <td>0</td>\n",
       "      <td>0</td>\n",
       "      <td>0</td>\n",
       "      <td>9</td>\n",
       "      <td>NaN</td>\n",
       "      <td>NaN</td>\n",
       "      <td>NaN</td>\n",
       "      <td>401.83295</td>\n",
       "      <td>4.16705</td>\n",
       "      <td>406.0</td>\n",
       "    </tr>\n",
       "    <tr>\n",
       "      <th>1</th>\n",
       "      <td>1</td>\n",
       "      <td>RGI60-07.00001</td>\n",
       "      <td>552837.209663</td>\n",
       "      <td>8.514876e+06</td>\n",
       "      <td>0</td>\n",
       "      <td>20080901</td>\n",
       "      <td>-9999999</td>\n",
       "      <td>17.0347</td>\n",
       "      <td>76.7052</td>\n",
       "      <td>0.597</td>\n",
       "      <td>...</td>\n",
       "      <td>0</td>\n",
       "      <td>0</td>\n",
       "      <td>0</td>\n",
       "      <td>9</td>\n",
       "      <td>NaN</td>\n",
       "      <td>NaN</td>\n",
       "      <td>NaN</td>\n",
       "      <td>401.83295</td>\n",
       "      <td>4.16705</td>\n",
       "      <td>406.0</td>\n",
       "    </tr>\n",
       "    <tr>\n",
       "      <th>2</th>\n",
       "      <td>2</td>\n",
       "      <td>RGI60-07.00001</td>\n",
       "      <td>552816.221488</td>\n",
       "      <td>8.514875e+06</td>\n",
       "      <td>0</td>\n",
       "      <td>20080901</td>\n",
       "      <td>-9999999</td>\n",
       "      <td>17.0347</td>\n",
       "      <td>76.7052</td>\n",
       "      <td>0.597</td>\n",
       "      <td>...</td>\n",
       "      <td>0</td>\n",
       "      <td>0</td>\n",
       "      <td>0</td>\n",
       "      <td>9</td>\n",
       "      <td>NaN</td>\n",
       "      <td>NaN</td>\n",
       "      <td>NaN</td>\n",
       "      <td>401.83295</td>\n",
       "      <td>4.16705</td>\n",
       "      <td>406.0</td>\n",
       "    </tr>\n",
       "    <tr>\n",
       "      <th>3</th>\n",
       "      <td>3</td>\n",
       "      <td>RGI60-07.00001</td>\n",
       "      <td>552795.233313</td>\n",
       "      <td>8.514875e+06</td>\n",
       "      <td>0</td>\n",
       "      <td>20080901</td>\n",
       "      <td>-9999999</td>\n",
       "      <td>17.0347</td>\n",
       "      <td>76.7052</td>\n",
       "      <td>0.597</td>\n",
       "      <td>...</td>\n",
       "      <td>0</td>\n",
       "      <td>0</td>\n",
       "      <td>0</td>\n",
       "      <td>9</td>\n",
       "      <td>NaN</td>\n",
       "      <td>NaN</td>\n",
       "      <td>NaN</td>\n",
       "      <td>401.83295</td>\n",
       "      <td>4.16705</td>\n",
       "      <td>406.0</td>\n",
       "    </tr>\n",
       "    <tr>\n",
       "      <th>4</th>\n",
       "      <td>4</td>\n",
       "      <td>RGI60-07.00001</td>\n",
       "      <td>552774.245139</td>\n",
       "      <td>8.514874e+06</td>\n",
       "      <td>0</td>\n",
       "      <td>20080901</td>\n",
       "      <td>-9999999</td>\n",
       "      <td>17.0347</td>\n",
       "      <td>76.7052</td>\n",
       "      <td>0.597</td>\n",
       "      <td>...</td>\n",
       "      <td>0</td>\n",
       "      <td>0</td>\n",
       "      <td>0</td>\n",
       "      <td>9</td>\n",
       "      <td>NaN</td>\n",
       "      <td>NaN</td>\n",
       "      <td>NaN</td>\n",
       "      <td>401.83295</td>\n",
       "      <td>4.16705</td>\n",
       "      <td>406.0</td>\n",
       "    </tr>\n",
       "  </tbody>\n",
       "</table>\n",
       "<p>5 rows × 27 columns</p>\n",
       "</div>"
      ],
      "text/plain": [
       "   Unnamed: 0           rgiid              x             y  Surge   BgnDate  \\\n",
       "0           0  RGI60-07.00001  552858.197838  8.514877e+06      0  20080901   \n",
       "1           1  RGI60-07.00001  552837.209663  8.514876e+06      0  20080901   \n",
       "2           2  RGI60-07.00001  552816.221488  8.514875e+06      0  20080901   \n",
       "3           3  RGI60-07.00001  552795.233313  8.514875e+06      0  20080901   \n",
       "4           4  RGI60-07.00001  552774.245139  8.514874e+06      0  20080901   \n",
       "\n",
       "   EndDate   CenLon   CenLat   Area  ...  Connect  Form  TermType  Linkages  \\\n",
       "0 -9999999  17.0347  76.7052  0.597  ...        0     0         0         9   \n",
       "1 -9999999  17.0347  76.7052  0.597  ...        0     0         0         9   \n",
       "2 -9999999  17.0347  76.7052  0.597  ...        0     0         0         9   \n",
       "3 -9999999  17.0347  76.7052  0.597  ...        0     0         0         9   \n",
       "4 -9999999  17.0347  76.7052  0.597  ...        0     0         0         9   \n",
       "\n",
       "   Name  check_geom  geometry        bed  thickness  surface_elevation  \n",
       "0   NaN         NaN       NaN  401.83295    4.16705              406.0  \n",
       "1   NaN         NaN       NaN  401.83295    4.16705              406.0  \n",
       "2   NaN         NaN       NaN  401.83295    4.16705              406.0  \n",
       "3   NaN         NaN       NaN  401.83295    4.16705              406.0  \n",
       "4   NaN         NaN       NaN  401.83295    4.16705              406.0  \n",
       "\n",
       "[5 rows x 27 columns]"
      ]
     },
     "execution_count": 10,
     "metadata": {},
     "output_type": "execute_result"
    }
   ],
   "source": [
    "df_bed_surf_thick_slope = pd.read_csv('/home/colili/Documents/PhD/project_john/DataFrame_produced/df_bed_surf_elev.csv')\n",
    "df_bed_surf_thick_slope.head()"
   ]
  },
  {
   "cell_type": "code",
   "execution_count": 11,
   "metadata": {},
   "outputs": [],
   "source": [
    "x = df_runoff.X.values.flatten()\n",
    "y = df_runoff.Y.values.flatten()"
   ]
  },
  {
   "cell_type": "code",
   "execution_count": 12,
   "metadata": {},
   "outputs": [
    {
     "data": {
      "text/plain": [
       "(60570, 2)"
      ]
     },
     "execution_count": 12,
     "metadata": {},
     "output_type": "execute_result"
    }
   ],
   "source": [
    "XY = np.vstack((x,y)).T\n",
    "XY.shape"
   ]
  },
  {
   "cell_type": "code",
   "execution_count": 13,
   "metadata": {},
   "outputs": [
    {
     "data": {
      "text/plain": [
       "array([ 552858.19783848,  552837.20966276,  552816.2214876 , ...,\n",
       "       -329083.20303324, -329090.93954087, -329098.67604287])"
      ]
     },
     "execution_count": 13,
     "metadata": {},
     "output_type": "execute_result"
    }
   ],
   "source": [
    "x_center = df_bed_surf_thick_slope.x.values.flatten()\n",
    "y_center = df_bed_surf_thick_slope.y.values.flatten()\n",
    "x_center"
   ]
  },
  {
   "cell_type": "code",
   "execution_count": 14,
   "metadata": {},
   "outputs": [],
   "source": [
    "runoff = df_runoff.Runoff.values.flatten()"
   ]
  },
  {
   "cell_type": "code",
   "execution_count": 15,
   "metadata": {},
   "outputs": [],
   "source": [
    "from scipy import interpolate\n",
    "df_bed_surf_thick_slope['Runoff'] = interpolate.griddata(XY, runoff, (x_center, y_center), method='linear')"
   ]
  },
  {
   "cell_type": "code",
   "execution_count": 16,
   "metadata": {},
   "outputs": [],
   "source": [
    "df_bed_surf_thick_slope.to_csv('/home/colili/Documents/PhD/project_john/DataFrame_produced/df_bed_surf_thick_slope_runoff.csv')"
   ]
  }
 ],
 "metadata": {
  "kernelspec": {
   "display_name": "Python 3",
   "language": "python",
   "name": "python3"
  },
  "language_info": {
   "codemirror_mode": {
    "name": "ipython",
    "version": 3
   },
   "file_extension": ".py",
   "mimetype": "text/x-python",
   "name": "python",
   "nbconvert_exporter": "python",
   "pygments_lexer": "ipython3",
   "version": "3.8.8"
  }
 },
 "nbformat": 4,
 "nbformat_minor": 4
}
