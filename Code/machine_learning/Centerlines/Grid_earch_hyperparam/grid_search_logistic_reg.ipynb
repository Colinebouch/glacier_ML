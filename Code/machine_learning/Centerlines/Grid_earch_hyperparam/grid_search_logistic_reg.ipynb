{
 "cells": [
  {
   "cell_type": "markdown",
   "metadata": {},
   "source": [
    "Theory : https://towardsdatascience.com/understanding-random-forest-58381e0602d2\n",
    "\n",
    "Examples : https://towardsdatascience.com/an-implementation-and-explanation-of-the-random-forest-in-python-77bf308a9b76"
   ]
  },
  {
   "cell_type": "markdown",
   "metadata": {},
   "source": [
    "# Forests of randomized trees"
   ]
  },
  {
   "cell_type": "code",
   "execution_count": 1,
   "metadata": {},
   "outputs": [],
   "source": [
    "import numpy as np\n",
    "import pandas as pd\n",
    "from sklearn.model_selection import train_test_split\n",
    "from sklearn.tree import DecisionTreeClassifier\n",
    "from sklearn.metrics import precision_score, recall_score, roc_auc_score, roc_curve\n",
    "\n",
    "import matplotlib.pyplot as plt\n",
    "\n",
    "from sklearn.utils import resample"
   ]
  },
  {
   "cell_type": "markdown",
   "metadata": {},
   "source": [
    "### Set random seed to ensure reproducible runs"
   ]
  },
  {
   "cell_type": "code",
   "execution_count": 2,
   "metadata": {},
   "outputs": [],
   "source": [
    "RSEED = 50"
   ]
  },
  {
   "cell_type": "markdown",
   "metadata": {},
   "source": [
    "### Importing data and data cleaning"
   ]
  },
  {
   "cell_type": "code",
   "execution_count": 3,
   "metadata": {},
   "outputs": [
    {
     "data": {
      "text/plain": [
       "Index(['Unnamed: 0', 'x', 'y', 'Surge', 'Area', 'Slope', 'TermType', 'Name',\n",
       "       'bed', 'thickness', 'surface_elevation', 'ELA', 'beta', 'cmb',\n",
       "       'width_centerline', 'Runoff'],\n",
       "      dtype='object')"
      ]
     },
     "execution_count": 3,
     "metadata": {},
     "output_type": "execute_result"
    }
   ],
   "source": [
    "df_main = pd.read_csv('/home/colili/Documents/PhD/project_john/DataFrame_produced/df_main.csv', index_col='rgiid')\n",
    "df_main.columns"
   ]
  },
  {
   "cell_type": "code",
   "execution_count": 4,
   "metadata": {},
   "outputs": [
    {
     "data": {
      "text/plain": [
       "(94234, 16)"
      ]
     },
     "execution_count": 4,
     "metadata": {},
     "output_type": "execute_result"
    }
   ],
   "source": [
    "df_main.shape"
   ]
  },
  {
   "cell_type": "code",
   "execution_count": 5,
   "metadata": {},
   "outputs": [],
   "source": [
    "df_main['WH'] = df_main['width_centerline'] / df_main['thickness']\n",
    "df_main['WHsin'] = df_main['thickness']*df_main['width_centerline']*np.sin(df_main['Slope'])\n",
    "df_main['dummy'] = np.random.rand(df_main.shape[0])"
   ]
  },
  {
   "cell_type": "code",
   "execution_count": 6,
   "metadata": {},
   "outputs": [],
   "source": [
    "df_main.drop(df_main[df_main['Surge']==9].index, inplace = True)\n",
    "df_main.drop(df_main[df_main['Surge']==1].index, inplace = True)\n",
    "df_main.drop(df_main[df_main['Surge']==2].index, inplace = True)\n",
    "df = df_main.drop(columns = ['Unnamed: 0','x', 'y', 'ELA', 'beta', 'Name', 'Area'])\n",
    "df.dropna(how='any', inplace=True)"
   ]
  },
  {
   "cell_type": "code",
   "execution_count": 7,
   "metadata": {},
   "outputs": [
    {
     "data": {
      "text/html": [
       "<div>\n",
       "<style scoped>\n",
       "    .dataframe tbody tr th:only-of-type {\n",
       "        vertical-align: middle;\n",
       "    }\n",
       "\n",
       "    .dataframe tbody tr th {\n",
       "        vertical-align: top;\n",
       "    }\n",
       "\n",
       "    .dataframe thead th {\n",
       "        text-align: right;\n",
       "    }\n",
       "</style>\n",
       "<table border=\"1\" class=\"dataframe\">\n",
       "  <thead>\n",
       "    <tr style=\"text-align: right;\">\n",
       "      <th></th>\n",
       "      <th>Surge</th>\n",
       "      <th>Slope</th>\n",
       "      <th>TermType</th>\n",
       "      <th>bed</th>\n",
       "      <th>thickness</th>\n",
       "      <th>surface_elevation</th>\n",
       "      <th>cmb</th>\n",
       "      <th>width_centerline</th>\n",
       "      <th>Runoff</th>\n",
       "      <th>WH</th>\n",
       "      <th>WHsin</th>\n",
       "      <th>dummy</th>\n",
       "    </tr>\n",
       "    <tr>\n",
       "      <th>rgiid</th>\n",
       "      <th></th>\n",
       "      <th></th>\n",
       "      <th></th>\n",
       "      <th></th>\n",
       "      <th></th>\n",
       "      <th></th>\n",
       "      <th></th>\n",
       "      <th></th>\n",
       "      <th></th>\n",
       "      <th></th>\n",
       "      <th></th>\n",
       "      <th></th>\n",
       "    </tr>\n",
       "  </thead>\n",
       "  <tbody>\n",
       "    <tr>\n",
       "      <th>RGI60-07.00004</th>\n",
       "      <td>0</td>\n",
       "      <td>13.8</td>\n",
       "      <td>0</td>\n",
       "      <td>889.68555</td>\n",
       "      <td>25.314478</td>\n",
       "      <td>915.00000</td>\n",
       "      <td>1.392706</td>\n",
       "      <td>279.780932</td>\n",
       "      <td>1.100061</td>\n",
       "      <td>11.052210</td>\n",
       "      <td>6683.732353</td>\n",
       "      <td>0.459745</td>\n",
       "    </tr>\n",
       "    <tr>\n",
       "      <th>RGI60-07.00004</th>\n",
       "      <td>0</td>\n",
       "      <td>13.8</td>\n",
       "      <td>0</td>\n",
       "      <td>882.06460</td>\n",
       "      <td>30.935455</td>\n",
       "      <td>913.00000</td>\n",
       "      <td>1.391001</td>\n",
       "      <td>295.980219</td>\n",
       "      <td>1.094416</td>\n",
       "      <td>9.567670</td>\n",
       "      <td>8640.744376</td>\n",
       "      <td>0.538373</td>\n",
       "    </tr>\n",
       "    <tr>\n",
       "      <th>RGI60-07.00004</th>\n",
       "      <td>0</td>\n",
       "      <td>13.8</td>\n",
       "      <td>0</td>\n",
       "      <td>882.06460</td>\n",
       "      <td>30.935455</td>\n",
       "      <td>913.00000</td>\n",
       "      <td>1.389296</td>\n",
       "      <td>330.851846</td>\n",
       "      <td>1.088771</td>\n",
       "      <td>10.694908</td>\n",
       "      <td>9658.774620</td>\n",
       "      <td>0.383281</td>\n",
       "    </tr>\n",
       "    <tr>\n",
       "      <th>RGI60-07.00004</th>\n",
       "      <td>0</td>\n",
       "      <td>13.8</td>\n",
       "      <td>0</td>\n",
       "      <td>882.06460</td>\n",
       "      <td>30.935455</td>\n",
       "      <td>913.00000</td>\n",
       "      <td>1.387591</td>\n",
       "      <td>342.886985</td>\n",
       "      <td>1.083127</td>\n",
       "      <td>11.083948</td>\n",
       "      <td>10010.124318</td>\n",
       "      <td>0.848886</td>\n",
       "    </tr>\n",
       "    <tr>\n",
       "      <th>RGI60-07.00004</th>\n",
       "      <td>0</td>\n",
       "      <td>13.8</td>\n",
       "      <td>0</td>\n",
       "      <td>881.31860</td>\n",
       "      <td>34.681380</td>\n",
       "      <td>916.00000</td>\n",
       "      <td>1.385886</td>\n",
       "      <td>336.403639</td>\n",
       "      <td>1.077530</td>\n",
       "      <td>9.699834</td>\n",
       "      <td>11010.043050</td>\n",
       "      <td>0.225479</td>\n",
       "    </tr>\n",
       "    <tr>\n",
       "      <th>...</th>\n",
       "      <td>...</td>\n",
       "      <td>...</td>\n",
       "      <td>...</td>\n",
       "      <td>...</td>\n",
       "      <td>...</td>\n",
       "      <td>...</td>\n",
       "      <td>...</td>\n",
       "      <td>...</td>\n",
       "      <td>...</td>\n",
       "      <td>...</td>\n",
       "      <td>...</td>\n",
       "      <td>...</td>\n",
       "    </tr>\n",
       "    <tr>\n",
       "      <th>RGI60-07.01567</th>\n",
       "      <td>3</td>\n",
       "      <td>11.7</td>\n",
       "      <td>0</td>\n",
       "      <td>237.64468</td>\n",
       "      <td>50.380424</td>\n",
       "      <td>288.02512</td>\n",
       "      <td>-1.412920</td>\n",
       "      <td>278.553621</td>\n",
       "      <td>2.123592</td>\n",
       "      <td>5.529005</td>\n",
       "      <td>-10693.410549</td>\n",
       "      <td>0.793044</td>\n",
       "    </tr>\n",
       "    <tr>\n",
       "      <th>RGI60-07.01567</th>\n",
       "      <td>3</td>\n",
       "      <td>11.7</td>\n",
       "      <td>0</td>\n",
       "      <td>233.07228</td>\n",
       "      <td>46.717087</td>\n",
       "      <td>279.78937</td>\n",
       "      <td>-1.423469</td>\n",
       "      <td>256.755923</td>\n",
       "      <td>2.127417</td>\n",
       "      <td>5.495975</td>\n",
       "      <td>-9139.908345</td>\n",
       "      <td>0.258898</td>\n",
       "    </tr>\n",
       "    <tr>\n",
       "      <th>RGI60-07.01567</th>\n",
       "      <td>3</td>\n",
       "      <td>11.7</td>\n",
       "      <td>0</td>\n",
       "      <td>233.07228</td>\n",
       "      <td>46.717087</td>\n",
       "      <td>279.78937</td>\n",
       "      <td>-1.395654</td>\n",
       "      <td>238.477978</td>\n",
       "      <td>2.076787</td>\n",
       "      <td>5.104727</td>\n",
       "      <td>-8489.256385</td>\n",
       "      <td>0.643173</td>\n",
       "    </tr>\n",
       "    <tr>\n",
       "      <th>RGI60-07.01567</th>\n",
       "      <td>3</td>\n",
       "      <td>11.7</td>\n",
       "      <td>0</td>\n",
       "      <td>233.18828</td>\n",
       "      <td>47.159560</td>\n",
       "      <td>280.34784</td>\n",
       "      <td>-1.382369</td>\n",
       "      <td>226.342325</td>\n",
       "      <td>2.005969</td>\n",
       "      <td>4.799500</td>\n",
       "      <td>-8133.568561</td>\n",
       "      <td>0.492449</td>\n",
       "    </tr>\n",
       "    <tr>\n",
       "      <th>RGI60-07.01567</th>\n",
       "      <td>3</td>\n",
       "      <td>11.7</td>\n",
       "      <td>0</td>\n",
       "      <td>233.18828</td>\n",
       "      <td>47.159560</td>\n",
       "      <td>280.34784</td>\n",
       "      <td>-1.369084</td>\n",
       "      <td>215.631320</td>\n",
       "      <td>1.935151</td>\n",
       "      <td>4.572378</td>\n",
       "      <td>-7748.670623</td>\n",
       "      <td>0.381722</td>\n",
       "    </tr>\n",
       "  </tbody>\n",
       "</table>\n",
       "<p>79572 rows × 12 columns</p>\n",
       "</div>"
      ],
      "text/plain": [
       "                Surge  Slope  TermType        bed  thickness  \\\n",
       "rgiid                                                          \n",
       "RGI60-07.00004      0   13.8         0  889.68555  25.314478   \n",
       "RGI60-07.00004      0   13.8         0  882.06460  30.935455   \n",
       "RGI60-07.00004      0   13.8         0  882.06460  30.935455   \n",
       "RGI60-07.00004      0   13.8         0  882.06460  30.935455   \n",
       "RGI60-07.00004      0   13.8         0  881.31860  34.681380   \n",
       "...               ...    ...       ...        ...        ...   \n",
       "RGI60-07.01567      3   11.7         0  237.64468  50.380424   \n",
       "RGI60-07.01567      3   11.7         0  233.07228  46.717087   \n",
       "RGI60-07.01567      3   11.7         0  233.07228  46.717087   \n",
       "RGI60-07.01567      3   11.7         0  233.18828  47.159560   \n",
       "RGI60-07.01567      3   11.7         0  233.18828  47.159560   \n",
       "\n",
       "                surface_elevation       cmb  width_centerline    Runoff  \\\n",
       "rgiid                                                                     \n",
       "RGI60-07.00004          915.00000  1.392706        279.780932  1.100061   \n",
       "RGI60-07.00004          913.00000  1.391001        295.980219  1.094416   \n",
       "RGI60-07.00004          913.00000  1.389296        330.851846  1.088771   \n",
       "RGI60-07.00004          913.00000  1.387591        342.886985  1.083127   \n",
       "RGI60-07.00004          916.00000  1.385886        336.403639  1.077530   \n",
       "...                           ...       ...               ...       ...   \n",
       "RGI60-07.01567          288.02512 -1.412920        278.553621  2.123592   \n",
       "RGI60-07.01567          279.78937 -1.423469        256.755923  2.127417   \n",
       "RGI60-07.01567          279.78937 -1.395654        238.477978  2.076787   \n",
       "RGI60-07.01567          280.34784 -1.382369        226.342325  2.005969   \n",
       "RGI60-07.01567          280.34784 -1.369084        215.631320  1.935151   \n",
       "\n",
       "                       WH         WHsin     dummy  \n",
       "rgiid                                              \n",
       "RGI60-07.00004  11.052210   6683.732353  0.459745  \n",
       "RGI60-07.00004   9.567670   8640.744376  0.538373  \n",
       "RGI60-07.00004  10.694908   9658.774620  0.383281  \n",
       "RGI60-07.00004  11.083948  10010.124318  0.848886  \n",
       "RGI60-07.00004   9.699834  11010.043050  0.225479  \n",
       "...                   ...           ...       ...  \n",
       "RGI60-07.01567   5.529005 -10693.410549  0.793044  \n",
       "RGI60-07.01567   5.495975  -9139.908345  0.258898  \n",
       "RGI60-07.01567   5.104727  -8489.256385  0.643173  \n",
       "RGI60-07.01567   4.799500  -8133.568561  0.492449  \n",
       "RGI60-07.01567   4.572378  -7748.670623  0.381722  \n",
       "\n",
       "[79572 rows x 12 columns]"
      ]
     },
     "execution_count": 7,
     "metadata": {},
     "output_type": "execute_result"
    }
   ],
   "source": [
    "df"
   ]
  },
  {
   "cell_type": "code",
   "execution_count": 8,
   "metadata": {},
   "outputs": [
    {
     "data": {
      "text/html": [
       "<div>\n",
       "<style scoped>\n",
       "    .dataframe tbody tr th:only-of-type {\n",
       "        vertical-align: middle;\n",
       "    }\n",
       "\n",
       "    .dataframe tbody tr th {\n",
       "        vertical-align: top;\n",
       "    }\n",
       "\n",
       "    .dataframe thead th {\n",
       "        text-align: right;\n",
       "    }\n",
       "</style>\n",
       "<table border=\"1\" class=\"dataframe\">\n",
       "  <thead>\n",
       "    <tr style=\"text-align: right;\">\n",
       "      <th></th>\n",
       "      <th>Unnamed: 0</th>\n",
       "      <th>x</th>\n",
       "      <th>y</th>\n",
       "      <th>Area</th>\n",
       "      <th>Slope</th>\n",
       "      <th>TermType</th>\n",
       "      <th>Name</th>\n",
       "      <th>bed</th>\n",
       "      <th>thickness</th>\n",
       "      <th>surface_elevation</th>\n",
       "      <th>ELA</th>\n",
       "      <th>beta</th>\n",
       "      <th>cmb</th>\n",
       "      <th>width_centerline</th>\n",
       "      <th>Runoff</th>\n",
       "      <th>WH</th>\n",
       "      <th>WHsin</th>\n",
       "      <th>dummy</th>\n",
       "    </tr>\n",
       "    <tr>\n",
       "      <th>Surge</th>\n",
       "      <th></th>\n",
       "      <th></th>\n",
       "      <th></th>\n",
       "      <th></th>\n",
       "      <th></th>\n",
       "      <th></th>\n",
       "      <th></th>\n",
       "      <th></th>\n",
       "      <th></th>\n",
       "      <th></th>\n",
       "      <th></th>\n",
       "      <th></th>\n",
       "      <th></th>\n",
       "      <th></th>\n",
       "      <th></th>\n",
       "      <th></th>\n",
       "      <th></th>\n",
       "      <th></th>\n",
       "    </tr>\n",
       "  </thead>\n",
       "  <tbody>\n",
       "    <tr>\n",
       "      <th>0</th>\n",
       "      <td>68813</td>\n",
       "      <td>68813</td>\n",
       "      <td>68813</td>\n",
       "      <td>68813</td>\n",
       "      <td>68813</td>\n",
       "      <td>68813</td>\n",
       "      <td>48314</td>\n",
       "      <td>68813</td>\n",
       "      <td>68813</td>\n",
       "      <td>68813</td>\n",
       "      <td>68752</td>\n",
       "      <td>68752</td>\n",
       "      <td>68752</td>\n",
       "      <td>68707</td>\n",
       "      <td>68813</td>\n",
       "      <td>68707</td>\n",
       "      <td>68707</td>\n",
       "      <td>68813</td>\n",
       "    </tr>\n",
       "    <tr>\n",
       "      <th>3</th>\n",
       "      <td>10906</td>\n",
       "      <td>10906</td>\n",
       "      <td>10906</td>\n",
       "      <td>10906</td>\n",
       "      <td>10906</td>\n",
       "      <td>10906</td>\n",
       "      <td>10827</td>\n",
       "      <td>10906</td>\n",
       "      <td>10906</td>\n",
       "      <td>10906</td>\n",
       "      <td>10897</td>\n",
       "      <td>10897</td>\n",
       "      <td>10897</td>\n",
       "      <td>10905</td>\n",
       "      <td>10906</td>\n",
       "      <td>10905</td>\n",
       "      <td>10905</td>\n",
       "      <td>10906</td>\n",
       "    </tr>\n",
       "  </tbody>\n",
       "</table>\n",
       "</div>"
      ],
      "text/plain": [
       "       Unnamed: 0      x      y   Area  Slope  TermType   Name    bed  \\\n",
       "Surge                                                                   \n",
       "0           68813  68813  68813  68813  68813     68813  48314  68813   \n",
       "3           10906  10906  10906  10906  10906     10906  10827  10906   \n",
       "\n",
       "       thickness  surface_elevation    ELA   beta    cmb  width_centerline  \\\n",
       "Surge                                                                        \n",
       "0          68813              68813  68752  68752  68752             68707   \n",
       "3          10906              10906  10897  10897  10897             10905   \n",
       "\n",
       "       Runoff     WH  WHsin  dummy  \n",
       "Surge                               \n",
       "0       68813  68707  68707  68813  \n",
       "3       10906  10905  10905  10906  "
      ]
     },
     "execution_count": 8,
     "metadata": {},
     "output_type": "execute_result"
    }
   ],
   "source": [
    "df_main.groupby('Surge').count()"
   ]
  },
  {
   "cell_type": "code",
   "execution_count": 9,
   "metadata": {},
   "outputs": [
    {
     "data": {
      "text/plain": [
       "0    68675\n",
       "1    10897\n",
       "Name: label, dtype: int64"
      ]
     },
     "execution_count": 9,
     "metadata": {},
     "output_type": "execute_result"
    }
   ],
   "source": [
    "df['Surge'] = df['Surge'].replace({3: 1})\n",
    "df = df.loc[df['Surge'].isin([0, 1])].copy()\n",
    "df = df.rename(columns = {'Surge': 'label'})\n",
    "df['label'].value_counts()"
   ]
  },
  {
   "cell_type": "code",
   "execution_count": 10,
   "metadata": {},
   "outputs": [
    {
     "data": {
      "text/plain": [
       "10897"
      ]
     },
     "execution_count": 10,
     "metadata": {},
     "output_type": "execute_result"
    }
   ],
   "source": [
    "df[df['label']==1].shape[0]"
   ]
  },
  {
   "cell_type": "code",
   "execution_count": 11,
   "metadata": {},
   "outputs": [
    {
     "data": {
      "text/plain": [
       "(79572, 12)"
      ]
     },
     "execution_count": 11,
     "metadata": {},
     "output_type": "execute_result"
    }
   ],
   "source": [
    "df.shape"
   ]
  },
  {
   "cell_type": "markdown",
   "metadata": {},
   "source": [
    "### Resampled"
   ]
  },
  {
   "cell_type": "code",
   "execution_count": 12,
   "metadata": {},
   "outputs": [],
   "source": [
    "# Separate majority and minority classes\n",
    "df_majority = df[df['label']==0]\n",
    "df_minority = df[df['label']==1]\n",
    " \n",
    "# Downsample majority class\n",
    "df_majority_downsampled = resample(df_majority, \n",
    "                                 replace=False,    # sample without replacement\n",
    "                                 n_samples=df[df['label']==1].shape[0],     # to match minority class\n",
    "                                 random_state=RSEED) # reproducible results\n",
    " \n",
    "# Combine minority class with downsampled majority class\n",
    "df_downsampled = pd.concat([df_majority_downsampled, df_minority])\n",
    " \n",
    "# Display new class counts\n",
    "df_downsampled['label'].value_counts()\n",
    "df = df_downsampled"
   ]
  },
  {
   "cell_type": "code",
   "execution_count": 13,
   "metadata": {},
   "outputs": [
    {
     "data": {
      "text/plain": [
       "Index(['label', 'Slope', 'TermType', 'bed', 'thickness', 'surface_elevation',\n",
       "       'cmb', 'width_centerline', 'Runoff', 'WH', 'WHsin', 'dummy'],\n",
       "      dtype='object')"
      ]
     },
     "execution_count": 13,
     "metadata": {},
     "output_type": "execute_result"
    }
   ],
   "source": [
    "df_downsampled.columns"
   ]
  },
  {
   "cell_type": "code",
   "execution_count": 14,
   "metadata": {},
   "outputs": [],
   "source": [
    "# Extract the labels\n",
    "labels = np.array(df.pop('label'))\n",
    "\n",
    "# 30% examples in test data\n",
    "train, test, train_labels, test_labels = train_test_split(df, labels, \n",
    "                                                          stratify = labels,\n",
    "                                                          test_size = 0.3, \n",
    "                                                          random_state = RSEED)"
   ]
  },
  {
   "cell_type": "code",
   "execution_count": 15,
   "metadata": {},
   "outputs": [
    {
     "data": {
      "text/plain": [
       "0.5000327761389708"
      ]
     },
     "execution_count": 15,
     "metadata": {},
     "output_type": "execute_result"
    }
   ],
   "source": [
    "train_labels.sum()/train_labels.shape[0]"
   ]
  },
  {
   "cell_type": "code",
   "execution_count": 16,
   "metadata": {},
   "outputs": [
    {
     "data": {
      "text/plain": [
       "0.499923535708824"
      ]
     },
     "execution_count": 16,
     "metadata": {},
     "output_type": "execute_result"
    }
   ],
   "source": [
    "test_labels.sum()/test_labels.shape[0]"
   ]
  },
  {
   "cell_type": "code",
   "execution_count": 17,
   "metadata": {},
   "outputs": [
    {
     "name": "stdout",
     "output_type": "stream",
     "text": [
      "Slope\n",
      "False    21794\n",
      "Name: Slope, dtype: int64\n",
      "\n",
      "TermType\n",
      "False    21794\n",
      "Name: TermType, dtype: int64\n",
      "\n",
      "bed\n",
      "False    21794\n",
      "Name: bed, dtype: int64\n",
      "\n",
      "thickness\n",
      "False    21794\n",
      "Name: thickness, dtype: int64\n",
      "\n",
      "surface_elevation\n",
      "False    21794\n",
      "Name: surface_elevation, dtype: int64\n",
      "\n",
      "cmb\n",
      "False    21794\n",
      "Name: cmb, dtype: int64\n",
      "\n",
      "width_centerline\n",
      "False    21794\n",
      "Name: width_centerline, dtype: int64\n",
      "\n",
      "Runoff\n",
      "False    21794\n",
      "Name: Runoff, dtype: int64\n",
      "\n",
      "WH\n",
      "False    21794\n",
      "Name: WH, dtype: int64\n",
      "\n",
      "WHsin\n",
      "False    21794\n",
      "Name: WHsin, dtype: int64\n",
      "\n",
      "dummy\n",
      "False    21794\n",
      "Name: dummy, dtype: int64\n",
      "\n"
     ]
    }
   ],
   "source": [
    "missing_data = df.isna()\n",
    "for column in missing_data.columns.values.tolist():\n",
    "    print(column)\n",
    "    print(missing_data[column].value_counts())\n",
    "    print(\"\")"
   ]
  },
  {
   "cell_type": "code",
   "execution_count": 18,
   "metadata": {},
   "outputs": [
    {
     "data": {
      "text/plain": [
       "0.04996143628417174"
      ]
     },
     "execution_count": 18,
     "metadata": {},
     "output_type": "execute_result"
    }
   ],
   "source": [
    "4081/81683"
   ]
  },
  {
   "cell_type": "code",
   "execution_count": 19,
   "metadata": {},
   "outputs": [
    {
     "data": {
      "text/plain": [
       "['Slope',\n",
       " 'TermType',\n",
       " 'bed',\n",
       " 'thickness',\n",
       " 'surface_elevation',\n",
       " 'cmb',\n",
       " 'width_centerline',\n",
       " 'Runoff',\n",
       " 'WH',\n",
       " 'WHsin',\n",
       " 'dummy']"
      ]
     },
     "execution_count": 19,
     "metadata": {},
     "output_type": "execute_result"
    }
   ],
   "source": [
    "# Features for feature importances\n",
    "features = list(train.columns)\n",
    "features"
   ]
  },
  {
   "cell_type": "code",
   "execution_count": 20,
   "metadata": {},
   "outputs": [
    {
     "data": {
      "text/plain": [
       "(15255, 11)"
      ]
     },
     "execution_count": 20,
     "metadata": {},
     "output_type": "execute_result"
    }
   ],
   "source": [
    "train.shape"
   ]
  },
  {
   "cell_type": "code",
   "execution_count": 21,
   "metadata": {},
   "outputs": [
    {
     "data": {
      "text/plain": [
       "(15255,)"
      ]
     },
     "execution_count": 21,
     "metadata": {},
     "output_type": "execute_result"
    }
   ],
   "source": [
    "train_labels.shape"
   ]
  },
  {
   "cell_type": "code",
   "execution_count": 22,
   "metadata": {},
   "outputs": [
    {
     "data": {
      "text/plain": [
       "(6539, 11)"
      ]
     },
     "execution_count": 22,
     "metadata": {},
     "output_type": "execute_result"
    }
   ],
   "source": [
    "test.shape"
   ]
  },
  {
   "cell_type": "markdown",
   "metadata": {},
   "source": [
    "### Evaluate the decision tree"
   ]
  },
  {
   "cell_type": "code",
   "execution_count": 23,
   "metadata": {},
   "outputs": [],
   "source": [
    "def evaluate_model(predictions, probs, train_predictions, train_probs):\n",
    "    \"\"\"Compare machine learning model to baseline performance.\n",
    "    Computes statistics and shows ROC curve.\"\"\"\n",
    "    \n",
    "    baseline = {}\n",
    "    \n",
    "    baseline['recall'] = recall_score(test_labels, [1 for _ in range(len(test_labels))])\n",
    "    baseline['precision'] = precision_score(test_labels, [1 for _ in range(len(test_labels))])\n",
    "    baseline['roc'] = 0.5\n",
    "    \n",
    "    results = {}\n",
    "    \n",
    "    results['recall'] = recall_score(test_labels, predictions)\n",
    "    results['precision'] = precision_score(test_labels, predictions)\n",
    "    results['roc'] = roc_auc_score(test_labels, probs)\n",
    "    \n",
    "    train_results = {}\n",
    "    train_results['recall'] = recall_score(train_labels, train_predictions)\n",
    "    train_results['precision'] = precision_score(train_labels, train_predictions)\n",
    "    train_results['roc'] = roc_auc_score(train_labels, train_probs)\n",
    "    \n",
    "    for metric in ['recall', 'precision', 'roc']:\n",
    "        print(f'{metric.capitalize()} Baseline: {round(baseline[metric], 2)} Test: {round(results[metric], 2)} Train: {round(train_results[metric], 2)}')\n",
    "    \n",
    "    # Calculate false positive rates and true positive rates\n",
    "    base_fpr, base_tpr, _ = roc_curve(test_labels, [1 for _ in range(len(test_labels))])\n",
    "    model_fpr, model_tpr, _ = roc_curve(test_labels, probs)\n",
    "\n",
    "    plt.figure(figsize = (8, 6))\n",
    "    plt.rcParams['font.size'] = 16\n",
    "    \n",
    "    # Plot both curves\n",
    "    plt.plot(base_fpr, base_tpr, 'k', label = 'baseline')\n",
    "    plt.plot(model_fpr, model_tpr, 'm', label = 'model')\n",
    "    plt.text(s = 'AUC = ' + str(round(roc_auc_score(train_labels, train_probs),2))\n",
    "    , x=0.6, y=0.0, fontsize=15\n",
    ")\n",
    "    plt.legend();\n",
    "    plt.xlabel('False Positive Rate'); plt.ylabel('True Positive Rate'); plt.title('ROC Curves');"
   ]
  },
  {
   "cell_type": "markdown",
   "metadata": {},
   "source": [
    "# Logistic regression"
   ]
  },
  {
   "cell_type": "code",
   "execution_count": 47,
   "metadata": {},
   "outputs": [],
   "source": [
    "from sklearn.linear_model import LogisticRegression\n",
    "from sklearn.model_selection import GridSearchCV\n",
    "from sklearn.metrics import mean_absolute_error"
   ]
  },
  {
   "cell_type": "code",
   "execution_count": 28,
   "metadata": {},
   "outputs": [],
   "source": [
    "param_grid = [\n",
    "    {'classifier' : [LogisticRegression()],\n",
    "     'classifier__penalty' : ['l1', 'l2'],\n",
    "    'classifier__C' : np.logspace(-4, 4, 20),\n",
    "    'classifier__solver' : ['liblinear']}\n",
    "    ]"
   ]
  },
  {
   "cell_type": "code",
   "execution_count": 36,
   "metadata": {},
   "outputs": [],
   "source": [
    "# grid={\"C\":np.logspace(-3,3,7), \"penalty\":[\"l1\",\"l2\"]}# l1 lasso l2 ridge\n",
    "grid={\"C\":np.arange(1e-5, 1e+5, 10), \"penalty\":[\"l1\",\"l2\", 'elasticnet']}# l1 lasso l2 ridge\n",
    "logreg=LogisticRegression()\n",
    "logreg_cv=GridSearchCV(logreg,grid,cv=10, verbose=True, n_jobs=-1)"
   ]
  },
  {
   "cell_type": "code",
   "execution_count": 37,
   "metadata": {},
   "outputs": [
    {
     "name": "stdout",
     "output_type": "stream",
     "text": [
      "Fitting 10 folds for each of 30000 candidates, totalling 300000 fits\n"
     ]
    },
    {
     "name": "stderr",
     "output_type": "stream",
     "text": [
      "/home/colili/anaconda3/lib/python3.8/site-packages/sklearn/model_selection/_search.py:918: UserWarning: One or more of the test scores are non-finite: [       nan 0.69026543        nan ...        nan 0.68803734        nan]\n",
      "  warnings.warn(\n"
     ]
    },
    {
     "name": "stdout",
     "output_type": "stream",
     "text": [
      "tuned hpyerparameters :(best parameters)  {'C': 1e-05, 'penalty': 'l2'}\n",
      "accuracy : 0.6902654319661389\n"
     ]
    }
   ],
   "source": [
    "logreg_cv.fit(train, train_labels)\n",
    "print(\"tuned hpyerparameters :(best parameters) \",logreg_cv.best_params_)\n",
    "print(\"accuracy :\",logreg_cv.best_score_)"
   ]
  },
  {
   "cell_type": "code",
   "execution_count": 44,
   "metadata": {},
   "outputs": [
    {
     "data": {
      "text/plain": [
       "LogisticRegression(C=1e-05)"
      ]
     },
     "execution_count": 44,
     "metadata": {},
     "output_type": "execute_result"
    }
   ],
   "source": [
    "logreg = LogisticRegression(C=1e-05, penalty='l2')\n",
    "logreg.fit(train, train_labels)"
   ]
  },
  {
   "cell_type": "code",
   "execution_count": 45,
   "metadata": {},
   "outputs": [
    {
     "name": "stdout",
     "output_type": "stream",
     "text": [
      "Accuracy of logistic regression classifier on test set: 0.69\n"
     ]
    }
   ],
   "source": [
    "predictions_LR = logreg.predict(test)\n",
    "probs_LR = logreg.predict_proba(test)[:, 1]\n",
    "print('Accuracy of logistic regression classifier on test set: {:.2f}'.format(logreg.score(test, test_labels)))"
   ]
  },
  {
   "cell_type": "code",
   "execution_count": 58,
   "metadata": {},
   "outputs": [
    {
     "data": {
      "text/plain": [
       "(21794, 11)"
      ]
     },
     "execution_count": 58,
     "metadata": {},
     "output_type": "execute_result"
    }
   ],
   "source": [
    "df.shape"
   ]
  },
  {
   "cell_type": "code",
   "execution_count": 52,
   "metadata": {},
   "outputs": [
    {
     "data": {
      "text/plain": [
       "(6539,)"
      ]
     },
     "execution_count": 52,
     "metadata": {},
     "output_type": "execute_result"
    }
   ],
   "source": [
    "test_labels.shape"
   ]
  },
  {
   "cell_type": "code",
   "execution_count": 50,
   "metadata": {},
   "outputs": [
    {
     "ename": "ValueError",
     "evalue": "y_true and y_pred have different number of output (11!=1)",
     "output_type": "error",
     "traceback": [
      "\u001b[0;31m---------------------------------------------------------------------------\u001b[0m",
      "\u001b[0;31mValueError\u001b[0m                                Traceback (most recent call last)",
      "\u001b[0;32m<ipython-input-50-8e2bb65b9e83>\u001b[0m in \u001b[0;36m<module>\u001b[0;34m\u001b[0m\n\u001b[0;32m----> 1\u001b[0;31m \u001b[0mMAE\u001b[0m \u001b[0;34m=\u001b[0m \u001b[0mmean_absolute_error\u001b[0m\u001b[0;34m(\u001b[0m\u001b[0mtest\u001b[0m\u001b[0;34m,\u001b[0m \u001b[0mtest_labels\u001b[0m\u001b[0;34m)\u001b[0m\u001b[0;34m\u001b[0m\u001b[0;34m\u001b[0m\u001b[0m\n\u001b[0m",
      "\u001b[0;32m~/anaconda3/lib/python3.8/site-packages/sklearn/utils/validation.py\u001b[0m in \u001b[0;36minner_f\u001b[0;34m(*args, **kwargs)\u001b[0m\n\u001b[1;32m     61\u001b[0m             \u001b[0mextra_args\u001b[0m \u001b[0;34m=\u001b[0m \u001b[0mlen\u001b[0m\u001b[0;34m(\u001b[0m\u001b[0margs\u001b[0m\u001b[0;34m)\u001b[0m \u001b[0;34m-\u001b[0m \u001b[0mlen\u001b[0m\u001b[0;34m(\u001b[0m\u001b[0mall_args\u001b[0m\u001b[0;34m)\u001b[0m\u001b[0;34m\u001b[0m\u001b[0;34m\u001b[0m\u001b[0m\n\u001b[1;32m     62\u001b[0m             \u001b[0;32mif\u001b[0m \u001b[0mextra_args\u001b[0m \u001b[0;34m<=\u001b[0m \u001b[0;36m0\u001b[0m\u001b[0;34m:\u001b[0m\u001b[0;34m\u001b[0m\u001b[0;34m\u001b[0m\u001b[0m\n\u001b[0;32m---> 63\u001b[0;31m                 \u001b[0;32mreturn\u001b[0m \u001b[0mf\u001b[0m\u001b[0;34m(\u001b[0m\u001b[0;34m*\u001b[0m\u001b[0margs\u001b[0m\u001b[0;34m,\u001b[0m \u001b[0;34m**\u001b[0m\u001b[0mkwargs\u001b[0m\u001b[0;34m)\u001b[0m\u001b[0;34m\u001b[0m\u001b[0;34m\u001b[0m\u001b[0m\n\u001b[0m\u001b[1;32m     64\u001b[0m \u001b[0;34m\u001b[0m\u001b[0m\n\u001b[1;32m     65\u001b[0m             \u001b[0;31m# extra_args > 0\u001b[0m\u001b[0;34m\u001b[0m\u001b[0;34m\u001b[0m\u001b[0;34m\u001b[0m\u001b[0m\n",
      "\u001b[0;32m~/anaconda3/lib/python3.8/site-packages/sklearn/metrics/_regression.py\u001b[0m in \u001b[0;36mmean_absolute_error\u001b[0;34m(y_true, y_pred, sample_weight, multioutput)\u001b[0m\n\u001b[1;32m    180\u001b[0m     \u001b[0;36m0.85\u001b[0m\u001b[0;34m...\u001b[0m\u001b[0;34m\u001b[0m\u001b[0;34m\u001b[0m\u001b[0m\n\u001b[1;32m    181\u001b[0m     \"\"\"\n\u001b[0;32m--> 182\u001b[0;31m     y_type, y_true, y_pred, multioutput = _check_reg_targets(\n\u001b[0m\u001b[1;32m    183\u001b[0m         y_true, y_pred, multioutput)\n\u001b[1;32m    184\u001b[0m     \u001b[0mcheck_consistent_length\u001b[0m\u001b[0;34m(\u001b[0m\u001b[0my_true\u001b[0m\u001b[0;34m,\u001b[0m \u001b[0my_pred\u001b[0m\u001b[0;34m,\u001b[0m \u001b[0msample_weight\u001b[0m\u001b[0;34m)\u001b[0m\u001b[0;34m\u001b[0m\u001b[0;34m\u001b[0m\u001b[0m\n",
      "\u001b[0;32m~/anaconda3/lib/python3.8/site-packages/sklearn/metrics/_regression.py\u001b[0m in \u001b[0;36m_check_reg_targets\u001b[0;34m(y_true, y_pred, multioutput, dtype)\u001b[0m\n\u001b[1;32m     97\u001b[0m \u001b[0;34m\u001b[0m\u001b[0m\n\u001b[1;32m     98\u001b[0m     \u001b[0;32mif\u001b[0m \u001b[0my_true\u001b[0m\u001b[0;34m.\u001b[0m\u001b[0mshape\u001b[0m\u001b[0;34m[\u001b[0m\u001b[0;36m1\u001b[0m\u001b[0;34m]\u001b[0m \u001b[0;34m!=\u001b[0m \u001b[0my_pred\u001b[0m\u001b[0;34m.\u001b[0m\u001b[0mshape\u001b[0m\u001b[0;34m[\u001b[0m\u001b[0;36m1\u001b[0m\u001b[0;34m]\u001b[0m\u001b[0;34m:\u001b[0m\u001b[0;34m\u001b[0m\u001b[0;34m\u001b[0m\u001b[0m\n\u001b[0;32m---> 99\u001b[0;31m         raise ValueError(\"y_true and y_pred have different number of output \"\n\u001b[0m\u001b[1;32m    100\u001b[0m                          \"({0}!={1})\".format(y_true.shape[1], y_pred.shape[1]))\n\u001b[1;32m    101\u001b[0m \u001b[0;34m\u001b[0m\u001b[0m\n",
      "\u001b[0;31mValueError\u001b[0m: y_true and y_pred have different number of output (11!=1)"
     ]
    }
   ],
   "source": [
    "MAE = mean_absolute_error(test, test_labels)"
   ]
  },
  {
   "cell_type": "code",
   "execution_count": 53,
   "metadata": {},
   "outputs": [
    {
     "data": {
      "text/plain": [
       "3269"
      ]
     },
     "execution_count": 53,
     "metadata": {},
     "output_type": "execute_result"
    }
   ],
   "source": [
    "test_labels.sum()"
   ]
  },
  {
   "cell_type": "code",
   "execution_count": 54,
   "metadata": {},
   "outputs": [],
   "source": [
    "pd.DataFrame({'true':test_labels, 'predictions':predictions_LR, 'prob':probs_LR}).to_csv('/home/colili/Documents/PhD/project_john/DataFrame_produced/ROC_curve/df_compare_roc_LR_centerline_resample_area.csv')"
   ]
  },
  {
   "cell_type": "code",
   "execution_count": 46,
   "metadata": {},
   "outputs": [
    {
     "data": {
      "image/png": "[encoded data removed]",
      "text/plain": [
       "<Figure size 648x576 with 1 Axes>"
      ]
     },
     "metadata": {
      "needs_background": "light"
     },
     "output_type": "display_data"
    }
   ],
   "source": [
    "logit_roc_auc = roc_auc_score(test_labels, logreg.predict_proba(test)[:,1])\n",
    "fpr, tpr, thresholds = roc_curve(test_labels, logreg.predict_proba(test)[:,1])\n",
    "plt.figure(figsize=(9, 8))\n",
    "plt.plot(fpr, tpr, 'g', label='AUC = %0.2f' % logit_roc_auc)\n",
    "plt.plot([0, 1], [0, 1], 'k')\n",
    "# # plt.xlim([0.0, 1.0])\n",
    "# plt.ylim([0.0, 1.05])\n",
    "plt.xlabel('False Positive Rate')\n",
    "plt.ylabel('True Positive Rate')\n",
    "plt.title('ROC Logistic regression')\n",
    "plt.legend(loc=\"lower right\")\n",
    "# plt.savefig('Log_ROC')\n",
    "plt.show()"
   ]
  },
  {
   "cell_type": "code",
   "execution_count": 56,
   "metadata": {},
   "outputs": [
    {
     "name": "stdout",
     "output_type": "stream",
     "text": [
      "<function confusion_matrix at 0x7ff3ef8cdaf0>\n",
      "Confusion matrix, without normalization\n",
      "[[35 14]\n",
      " [16 33]]\n"
     ]
    },
    {
     "data": {
      "image/png": "[encoded data removed]",
      "text/plain": [
       "<Figure size 720x720 with 2 Axes>"
      ]
     },
     "metadata": {
      "needs_background": "light"
     },
     "output_type": "display_data"
    }
   ],
   "source": [
    "from sklearn.metrics import confusion_matrix\n",
    "cm_LR = confusion_matrix(test_labels, predictions_LR)\n",
    "print(confusion_matrix)\n",
    "plot_confusion_matrix((cm_LR/test_labels.shape*100).astype(int), classes = ['Surge', 'Non-surge'],\n",
    "                      title = 'Confusion Matrix Logistic Regression', cmap='Greens')"
   ]
  },
  {
   "cell_type": "code",
   "execution_count": 57,
   "metadata": {},
   "outputs": [
    {
     "name": "stdout",
     "output_type": "stream",
     "text": [
      "Average precision-recall score: 0.63\n"
     ]
    }
   ],
   "source": [
    "average_precision_LR = average_precision_score(test_labels, predictions_LR)\n",
    "\n",
    "print('Average precision-recall score: {0:0.2f}'.format(\n",
    "      average_precision_LR))"
   ]
  },
  {
   "cell_type": "code",
   "execution_count": 58,
   "metadata": {},
   "outputs": [
    {
     "data": {
      "text/plain": [
       "Text(0.5, 1.0, '2-class Precision-Recall curve RF: AP=0.63')"
      ]
     },
     "execution_count": 58,
     "metadata": {},
     "output_type": "execute_result"
    },
    {
     "data": {
      "image/png": "[encoded data removed]",
      "text/plain": [
       "<Figure size 432x288 with 1 Axes>"
      ]
     },
     "metadata": {
      "needs_background": "light"
     },
     "output_type": "display_data"
    }
   ],
   "source": [
    "disp_lr = plot_precision_recall_curve(logreg, test, test_labels)\n",
    "disp_lr.ax_.set_title('2-class Precision-Recall curve RF: '\n",
    "                   'AP={0:0.2f}'.format(average_precision_LR))"
   ]
  }
 ],
 "metadata": {
  "kernelspec": {
   "display_name": "Python 3",
   "language": "python",
   "name": "python3"
  },
  "language_info": {
   "codemirror_mode": {
    "name": "ipython",
    "version": 3
   },
   "file_extension": ".py",
   "mimetype": "text/x-python",
   "name": "python",
   "nbconvert_exporter": "python",
   "pygments_lexer": "ipython3",
   "version": "3.8.8"
  }
 },
 "nbformat": 4,
 "nbformat_minor": 4
}
