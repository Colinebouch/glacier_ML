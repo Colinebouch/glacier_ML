{
 "cells": [
  {
   "cell_type": "markdown",
   "metadata": {},
   "source": [
    "Theory : https://towardsdatascience.com/understanding-random-forest-58381e0602d2\n",
    "\n",
    "Examples : https://towardsdatascience.com/an-implementation-and-explanation-of-the-random-forest-in-python-77bf308a9b76"
   ]
  },
  {
   "cell_type": "markdown",
   "metadata": {},
   "source": [
    "# Probability of surges"
   ]
  },
  {
   "cell_type": "code",
   "execution_count": 1,
   "metadata": {},
   "outputs": [],
   "source": [
    "import numpy as np\n",
    "import pandas as pd\n",
    "from sklearn.model_selection import train_test_split\n",
    "from sklearn.tree import DecisionTreeClassifier\n",
    "from sklearn.metrics import precision_score, recall_score, roc_auc_score, roc_curve\n",
    "\n",
    "import cartopy\n",
    "import cartopy.crs as ccrs\n",
    "from cartopy.mpl.gridliner import LONGITUDE_FORMATTER, LATITUDE_FORMATTER\n",
    "\n",
    "import geopandas as gpd\n",
    "from shapely.geometry import Polygon\n",
    "\n",
    "import matplotlib.pyplot as plt\n",
    "\n",
    "from sklearn.utils import resample"
   ]
  },
  {
   "cell_type": "markdown",
   "metadata": {},
   "source": [
    "### Set random seed to ensure reproducible runs"
   ]
  },
  {
   "cell_type": "code",
   "execution_count": 2,
   "metadata": {},
   "outputs": [],
   "source": [
    "RSEED = 50"
   ]
  },
  {
   "cell_type": "markdown",
   "metadata": {},
   "source": [
    "### Importing data and data cleaning"
   ]
  },
  {
   "cell_type": "code",
   "execution_count": 3,
   "metadata": {},
   "outputs": [
    {
     "data": {
      "text/html": [
       "<div>\n",
       "<style scoped>\n",
       "    .dataframe tbody tr th:only-of-type {\n",
       "        vertical-align: middle;\n",
       "    }\n",
       "\n",
       "    .dataframe tbody tr th {\n",
       "        vertical-align: top;\n",
       "    }\n",
       "\n",
       "    .dataframe thead th {\n",
       "        text-align: right;\n",
       "    }\n",
       "</style>\n",
       "<table border=\"1\" class=\"dataframe\">\n",
       "  <thead>\n",
       "    <tr style=\"text-align: right;\">\n",
       "      <th></th>\n",
       "      <th></th>\n",
       "      <th></th>\n",
       "      <th>Unnamed: 0</th>\n",
       "      <th>Surge</th>\n",
       "      <th>Area</th>\n",
       "      <th>Slope</th>\n",
       "      <th>TermType</th>\n",
       "      <th>Name</th>\n",
       "      <th>bed</th>\n",
       "      <th>thickness</th>\n",
       "      <th>surface_elevation</th>\n",
       "      <th>ELA</th>\n",
       "      <th>beta</th>\n",
       "      <th>cmb</th>\n",
       "      <th>width_centerline</th>\n",
       "      <th>Runoff</th>\n",
       "    </tr>\n",
       "    <tr>\n",
       "      <th>rgiid</th>\n",
       "      <th>x</th>\n",
       "      <th>y</th>\n",
       "      <th></th>\n",
       "      <th></th>\n",
       "      <th></th>\n",
       "      <th></th>\n",
       "      <th></th>\n",
       "      <th></th>\n",
       "      <th></th>\n",
       "      <th></th>\n",
       "      <th></th>\n",
       "      <th></th>\n",
       "      <th></th>\n",
       "      <th></th>\n",
       "      <th></th>\n",
       "      <th></th>\n",
       "    </tr>\n",
       "  </thead>\n",
       "  <tbody>\n",
       "    <tr>\n",
       "      <th rowspan=\"5\" valign=\"top\">RGI60-07.00004</th>\n",
       "      <th>524657.521964</th>\n",
       "      <th>8.539931e+06</th>\n",
       "      <td>206</td>\n",
       "      <td>0</td>\n",
       "      <td>1.044</td>\n",
       "      <td>13.8</td>\n",
       "      <td>0</td>\n",
       "      <td>NaN</td>\n",
       "      <td>889.68555</td>\n",
       "      <td>25.314478</td>\n",
       "      <td>915.00000</td>\n",
       "      <td>432.103017</td>\n",
       "      <td>0.005069</td>\n",
       "      <td>1.392706</td>\n",
       "      <td>279.780932</td>\n",
       "      <td>1.100061</td>\n",
       "    </tr>\n",
       "    <tr>\n",
       "      <th>524681.113471</th>\n",
       "      <th>8.539955e+06</th>\n",
       "      <td>207</td>\n",
       "      <td>0</td>\n",
       "      <td>1.044</td>\n",
       "      <td>13.8</td>\n",
       "      <td>0</td>\n",
       "      <td>NaN</td>\n",
       "      <td>882.06460</td>\n",
       "      <td>30.935455</td>\n",
       "      <td>913.00000</td>\n",
       "      <td>432.421537</td>\n",
       "      <td>0.005068</td>\n",
       "      <td>1.391001</td>\n",
       "      <td>295.980219</td>\n",
       "      <td>1.094416</td>\n",
       "    </tr>\n",
       "    <tr>\n",
       "      <th>524704.704977</th>\n",
       "      <th>8.539980e+06</th>\n",
       "      <td>208</td>\n",
       "      <td>0</td>\n",
       "      <td>1.044</td>\n",
       "      <td>13.8</td>\n",
       "      <td>0</td>\n",
       "      <td>NaN</td>\n",
       "      <td>882.06460</td>\n",
       "      <td>30.935455</td>\n",
       "      <td>913.00000</td>\n",
       "      <td>432.740057</td>\n",
       "      <td>0.005068</td>\n",
       "      <td>1.389296</td>\n",
       "      <td>330.851846</td>\n",
       "      <td>1.088771</td>\n",
       "    </tr>\n",
       "    <tr>\n",
       "      <th>524728.296484</th>\n",
       "      <th>8.540004e+06</th>\n",
       "      <td>209</td>\n",
       "      <td>0</td>\n",
       "      <td>1.044</td>\n",
       "      <td>13.8</td>\n",
       "      <td>0</td>\n",
       "      <td>NaN</td>\n",
       "      <td>882.06460</td>\n",
       "      <td>30.935455</td>\n",
       "      <td>913.00000</td>\n",
       "      <td>433.058576</td>\n",
       "      <td>0.005067</td>\n",
       "      <td>1.387591</td>\n",
       "      <td>342.886985</td>\n",
       "      <td>1.083127</td>\n",
       "    </tr>\n",
       "    <tr>\n",
       "      <th>524751.887990</th>\n",
       "      <th>8.540028e+06</th>\n",
       "      <td>210</td>\n",
       "      <td>0</td>\n",
       "      <td>1.044</td>\n",
       "      <td>13.8</td>\n",
       "      <td>0</td>\n",
       "      <td>NaN</td>\n",
       "      <td>881.31860</td>\n",
       "      <td>34.681380</td>\n",
       "      <td>916.00000</td>\n",
       "      <td>433.377096</td>\n",
       "      <td>0.005067</td>\n",
       "      <td>1.385886</td>\n",
       "      <td>336.403639</td>\n",
       "      <td>1.077530</td>\n",
       "    </tr>\n",
       "    <tr>\n",
       "      <th>...</th>\n",
       "      <th>...</th>\n",
       "      <th>...</th>\n",
       "      <td>...</td>\n",
       "      <td>...</td>\n",
       "      <td>...</td>\n",
       "      <td>...</td>\n",
       "      <td>...</td>\n",
       "      <td>...</td>\n",
       "      <td>...</td>\n",
       "      <td>...</td>\n",
       "      <td>...</td>\n",
       "      <td>...</td>\n",
       "      <td>...</td>\n",
       "      <td>...</td>\n",
       "      <td>...</td>\n",
       "      <td>...</td>\n",
       "    </tr>\n",
       "    <tr>\n",
       "      <th rowspan=\"5\" valign=\"top\">RGI60-07.01567</th>\n",
       "      <th>534269.488654</th>\n",
       "      <th>8.675206e+06</th>\n",
       "      <td>130984</td>\n",
       "      <td>3</td>\n",
       "      <td>5.350</td>\n",
       "      <td>11.7</td>\n",
       "      <td>0</td>\n",
       "      <td>Moeysalbreen</td>\n",
       "      <td>237.64468</td>\n",
       "      <td>50.380424</td>\n",
       "      <td>288.02512</td>\n",
       "      <td>627.625366</td>\n",
       "      <td>0.004612</td>\n",
       "      <td>-1.412920</td>\n",
       "      <td>278.553621</td>\n",
       "      <td>2.123592</td>\n",
       "    </tr>\n",
       "    <tr>\n",
       "      <th>534310.362510</th>\n",
       "      <th>8.675249e+06</th>\n",
       "      <td>130985</td>\n",
       "      <td>3</td>\n",
       "      <td>5.350</td>\n",
       "      <td>11.7</td>\n",
       "      <td>0</td>\n",
       "      <td>Moeysalbreen</td>\n",
       "      <td>233.07228</td>\n",
       "      <td>46.717087</td>\n",
       "      <td>279.78937</td>\n",
       "      <td>627.625366</td>\n",
       "      <td>0.004614</td>\n",
       "      <td>-1.423469</td>\n",
       "      <td>256.755923</td>\n",
       "      <td>2.127417</td>\n",
       "    </tr>\n",
       "    <tr>\n",
       "      <th>534309.250485</th>\n",
       "      <th>8.675291e+06</th>\n",
       "      <td>130986</td>\n",
       "      <td>3</td>\n",
       "      <td>5.350</td>\n",
       "      <td>11.7</td>\n",
       "      <td>0</td>\n",
       "      <td>Moeysalbreen</td>\n",
       "      <td>233.07228</td>\n",
       "      <td>46.717087</td>\n",
       "      <td>279.78937</td>\n",
       "      <td>627.625366</td>\n",
       "      <td>0.004618</td>\n",
       "      <td>-1.395654</td>\n",
       "      <td>238.477978</td>\n",
       "      <td>2.076787</td>\n",
       "    </tr>\n",
       "    <tr>\n",
       "      <th>534308.138459</th>\n",
       "      <th>8.675333e+06</th>\n",
       "      <td>130987</td>\n",
       "      <td>3</td>\n",
       "      <td>5.350</td>\n",
       "      <td>11.7</td>\n",
       "      <td>0</td>\n",
       "      <td>Moeysalbreen</td>\n",
       "      <td>233.18828</td>\n",
       "      <td>47.159560</td>\n",
       "      <td>280.34784</td>\n",
       "      <td>627.625366</td>\n",
       "      <td>0.004620</td>\n",
       "      <td>-1.382369</td>\n",
       "      <td>226.342325</td>\n",
       "      <td>2.005969</td>\n",
       "    </tr>\n",
       "    <tr>\n",
       "      <th>534307.026431</th>\n",
       "      <th>8.675375e+06</th>\n",
       "      <td>130988</td>\n",
       "      <td>3</td>\n",
       "      <td>5.350</td>\n",
       "      <td>11.7</td>\n",
       "      <td>0</td>\n",
       "      <td>Moeysalbreen</td>\n",
       "      <td>233.18828</td>\n",
       "      <td>47.159560</td>\n",
       "      <td>280.34784</td>\n",
       "      <td>627.625366</td>\n",
       "      <td>0.004621</td>\n",
       "      <td>-1.369084</td>\n",
       "      <td>215.631320</td>\n",
       "      <td>1.935151</td>\n",
       "    </tr>\n",
       "  </tbody>\n",
       "</table>\n",
       "<p>94234 rows × 14 columns</p>\n",
       "</div>"
      ],
      "text/plain": [
       "                                           Unnamed: 0  Surge   Area  Slope  \\\n",
       "rgiid          x             y                                               \n",
       "RGI60-07.00004 524657.521964 8.539931e+06         206      0  1.044   13.8   \n",
       "               524681.113471 8.539955e+06         207      0  1.044   13.8   \n",
       "               524704.704977 8.539980e+06         208      0  1.044   13.8   \n",
       "               524728.296484 8.540004e+06         209      0  1.044   13.8   \n",
       "               524751.887990 8.540028e+06         210      0  1.044   13.8   \n",
       "...                                               ...    ...    ...    ...   \n",
       "RGI60-07.01567 534269.488654 8.675206e+06      130984      3  5.350   11.7   \n",
       "               534310.362510 8.675249e+06      130985      3  5.350   11.7   \n",
       "               534309.250485 8.675291e+06      130986      3  5.350   11.7   \n",
       "               534308.138459 8.675333e+06      130987      3  5.350   11.7   \n",
       "               534307.026431 8.675375e+06      130988      3  5.350   11.7   \n",
       "\n",
       "                                           TermType          Name        bed  \\\n",
       "rgiid          x             y                                                 \n",
       "RGI60-07.00004 524657.521964 8.539931e+06         0           NaN  889.68555   \n",
       "               524681.113471 8.539955e+06         0           NaN  882.06460   \n",
       "               524704.704977 8.539980e+06         0           NaN  882.06460   \n",
       "               524728.296484 8.540004e+06         0           NaN  882.06460   \n",
       "               524751.887990 8.540028e+06         0           NaN  881.31860   \n",
       "...                                             ...           ...        ...   \n",
       "RGI60-07.01567 534269.488654 8.675206e+06         0  Moeysalbreen  237.64468   \n",
       "               534310.362510 8.675249e+06         0  Moeysalbreen  233.07228   \n",
       "               534309.250485 8.675291e+06         0  Moeysalbreen  233.07228   \n",
       "               534308.138459 8.675333e+06         0  Moeysalbreen  233.18828   \n",
       "               534307.026431 8.675375e+06         0  Moeysalbreen  233.18828   \n",
       "\n",
       "                                           thickness  surface_elevation  \\\n",
       "rgiid          x             y                                            \n",
       "RGI60-07.00004 524657.521964 8.539931e+06  25.314478          915.00000   \n",
       "               524681.113471 8.539955e+06  30.935455          913.00000   \n",
       "               524704.704977 8.539980e+06  30.935455          913.00000   \n",
       "               524728.296484 8.540004e+06  30.935455          913.00000   \n",
       "               524751.887990 8.540028e+06  34.681380          916.00000   \n",
       "...                                              ...                ...   \n",
       "RGI60-07.01567 534269.488654 8.675206e+06  50.380424          288.02512   \n",
       "               534310.362510 8.675249e+06  46.717087          279.78937   \n",
       "               534309.250485 8.675291e+06  46.717087          279.78937   \n",
       "               534308.138459 8.675333e+06  47.159560          280.34784   \n",
       "               534307.026431 8.675375e+06  47.159560          280.34784   \n",
       "\n",
       "                                                  ELA      beta       cmb  \\\n",
       "rgiid          x             y                                              \n",
       "RGI60-07.00004 524657.521964 8.539931e+06  432.103017  0.005069  1.392706   \n",
       "               524681.113471 8.539955e+06  432.421537  0.005068  1.391001   \n",
       "               524704.704977 8.539980e+06  432.740057  0.005068  1.389296   \n",
       "               524728.296484 8.540004e+06  433.058576  0.005067  1.387591   \n",
       "               524751.887990 8.540028e+06  433.377096  0.005067  1.385886   \n",
       "...                                               ...       ...       ...   \n",
       "RGI60-07.01567 534269.488654 8.675206e+06  627.625366  0.004612 -1.412920   \n",
       "               534310.362510 8.675249e+06  627.625366  0.004614 -1.423469   \n",
       "               534309.250485 8.675291e+06  627.625366  0.004618 -1.395654   \n",
       "               534308.138459 8.675333e+06  627.625366  0.004620 -1.382369   \n",
       "               534307.026431 8.675375e+06  627.625366  0.004621 -1.369084   \n",
       "\n",
       "                                           width_centerline    Runoff  \n",
       "rgiid          x             y                                         \n",
       "RGI60-07.00004 524657.521964 8.539931e+06        279.780932  1.100061  \n",
       "               524681.113471 8.539955e+06        295.980219  1.094416  \n",
       "               524704.704977 8.539980e+06        330.851846  1.088771  \n",
       "               524728.296484 8.540004e+06        342.886985  1.083127  \n",
       "               524751.887990 8.540028e+06        336.403639  1.077530  \n",
       "...                                                     ...       ...  \n",
       "RGI60-07.01567 534269.488654 8.675206e+06        278.553621  2.123592  \n",
       "               534310.362510 8.675249e+06        256.755923  2.127417  \n",
       "               534309.250485 8.675291e+06        238.477978  2.076787  \n",
       "               534308.138459 8.675333e+06        226.342325  2.005969  \n",
       "               534307.026431 8.675375e+06        215.631320  1.935151  \n",
       "\n",
       "[94234 rows x 14 columns]"
      ]
     },
     "execution_count": 3,
     "metadata": {},
     "output_type": "execute_result"
    }
   ],
   "source": [
    "df_main = pd.read_csv('/home/colili/Documents/PhD/project_john/DataFrame_produced/df_main.csv', index_col=['rgiid', 'x', 'y'])\n",
    "df_main"
   ]
  },
  {
   "cell_type": "code",
   "execution_count": 4,
   "metadata": {},
   "outputs": [
    {
     "data": {
      "text/html": [
       "<div>\n",
       "<style scoped>\n",
       "    .dataframe tbody tr th:only-of-type {\n",
       "        vertical-align: middle;\n",
       "    }\n",
       "\n",
       "    .dataframe tbody tr th {\n",
       "        vertical-align: top;\n",
       "    }\n",
       "\n",
       "    .dataframe thead th {\n",
       "        text-align: right;\n",
       "    }\n",
       "</style>\n",
       "<table border=\"1\" class=\"dataframe\">\n",
       "  <thead>\n",
       "    <tr style=\"text-align: right;\">\n",
       "      <th></th>\n",
       "      <th></th>\n",
       "      <th></th>\n",
       "      <th>Unnamed: 0</th>\n",
       "      <th>Surge</th>\n",
       "      <th>Area</th>\n",
       "      <th>Slope</th>\n",
       "      <th>TermType</th>\n",
       "      <th>Name</th>\n",
       "      <th>bed</th>\n",
       "      <th>thickness</th>\n",
       "      <th>surface_elevation</th>\n",
       "      <th>ELA</th>\n",
       "      <th>beta</th>\n",
       "      <th>cmb</th>\n",
       "      <th>width_centerline</th>\n",
       "      <th>Runoff</th>\n",
       "      <th>SMB_calc</th>\n",
       "    </tr>\n",
       "    <tr>\n",
       "      <th>rgiid</th>\n",
       "      <th>x</th>\n",
       "      <th>y</th>\n",
       "      <th></th>\n",
       "      <th></th>\n",
       "      <th></th>\n",
       "      <th></th>\n",
       "      <th></th>\n",
       "      <th></th>\n",
       "      <th></th>\n",
       "      <th></th>\n",
       "      <th></th>\n",
       "      <th></th>\n",
       "      <th></th>\n",
       "      <th></th>\n",
       "      <th></th>\n",
       "      <th></th>\n",
       "      <th></th>\n",
       "    </tr>\n",
       "  </thead>\n",
       "  <tbody>\n",
       "    <tr>\n",
       "      <th rowspan=\"5\" valign=\"top\">RGI60-07.00004</th>\n",
       "      <th>524657.521964</th>\n",
       "      <th>8.539931e+06</th>\n",
       "      <td>206</td>\n",
       "      <td>0</td>\n",
       "      <td>1.044</td>\n",
       "      <td>13.8</td>\n",
       "      <td>0</td>\n",
       "      <td>NaN</td>\n",
       "      <td>889.68555</td>\n",
       "      <td>25.314478</td>\n",
       "      <td>915.00000</td>\n",
       "      <td>432.103017</td>\n",
       "      <td>0.005069</td>\n",
       "      <td>1.392706</td>\n",
       "      <td>279.780932</td>\n",
       "      <td>1.100061</td>\n",
       "      <td>2.447634</td>\n",
       "    </tr>\n",
       "    <tr>\n",
       "      <th>524681.113471</th>\n",
       "      <th>8.539955e+06</th>\n",
       "      <td>207</td>\n",
       "      <td>0</td>\n",
       "      <td>1.044</td>\n",
       "      <td>13.8</td>\n",
       "      <td>0</td>\n",
       "      <td>NaN</td>\n",
       "      <td>882.06460</td>\n",
       "      <td>30.935455</td>\n",
       "      <td>913.00000</td>\n",
       "      <td>432.421537</td>\n",
       "      <td>0.005068</td>\n",
       "      <td>1.391001</td>\n",
       "      <td>295.980219</td>\n",
       "      <td>1.094416</td>\n",
       "      <td>2.435692</td>\n",
       "    </tr>\n",
       "    <tr>\n",
       "      <th>524704.704977</th>\n",
       "      <th>8.539980e+06</th>\n",
       "      <td>208</td>\n",
       "      <td>0</td>\n",
       "      <td>1.044</td>\n",
       "      <td>13.8</td>\n",
       "      <td>0</td>\n",
       "      <td>NaN</td>\n",
       "      <td>882.06460</td>\n",
       "      <td>30.935455</td>\n",
       "      <td>913.00000</td>\n",
       "      <td>432.740057</td>\n",
       "      <td>0.005068</td>\n",
       "      <td>1.389296</td>\n",
       "      <td>330.851846</td>\n",
       "      <td>1.088771</td>\n",
       "      <td>2.433887</td>\n",
       "    </tr>\n",
       "    <tr>\n",
       "      <th>524728.296484</th>\n",
       "      <th>8.540004e+06</th>\n",
       "      <td>209</td>\n",
       "      <td>0</td>\n",
       "      <td>1.044</td>\n",
       "      <td>13.8</td>\n",
       "      <td>0</td>\n",
       "      <td>NaN</td>\n",
       "      <td>882.06460</td>\n",
       "      <td>30.935455</td>\n",
       "      <td>913.00000</td>\n",
       "      <td>433.058576</td>\n",
       "      <td>0.005067</td>\n",
       "      <td>1.387591</td>\n",
       "      <td>342.886985</td>\n",
       "      <td>1.083127</td>\n",
       "      <td>2.432082</td>\n",
       "    </tr>\n",
       "    <tr>\n",
       "      <th>524751.887990</th>\n",
       "      <th>8.540028e+06</th>\n",
       "      <td>210</td>\n",
       "      <td>0</td>\n",
       "      <td>1.044</td>\n",
       "      <td>13.8</td>\n",
       "      <td>0</td>\n",
       "      <td>NaN</td>\n",
       "      <td>881.31860</td>\n",
       "      <td>34.681380</td>\n",
       "      <td>916.00000</td>\n",
       "      <td>433.377096</td>\n",
       "      <td>0.005067</td>\n",
       "      <td>1.385886</td>\n",
       "      <td>336.403639</td>\n",
       "      <td>1.077530</td>\n",
       "      <td>2.445479</td>\n",
       "    </tr>\n",
       "    <tr>\n",
       "      <th>...</th>\n",
       "      <th>...</th>\n",
       "      <th>...</th>\n",
       "      <td>...</td>\n",
       "      <td>...</td>\n",
       "      <td>...</td>\n",
       "      <td>...</td>\n",
       "      <td>...</td>\n",
       "      <td>...</td>\n",
       "      <td>...</td>\n",
       "      <td>...</td>\n",
       "      <td>...</td>\n",
       "      <td>...</td>\n",
       "      <td>...</td>\n",
       "      <td>...</td>\n",
       "      <td>...</td>\n",
       "      <td>...</td>\n",
       "      <td>...</td>\n",
       "    </tr>\n",
       "    <tr>\n",
       "      <th rowspan=\"5\" valign=\"top\">RGI60-07.01567</th>\n",
       "      <th>534269.488654</th>\n",
       "      <th>8.675206e+06</th>\n",
       "      <td>130984</td>\n",
       "      <td>3</td>\n",
       "      <td>5.350</td>\n",
       "      <td>11.7</td>\n",
       "      <td>0</td>\n",
       "      <td>Moeysalbreen</td>\n",
       "      <td>237.64468</td>\n",
       "      <td>50.380424</td>\n",
       "      <td>288.02512</td>\n",
       "      <td>627.625366</td>\n",
       "      <td>0.004612</td>\n",
       "      <td>-1.412920</td>\n",
       "      <td>278.553621</td>\n",
       "      <td>2.123592</td>\n",
       "      <td>-1.566323</td>\n",
       "    </tr>\n",
       "    <tr>\n",
       "      <th>534310.362510</th>\n",
       "      <th>8.675249e+06</th>\n",
       "      <td>130985</td>\n",
       "      <td>3</td>\n",
       "      <td>5.350</td>\n",
       "      <td>11.7</td>\n",
       "      <td>0</td>\n",
       "      <td>Moeysalbreen</td>\n",
       "      <td>233.07228</td>\n",
       "      <td>46.717087</td>\n",
       "      <td>279.78937</td>\n",
       "      <td>627.625366</td>\n",
       "      <td>0.004614</td>\n",
       "      <td>-1.423469</td>\n",
       "      <td>256.755923</td>\n",
       "      <td>2.127417</td>\n",
       "      <td>-1.604864</td>\n",
       "    </tr>\n",
       "    <tr>\n",
       "      <th>534309.250485</th>\n",
       "      <th>8.675291e+06</th>\n",
       "      <td>130986</td>\n",
       "      <td>3</td>\n",
       "      <td>5.350</td>\n",
       "      <td>11.7</td>\n",
       "      <td>0</td>\n",
       "      <td>Moeysalbreen</td>\n",
       "      <td>233.07228</td>\n",
       "      <td>46.717087</td>\n",
       "      <td>279.78937</td>\n",
       "      <td>627.625366</td>\n",
       "      <td>0.004618</td>\n",
       "      <td>-1.395654</td>\n",
       "      <td>238.477978</td>\n",
       "      <td>2.076787</td>\n",
       "      <td>-1.606379</td>\n",
       "    </tr>\n",
       "    <tr>\n",
       "      <th>534308.138459</th>\n",
       "      <th>8.675333e+06</th>\n",
       "      <td>130987</td>\n",
       "      <td>3</td>\n",
       "      <td>5.350</td>\n",
       "      <td>11.7</td>\n",
       "      <td>0</td>\n",
       "      <td>Moeysalbreen</td>\n",
       "      <td>233.18828</td>\n",
       "      <td>47.159560</td>\n",
       "      <td>280.34784</td>\n",
       "      <td>627.625366</td>\n",
       "      <td>0.004620</td>\n",
       "      <td>-1.382369</td>\n",
       "      <td>226.342325</td>\n",
       "      <td>2.005969</td>\n",
       "      <td>-1.604294</td>\n",
       "    </tr>\n",
       "    <tr>\n",
       "      <th>534307.026431</th>\n",
       "      <th>8.675375e+06</th>\n",
       "      <td>130988</td>\n",
       "      <td>3</td>\n",
       "      <td>5.350</td>\n",
       "      <td>11.7</td>\n",
       "      <td>0</td>\n",
       "      <td>Moeysalbreen</td>\n",
       "      <td>233.18828</td>\n",
       "      <td>47.159560</td>\n",
       "      <td>280.34784</td>\n",
       "      <td>627.625366</td>\n",
       "      <td>0.004621</td>\n",
       "      <td>-1.369084</td>\n",
       "      <td>215.631320</td>\n",
       "      <td>1.935151</td>\n",
       "      <td>-1.604788</td>\n",
       "    </tr>\n",
       "  </tbody>\n",
       "</table>\n",
       "<p>94234 rows × 15 columns</p>\n",
       "</div>"
      ],
      "text/plain": [
       "                                           Unnamed: 0  Surge   Area  Slope  \\\n",
       "rgiid          x             y                                               \n",
       "RGI60-07.00004 524657.521964 8.539931e+06         206      0  1.044   13.8   \n",
       "               524681.113471 8.539955e+06         207      0  1.044   13.8   \n",
       "               524704.704977 8.539980e+06         208      0  1.044   13.8   \n",
       "               524728.296484 8.540004e+06         209      0  1.044   13.8   \n",
       "               524751.887990 8.540028e+06         210      0  1.044   13.8   \n",
       "...                                               ...    ...    ...    ...   \n",
       "RGI60-07.01567 534269.488654 8.675206e+06      130984      3  5.350   11.7   \n",
       "               534310.362510 8.675249e+06      130985      3  5.350   11.7   \n",
       "               534309.250485 8.675291e+06      130986      3  5.350   11.7   \n",
       "               534308.138459 8.675333e+06      130987      3  5.350   11.7   \n",
       "               534307.026431 8.675375e+06      130988      3  5.350   11.7   \n",
       "\n",
       "                                           TermType          Name        bed  \\\n",
       "rgiid          x             y                                                 \n",
       "RGI60-07.00004 524657.521964 8.539931e+06         0           NaN  889.68555   \n",
       "               524681.113471 8.539955e+06         0           NaN  882.06460   \n",
       "               524704.704977 8.539980e+06         0           NaN  882.06460   \n",
       "               524728.296484 8.540004e+06         0           NaN  882.06460   \n",
       "               524751.887990 8.540028e+06         0           NaN  881.31860   \n",
       "...                                             ...           ...        ...   \n",
       "RGI60-07.01567 534269.488654 8.675206e+06         0  Moeysalbreen  237.64468   \n",
       "               534310.362510 8.675249e+06         0  Moeysalbreen  233.07228   \n",
       "               534309.250485 8.675291e+06         0  Moeysalbreen  233.07228   \n",
       "               534308.138459 8.675333e+06         0  Moeysalbreen  233.18828   \n",
       "               534307.026431 8.675375e+06         0  Moeysalbreen  233.18828   \n",
       "\n",
       "                                           thickness  surface_elevation  \\\n",
       "rgiid          x             y                                            \n",
       "RGI60-07.00004 524657.521964 8.539931e+06  25.314478          915.00000   \n",
       "               524681.113471 8.539955e+06  30.935455          913.00000   \n",
       "               524704.704977 8.539980e+06  30.935455          913.00000   \n",
       "               524728.296484 8.540004e+06  30.935455          913.00000   \n",
       "               524751.887990 8.540028e+06  34.681380          916.00000   \n",
       "...                                              ...                ...   \n",
       "RGI60-07.01567 534269.488654 8.675206e+06  50.380424          288.02512   \n",
       "               534310.362510 8.675249e+06  46.717087          279.78937   \n",
       "               534309.250485 8.675291e+06  46.717087          279.78937   \n",
       "               534308.138459 8.675333e+06  47.159560          280.34784   \n",
       "               534307.026431 8.675375e+06  47.159560          280.34784   \n",
       "\n",
       "                                                  ELA      beta       cmb  \\\n",
       "rgiid          x             y                                              \n",
       "RGI60-07.00004 524657.521964 8.539931e+06  432.103017  0.005069  1.392706   \n",
       "               524681.113471 8.539955e+06  432.421537  0.005068  1.391001   \n",
       "               524704.704977 8.539980e+06  432.740057  0.005068  1.389296   \n",
       "               524728.296484 8.540004e+06  433.058576  0.005067  1.387591   \n",
       "               524751.887990 8.540028e+06  433.377096  0.005067  1.385886   \n",
       "...                                               ...       ...       ...   \n",
       "RGI60-07.01567 534269.488654 8.675206e+06  627.625366  0.004612 -1.412920   \n",
       "               534310.362510 8.675249e+06  627.625366  0.004614 -1.423469   \n",
       "               534309.250485 8.675291e+06  627.625366  0.004618 -1.395654   \n",
       "               534308.138459 8.675333e+06  627.625366  0.004620 -1.382369   \n",
       "               534307.026431 8.675375e+06  627.625366  0.004621 -1.369084   \n",
       "\n",
       "                                           width_centerline    Runoff  \\\n",
       "rgiid          x             y                                          \n",
       "RGI60-07.00004 524657.521964 8.539931e+06        279.780932  1.100061   \n",
       "               524681.113471 8.539955e+06        295.980219  1.094416   \n",
       "               524704.704977 8.539980e+06        330.851846  1.088771   \n",
       "               524728.296484 8.540004e+06        342.886985  1.083127   \n",
       "               524751.887990 8.540028e+06        336.403639  1.077530   \n",
       "...                                                     ...       ...   \n",
       "RGI60-07.01567 534269.488654 8.675206e+06        278.553621  2.123592   \n",
       "               534310.362510 8.675249e+06        256.755923  2.127417   \n",
       "               534309.250485 8.675291e+06        238.477978  2.076787   \n",
       "               534308.138459 8.675333e+06        226.342325  2.005969   \n",
       "               534307.026431 8.675375e+06        215.631320  1.935151   \n",
       "\n",
       "                                           SMB_calc  \n",
       "rgiid          x             y                       \n",
       "RGI60-07.00004 524657.521964 8.539931e+06  2.447634  \n",
       "               524681.113471 8.539955e+06  2.435692  \n",
       "               524704.704977 8.539980e+06  2.433887  \n",
       "               524728.296484 8.540004e+06  2.432082  \n",
       "               524751.887990 8.540028e+06  2.445479  \n",
       "...                                             ...  \n",
       "RGI60-07.01567 534269.488654 8.675206e+06 -1.566323  \n",
       "               534310.362510 8.675249e+06 -1.604864  \n",
       "               534309.250485 8.675291e+06 -1.606379  \n",
       "               534308.138459 8.675333e+06 -1.604294  \n",
       "               534307.026431 8.675375e+06 -1.604788  \n",
       "\n",
       "[94234 rows x 15 columns]"
      ]
     },
     "execution_count": 4,
     "metadata": {},
     "output_type": "execute_result"
    }
   ],
   "source": [
    "df_main['SMB_calc'] = df_main['beta']*(df_main['surface_elevation']-df_main['ELA'])\n",
    "df_main"
   ]
  },
  {
   "cell_type": "code",
   "execution_count": 5,
   "metadata": {},
   "outputs": [],
   "source": [
    "df_main['WH'] = df_main['width_centerline'] / df_main['thickness']\n",
    "df_main['WHsin'] = df_main['thickness']*df_main['width_centerline']*np.sin(df_main['Slope'])\n",
    "df_main['dummy'] = np.random.rand(df_main.shape[0])"
   ]
  },
  {
   "cell_type": "code",
   "execution_count": null,
   "metadata": {},
   "outputs": [],
   "source": []
  },
  {
   "cell_type": "code",
   "execution_count": 6,
   "metadata": {},
   "outputs": [],
   "source": [
    "df = df_main.drop(df_main[df_main['Surge']==9].index)\n",
    "df = df.drop(df_main[df_main['Surge']==1].index)\n",
    "# df = df_main.drop(df_main[df_main['Surge']==2].index)\n",
    "df = df.drop(columns = ['Unnamed: 0', 'ELA', 'beta', 'Name', 'Area', 'cmb'])\n",
    "df.dropna(how='any', inplace=True)"
   ]
  },
  {
   "cell_type": "code",
   "execution_count": 7,
   "metadata": {},
   "outputs": [
    {
     "data": {
      "text/html": [
       "<div>\n",
       "<style scoped>\n",
       "    .dataframe tbody tr th:only-of-type {\n",
       "        vertical-align: middle;\n",
       "    }\n",
       "\n",
       "    .dataframe tbody tr th {\n",
       "        vertical-align: top;\n",
       "    }\n",
       "\n",
       "    .dataframe thead th {\n",
       "        text-align: right;\n",
       "    }\n",
       "</style>\n",
       "<table border=\"1\" class=\"dataframe\">\n",
       "  <thead>\n",
       "    <tr style=\"text-align: right;\">\n",
       "      <th></th>\n",
       "      <th>Slope</th>\n",
       "      <th>TermType</th>\n",
       "      <th>bed</th>\n",
       "      <th>thickness</th>\n",
       "      <th>surface_elevation</th>\n",
       "      <th>width_centerline</th>\n",
       "      <th>Runoff</th>\n",
       "      <th>SMB_calc</th>\n",
       "      <th>WH</th>\n",
       "      <th>WHsin</th>\n",
       "      <th>dummy</th>\n",
       "    </tr>\n",
       "    <tr>\n",
       "      <th>Surge</th>\n",
       "      <th></th>\n",
       "      <th></th>\n",
       "      <th></th>\n",
       "      <th></th>\n",
       "      <th></th>\n",
       "      <th></th>\n",
       "      <th></th>\n",
       "      <th></th>\n",
       "      <th></th>\n",
       "      <th></th>\n",
       "      <th></th>\n",
       "    </tr>\n",
       "  </thead>\n",
       "  <tbody>\n",
       "    <tr>\n",
       "      <th>0</th>\n",
       "      <td>68675</td>\n",
       "      <td>68675</td>\n",
       "      <td>68675</td>\n",
       "      <td>68675</td>\n",
       "      <td>68675</td>\n",
       "      <td>68675</td>\n",
       "      <td>68675</td>\n",
       "      <td>68675</td>\n",
       "      <td>68675</td>\n",
       "      <td>68675</td>\n",
       "      <td>68675</td>\n",
       "    </tr>\n",
       "    <tr>\n",
       "      <th>2</th>\n",
       "      <td>4249</td>\n",
       "      <td>4249</td>\n",
       "      <td>4249</td>\n",
       "      <td>4249</td>\n",
       "      <td>4249</td>\n",
       "      <td>4249</td>\n",
       "      <td>4249</td>\n",
       "      <td>4249</td>\n",
       "      <td>4249</td>\n",
       "      <td>4249</td>\n",
       "      <td>4249</td>\n",
       "    </tr>\n",
       "    <tr>\n",
       "      <th>3</th>\n",
       "      <td>10897</td>\n",
       "      <td>10897</td>\n",
       "      <td>10897</td>\n",
       "      <td>10897</td>\n",
       "      <td>10897</td>\n",
       "      <td>10897</td>\n",
       "      <td>10897</td>\n",
       "      <td>10897</td>\n",
       "      <td>10897</td>\n",
       "      <td>10897</td>\n",
       "      <td>10897</td>\n",
       "    </tr>\n",
       "  </tbody>\n",
       "</table>\n",
       "</div>"
      ],
      "text/plain": [
       "       Slope  TermType    bed  thickness  surface_elevation  width_centerline  \\\n",
       "Surge                                                                           \n",
       "0      68675     68675  68675      68675              68675             68675   \n",
       "2       4249      4249   4249       4249               4249              4249   \n",
       "3      10897     10897  10897      10897              10897             10897   \n",
       "\n",
       "       Runoff  SMB_calc     WH  WHsin  dummy  \n",
       "Surge                                         \n",
       "0       68675     68675  68675  68675  68675  \n",
       "2        4249      4249   4249   4249   4249  \n",
       "3       10897     10897  10897  10897  10897  "
      ]
     },
     "execution_count": 7,
     "metadata": {},
     "output_type": "execute_result"
    }
   ],
   "source": [
    "df.groupby('Surge').count()"
   ]
  },
  {
   "cell_type": "code",
   "execution_count": 8,
   "metadata": {},
   "outputs": [
    {
     "data": {
      "text/plain": [
       "0    68675\n",
       "1    15146\n",
       "Name: label, dtype: int64"
      ]
     },
     "execution_count": 8,
     "metadata": {},
     "output_type": "execute_result"
    }
   ],
   "source": [
    "df['Surge'] = df['Surge'].replace({3: 1, 2:1})\n",
    "df = df.loc[df['Surge'].isin([0, 1])].copy()\n",
    "df = df.rename(columns = {'Surge': 'label'})\n",
    "df['label'].value_counts()"
   ]
  },
  {
   "cell_type": "code",
   "execution_count": 9,
   "metadata": {},
   "outputs": [
    {
     "data": {
      "text/plain": [
       "15146"
      ]
     },
     "execution_count": 9,
     "metadata": {},
     "output_type": "execute_result"
    }
   ],
   "source": [
    "df[df['label']==1].shape[0]"
   ]
  },
  {
   "cell_type": "code",
   "execution_count": 10,
   "metadata": {},
   "outputs": [
    {
     "data": {
      "text/plain": [
       "(83821, 12)"
      ]
     },
     "execution_count": 10,
     "metadata": {},
     "output_type": "execute_result"
    }
   ],
   "source": [
    "df.shape"
   ]
  },
  {
   "cell_type": "markdown",
   "metadata": {},
   "source": [
    "### Resampled"
   ]
  },
  {
   "cell_type": "code",
   "execution_count": 11,
   "metadata": {},
   "outputs": [],
   "source": [
    "# Separate majority and minority classes\n",
    "df_majority = df[df['label']==0]\n",
    "df_minority = df[df['label']==1]\n",
    " \n",
    "# Downsample majority class\n",
    "df_majority_downsampled = resample(df_majority, \n",
    "                                 replace=False,    # sample without replacement\n",
    "                                 n_samples=df[df['label']==1].shape[0],     # to match minority class\n",
    "                                 random_state=RSEED) # reproducible results\n",
    " \n",
    "# Combine minority class with downsampled majority class\n",
    "df_downsampled = pd.concat([df_majority_downsampled, df_minority])\n",
    " \n",
    "# Display new class counts\n",
    "df_downsampled['label'].value_counts()\n",
    "df = df_downsampled"
   ]
  },
  {
   "cell_type": "code",
   "execution_count": 12,
   "metadata": {},
   "outputs": [
    {
     "data": {
      "text/plain": [
       "(30292, 12)"
      ]
     },
     "execution_count": 12,
     "metadata": {},
     "output_type": "execute_result"
    }
   ],
   "source": [
    "df_downsampled.shape"
   ]
  },
  {
   "cell_type": "code",
   "execution_count": 13,
   "metadata": {},
   "outputs": [],
   "source": [
    "# Extract the labels\n",
    "labels = np.array(df.pop('label'))\n",
    "\n",
    "# 30% examples in test data\n",
    "train, test, train_labels, test_labels = train_test_split(df, labels, \n",
    "                                                          stratify = labels,\n",
    "                                                          test_size = 0.3, \n",
    "                                                          random_state = RSEED)"
   ]
  },
  {
   "cell_type": "code",
   "execution_count": 14,
   "metadata": {},
   "outputs": [
    {
     "data": {
      "text/plain": [
       "0.5"
      ]
     },
     "execution_count": 14,
     "metadata": {},
     "output_type": "execute_result"
    }
   ],
   "source": [
    "train_labels.sum()/train_labels.shape[0]"
   ]
  },
  {
   "cell_type": "code",
   "execution_count": 15,
   "metadata": {},
   "outputs": [
    {
     "data": {
      "text/plain": [
       "0.5"
      ]
     },
     "execution_count": 15,
     "metadata": {},
     "output_type": "execute_result"
    }
   ],
   "source": [
    "test_labels.sum()/test_labels.shape[0]"
   ]
  },
  {
   "cell_type": "code",
   "execution_count": 16,
   "metadata": {},
   "outputs": [
    {
     "data": {
      "text/plain": [
       "['Slope',\n",
       " 'TermType',\n",
       " 'bed',\n",
       " 'thickness',\n",
       " 'surface_elevation',\n",
       " 'width_centerline',\n",
       " 'Runoff',\n",
       " 'SMB_calc',\n",
       " 'WH',\n",
       " 'WHsin',\n",
       " 'dummy']"
      ]
     },
     "execution_count": 16,
     "metadata": {},
     "output_type": "execute_result"
    }
   ],
   "source": [
    "# Features for feature importances\n",
    "features = list(train.columns)\n",
    "features"
   ]
  },
  {
   "cell_type": "code",
   "execution_count": 17,
   "metadata": {},
   "outputs": [
    {
     "data": {
      "text/html": [
       "<div>\n",
       "<style scoped>\n",
       "    .dataframe tbody tr th:only-of-type {\n",
       "        vertical-align: middle;\n",
       "    }\n",
       "\n",
       "    .dataframe tbody tr th {\n",
       "        vertical-align: top;\n",
       "    }\n",
       "\n",
       "    .dataframe thead th {\n",
       "        text-align: right;\n",
       "    }\n",
       "</style>\n",
       "<table border=\"1\" class=\"dataframe\">\n",
       "  <thead>\n",
       "    <tr style=\"text-align: right;\">\n",
       "      <th></th>\n",
       "      <th></th>\n",
       "      <th></th>\n",
       "      <th>Slope</th>\n",
       "      <th>TermType</th>\n",
       "      <th>bed</th>\n",
       "      <th>thickness</th>\n",
       "      <th>surface_elevation</th>\n",
       "      <th>width_centerline</th>\n",
       "      <th>Runoff</th>\n",
       "      <th>SMB_calc</th>\n",
       "      <th>WH</th>\n",
       "      <th>WHsin</th>\n",
       "      <th>dummy</th>\n",
       "    </tr>\n",
       "    <tr>\n",
       "      <th>rgiid</th>\n",
       "      <th>x</th>\n",
       "      <th>y</th>\n",
       "      <th></th>\n",
       "      <th></th>\n",
       "      <th></th>\n",
       "      <th></th>\n",
       "      <th></th>\n",
       "      <th></th>\n",
       "      <th></th>\n",
       "      <th></th>\n",
       "      <th></th>\n",
       "      <th></th>\n",
       "      <th></th>\n",
       "    </tr>\n",
       "  </thead>\n",
       "  <tbody>\n",
       "    <tr>\n",
       "      <th>RGI60-07.00515</th>\n",
       "      <th>441975.150359</th>\n",
       "      <th>8.727522e+06</th>\n",
       "      <td>19.5</td>\n",
       "      <td>0</td>\n",
       "      <td>264.174900</td>\n",
       "      <td>38.879795</td>\n",
       "      <td>303.0547</td>\n",
       "      <td>576.297132</td>\n",
       "      <td>2.549741</td>\n",
       "      <td>-1.518291</td>\n",
       "      <td>14.822535</td>\n",
       "      <td>13567.916665</td>\n",
       "      <td>0.278298</td>\n",
       "    </tr>\n",
       "    <tr>\n",
       "      <th>RGI60-07.00873</th>\n",
       "      <th>548147.700372</th>\n",
       "      <th>8.772440e+06</th>\n",
       "      <td>7.4</td>\n",
       "      <td>0</td>\n",
       "      <td>1034.511800</td>\n",
       "      <td>81.036380</td>\n",
       "      <td>1115.5482</td>\n",
       "      <td>4308.036475</td>\n",
       "      <td>0.253687</td>\n",
       "      <td>0.200014</td>\n",
       "      <td>53.161759</td>\n",
       "      <td>313745.899081</td>\n",
       "      <td>0.547492</td>\n",
       "    </tr>\n",
       "    <tr>\n",
       "      <th>RGI60-07.00859</th>\n",
       "      <th>530846.114530</th>\n",
       "      <th>8.837916e+06</th>\n",
       "      <td>9.1</td>\n",
       "      <td>1</td>\n",
       "      <td>579.684600</td>\n",
       "      <td>214.568920</td>\n",
       "      <td>794.2535</td>\n",
       "      <td>7218.261007</td>\n",
       "      <td>0.504620</td>\n",
       "      <td>0.259796</td>\n",
       "      <td>33.640758</td>\n",
       "      <td>494224.160475</td>\n",
       "      <td>0.903795</td>\n",
       "    </tr>\n",
       "    <tr>\n",
       "      <th>RGI60-07.00315</th>\n",
       "      <th>578764.810581</th>\n",
       "      <th>8.620960e+06</th>\n",
       "      <td>9.4</td>\n",
       "      <td>1</td>\n",
       "      <td>-28.271210</td>\n",
       "      <td>97.271210</td>\n",
       "      <td>69.0000</td>\n",
       "      <td>2263.341551</td>\n",
       "      <td>2.532262</td>\n",
       "      <td>-1.377222</td>\n",
       "      <td>23.268360</td>\n",
       "      <td>5454.507405</td>\n",
       "      <td>0.195868</td>\n",
       "    </tr>\n",
       "    <tr>\n",
       "      <th>RGI60-07.00233</th>\n",
       "      <th>514508.764759</th>\n",
       "      <th>8.598699e+06</th>\n",
       "      <td>10.7</td>\n",
       "      <td>0</td>\n",
       "      <td>-33.664413</td>\n",
       "      <td>150.664410</td>\n",
       "      <td>117.0000</td>\n",
       "      <td>864.509164</td>\n",
       "      <td>3.193687</td>\n",
       "      <td>-3.300643</td>\n",
       "      <td>5.737979</td>\n",
       "      <td>-124602.440895</td>\n",
       "      <td>0.446921</td>\n",
       "    </tr>\n",
       "  </tbody>\n",
       "</table>\n",
       "</div>"
      ],
      "text/plain": [
       "                                           Slope  TermType          bed  \\\n",
       "rgiid          x             y                                            \n",
       "RGI60-07.00515 441975.150359 8.727522e+06   19.5         0   264.174900   \n",
       "RGI60-07.00873 548147.700372 8.772440e+06    7.4         0  1034.511800   \n",
       "RGI60-07.00859 530846.114530 8.837916e+06    9.1         1   579.684600   \n",
       "RGI60-07.00315 578764.810581 8.620960e+06    9.4         1   -28.271210   \n",
       "RGI60-07.00233 514508.764759 8.598699e+06   10.7         0   -33.664413   \n",
       "\n",
       "                                            thickness  surface_elevation  \\\n",
       "rgiid          x             y                                             \n",
       "RGI60-07.00515 441975.150359 8.727522e+06   38.879795           303.0547   \n",
       "RGI60-07.00873 548147.700372 8.772440e+06   81.036380          1115.5482   \n",
       "RGI60-07.00859 530846.114530 8.837916e+06  214.568920           794.2535   \n",
       "RGI60-07.00315 578764.810581 8.620960e+06   97.271210            69.0000   \n",
       "RGI60-07.00233 514508.764759 8.598699e+06  150.664410           117.0000   \n",
       "\n",
       "                                           width_centerline    Runoff  \\\n",
       "rgiid          x             y                                          \n",
       "RGI60-07.00515 441975.150359 8.727522e+06        576.297132  2.549741   \n",
       "RGI60-07.00873 548147.700372 8.772440e+06       4308.036475  0.253687   \n",
       "RGI60-07.00859 530846.114530 8.837916e+06       7218.261007  0.504620   \n",
       "RGI60-07.00315 578764.810581 8.620960e+06       2263.341551  2.532262   \n",
       "RGI60-07.00233 514508.764759 8.598699e+06        864.509164  3.193687   \n",
       "\n",
       "                                           SMB_calc         WH          WHsin  \\\n",
       "rgiid          x             y                                                  \n",
       "RGI60-07.00515 441975.150359 8.727522e+06 -1.518291  14.822535   13567.916665   \n",
       "RGI60-07.00873 548147.700372 8.772440e+06  0.200014  53.161759  313745.899081   \n",
       "RGI60-07.00859 530846.114530 8.837916e+06  0.259796  33.640758  494224.160475   \n",
       "RGI60-07.00315 578764.810581 8.620960e+06 -1.377222  23.268360    5454.507405   \n",
       "RGI60-07.00233 514508.764759 8.598699e+06 -3.300643   5.737979 -124602.440895   \n",
       "\n",
       "                                              dummy  \n",
       "rgiid          x             y                       \n",
       "RGI60-07.00515 441975.150359 8.727522e+06  0.278298  \n",
       "RGI60-07.00873 548147.700372 8.772440e+06  0.547492  \n",
       "RGI60-07.00859 530846.114530 8.837916e+06  0.903795  \n",
       "RGI60-07.00315 578764.810581 8.620960e+06  0.195868  \n",
       "RGI60-07.00233 514508.764759 8.598699e+06  0.446921  "
      ]
     },
     "execution_count": 17,
     "metadata": {},
     "output_type": "execute_result"
    }
   ],
   "source": [
    "train.head()"
   ]
  },
  {
   "cell_type": "code",
   "execution_count": 18,
   "metadata": {},
   "outputs": [
    {
     "data": {
      "text/plain": [
       "(21204,)"
      ]
     },
     "execution_count": 18,
     "metadata": {},
     "output_type": "execute_result"
    }
   ],
   "source": [
    "train_labels.shape"
   ]
  },
  {
   "cell_type": "code",
   "execution_count": 19,
   "metadata": {},
   "outputs": [
    {
     "data": {
      "text/html": [
       "<div>\n",
       "<style scoped>\n",
       "    .dataframe tbody tr th:only-of-type {\n",
       "        vertical-align: middle;\n",
       "    }\n",
       "\n",
       "    .dataframe tbody tr th {\n",
       "        vertical-align: top;\n",
       "    }\n",
       "\n",
       "    .dataframe thead th {\n",
       "        text-align: right;\n",
       "    }\n",
       "</style>\n",
       "<table border=\"1\" class=\"dataframe\">\n",
       "  <thead>\n",
       "    <tr style=\"text-align: right;\">\n",
       "      <th></th>\n",
       "      <th></th>\n",
       "      <th></th>\n",
       "      <th>Slope</th>\n",
       "      <th>TermType</th>\n",
       "      <th>bed</th>\n",
       "      <th>thickness</th>\n",
       "      <th>surface_elevation</th>\n",
       "      <th>width_centerline</th>\n",
       "      <th>Runoff</th>\n",
       "      <th>SMB_calc</th>\n",
       "      <th>WH</th>\n",
       "      <th>WHsin</th>\n",
       "      <th>dummy</th>\n",
       "    </tr>\n",
       "    <tr>\n",
       "      <th>rgiid</th>\n",
       "      <th>x</th>\n",
       "      <th>y</th>\n",
       "      <th></th>\n",
       "      <th></th>\n",
       "      <th></th>\n",
       "      <th></th>\n",
       "      <th></th>\n",
       "      <th></th>\n",
       "      <th></th>\n",
       "      <th></th>\n",
       "      <th></th>\n",
       "      <th></th>\n",
       "      <th></th>\n",
       "    </tr>\n",
       "  </thead>\n",
       "  <tbody>\n",
       "    <tr>\n",
       "      <th>RGI60-07.00465</th>\n",
       "      <th>478371.303131</th>\n",
       "      <th>8.716493e+06</th>\n",
       "      <td>8.1</td>\n",
       "      <td>1</td>\n",
       "      <td>46.214294</td>\n",
       "      <td>221.83762</td>\n",
       "      <td>268.05190</td>\n",
       "      <td>5613.527053</td>\n",
       "      <td>2.654832</td>\n",
       "      <td>-1.401845</td>\n",
       "      <td>25.304667</td>\n",
       "      <td>1.207796e+06</td>\n",
       "      <td>0.521783</td>\n",
       "    </tr>\n",
       "    <tr>\n",
       "      <th>RGI60-07.01090</th>\n",
       "      <th>489770.321036</th>\n",
       "      <th>8.649560e+06</th>\n",
       "      <td>10.6</td>\n",
       "      <td>0</td>\n",
       "      <td>147.998780</td>\n",
       "      <td>71.05932</td>\n",
       "      <td>219.05810</td>\n",
       "      <td>645.227888</td>\n",
       "      <td>1.370421</td>\n",
       "      <td>-1.918945</td>\n",
       "      <td>9.080130</td>\n",
       "      <td>-4.230875e+04</td>\n",
       "      <td>0.745462</td>\n",
       "    </tr>\n",
       "    <tr>\n",
       "      <th>RGI60-07.00406</th>\n",
       "      <th>557921.341535</th>\n",
       "      <th>8.663047e+06</th>\n",
       "      <td>12.2</td>\n",
       "      <td>0</td>\n",
       "      <td>184.157470</td>\n",
       "      <td>48.18905</td>\n",
       "      <td>232.34653</td>\n",
       "      <td>619.202874</td>\n",
       "      <td>2.521803</td>\n",
       "      <td>-1.821770</td>\n",
       "      <td>12.849452</td>\n",
       "      <td>-1.068913e+04</td>\n",
       "      <td>0.003783</td>\n",
       "    </tr>\n",
       "    <tr>\n",
       "      <th>RGI60-07.00862</th>\n",
       "      <th>541092.973415</th>\n",
       "      <th>8.860543e+06</th>\n",
       "      <td>9.7</td>\n",
       "      <td>0</td>\n",
       "      <td>165.962950</td>\n",
       "      <td>90.94358</td>\n",
       "      <td>256.90652</td>\n",
       "      <td>276.764792</td>\n",
       "      <td>1.145731</td>\n",
       "      <td>-0.664016</td>\n",
       "      <td>3.043258</td>\n",
       "      <td>-6.840210e+03</td>\n",
       "      <td>0.053804</td>\n",
       "    </tr>\n",
       "    <tr>\n",
       "      <th>RGI60-07.00169</th>\n",
       "      <th>530699.535153</th>\n",
       "      <th>8.626463e+06</th>\n",
       "      <td>14.4</td>\n",
       "      <td>0</td>\n",
       "      <td>551.148100</td>\n",
       "      <td>41.85196</td>\n",
       "      <td>593.00000</td>\n",
       "      <td>1038.449988</td>\n",
       "      <td>1.399670</td>\n",
       "      <td>0.206295</td>\n",
       "      <td>24.812458</td>\n",
       "      <td>4.196861e+04</td>\n",
       "      <td>0.682349</td>\n",
       "    </tr>\n",
       "  </tbody>\n",
       "</table>\n",
       "</div>"
      ],
      "text/plain": [
       "                                           Slope  TermType         bed  \\\n",
       "rgiid          x             y                                           \n",
       "RGI60-07.00465 478371.303131 8.716493e+06    8.1         1   46.214294   \n",
       "RGI60-07.01090 489770.321036 8.649560e+06   10.6         0  147.998780   \n",
       "RGI60-07.00406 557921.341535 8.663047e+06   12.2         0  184.157470   \n",
       "RGI60-07.00862 541092.973415 8.860543e+06    9.7         0  165.962950   \n",
       "RGI60-07.00169 530699.535153 8.626463e+06   14.4         0  551.148100   \n",
       "\n",
       "                                           thickness  surface_elevation  \\\n",
       "rgiid          x             y                                            \n",
       "RGI60-07.00465 478371.303131 8.716493e+06  221.83762          268.05190   \n",
       "RGI60-07.01090 489770.321036 8.649560e+06   71.05932          219.05810   \n",
       "RGI60-07.00406 557921.341535 8.663047e+06   48.18905          232.34653   \n",
       "RGI60-07.00862 541092.973415 8.860543e+06   90.94358          256.90652   \n",
       "RGI60-07.00169 530699.535153 8.626463e+06   41.85196          593.00000   \n",
       "\n",
       "                                           width_centerline    Runoff  \\\n",
       "rgiid          x             y                                          \n",
       "RGI60-07.00465 478371.303131 8.716493e+06       5613.527053  2.654832   \n",
       "RGI60-07.01090 489770.321036 8.649560e+06        645.227888  1.370421   \n",
       "RGI60-07.00406 557921.341535 8.663047e+06        619.202874  2.521803   \n",
       "RGI60-07.00862 541092.973415 8.860543e+06        276.764792  1.145731   \n",
       "RGI60-07.00169 530699.535153 8.626463e+06       1038.449988  1.399670   \n",
       "\n",
       "                                           SMB_calc         WH         WHsin  \\\n",
       "rgiid          x             y                                                 \n",
       "RGI60-07.00465 478371.303131 8.716493e+06 -1.401845  25.304667  1.207796e+06   \n",
       "RGI60-07.01090 489770.321036 8.649560e+06 -1.918945   9.080130 -4.230875e+04   \n",
       "RGI60-07.00406 557921.341535 8.663047e+06 -1.821770  12.849452 -1.068913e+04   \n",
       "RGI60-07.00862 541092.973415 8.860543e+06 -0.664016   3.043258 -6.840210e+03   \n",
       "RGI60-07.00169 530699.535153 8.626463e+06  0.206295  24.812458  4.196861e+04   \n",
       "\n",
       "                                              dummy  \n",
       "rgiid          x             y                       \n",
       "RGI60-07.00465 478371.303131 8.716493e+06  0.521783  \n",
       "RGI60-07.01090 489770.321036 8.649560e+06  0.745462  \n",
       "RGI60-07.00406 557921.341535 8.663047e+06  0.003783  \n",
       "RGI60-07.00862 541092.973415 8.860543e+06  0.053804  \n",
       "RGI60-07.00169 530699.535153 8.626463e+06  0.682349  "
      ]
     },
     "execution_count": 19,
     "metadata": {},
     "output_type": "execute_result"
    }
   ],
   "source": [
    "test.head()"
   ]
  },
  {
   "cell_type": "markdown",
   "metadata": {},
   "source": [
    "# Gradient boosting"
   ]
  },
  {
   "cell_type": "code",
   "execution_count": 20,
   "metadata": {},
   "outputs": [],
   "source": [
    "import xgboost\n",
    "import sklearn.metrics as metrics\n",
    "from sklearn.model_selection import train_test_split"
   ]
  },
  {
   "cell_type": "code",
   "execution_count": 21,
   "metadata": {},
   "outputs": [
    {
     "data": {
      "text/plain": [
       "Index(['Unnamed: 0', 'Surge', 'Area', 'Slope', 'TermType', 'Name', 'bed',\n",
       "       'thickness', 'surface_elevation', 'ELA', 'beta', 'cmb',\n",
       "       'width_centerline', 'Runoff', 'SMB_calc', 'WH', 'WHsin', 'dummy'],\n",
       "      dtype='object')"
      ]
     },
     "execution_count": 21,
     "metadata": {},
     "output_type": "execute_result"
    }
   ],
   "source": [
    "df_main.columns"
   ]
  },
  {
   "cell_type": "code",
   "execution_count": 22,
   "metadata": {},
   "outputs": [
    {
     "data": {
      "text/plain": [
       "(73514, 18)"
      ]
     },
     "execution_count": 22,
     "metadata": {},
     "output_type": "execute_result"
    }
   ],
   "source": [
    "df_main.dropna().shape"
   ]
  },
  {
   "cell_type": "code",
   "execution_count": 23,
   "metadata": {},
   "outputs": [],
   "source": [
    "df_main.dropna(inplace=True)"
   ]
  },
  {
   "cell_type": "code",
   "execution_count": 24,
   "metadata": {},
   "outputs": [
    {
     "data": {
      "text/html": [
       "<div>\n",
       "<style scoped>\n",
       "    .dataframe tbody tr th:only-of-type {\n",
       "        vertical-align: middle;\n",
       "    }\n",
       "\n",
       "    .dataframe tbody tr th {\n",
       "        vertical-align: top;\n",
       "    }\n",
       "\n",
       "    .dataframe thead th {\n",
       "        text-align: right;\n",
       "    }\n",
       "</style>\n",
       "<table border=\"1\" class=\"dataframe\">\n",
       "  <thead>\n",
       "    <tr style=\"text-align: right;\">\n",
       "      <th></th>\n",
       "      <th></th>\n",
       "      <th></th>\n",
       "      <th>Slope</th>\n",
       "      <th>TermType</th>\n",
       "      <th>bed</th>\n",
       "      <th>thickness</th>\n",
       "      <th>surface_elevation</th>\n",
       "      <th>width_centerline</th>\n",
       "      <th>Runoff</th>\n",
       "      <th>SMB_calc</th>\n",
       "      <th>WH</th>\n",
       "      <th>WHsin</th>\n",
       "      <th>dummy</th>\n",
       "    </tr>\n",
       "    <tr>\n",
       "      <th>rgiid</th>\n",
       "      <th>x</th>\n",
       "      <th>y</th>\n",
       "      <th></th>\n",
       "      <th></th>\n",
       "      <th></th>\n",
       "      <th></th>\n",
       "      <th></th>\n",
       "      <th></th>\n",
       "      <th></th>\n",
       "      <th></th>\n",
       "      <th></th>\n",
       "      <th></th>\n",
       "      <th></th>\n",
       "    </tr>\n",
       "  </thead>\n",
       "  <tbody>\n",
       "    <tr>\n",
       "      <th rowspan=\"5\" valign=\"top\">RGI60-07.00006</th>\n",
       "      <th>537467.580455</th>\n",
       "      <th>8.536842e+06</th>\n",
       "      <td>12.6</td>\n",
       "      <td>1</td>\n",
       "      <td>591.49146</td>\n",
       "      <td>24.508570</td>\n",
       "      <td>616.00000</td>\n",
       "      <td>1098.398114</td>\n",
       "      <td>1.653396</td>\n",
       "      <td>0.752798</td>\n",
       "      <td>44.816899</td>\n",
       "      <td>905.138048</td>\n",
       "      <td>0.696970</td>\n",
       "    </tr>\n",
       "    <tr>\n",
       "      <th>537404.091767</th>\n",
       "      <th>8.536902e+06</th>\n",
       "      <td>12.6</td>\n",
       "      <td>1</td>\n",
       "      <td>591.49146</td>\n",
       "      <td>24.508570</td>\n",
       "      <td>616.00000</td>\n",
       "      <td>1141.233362</td>\n",
       "      <td>1.586801</td>\n",
       "      <td>0.753056</td>\n",
       "      <td>46.564665</td>\n",
       "      <td>940.436555</td>\n",
       "      <td>0.037411</td>\n",
       "    </tr>\n",
       "    <tr>\n",
       "      <th>537340.603079</th>\n",
       "      <th>8.536963e+06</th>\n",
       "      <td>12.6</td>\n",
       "      <td>1</td>\n",
       "      <td>565.43870</td>\n",
       "      <td>23.561293</td>\n",
       "      <td>589.00000</td>\n",
       "      <td>1144.919151</td>\n",
       "      <td>1.520206</td>\n",
       "      <td>0.573153</td>\n",
       "      <td>48.593222</td>\n",
       "      <td>907.007776</td>\n",
       "      <td>0.320149</td>\n",
       "    </tr>\n",
       "    <tr>\n",
       "      <th>537277.114391</th>\n",
       "      <th>8.537023e+06</th>\n",
       "      <td>12.6</td>\n",
       "      <td>1</td>\n",
       "      <td>547.37540</td>\n",
       "      <td>24.624578</td>\n",
       "      <td>572.00000</td>\n",
       "      <td>1105.995748</td>\n",
       "      <td>1.453610</td>\n",
       "      <td>0.459876</td>\n",
       "      <td>44.914303</td>\n",
       "      <td>915.712884</td>\n",
       "      <td>0.668710</td>\n",
       "    </tr>\n",
       "    <tr>\n",
       "      <th>537213.625703</th>\n",
       "      <th>8.537084e+06</th>\n",
       "      <td>12.6</td>\n",
       "      <td>1</td>\n",
       "      <td>514.92160</td>\n",
       "      <td>27.078419</td>\n",
       "      <td>542.00000</td>\n",
       "      <td>1069.477866</td>\n",
       "      <td>1.434204</td>\n",
       "      <td>0.259794</td>\n",
       "      <td>39.495580</td>\n",
       "      <td>973.715707</td>\n",
       "      <td>0.067118</td>\n",
       "    </tr>\n",
       "    <tr>\n",
       "      <th>...</th>\n",
       "      <th>...</th>\n",
       "      <th>...</th>\n",
       "      <td>...</td>\n",
       "      <td>...</td>\n",
       "      <td>...</td>\n",
       "      <td>...</td>\n",
       "      <td>...</td>\n",
       "      <td>...</td>\n",
       "      <td>...</td>\n",
       "      <td>...</td>\n",
       "      <td>...</td>\n",
       "      <td>...</td>\n",
       "      <td>...</td>\n",
       "    </tr>\n",
       "    <tr>\n",
       "      <th rowspan=\"5\" valign=\"top\">RGI60-07.01567</th>\n",
       "      <th>534269.488654</th>\n",
       "      <th>8.675206e+06</th>\n",
       "      <td>11.7</td>\n",
       "      <td>0</td>\n",
       "      <td>237.64468</td>\n",
       "      <td>50.380424</td>\n",
       "      <td>288.02512</td>\n",
       "      <td>278.553621</td>\n",
       "      <td>2.123592</td>\n",
       "      <td>-1.566323</td>\n",
       "      <td>5.529005</td>\n",
       "      <td>-10693.410549</td>\n",
       "      <td>0.026784</td>\n",
       "    </tr>\n",
       "    <tr>\n",
       "      <th>534310.362510</th>\n",
       "      <th>8.675249e+06</th>\n",
       "      <td>11.7</td>\n",
       "      <td>0</td>\n",
       "      <td>233.07228</td>\n",
       "      <td>46.717087</td>\n",
       "      <td>279.78937</td>\n",
       "      <td>256.755923</td>\n",
       "      <td>2.127417</td>\n",
       "      <td>-1.604864</td>\n",
       "      <td>5.495975</td>\n",
       "      <td>-9139.908345</td>\n",
       "      <td>0.991330</td>\n",
       "    </tr>\n",
       "    <tr>\n",
       "      <th>534309.250485</th>\n",
       "      <th>8.675291e+06</th>\n",
       "      <td>11.7</td>\n",
       "      <td>0</td>\n",
       "      <td>233.07228</td>\n",
       "      <td>46.717087</td>\n",
       "      <td>279.78937</td>\n",
       "      <td>238.477978</td>\n",
       "      <td>2.076787</td>\n",
       "      <td>-1.606379</td>\n",
       "      <td>5.104727</td>\n",
       "      <td>-8489.256385</td>\n",
       "      <td>0.302855</td>\n",
       "    </tr>\n",
       "    <tr>\n",
       "      <th>534308.138459</th>\n",
       "      <th>8.675333e+06</th>\n",
       "      <td>11.7</td>\n",
       "      <td>0</td>\n",
       "      <td>233.18828</td>\n",
       "      <td>47.159560</td>\n",
       "      <td>280.34784</td>\n",
       "      <td>226.342325</td>\n",
       "      <td>2.005969</td>\n",
       "      <td>-1.604294</td>\n",
       "      <td>4.799500</td>\n",
       "      <td>-8133.568561</td>\n",
       "      <td>0.131264</td>\n",
       "    </tr>\n",
       "    <tr>\n",
       "      <th>534307.026431</th>\n",
       "      <th>8.675375e+06</th>\n",
       "      <td>11.7</td>\n",
       "      <td>0</td>\n",
       "      <td>233.18828</td>\n",
       "      <td>47.159560</td>\n",
       "      <td>280.34784</td>\n",
       "      <td>215.631320</td>\n",
       "      <td>1.935151</td>\n",
       "      <td>-1.604788</td>\n",
       "      <td>4.572378</td>\n",
       "      <td>-7748.670623</td>\n",
       "      <td>0.637581</td>\n",
       "    </tr>\n",
       "  </tbody>\n",
       "</table>\n",
       "<p>73514 rows × 11 columns</p>\n",
       "</div>"
      ],
      "text/plain": [
       "                                           Slope  TermType        bed  \\\n",
       "rgiid          x             y                                          \n",
       "RGI60-07.00006 537467.580455 8.536842e+06   12.6         1  591.49146   \n",
       "               537404.091767 8.536902e+06   12.6         1  591.49146   \n",
       "               537340.603079 8.536963e+06   12.6         1  565.43870   \n",
       "               537277.114391 8.537023e+06   12.6         1  547.37540   \n",
       "               537213.625703 8.537084e+06   12.6         1  514.92160   \n",
       "...                                          ...       ...        ...   \n",
       "RGI60-07.01567 534269.488654 8.675206e+06   11.7         0  237.64468   \n",
       "               534310.362510 8.675249e+06   11.7         0  233.07228   \n",
       "               534309.250485 8.675291e+06   11.7         0  233.07228   \n",
       "               534308.138459 8.675333e+06   11.7         0  233.18828   \n",
       "               534307.026431 8.675375e+06   11.7         0  233.18828   \n",
       "\n",
       "                                           thickness  surface_elevation  \\\n",
       "rgiid          x             y                                            \n",
       "RGI60-07.00006 537467.580455 8.536842e+06  24.508570          616.00000   \n",
       "               537404.091767 8.536902e+06  24.508570          616.00000   \n",
       "               537340.603079 8.536963e+06  23.561293          589.00000   \n",
       "               537277.114391 8.537023e+06  24.624578          572.00000   \n",
       "               537213.625703 8.537084e+06  27.078419          542.00000   \n",
       "...                                              ...                ...   \n",
       "RGI60-07.01567 534269.488654 8.675206e+06  50.380424          288.02512   \n",
       "               534310.362510 8.675249e+06  46.717087          279.78937   \n",
       "               534309.250485 8.675291e+06  46.717087          279.78937   \n",
       "               534308.138459 8.675333e+06  47.159560          280.34784   \n",
       "               534307.026431 8.675375e+06  47.159560          280.34784   \n",
       "\n",
       "                                           width_centerline    Runoff  \\\n",
       "rgiid          x             y                                          \n",
       "RGI60-07.00006 537467.580455 8.536842e+06       1098.398114  1.653396   \n",
       "               537404.091767 8.536902e+06       1141.233362  1.586801   \n",
       "               537340.603079 8.536963e+06       1144.919151  1.520206   \n",
       "               537277.114391 8.537023e+06       1105.995748  1.453610   \n",
       "               537213.625703 8.537084e+06       1069.477866  1.434204   \n",
       "...                                                     ...       ...   \n",
       "RGI60-07.01567 534269.488654 8.675206e+06        278.553621  2.123592   \n",
       "               534310.362510 8.675249e+06        256.755923  2.127417   \n",
       "               534309.250485 8.675291e+06        238.477978  2.076787   \n",
       "               534308.138459 8.675333e+06        226.342325  2.005969   \n",
       "               534307.026431 8.675375e+06        215.631320  1.935151   \n",
       "\n",
       "                                           SMB_calc         WH         WHsin  \\\n",
       "rgiid          x             y                                                 \n",
       "RGI60-07.00006 537467.580455 8.536842e+06  0.752798  44.816899    905.138048   \n",
       "               537404.091767 8.536902e+06  0.753056  46.564665    940.436555   \n",
       "               537340.603079 8.536963e+06  0.573153  48.593222    907.007776   \n",
       "               537277.114391 8.537023e+06  0.459876  44.914303    915.712884   \n",
       "               537213.625703 8.537084e+06  0.259794  39.495580    973.715707   \n",
       "...                                             ...        ...           ...   \n",
       "RGI60-07.01567 534269.488654 8.675206e+06 -1.566323   5.529005 -10693.410549   \n",
       "               534310.362510 8.675249e+06 -1.604864   5.495975  -9139.908345   \n",
       "               534309.250485 8.675291e+06 -1.606379   5.104727  -8489.256385   \n",
       "               534308.138459 8.675333e+06 -1.604294   4.799500  -8133.568561   \n",
       "               534307.026431 8.675375e+06 -1.604788   4.572378  -7748.670623   \n",
       "\n",
       "                                              dummy  \n",
       "rgiid          x             y                       \n",
       "RGI60-07.00006 537467.580455 8.536842e+06  0.696970  \n",
       "               537404.091767 8.536902e+06  0.037411  \n",
       "               537340.603079 8.536963e+06  0.320149  \n",
       "               537277.114391 8.537023e+06  0.668710  \n",
       "               537213.625703 8.537084e+06  0.067118  \n",
       "...                                             ...  \n",
       "RGI60-07.01567 534269.488654 8.675206e+06  0.026784  \n",
       "               534310.362510 8.675249e+06  0.991330  \n",
       "               534309.250485 8.675291e+06  0.302855  \n",
       "               534308.138459 8.675333e+06  0.131264  \n",
       "               534307.026431 8.675375e+06  0.637581  \n",
       "\n",
       "[73514 rows x 11 columns]"
      ]
     },
     "execution_count": 24,
     "metadata": {},
     "output_type": "execute_result"
    }
   ],
   "source": [
    "test_full_labels = df_main['Surge']\n",
    "# test_full = df_main.dropna(inplace=True)\n",
    "test_full = df_main.drop(columns=['Unnamed: 0', 'Surge', 'Area', 'Name', 'ELA', 'beta', 'cmb'])\n",
    "test_full"
   ]
  },
  {
   "cell_type": "code",
   "execution_count": 25,
   "metadata": {},
   "outputs": [],
   "source": [
    "dmatrix_train = xgboost.DMatrix(train, label=train_labels)\n",
    "dmatrix_test = xgboost.DMatrix(test[test.columns], label=test_labels)"
   ]
  },
  {
   "cell_type": "code",
   "execution_count": 26,
   "metadata": {},
   "outputs": [
    {
     "data": {
      "text/plain": [
       "(9088,)"
      ]
     },
     "execution_count": 26,
     "metadata": {},
     "output_type": "execute_result"
    }
   ],
   "source": [
    "test_labels.shape"
   ]
  },
  {
   "cell_type": "code",
   "execution_count": 27,
   "metadata": {},
   "outputs": [
    {
     "data": {
      "text/plain": [
       "(9088,)"
      ]
     },
     "execution_count": 27,
     "metadata": {},
     "output_type": "execute_result"
    }
   ],
   "source": [
    "test_labels.shape"
   ]
  },
  {
   "cell_type": "code",
   "execution_count": 28,
   "metadata": {},
   "outputs": [
    {
     "name": "stderr",
     "output_type": "stream",
     "text": [
      "/usr/local/lib64/python3.8/site-packages/xgboost/sklearn.py:888: UserWarning: The use of label encoder in XGBClassifier is deprecated and will be removed in a future release. To remove this warning, do the following: 1) Pass option use_label_encoder=False when constructing XGBClassifier object; and 2) Encode your labels (y) as integers starting with 0, i.e. 0, 1, 2, ..., [num_class - 1].\n",
      "  warnings.warn(label_encoder_deprecation_msg, UserWarning)\n"
     ]
    },
    {
     "data": {
      "text/plain": [
       "XGBClassifier(base_score=0.5, booster='gbtree', colsample_bylevel=1,\n",
       "              colsample_bynode=1, colsample_bytree=1, gamma=0, gpu_id=-1,\n",
       "              importance_type='gain', interaction_constraints='',\n",
       "              learning_rate=0.300000012, max_delta_step=0, max_depth=1,\n",
       "              min_child_weight=1, missing=nan, monotone_constraints='()',\n",
       "              n_estimators=100, n_jobs=8, num_parallel_tree=1,\n",
       "              objective='reg:logistic', random_state=0, reg_alpha=0,\n",
       "              reg_lambda=1, scale_pos_weight=0.5, subsample=1,\n",
       "              tree_method='exact', validate_parameters=1, verbosity=None)"
      ]
     },
     "execution_count": 28,
     "metadata": {},
     "output_type": "execute_result"
    }
   ],
   "source": [
    "# params = {'objective':'reg:logistic', 'num_boost_round':20000, 'max_depth':1, 'scale_pos_weight':0.5}\n",
    "params = {'objective':'reg:logistic', 'max_depth':1, 'scale_pos_weight':0.5}\n",
    "\n",
    "xgb = xgboost.XGBClassifier(**params)\n",
    "xgb.fit(train, train_labels)\n",
    "# xgb = xgboost.train(params, dmatrix_train, num_boost_round=20000)"
   ]
  },
  {
   "cell_type": "code",
   "execution_count": 62,
   "metadata": {},
   "outputs": [
    {
     "data": {
      "text/plain": [
       "array([ 0,  1,  2,  3,  4,  5,  6,  7,  8,  9, 10])"
      ]
     },
     "execution_count": 62,
     "metadata": {},
     "output_type": "execute_result"
    }
   ],
   "source": [
    "np.arange(len(test_full.columns))"
   ]
  },
  {
   "cell_type": "code",
   "execution_count": 56,
   "metadata": {},
   "outputs": [
    {
     "data": {
      "text/plain": [
       "[0, 2, (0, 2)]"
      ]
     },
     "execution_count": 56,
     "metadata": {},
     "output_type": "execute_result"
    }
   ],
   "source": [
    "features = [0, 2, (0, 2)]\n",
    "features"
   ]
  },
  {
   "cell_type": "code",
   "execution_count": 80,
   "metadata": {},
   "outputs": [],
   "source": [
    "from sklearn.inspection import partial_dependence\n",
    "\n",
    "pdps = []\n",
    "axes = []\n",
    "\n",
    "for i in np.arange(len(test_full.columns)):    \n",
    "    pdp = partial_dependence(xgb, train, [i], kind='both')\n",
    "    pdps.append(pdp)\n",
    "#     axes.append(ax)"
   ]
  },
  {
   "cell_type": "code",
   "execution_count": 97,
   "metadata": {},
   "outputs": [
    {
     "data": {
      "text/plain": [
       "Text(0.5, 1.0, 'Partial dependence of the slope')"
      ]
     },
     "execution_count": 97,
     "metadata": {},
     "output_type": "execute_result"
    },
    {
     "data": {
      "image/png": "[encoded data removed]",
      "text/plain": [
       "<Figure size 360x360 with 1 Axes>"
      ]
     },
     "metadata": {
      "needs_background": "light"
     },
     "output_type": "display_data"
    }
   ],
   "source": [
    "fig, ax = plt.subplots(figsize=(5,5))\n",
    "\n",
    "ax.plot(pdps[0]['values'][0], pdps[0].average[0], 'k')\n",
    "ax.set_ylabel('Model prediction')\n",
    "ax.set_xlabel('Values')\n",
    "ax.set_title('Partial dependence of the slope')"
   ]
  },
  {
   "cell_type": "code",
   "execution_count": 98,
   "metadata": {},
   "outputs": [
    {
     "data": {
      "text/plain": [
       "Text(0.5, 1.0, 'Partial dependence of the terminus type')"
      ]
     },
     "execution_count": 98,
     "metadata": {},
     "output_type": "execute_result"
    },
    {
     "data": {
      "image/png": "[encoded data removed]",
      "text/plain": [
       "<Figure size 360x360 with 1 Axes>"
      ]
     },
     "metadata": {
      "needs_background": "light"
     },
     "output_type": "display_data"
    }
   ],
   "source": [
    "fig, ax = plt.subplots(figsize=(5,5))\n",
    "\n",
    "ax.plot(pdps[1]['values'][0], pdps[1].average[0], 'k')\n",
    "ax.set_ylabel('Model prediction')\n",
    "ax.set_xlabel('Values')\n",
    "ax.set_title('Partial dependence of the terminus type')"
   ]
  },
  {
   "cell_type": "code",
   "execution_count": 99,
   "metadata": {},
   "outputs": [
    {
     "data": {
      "text/plain": [
       "Text(0.5, 1.0, 'Partial dependence of the bed elevation')"
      ]
     },
     "execution_count": 99,
     "metadata": {},
     "output_type": "execute_result"
    },
    {
     "data": {
      "image/png": "[encoded data removed]",
      "text/plain": [
       "<Figure size 360x360 with 1 Axes>"
      ]
     },
     "metadata": {
      "needs_background": "light"
     },
     "output_type": "display_data"
    }
   ],
   "source": [
    "fig, ax = plt.subplots(figsize=(5,5))\n",
    "\n",
    "ax.plot(pdps[2]['values'][0], pdps[2].average[0], 'k')\n",
    "ax.set_ylabel('Model prediction')\n",
    "ax.set_xlabel('Values')\n",
    "ax.set_title('Partial dependence of the bed elevation')"
   ]
  },
  {
   "cell_type": "code",
   "execution_count": 100,
   "metadata": {},
   "outputs": [
    {
     "data": {
      "text/plain": [
       "Index(['Slope', 'TermType', 'bed', 'thickness', 'surface_elevation',\n",
       "       'width_centerline', 'Runoff', 'SMB_calc', 'WH', 'WHsin', 'dummy'],\n",
       "      dtype='object')"
      ]
     },
     "execution_count": 100,
     "metadata": {},
     "output_type": "execute_result"
    }
   ],
   "source": [
    "test_full.columns"
   ]
  },
  {
   "cell_type": "code",
   "execution_count": 101,
   "metadata": {},
   "outputs": [
    {
     "data": {
      "text/plain": [
       "Text(0.5, 1.0, 'Partial dependence of the thickness')"
      ]
     },
     "execution_count": 101,
     "metadata": {},
     "output_type": "execute_result"
    },
    {
     "data": {
      "image/png": "[encoded data removed]",
      "text/plain": [
       "<Figure size 360x360 with 1 Axes>"
      ]
     },
     "metadata": {
      "needs_background": "light"
     },
     "output_type": "display_data"
    }
   ],
   "source": [
    "fig, ax = plt.subplots(figsize=(5,5))\n",
    "\n",
    "ax.plot(pdps[3]['values'][0], pdps[3].average[0], 'k')\n",
    "ax.set_ylabel('Model prediction')\n",
    "ax.set_xlabel('Values')\n",
    "ax.set_title('Partial dependence of the thickness')"
   ]
  },
  {
   "cell_type": "code",
   "execution_count": 102,
   "metadata": {},
   "outputs": [
    {
     "data": {
      "text/plain": [
       "Text(0.5, 1.0, 'Partial dependence of the surface elevation')"
      ]
     },
     "execution_count": 102,
     "metadata": {},
     "output_type": "execute_result"
    },
    {
     "data": {
      "image/png": "[encoded data removed]",
      "text/plain": [
       "<Figure size 360x360 with 1 Axes>"
      ]
     },
     "metadata": {
      "needs_background": "light"
     },
     "output_type": "display_data"
    }
   ],
   "source": [
    "fig, ax = plt.subplots(figsize=(5,5))\n",
    "\n",
    "ax.plot(pdps[4]['values'][0], pdps[4].average[0], 'k')\n",
    "ax.set_ylabel('Model prediction')\n",
    "ax.set_xlabel('Values')\n",
    "ax.set_title('Partial dependence of the surface elevation')"
   ]
  },
  {
   "cell_type": "code",
   "execution_count": 103,
   "metadata": {},
   "outputs": [
    {
     "data": {
      "text/plain": [
       "Text(0.5, 1.0, 'Partial dependence of the width')"
      ]
     },
     "execution_count": 103,
     "metadata": {},
     "output_type": "execute_result"
    },
    {
     "data": {
      "image/png": "[encoded data removed]",
      "text/plain": [
       "<Figure size 360x360 with 1 Axes>"
      ]
     },
     "metadata": {
      "needs_background": "light"
     },
     "output_type": "display_data"
    }
   ],
   "source": [
    "fig, ax = plt.subplots(figsize=(5,5))\n",
    "\n",
    "ax.plot(pdps[5]['values'][0], pdps[5].average[0], 'k')\n",
    "ax.set_ylabel('Model prediction')\n",
    "ax.set_xlabel('Values')\n",
    "ax.set_title('Partial dependence of the width')"
   ]
  },
  {
   "cell_type": "code",
   "execution_count": 104,
   "metadata": {},
   "outputs": [
    {
     "data": {
      "text/plain": [
       "Text(0.5, 1.0, 'Partial dependence of the runoff')"
      ]
     },
     "execution_count": 104,
     "metadata": {},
     "output_type": "execute_result"
    },
    {
     "data": {
      "image/png": "[encoded data removed]",
      "text/plain": [
       "<Figure size 360x360 with 1 Axes>"
      ]
     },
     "metadata": {
      "needs_background": "light"
     },
     "output_type": "display_data"
    }
   ],
   "source": [
    "fig, ax = plt.subplots(figsize=(5,5))\n",
    "\n",
    "ax.plot(pdps[6]['values'][0], pdps[6].average[0], 'k')\n",
    "ax.set_ylabel('Model prediction')\n",
    "ax.set_xlabel('Values')\n",
    "ax.set_title('Partial dependence of the runoff')"
   ]
  },
  {
   "cell_type": "code",
   "execution_count": 106,
   "metadata": {},
   "outputs": [
    {
     "data": {
      "text/plain": [
       "Text(0.5, 1.0, 'Partial dependence of the SMB')"
      ]
     },
     "execution_count": 106,
     "metadata": {},
     "output_type": "execute_result"
    },
    {
     "data": {
      "image/png": "[encoded data removed]",
      "text/plain": [
       "<Figure size 360x360 with 1 Axes>"
      ]
     },
     "metadata": {
      "needs_background": "light"
     },
     "output_type": "display_data"
    }
   ],
   "source": [
    "fig, ax = plt.subplots(figsize=(5,5))\n",
    "\n",
    "ax.plot(pdps[7]['values'][0], pdps[7].average[0], 'k')\n",
    "ax.set_ylabel('Model prediction')\n",
    "ax.set_xlabel('Values')\n",
    "ax.set_title('Partial dependence of the SMB')"
   ]
  },
  {
   "cell_type": "code",
   "execution_count": 107,
   "metadata": {},
   "outputs": [
    {
     "data": {
      "text/plain": [
       "Text(0.5, 1.0, 'Partial dependence of the WH')"
      ]
     },
     "execution_count": 107,
     "metadata": {},
     "output_type": "execute_result"
    },
    {
     "data": {
      "image/png": "[encoded data removed]",
      "text/plain": [
       "<Figure size 360x360 with 1 Axes>"
      ]
     },
     "metadata": {
      "needs_background": "light"
     },
     "output_type": "display_data"
    }
   ],
   "source": [
    "fig, ax = plt.subplots(figsize=(5,5))\n",
    "\n",
    "ax.plot(pdps[8]['values'][0], pdps[8].average[0], 'k')\n",
    "ax.set_ylabel('Model prediction')\n",
    "ax.set_xlabel('Values')\n",
    "ax.set_title('Partial dependence of the WH')"
   ]
  },
  {
   "cell_type": "code",
   "execution_count": 108,
   "metadata": {},
   "outputs": [
    {
     "data": {
      "text/plain": [
       "Text(0.5, 1.0, 'Partial dependence of the WHsin(slope)')"
      ]
     },
     "execution_count": 108,
     "metadata": {},
     "output_type": "execute_result"
    },
    {
     "data": {
      "image/png": "[encoded data removed]",
      "text/plain": [
       "<Figure size 360x360 with 1 Axes>"
      ]
     },
     "metadata": {
      "needs_background": "light"
     },
     "output_type": "display_data"
    }
   ],
   "source": [
    "fig, ax = plt.subplots(figsize=(5,5))\n",
    "\n",
    "ax.plot(pdps[9]['values'][0], pdps[9].average[0], 'k')\n",
    "ax.set_ylabel('Model prediction')\n",
    "ax.set_xlabel('Values')\n",
    "ax.set_title('Partial dependence of the WHsin(slope)')"
   ]
  },
  {
   "cell_type": "code",
   "execution_count": 250,
   "metadata": {},
   "outputs": [
    {
     "data": {
      "text/plain": [
       "array([  0.        ,   1.01010101,   2.02020202,   3.03030303,\n",
       "         4.04040404,   5.05050505,   6.06060606,   7.07070707,\n",
       "         8.08080808,   9.09090909,  10.1010101 ,  11.11111111,\n",
       "        12.12121212,  13.13131313,  14.14141414,  15.15151515,\n",
       "        16.16161616,  17.17171717,  18.18181818,  19.19191919,\n",
       "        20.2020202 ,  21.21212121,  22.22222222,  23.23232323,\n",
       "        24.24242424,  25.25252525,  26.26262626,  27.27272727,\n",
       "        28.28282828,  29.29292929,  30.3030303 ,  31.31313131,\n",
       "        32.32323232,  33.33333333,  34.34343434,  35.35353535,\n",
       "        36.36363636,  37.37373737,  38.38383838,  39.39393939,\n",
       "        40.4040404 ,  41.41414141,  42.42424242,  43.43434343,\n",
       "        44.44444444,  45.45454545,  46.46464646,  47.47474747,\n",
       "        48.48484848,  49.49494949,  50.50505051,  51.51515152,\n",
       "        52.52525253,  53.53535354,  54.54545455,  55.55555556,\n",
       "        56.56565657,  57.57575758,  58.58585859,  59.5959596 ,\n",
       "        60.60606061,  61.61616162,  62.62626263,  63.63636364,\n",
       "        64.64646465,  65.65656566,  66.66666667,  67.67676768,\n",
       "        68.68686869,  69.6969697 ,  70.70707071,  71.71717172,\n",
       "        72.72727273,  73.73737374,  74.74747475,  75.75757576,\n",
       "        76.76767677,  77.77777778,  78.78787879,  79.7979798 ,\n",
       "        80.80808081,  81.81818182,  82.82828283,  83.83838384,\n",
       "        84.84848485,  85.85858586,  86.86868687,  87.87878788,\n",
       "        88.88888889,  89.8989899 ,  90.90909091,  91.91919192,\n",
       "        92.92929293,  93.93939394,  94.94949495,  95.95959596,\n",
       "        96.96969697,  97.97979798,  98.98989899, 100.        ])"
      ]
     },
     "execution_count": 250,
     "metadata": {},
     "output_type": "execute_result"
    }
   ],
   "source": [
    "value_per={}\n",
    "for j in np.arange(len(test_full.columns)):\n",
    "    for i in np.arange(len(pdps[j]['values'][0])):\n",
    "#         value_per[str(test_full.columns[j])] = pdps[j]['values'][0]*100/pdps[j]['values'][0].max()\n",
    "          value_per[str(test_full.columns[j])] = (pdps[j]['values'][0]-pdps[j]['values'][0].min())/(pdps[j]['values'][0].max()-pdps[j]['values'][0].min())*100\n",
    "\n",
    "value_per['Slope']"
   ]
  },
  {
   "cell_type": "code",
   "execution_count": 251,
   "metadata": {
    "collapsed": true,
    "jupyter": {
     "outputs_hidden": true
    }
   },
   "outputs": [
    {
     "name": "stdout",
     "output_type": "stream",
     "text": [
      "[  0.           1.01010101   2.02020202   3.03030303   4.04040404\n",
      "   5.05050505   6.06060606   7.07070707   8.08080808   9.09090909\n",
      "  10.1010101   11.11111111  12.12121212  13.13131313  14.14141414\n",
      "  15.15151515  16.16161616  17.17171717  18.18181818  19.19191919\n",
      "  20.2020202   21.21212121  22.22222222  23.23232323  24.24242424\n",
      "  25.25252525  26.26262626  27.27272727  28.28282828  29.29292929\n",
      "  30.3030303   31.31313131  32.32323232  33.33333333  34.34343434\n",
      "  35.35353535  36.36363636  37.37373737  38.38383838  39.39393939\n",
      "  40.4040404   41.41414141  42.42424242  43.43434343  44.44444444\n",
      "  45.45454545  46.46464646  47.47474747  48.48484848  49.49494949\n",
      "  50.50505051  51.51515152  52.52525253  53.53535354  54.54545455\n",
      "  55.55555556  56.56565657  57.57575758  58.58585859  59.5959596\n",
      "  60.60606061  61.61616162  62.62626263  63.63636364  64.64646465\n",
      "  65.65656566  66.66666667  67.67676768  68.68686869  69.6969697\n",
      "  70.70707071  71.71717172  72.72727273  73.73737374  74.74747475\n",
      "  75.75757576  76.76767677  77.77777778  78.78787879  79.7979798\n",
      "  80.80808081  81.81818182  82.82828283  83.83838384  84.84848485\n",
      "  85.85858586  86.86868687  87.87878788  88.88888889  89.8989899\n",
      "  90.90909091  91.91919192  92.92929293  93.93939394  94.94949495\n",
      "  95.95959596  96.96969697  97.97979798  98.98989899 100.        ]\n",
      "[  0. 100.]\n",
      "[  0.           1.01010101   2.02020202   3.03030303   4.04040404\n",
      "   5.05050505   6.06060606   7.07070707   8.08080808   9.09090909\n",
      "  10.1010101   11.11111111  12.12121212  13.13131313  14.14141414\n",
      "  15.15151515  16.16161616  17.17171717  18.18181818  19.19191919\n",
      "  20.2020202   21.21212121  22.22222222  23.23232323  24.24242424\n",
      "  25.25252525  26.26262626  27.27272727  28.28282828  29.29292929\n",
      "  30.3030303   31.31313131  32.32323232  33.33333333  34.34343434\n",
      "  35.35353535  36.36363636  37.37373737  38.38383838  39.39393939\n",
      "  40.4040404   41.41414141  42.42424242  43.43434343  44.44444444\n",
      "  45.45454545  46.46464646  47.47474747  48.48484848  49.49494949\n",
      "  50.50505051  51.51515152  52.52525253  53.53535354  54.54545455\n",
      "  55.55555556  56.56565657  57.57575758  58.58585859  59.5959596\n",
      "  60.60606061  61.61616162  62.62626263  63.63636364  64.64646465\n",
      "  65.65656566  66.66666667  67.67676768  68.68686869  69.6969697\n",
      "  70.70707071  71.71717172  72.72727273  73.73737374  74.74747475\n",
      "  75.75757576  76.76767677  77.77777778  78.78787879  79.7979798\n",
      "  80.80808081  81.81818182  82.82828283  83.83838384  84.84848485\n",
      "  85.85858586  86.86868687  87.87878788  88.88888889  89.8989899\n",
      "  90.90909091  91.91919192  92.92929293  93.93939394  94.94949495\n",
      "  95.95959596  96.96969697  97.97979798  98.98989899 100.        ]\n",
      "[  0.           1.01010101   2.02020202   3.03030303   4.04040404\n",
      "   5.05050505   6.06060606   7.07070707   8.08080808   9.09090909\n",
      "  10.1010101   11.11111111  12.12121212  13.13131313  14.14141414\n",
      "  15.15151515  16.16161616  17.17171717  18.18181818  19.19191919\n",
      "  20.2020202   21.21212121  22.22222222  23.23232323  24.24242424\n",
      "  25.25252525  26.26262626  27.27272727  28.28282828  29.29292929\n",
      "  30.3030303   31.31313131  32.32323232  33.33333333  34.34343434\n",
      "  35.35353535  36.36363636  37.37373737  38.38383838  39.39393939\n",
      "  40.4040404   41.41414141  42.42424242  43.43434343  44.44444444\n",
      "  45.45454545  46.46464646  47.47474747  48.48484848  49.49494949\n",
      "  50.50505051  51.51515152  52.52525253  53.53535354  54.54545455\n",
      "  55.55555556  56.56565657  57.57575758  58.58585859  59.5959596\n",
      "  60.60606061  61.61616162  62.62626263  63.63636364  64.64646465\n",
      "  65.65656566  66.66666667  67.67676768  68.68686869  69.6969697\n",
      "  70.70707071  71.71717172  72.72727273  73.73737374  74.74747475\n",
      "  75.75757576  76.76767677  77.77777778  78.78787879  79.7979798\n",
      "  80.80808081  81.81818182  82.82828283  83.83838384  84.84848485\n",
      "  85.85858586  86.86868687  87.87878788  88.88888889  89.8989899\n",
      "  90.90909091  91.91919192  92.92929293  93.93939394  94.94949495\n",
      "  95.95959596  96.96969697  97.97979798  98.98989899 100.        ]\n",
      "[  0.           1.01010101   2.02020202   3.03030303   4.04040404\n",
      "   5.05050505   6.06060606   7.07070707   8.08080808   9.09090909\n",
      "  10.1010101   11.11111111  12.12121212  13.13131313  14.14141414\n",
      "  15.15151515  16.16161616  17.17171717  18.18181818  19.19191919\n",
      "  20.2020202   21.21212121  22.22222222  23.23232323  24.24242424\n",
      "  25.25252525  26.26262626  27.27272727  28.28282828  29.29292929\n",
      "  30.3030303   31.31313131  32.32323232  33.33333333  34.34343434\n",
      "  35.35353535  36.36363636  37.37373737  38.38383838  39.39393939\n",
      "  40.4040404   41.41414141  42.42424242  43.43434343  44.44444444\n",
      "  45.45454545  46.46464646  47.47474747  48.48484848  49.49494949\n",
      "  50.50505051  51.51515152  52.52525253  53.53535354  54.54545455\n",
      "  55.55555556  56.56565657  57.57575758  58.58585859  59.5959596\n",
      "  60.60606061  61.61616162  62.62626263  63.63636364  64.64646465\n",
      "  65.65656566  66.66666667  67.67676768  68.68686869  69.6969697\n",
      "  70.70707071  71.71717172  72.72727273  73.73737374  74.74747475\n",
      "  75.75757576  76.76767677  77.77777778  78.78787879  79.7979798\n",
      "  80.80808081  81.81818182  82.82828283  83.83838384  84.84848485\n",
      "  85.85858586  86.86868687  87.87878788  88.88888889  89.8989899\n",
      "  90.90909091  91.91919192  92.92929293  93.93939394  94.94949495\n",
      "  95.95959596  96.96969697  97.97979798  98.98989899 100.        ]\n",
      "[  0.           1.01010101   2.02020202   3.03030303   4.04040404\n",
      "   5.05050505   6.06060606   7.07070707   8.08080808   9.09090909\n",
      "  10.1010101   11.11111111  12.12121212  13.13131313  14.14141414\n",
      "  15.15151515  16.16161616  17.17171717  18.18181818  19.19191919\n",
      "  20.2020202   21.21212121  22.22222222  23.23232323  24.24242424\n",
      "  25.25252525  26.26262626  27.27272727  28.28282828  29.29292929\n",
      "  30.3030303   31.31313131  32.32323232  33.33333333  34.34343434\n",
      "  35.35353535  36.36363636  37.37373737  38.38383838  39.39393939\n",
      "  40.4040404   41.41414141  42.42424242  43.43434343  44.44444444\n",
      "  45.45454545  46.46464646  47.47474747  48.48484848  49.49494949\n",
      "  50.50505051  51.51515152  52.52525253  53.53535354  54.54545455\n",
      "  55.55555556  56.56565657  57.57575758  58.58585859  59.5959596\n",
      "  60.60606061  61.61616162  62.62626263  63.63636364  64.64646465\n",
      "  65.65656566  66.66666667  67.67676768  68.68686869  69.6969697\n",
      "  70.70707071  71.71717172  72.72727273  73.73737374  74.74747475\n",
      "  75.75757576  76.76767677  77.77777778  78.78787879  79.7979798\n",
      "  80.80808081  81.81818182  82.82828283  83.83838384  84.84848485\n",
      "  85.85858586  86.86868687  87.87878788  88.88888889  89.8989899\n",
      "  90.90909091  91.91919192  92.92929293  93.93939394  94.94949495\n",
      "  95.95959596  96.96969697  97.97979798  98.98989899 100.        ]\n",
      "[  0.           1.01010101   2.02020202   3.03030303   4.04040404\n",
      "   5.05050505   6.06060606   7.07070707   8.08080808   9.09090909\n",
      "  10.1010101   11.11111111  12.12121212  13.13131313  14.14141414\n",
      "  15.15151515  16.16161616  17.17171717  18.18181818  19.19191919\n",
      "  20.2020202   21.21212121  22.22222222  23.23232323  24.24242424\n",
      "  25.25252525  26.26262626  27.27272727  28.28282828  29.29292929\n",
      "  30.3030303   31.31313131  32.32323232  33.33333333  34.34343434\n",
      "  35.35353535  36.36363636  37.37373737  38.38383838  39.39393939\n",
      "  40.4040404   41.41414141  42.42424242  43.43434343  44.44444444\n",
      "  45.45454545  46.46464646  47.47474747  48.48484848  49.49494949\n",
      "  50.50505051  51.51515152  52.52525253  53.53535354  54.54545455\n",
      "  55.55555556  56.56565657  57.57575758  58.58585859  59.5959596\n",
      "  60.60606061  61.61616162  62.62626263  63.63636364  64.64646465\n",
      "  65.65656566  66.66666667  67.67676768  68.68686869  69.6969697\n",
      "  70.70707071  71.71717172  72.72727273  73.73737374  74.74747475\n",
      "  75.75757576  76.76767677  77.77777778  78.78787879  79.7979798\n",
      "  80.80808081  81.81818182  82.82828283  83.83838384  84.84848485\n",
      "  85.85858586  86.86868687  87.87878788  88.88888889  89.8989899\n",
      "  90.90909091  91.91919192  92.92929293  93.93939394  94.94949495\n",
      "  95.95959596  96.96969697  97.97979798  98.98989899 100.        ]\n",
      "[  0.           1.01010101   2.02020202   3.03030303   4.04040404\n",
      "   5.05050505   6.06060606   7.07070707   8.08080808   9.09090909\n",
      "  10.1010101   11.11111111  12.12121212  13.13131313  14.14141414\n",
      "  15.15151515  16.16161616  17.17171717  18.18181818  19.19191919\n",
      "  20.2020202   21.21212121  22.22222222  23.23232323  24.24242424\n",
      "  25.25252525  26.26262626  27.27272727  28.28282828  29.29292929\n",
      "  30.3030303   31.31313131  32.32323232  33.33333333  34.34343434\n",
      "  35.35353535  36.36363636  37.37373737  38.38383838  39.39393939\n",
      "  40.4040404   41.41414141  42.42424242  43.43434343  44.44444444\n",
      "  45.45454545  46.46464646  47.47474747  48.48484848  49.49494949\n",
      "  50.50505051  51.51515152  52.52525253  53.53535354  54.54545455\n",
      "  55.55555556  56.56565657  57.57575758  58.58585859  59.5959596\n",
      "  60.60606061  61.61616162  62.62626263  63.63636364  64.64646465\n",
      "  65.65656566  66.66666667  67.67676768  68.68686869  69.6969697\n",
      "  70.70707071  71.71717172  72.72727273  73.73737374  74.74747475\n",
      "  75.75757576  76.76767677  77.77777778  78.78787879  79.7979798\n",
      "  80.80808081  81.81818182  82.82828283  83.83838384  84.84848485\n",
      "  85.85858586  86.86868687  87.87878788  88.88888889  89.8989899\n",
      "  90.90909091  91.91919192  92.92929293  93.93939394  94.94949495\n",
      "  95.95959596  96.96969697  97.97979798  98.98989899 100.        ]\n",
      "[  0.           1.01010101   2.02020202   3.03030303   4.04040404\n",
      "   5.05050505   6.06060606   7.07070707   8.08080808   9.09090909\n",
      "  10.1010101   11.11111111  12.12121212  13.13131313  14.14141414\n",
      "  15.15151515  16.16161616  17.17171717  18.18181818  19.19191919\n",
      "  20.2020202   21.21212121  22.22222222  23.23232323  24.24242424\n",
      "  25.25252525  26.26262626  27.27272727  28.28282828  29.29292929\n",
      "  30.3030303   31.31313131  32.32323232  33.33333333  34.34343434\n",
      "  35.35353535  36.36363636  37.37373737  38.38383838  39.39393939\n",
      "  40.4040404   41.41414141  42.42424242  43.43434343  44.44444444\n",
      "  45.45454545  46.46464646  47.47474747  48.48484848  49.49494949\n",
      "  50.50505051  51.51515152  52.52525253  53.53535354  54.54545455\n",
      "  55.55555556  56.56565657  57.57575758  58.58585859  59.5959596\n",
      "  60.60606061  61.61616162  62.62626263  63.63636364  64.64646465\n",
      "  65.65656566  66.66666667  67.67676768  68.68686869  69.6969697\n",
      "  70.70707071  71.71717172  72.72727273  73.73737374  74.74747475\n",
      "  75.75757576  76.76767677  77.77777778  78.78787879  79.7979798\n",
      "  80.80808081  81.81818182  82.82828283  83.83838384  84.84848485\n",
      "  85.85858586  86.86868687  87.87878788  88.88888889  89.8989899\n",
      "  90.90909091  91.91919192  92.92929293  93.93939394  94.94949495\n",
      "  95.95959596  96.96969697  97.97979798  98.98989899 100.        ]\n",
      "[  0.           1.01010101   2.02020202   3.03030303   4.04040404\n",
      "   5.05050505   6.06060606   7.07070707   8.08080808   9.09090909\n",
      "  10.1010101   11.11111111  12.12121212  13.13131313  14.14141414\n",
      "  15.15151515  16.16161616  17.17171717  18.18181818  19.19191919\n",
      "  20.2020202   21.21212121  22.22222222  23.23232323  24.24242424\n",
      "  25.25252525  26.26262626  27.27272727  28.28282828  29.29292929\n",
      "  30.3030303   31.31313131  32.32323232  33.33333333  34.34343434\n",
      "  35.35353535  36.36363636  37.37373737  38.38383838  39.39393939\n",
      "  40.4040404   41.41414141  42.42424242  43.43434343  44.44444444\n",
      "  45.45454545  46.46464646  47.47474747  48.48484848  49.49494949\n",
      "  50.50505051  51.51515152  52.52525253  53.53535354  54.54545455\n",
      "  55.55555556  56.56565657  57.57575758  58.58585859  59.5959596\n",
      "  60.60606061  61.61616162  62.62626263  63.63636364  64.64646465\n",
      "  65.65656566  66.66666667  67.67676768  68.68686869  69.6969697\n",
      "  70.70707071  71.71717172  72.72727273  73.73737374  74.74747475\n",
      "  75.75757576  76.76767677  77.77777778  78.78787879  79.7979798\n",
      "  80.80808081  81.81818182  82.82828283  83.83838384  84.84848485\n",
      "  85.85858586  86.86868687  87.87878788  88.88888889  89.8989899\n",
      "  90.90909091  91.91919192  92.92929293  93.93939394  94.94949495\n",
      "  95.95959596  96.96969697  97.97979798  98.98989899 100.        ]\n",
      "[  0.           1.01010101   2.02020202   3.03030303   4.04040404\n",
      "   5.05050505   6.06060606   7.07070707   8.08080808   9.09090909\n",
      "  10.1010101   11.11111111  12.12121212  13.13131313  14.14141414\n",
      "  15.15151515  16.16161616  17.17171717  18.18181818  19.19191919\n",
      "  20.2020202   21.21212121  22.22222222  23.23232323  24.24242424\n",
      "  25.25252525  26.26262626  27.27272727  28.28282828  29.29292929\n",
      "  30.3030303   31.31313131  32.32323232  33.33333333  34.34343434\n",
      "  35.35353535  36.36363636  37.37373737  38.38383838  39.39393939\n",
      "  40.4040404   41.41414141  42.42424242  43.43434343  44.44444444\n",
      "  45.45454545  46.46464646  47.47474747  48.48484848  49.49494949\n",
      "  50.50505051  51.51515152  52.52525253  53.53535354  54.54545455\n",
      "  55.55555556  56.56565657  57.57575758  58.58585859  59.5959596\n",
      "  60.60606061  61.61616162  62.62626263  63.63636364  64.64646465\n",
      "  65.65656566  66.66666667  67.67676768  68.68686869  69.6969697\n",
      "  70.70707071  71.71717172  72.72727273  73.73737374  74.74747475\n",
      "  75.75757576  76.76767677  77.77777778  78.78787879  79.7979798\n",
      "  80.80808081  81.81818182  82.82828283  83.83838384  84.84848485\n",
      "  85.85858586  86.86868687  87.87878788  88.88888889  89.8989899\n",
      "  90.90909091  91.91919192  92.92929293  93.93939394  94.94949495\n",
      "  95.95959596  96.96969697  97.97979798  98.98989899 100.        ]\n"
     ]
    }
   ],
   "source": [
    "for name in value_per.keys():\n",
    "    print(value_per[name])"
   ]
  },
  {
   "cell_type": "code",
   "execution_count": 216,
   "metadata": {},
   "outputs": [
    {
     "data": {
      "text/plain": [
       "Index(['Slope', 'TermType', 'bed', 'thickness', 'surface_elevation',\n",
       "       'width_centerline', 'Runoff', 'SMB_calc', 'WH', 'WHsin', 'dummy'],\n",
       "      dtype='object')"
      ]
     },
     "execution_count": 216,
     "metadata": {},
     "output_type": "execute_result"
    }
   ],
   "source": [
    "test_full.columns"
   ]
  },
  {
   "cell_type": "code",
   "execution_count": 219,
   "metadata": {},
   "outputs": [
    {
     "data": {
      "text/plain": [
       "(100,)"
      ]
     },
     "execution_count": 219,
     "metadata": {},
     "output_type": "execute_result"
    }
   ],
   "source": [
    "value_per['bed'].shape"
   ]
  },
  {
   "cell_type": "code",
   "execution_count": 252,
   "metadata": {},
   "outputs": [],
   "source": [
    "values = value_per.values()\n",
    "values_list = list(values)"
   ]
  },
  {
   "cell_type": "code",
   "execution_count": 253,
   "metadata": {},
   "outputs": [
    {
     "data": {
      "image/png": "[encoded data removed]",
      "text/plain": [
       "<Figure size 360x360 with 1 Axes>"
      ]
     },
     "metadata": {
      "needs_background": "light"
     },
     "output_type": "display_data"
    }
   ],
   "source": [
    "fig, ax = plt.subplots(figsize=(5,5))\n",
    "ax.set_ylabel('Model prediction')\n",
    "ax.set_xlabel('Values (%)')\n",
    "ax.set_xlim([0, 100])\n",
    "ax.set_title('Partial dependencies of each variables')\n",
    "\n",
    "for i in np.arange(len(test_full.columns)):\n",
    "        ax.plot(values_list[i], pdps[i].average[0], label=str(test_full.columns[i]))\n",
    "        ax.legend(loc='center left', bbox_to_anchor=(1, 0.5))\n"
   ]
  }
 ],
 "metadata": {
  "kernelspec": {
   "display_name": "Python 3",
   "language": "python",
   "name": "python3"
  },
  "language_info": {
   "codemirror_mode": {
    "name": "ipython",
    "version": 3
   },
   "file_extension": ".py",
   "mimetype": "text/x-python",
   "name": "python",
   "nbconvert_exporter": "python",
   "pygments_lexer": "ipython3",
   "version": "3.8.6"
  }
 },
 "nbformat": 4,
 "nbformat_minor": 4
}
