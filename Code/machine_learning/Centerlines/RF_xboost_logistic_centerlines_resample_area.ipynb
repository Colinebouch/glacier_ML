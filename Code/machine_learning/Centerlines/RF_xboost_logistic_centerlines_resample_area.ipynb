{
 "cells": [
  {
   "cell_type": "markdown",
   "metadata": {},
   "source": [
    "Theory : https://towardsdatascience.com/understanding-random-forest-58381e0602d2\n",
    "\n",
    "Examples : https://towardsdatascience.com/an-implementation-and-explanation-of-the-random-forest-in-python-77bf308a9b76"
   ]
  },
  {
   "cell_type": "markdown",
   "metadata": {},
   "source": [
    "# Forests of randomized trees"
   ]
  },
  {
   "cell_type": "code",
   "execution_count": 1,
   "metadata": {},
   "outputs": [],
   "source": [
    "import numpy as np\n",
    "import pandas as pd\n",
    "from sklearn.model_selection import train_test_split\n",
    "from sklearn.tree import DecisionTreeClassifier\n",
    "from sklearn.metrics import precision_score, recall_score, roc_auc_score, roc_curve\n",
    "\n",
    "import matplotlib.pyplot as plt\n",
    "\n",
    "from sklearn.utils import resample"
   ]
  },
  {
   "cell_type": "markdown",
   "metadata": {},
   "source": [
    "### Set random seed to ensure reproducible runs"
   ]
  },
  {
   "cell_type": "code",
   "execution_count": 2,
   "metadata": {},
   "outputs": [],
   "source": [
    "RSEED = 50"
   ]
  },
  {
   "cell_type": "markdown",
   "metadata": {},
   "source": [
    "### Importing data and data cleaning"
   ]
  },
  {
   "cell_type": "code",
   "execution_count": 3,
   "metadata": {},
   "outputs": [
    {
     "data": {
      "text/plain": [
       "Index(['Unnamed: 0', 'x', 'y', 'Surge', 'Area', 'Slope', 'TermType', 'Name',\n",
       "       'bed', 'thickness', 'surface_elevation', 'ELA', 'beta', 'cmb',\n",
       "       'width_centerline', 'Runoff'],\n",
       "      dtype='object')"
      ]
     },
     "execution_count": 3,
     "metadata": {},
     "output_type": "execute_result"
    }
   ],
   "source": [
    "df_main = pd.read_csv('/home/colili/Documents/PhD/project_john/DataFrame_produced/df_main.csv', index_col='rgiid')\n",
    "df_main.columns"
   ]
  },
  {
   "cell_type": "code",
   "execution_count": 4,
   "metadata": {},
   "outputs": [
    {
     "data": {
      "text/plain": [
       "(94234, 16)"
      ]
     },
     "execution_count": 4,
     "metadata": {},
     "output_type": "execute_result"
    }
   ],
   "source": [
    "df_main.shape"
   ]
  },
  {
   "cell_type": "code",
   "execution_count": 5,
   "metadata": {},
   "outputs": [],
   "source": [
    "df_main['WH'] = df_main['width_centerline'] / df_main['thickness']\n",
    "df_main['WHsin'] = df_main['thickness']*df_main['width_centerline']*np.sin(df_main['Slope'])\n",
    "df_main['dummy'] = np.random.rand(df_main.shape[0])"
   ]
  },
  {
   "cell_type": "code",
   "execution_count": 6,
   "metadata": {},
   "outputs": [],
   "source": [
    "df_main.drop(df_main[df_main['Surge']==9].index, inplace = True)\n",
    "df_main.drop(df_main[df_main['Surge']==1].index, inplace = True)\n",
    "df_main.drop(df_main[df_main['Surge']==2].index, inplace = True)\n",
    "df = df_main.drop(columns = ['Unnamed: 0','x', 'y', 'ELA', 'beta', 'Name', 'Area'])\n",
    "df.dropna(how='any', inplace=True)"
   ]
  },
  {
   "cell_type": "code",
   "execution_count": 7,
   "metadata": {},
   "outputs": [
    {
     "data": {
      "text/html": [
       "<div>\n",
       "<style scoped>\n",
       "    .dataframe tbody tr th:only-of-type {\n",
       "        vertical-align: middle;\n",
       "    }\n",
       "\n",
       "    .dataframe tbody tr th {\n",
       "        vertical-align: top;\n",
       "    }\n",
       "\n",
       "    .dataframe thead th {\n",
       "        text-align: right;\n",
       "    }\n",
       "</style>\n",
       "<table border=\"1\" class=\"dataframe\">\n",
       "  <thead>\n",
       "    <tr style=\"text-align: right;\">\n",
       "      <th></th>\n",
       "      <th>Surge</th>\n",
       "      <th>Slope</th>\n",
       "      <th>TermType</th>\n",
       "      <th>bed</th>\n",
       "      <th>thickness</th>\n",
       "      <th>surface_elevation</th>\n",
       "      <th>cmb</th>\n",
       "      <th>width_centerline</th>\n",
       "      <th>Runoff</th>\n",
       "      <th>WH</th>\n",
       "      <th>WHsin</th>\n",
       "      <th>dummy</th>\n",
       "    </tr>\n",
       "    <tr>\n",
       "      <th>rgiid</th>\n",
       "      <th></th>\n",
       "      <th></th>\n",
       "      <th></th>\n",
       "      <th></th>\n",
       "      <th></th>\n",
       "      <th></th>\n",
       "      <th></th>\n",
       "      <th></th>\n",
       "      <th></th>\n",
       "      <th></th>\n",
       "      <th></th>\n",
       "      <th></th>\n",
       "    </tr>\n",
       "  </thead>\n",
       "  <tbody>\n",
       "    <tr>\n",
       "      <th>RGI60-07.00004</th>\n",
       "      <td>0</td>\n",
       "      <td>13.8</td>\n",
       "      <td>0</td>\n",
       "      <td>889.68555</td>\n",
       "      <td>25.314478</td>\n",
       "      <td>915.00000</td>\n",
       "      <td>1.392706</td>\n",
       "      <td>279.780932</td>\n",
       "      <td>1.100061</td>\n",
       "      <td>11.052210</td>\n",
       "      <td>6683.732353</td>\n",
       "      <td>0.438288</td>\n",
       "    </tr>\n",
       "    <tr>\n",
       "      <th>RGI60-07.00004</th>\n",
       "      <td>0</td>\n",
       "      <td>13.8</td>\n",
       "      <td>0</td>\n",
       "      <td>882.06460</td>\n",
       "      <td>30.935455</td>\n",
       "      <td>913.00000</td>\n",
       "      <td>1.391001</td>\n",
       "      <td>295.980219</td>\n",
       "      <td>1.094416</td>\n",
       "      <td>9.567670</td>\n",
       "      <td>8640.744376</td>\n",
       "      <td>0.970250</td>\n",
       "    </tr>\n",
       "    <tr>\n",
       "      <th>RGI60-07.00004</th>\n",
       "      <td>0</td>\n",
       "      <td>13.8</td>\n",
       "      <td>0</td>\n",
       "      <td>882.06460</td>\n",
       "      <td>30.935455</td>\n",
       "      <td>913.00000</td>\n",
       "      <td>1.389296</td>\n",
       "      <td>330.851846</td>\n",
       "      <td>1.088771</td>\n",
       "      <td>10.694908</td>\n",
       "      <td>9658.774620</td>\n",
       "      <td>0.406215</td>\n",
       "    </tr>\n",
       "    <tr>\n",
       "      <th>RGI60-07.00004</th>\n",
       "      <td>0</td>\n",
       "      <td>13.8</td>\n",
       "      <td>0</td>\n",
       "      <td>882.06460</td>\n",
       "      <td>30.935455</td>\n",
       "      <td>913.00000</td>\n",
       "      <td>1.387591</td>\n",
       "      <td>342.886985</td>\n",
       "      <td>1.083127</td>\n",
       "      <td>11.083948</td>\n",
       "      <td>10010.124318</td>\n",
       "      <td>0.145089</td>\n",
       "    </tr>\n",
       "    <tr>\n",
       "      <th>RGI60-07.00004</th>\n",
       "      <td>0</td>\n",
       "      <td>13.8</td>\n",
       "      <td>0</td>\n",
       "      <td>881.31860</td>\n",
       "      <td>34.681380</td>\n",
       "      <td>916.00000</td>\n",
       "      <td>1.385886</td>\n",
       "      <td>336.403639</td>\n",
       "      <td>1.077530</td>\n",
       "      <td>9.699834</td>\n",
       "      <td>11010.043050</td>\n",
       "      <td>0.961833</td>\n",
       "    </tr>\n",
       "    <tr>\n",
       "      <th>...</th>\n",
       "      <td>...</td>\n",
       "      <td>...</td>\n",
       "      <td>...</td>\n",
       "      <td>...</td>\n",
       "      <td>...</td>\n",
       "      <td>...</td>\n",
       "      <td>...</td>\n",
       "      <td>...</td>\n",
       "      <td>...</td>\n",
       "      <td>...</td>\n",
       "      <td>...</td>\n",
       "      <td>...</td>\n",
       "    </tr>\n",
       "    <tr>\n",
       "      <th>RGI60-07.01567</th>\n",
       "      <td>3</td>\n",
       "      <td>11.7</td>\n",
       "      <td>0</td>\n",
       "      <td>237.64468</td>\n",
       "      <td>50.380424</td>\n",
       "      <td>288.02512</td>\n",
       "      <td>-1.412920</td>\n",
       "      <td>278.553621</td>\n",
       "      <td>2.123592</td>\n",
       "      <td>5.529005</td>\n",
       "      <td>-10693.410549</td>\n",
       "      <td>0.934419</td>\n",
       "    </tr>\n",
       "    <tr>\n",
       "      <th>RGI60-07.01567</th>\n",
       "      <td>3</td>\n",
       "      <td>11.7</td>\n",
       "      <td>0</td>\n",
       "      <td>233.07228</td>\n",
       "      <td>46.717087</td>\n",
       "      <td>279.78937</td>\n",
       "      <td>-1.423469</td>\n",
       "      <td>256.755923</td>\n",
       "      <td>2.127417</td>\n",
       "      <td>5.495975</td>\n",
       "      <td>-9139.908345</td>\n",
       "      <td>0.069435</td>\n",
       "    </tr>\n",
       "    <tr>\n",
       "      <th>RGI60-07.01567</th>\n",
       "      <td>3</td>\n",
       "      <td>11.7</td>\n",
       "      <td>0</td>\n",
       "      <td>233.07228</td>\n",
       "      <td>46.717087</td>\n",
       "      <td>279.78937</td>\n",
       "      <td>-1.395654</td>\n",
       "      <td>238.477978</td>\n",
       "      <td>2.076787</td>\n",
       "      <td>5.104727</td>\n",
       "      <td>-8489.256385</td>\n",
       "      <td>0.769984</td>\n",
       "    </tr>\n",
       "    <tr>\n",
       "      <th>RGI60-07.01567</th>\n",
       "      <td>3</td>\n",
       "      <td>11.7</td>\n",
       "      <td>0</td>\n",
       "      <td>233.18828</td>\n",
       "      <td>47.159560</td>\n",
       "      <td>280.34784</td>\n",
       "      <td>-1.382369</td>\n",
       "      <td>226.342325</td>\n",
       "      <td>2.005969</td>\n",
       "      <td>4.799500</td>\n",
       "      <td>-8133.568561</td>\n",
       "      <td>0.070343</td>\n",
       "    </tr>\n",
       "    <tr>\n",
       "      <th>RGI60-07.01567</th>\n",
       "      <td>3</td>\n",
       "      <td>11.7</td>\n",
       "      <td>0</td>\n",
       "      <td>233.18828</td>\n",
       "      <td>47.159560</td>\n",
       "      <td>280.34784</td>\n",
       "      <td>-1.369084</td>\n",
       "      <td>215.631320</td>\n",
       "      <td>1.935151</td>\n",
       "      <td>4.572378</td>\n",
       "      <td>-7748.670623</td>\n",
       "      <td>0.653704</td>\n",
       "    </tr>\n",
       "  </tbody>\n",
       "</table>\n",
       "<p>79572 rows × 12 columns</p>\n",
       "</div>"
      ],
      "text/plain": [
       "                Surge  Slope  TermType        bed  thickness  \\\n",
       "rgiid                                                          \n",
       "RGI60-07.00004      0   13.8         0  889.68555  25.314478   \n",
       "RGI60-07.00004      0   13.8         0  882.06460  30.935455   \n",
       "RGI60-07.00004      0   13.8         0  882.06460  30.935455   \n",
       "RGI60-07.00004      0   13.8         0  882.06460  30.935455   \n",
       "RGI60-07.00004      0   13.8         0  881.31860  34.681380   \n",
       "...               ...    ...       ...        ...        ...   \n",
       "RGI60-07.01567      3   11.7         0  237.64468  50.380424   \n",
       "RGI60-07.01567      3   11.7         0  233.07228  46.717087   \n",
       "RGI60-07.01567      3   11.7         0  233.07228  46.717087   \n",
       "RGI60-07.01567      3   11.7         0  233.18828  47.159560   \n",
       "RGI60-07.01567      3   11.7         0  233.18828  47.159560   \n",
       "\n",
       "                surface_elevation       cmb  width_centerline    Runoff  \\\n",
       "rgiid                                                                     \n",
       "RGI60-07.00004          915.00000  1.392706        279.780932  1.100061   \n",
       "RGI60-07.00004          913.00000  1.391001        295.980219  1.094416   \n",
       "RGI60-07.00004          913.00000  1.389296        330.851846  1.088771   \n",
       "RGI60-07.00004          913.00000  1.387591        342.886985  1.083127   \n",
       "RGI60-07.00004          916.00000  1.385886        336.403639  1.077530   \n",
       "...                           ...       ...               ...       ...   \n",
       "RGI60-07.01567          288.02512 -1.412920        278.553621  2.123592   \n",
       "RGI60-07.01567          279.78937 -1.423469        256.755923  2.127417   \n",
       "RGI60-07.01567          279.78937 -1.395654        238.477978  2.076787   \n",
       "RGI60-07.01567          280.34784 -1.382369        226.342325  2.005969   \n",
       "RGI60-07.01567          280.34784 -1.369084        215.631320  1.935151   \n",
       "\n",
       "                       WH         WHsin     dummy  \n",
       "rgiid                                              \n",
       "RGI60-07.00004  11.052210   6683.732353  0.438288  \n",
       "RGI60-07.00004   9.567670   8640.744376  0.970250  \n",
       "RGI60-07.00004  10.694908   9658.774620  0.406215  \n",
       "RGI60-07.00004  11.083948  10010.124318  0.145089  \n",
       "RGI60-07.00004   9.699834  11010.043050  0.961833  \n",
       "...                   ...           ...       ...  \n",
       "RGI60-07.01567   5.529005 -10693.410549  0.934419  \n",
       "RGI60-07.01567   5.495975  -9139.908345  0.069435  \n",
       "RGI60-07.01567   5.104727  -8489.256385  0.769984  \n",
       "RGI60-07.01567   4.799500  -8133.568561  0.070343  \n",
       "RGI60-07.01567   4.572378  -7748.670623  0.653704  \n",
       "\n",
       "[79572 rows x 12 columns]"
      ]
     },
     "execution_count": 7,
     "metadata": {},
     "output_type": "execute_result"
    }
   ],
   "source": [
    "df"
   ]
  },
  {
   "cell_type": "code",
   "execution_count": 8,
   "metadata": {},
   "outputs": [
    {
     "data": {
      "text/html": [
       "<div>\n",
       "<style scoped>\n",
       "    .dataframe tbody tr th:only-of-type {\n",
       "        vertical-align: middle;\n",
       "    }\n",
       "\n",
       "    .dataframe tbody tr th {\n",
       "        vertical-align: top;\n",
       "    }\n",
       "\n",
       "    .dataframe thead th {\n",
       "        text-align: right;\n",
       "    }\n",
       "</style>\n",
       "<table border=\"1\" class=\"dataframe\">\n",
       "  <thead>\n",
       "    <tr style=\"text-align: right;\">\n",
       "      <th></th>\n",
       "      <th>Unnamed: 0</th>\n",
       "      <th>x</th>\n",
       "      <th>y</th>\n",
       "      <th>Area</th>\n",
       "      <th>Slope</th>\n",
       "      <th>TermType</th>\n",
       "      <th>Name</th>\n",
       "      <th>bed</th>\n",
       "      <th>thickness</th>\n",
       "      <th>surface_elevation</th>\n",
       "      <th>ELA</th>\n",
       "      <th>beta</th>\n",
       "      <th>cmb</th>\n",
       "      <th>width_centerline</th>\n",
       "      <th>Runoff</th>\n",
       "      <th>WH</th>\n",
       "      <th>WHsin</th>\n",
       "      <th>dummy</th>\n",
       "    </tr>\n",
       "    <tr>\n",
       "      <th>Surge</th>\n",
       "      <th></th>\n",
       "      <th></th>\n",
       "      <th></th>\n",
       "      <th></th>\n",
       "      <th></th>\n",
       "      <th></th>\n",
       "      <th></th>\n",
       "      <th></th>\n",
       "      <th></th>\n",
       "      <th></th>\n",
       "      <th></th>\n",
       "      <th></th>\n",
       "      <th></th>\n",
       "      <th></th>\n",
       "      <th></th>\n",
       "      <th></th>\n",
       "      <th></th>\n",
       "      <th></th>\n",
       "    </tr>\n",
       "  </thead>\n",
       "  <tbody>\n",
       "    <tr>\n",
       "      <th>0</th>\n",
       "      <td>68813</td>\n",
       "      <td>68813</td>\n",
       "      <td>68813</td>\n",
       "      <td>68813</td>\n",
       "      <td>68813</td>\n",
       "      <td>68813</td>\n",
       "      <td>48314</td>\n",
       "      <td>68813</td>\n",
       "      <td>68813</td>\n",
       "      <td>68813</td>\n",
       "      <td>68752</td>\n",
       "      <td>68752</td>\n",
       "      <td>68752</td>\n",
       "      <td>68707</td>\n",
       "      <td>68813</td>\n",
       "      <td>68707</td>\n",
       "      <td>68707</td>\n",
       "      <td>68813</td>\n",
       "    </tr>\n",
       "    <tr>\n",
       "      <th>3</th>\n",
       "      <td>10906</td>\n",
       "      <td>10906</td>\n",
       "      <td>10906</td>\n",
       "      <td>10906</td>\n",
       "      <td>10906</td>\n",
       "      <td>10906</td>\n",
       "      <td>10827</td>\n",
       "      <td>10906</td>\n",
       "      <td>10906</td>\n",
       "      <td>10906</td>\n",
       "      <td>10897</td>\n",
       "      <td>10897</td>\n",
       "      <td>10897</td>\n",
       "      <td>10905</td>\n",
       "      <td>10906</td>\n",
       "      <td>10905</td>\n",
       "      <td>10905</td>\n",
       "      <td>10906</td>\n",
       "    </tr>\n",
       "  </tbody>\n",
       "</table>\n",
       "</div>"
      ],
      "text/plain": [
       "       Unnamed: 0      x      y   Area  Slope  TermType   Name    bed  \\\n",
       "Surge                                                                   \n",
       "0           68813  68813  68813  68813  68813     68813  48314  68813   \n",
       "3           10906  10906  10906  10906  10906     10906  10827  10906   \n",
       "\n",
       "       thickness  surface_elevation    ELA   beta    cmb  width_centerline  \\\n",
       "Surge                                                                        \n",
       "0          68813              68813  68752  68752  68752             68707   \n",
       "3          10906              10906  10897  10897  10897             10905   \n",
       "\n",
       "       Runoff     WH  WHsin  dummy  \n",
       "Surge                               \n",
       "0       68813  68707  68707  68813  \n",
       "3       10906  10905  10905  10906  "
      ]
     },
     "execution_count": 8,
     "metadata": {},
     "output_type": "execute_result"
    }
   ],
   "source": [
    "df_main.groupby('Surge').count()"
   ]
  },
  {
   "cell_type": "code",
   "execution_count": 9,
   "metadata": {},
   "outputs": [
    {
     "data": {
      "text/plain": [
       "0    68675\n",
       "1    10897\n",
       "Name: label, dtype: int64"
      ]
     },
     "execution_count": 9,
     "metadata": {},
     "output_type": "execute_result"
    }
   ],
   "source": [
    "df['Surge'] = df['Surge'].replace({3: 1})\n",
    "df = df.loc[df['Surge'].isin([0, 1])].copy()\n",
    "df = df.rename(columns = {'Surge': 'label'})\n",
    "df['label'].value_counts()"
   ]
  },
  {
   "cell_type": "code",
   "execution_count": 10,
   "metadata": {},
   "outputs": [
    {
     "data": {
      "text/plain": [
       "10897"
      ]
     },
     "execution_count": 10,
     "metadata": {},
     "output_type": "execute_result"
    }
   ],
   "source": [
    "df[df['label']==1].shape[0]"
   ]
  },
  {
   "cell_type": "code",
   "execution_count": 11,
   "metadata": {},
   "outputs": [
    {
     "data": {
      "text/plain": [
       "(79572, 12)"
      ]
     },
     "execution_count": 11,
     "metadata": {},
     "output_type": "execute_result"
    }
   ],
   "source": [
    "df.shape"
   ]
  },
  {
   "cell_type": "markdown",
   "metadata": {},
   "source": [
    "### Resampled"
   ]
  },
  {
   "cell_type": "code",
   "execution_count": 12,
   "metadata": {},
   "outputs": [],
   "source": [
    "# Separate majority and minority classes\n",
    "df_majority = df[df['label']==0]\n",
    "df_minority = df[df['label']==1]\n",
    " \n",
    "# Downsample majority class\n",
    "df_majority_downsampled = resample(df_majority, \n",
    "                                 replace=False,    # sample without replacement\n",
    "                                 n_samples=df[df['label']==1].shape[0],     # to match minority class\n",
    "                                 random_state=RSEED) # reproducible results\n",
    " \n",
    "# Combine minority class with downsampled majority class\n",
    "df_downsampled = pd.concat([df_majority_downsampled, df_minority])\n",
    " \n",
    "# Display new class counts\n",
    "df_downsampled['label'].value_counts()\n",
    "df = df_downsampled"
   ]
  },
  {
   "cell_type": "code",
   "execution_count": 13,
   "metadata": {},
   "outputs": [
    {
     "data": {
      "text/plain": [
       "Index(['label', 'Slope', 'TermType', 'bed', 'thickness', 'surface_elevation',\n",
       "       'cmb', 'width_centerline', 'Runoff', 'WH', 'WHsin', 'dummy'],\n",
       "      dtype='object')"
      ]
     },
     "execution_count": 13,
     "metadata": {},
     "output_type": "execute_result"
    }
   ],
   "source": [
    "df_downsampled.columns"
   ]
  },
  {
   "cell_type": "code",
   "execution_count": 14,
   "metadata": {},
   "outputs": [],
   "source": [
    "# Extract the labels\n",
    "labels = np.array(df.pop('label'))\n",
    "\n",
    "# 30% examples in test data\n",
    "train, test, train_labels, test_labels = train_test_split(df, labels, \n",
    "                                                          stratify = labels,\n",
    "                                                          test_size = 0.3, \n",
    "                                                          random_state = RSEED)"
   ]
  },
  {
   "cell_type": "code",
   "execution_count": 15,
   "metadata": {},
   "outputs": [
    {
     "data": {
      "text/plain": [
       "0.5000327761389708"
      ]
     },
     "execution_count": 15,
     "metadata": {},
     "output_type": "execute_result"
    }
   ],
   "source": [
    "train_labels.sum()/train_labels.shape[0]"
   ]
  },
  {
   "cell_type": "code",
   "execution_count": 16,
   "metadata": {},
   "outputs": [
    {
     "data": {
      "text/plain": [
       "0.499923535708824"
      ]
     },
     "execution_count": 16,
     "metadata": {},
     "output_type": "execute_result"
    }
   ],
   "source": [
    "test_labels.sum()/test_labels.shape[0]"
   ]
  },
  {
   "cell_type": "code",
   "execution_count": 17,
   "metadata": {},
   "outputs": [
    {
     "name": "stdout",
     "output_type": "stream",
     "text": [
      "Slope\n",
      "False    21794\n",
      "Name: Slope, dtype: int64\n",
      "\n",
      "TermType\n",
      "False    21794\n",
      "Name: TermType, dtype: int64\n",
      "\n",
      "bed\n",
      "False    21794\n",
      "Name: bed, dtype: int64\n",
      "\n",
      "thickness\n",
      "False    21794\n",
      "Name: thickness, dtype: int64\n",
      "\n",
      "surface_elevation\n",
      "False    21794\n",
      "Name: surface_elevation, dtype: int64\n",
      "\n",
      "cmb\n",
      "False    21794\n",
      "Name: cmb, dtype: int64\n",
      "\n",
      "width_centerline\n",
      "False    21794\n",
      "Name: width_centerline, dtype: int64\n",
      "\n",
      "Runoff\n",
      "False    21794\n",
      "Name: Runoff, dtype: int64\n",
      "\n",
      "WH\n",
      "False    21794\n",
      "Name: WH, dtype: int64\n",
      "\n",
      "WHsin\n",
      "False    21794\n",
      "Name: WHsin, dtype: int64\n",
      "\n",
      "dummy\n",
      "False    21794\n",
      "Name: dummy, dtype: int64\n",
      "\n"
     ]
    }
   ],
   "source": [
    "missing_data = df.isna()\n",
    "for column in missing_data.columns.values.tolist():\n",
    "    print(column)\n",
    "    print(missing_data[column].value_counts())\n",
    "    print(\"\")"
   ]
  },
  {
   "cell_type": "code",
   "execution_count": 18,
   "metadata": {},
   "outputs": [
    {
     "data": {
      "text/plain": [
       "0.04996143628417174"
      ]
     },
     "execution_count": 18,
     "metadata": {},
     "output_type": "execute_result"
    }
   ],
   "source": [
    "4081/81683"
   ]
  },
  {
   "cell_type": "code",
   "execution_count": 19,
   "metadata": {},
   "outputs": [
    {
     "data": {
      "text/plain": [
       "['Slope',\n",
       " 'TermType',\n",
       " 'bed',\n",
       " 'thickness',\n",
       " 'surface_elevation',\n",
       " 'cmb',\n",
       " 'width_centerline',\n",
       " 'Runoff',\n",
       " 'WH',\n",
       " 'WHsin',\n",
       " 'dummy']"
      ]
     },
     "execution_count": 19,
     "metadata": {},
     "output_type": "execute_result"
    }
   ],
   "source": [
    "# Features for feature importances\n",
    "features = list(train.columns)\n",
    "features"
   ]
  },
  {
   "cell_type": "code",
   "execution_count": 20,
   "metadata": {},
   "outputs": [
    {
     "data": {
      "text/plain": [
       "(15255, 11)"
      ]
     },
     "execution_count": 20,
     "metadata": {},
     "output_type": "execute_result"
    }
   ],
   "source": [
    "train.shape"
   ]
  },
  {
   "cell_type": "code",
   "execution_count": 21,
   "metadata": {},
   "outputs": [
    {
     "data": {
      "text/plain": [
       "(15255,)"
      ]
     },
     "execution_count": 21,
     "metadata": {},
     "output_type": "execute_result"
    }
   ],
   "source": [
    "train_labels.shape"
   ]
  },
  {
   "cell_type": "code",
   "execution_count": 22,
   "metadata": {},
   "outputs": [
    {
     "data": {
      "text/plain": [
       "(6539, 11)"
      ]
     },
     "execution_count": 22,
     "metadata": {},
     "output_type": "execute_result"
    }
   ],
   "source": [
    "test.shape"
   ]
  },
  {
   "cell_type": "markdown",
   "metadata": {},
   "source": [
    "### Evaluate the decision tree"
   ]
  },
  {
   "cell_type": "code",
   "execution_count": 23,
   "metadata": {},
   "outputs": [],
   "source": [
    "def evaluate_model(predictions, probs, train_predictions, train_probs):\n",
    "    \"\"\"Compare machine learning model to baseline performance.\n",
    "    Computes statistics and shows ROC curve.\"\"\"\n",
    "    \n",
    "    baseline = {}\n",
    "    \n",
    "    baseline['recall'] = recall_score(test_labels, [1 for _ in range(len(test_labels))])\n",
    "    baseline['precision'] = precision_score(test_labels, [1 for _ in range(len(test_labels))])\n",
    "    baseline['roc'] = 0.5\n",
    "    \n",
    "    results = {}\n",
    "    \n",
    "    results['recall'] = recall_score(test_labels, predictions)\n",
    "    results['precision'] = precision_score(test_labels, predictions)\n",
    "    results['roc'] = roc_auc_score(test_labels, probs)\n",
    "    \n",
    "    train_results = {}\n",
    "    train_results['recall'] = recall_score(train_labels, train_predictions)\n",
    "    train_results['precision'] = precision_score(train_labels, train_predictions)\n",
    "    train_results['roc'] = roc_auc_score(train_labels, train_probs)\n",
    "    \n",
    "    for metric in ['recall', 'precision', 'roc']:\n",
    "        print(f'{metric.capitalize()} Baseline: {round(baseline[metric], 2)} Test: {round(results[metric], 2)} Train: {round(train_results[metric], 2)}')\n",
    "    \n",
    "    # Calculate false positive rates and true positive rates\n",
    "    base_fpr, base_tpr, _ = roc_curve(test_labels, [1 for _ in range(len(test_labels))])\n",
    "    model_fpr, model_tpr, _ = roc_curve(test_labels, probs)\n",
    "\n",
    "    plt.figure(figsize = (8, 6))\n",
    "    plt.rcParams['font.size'] = 16\n",
    "    \n",
    "    # Plot both curves\n",
    "    plt.plot(base_fpr, base_tpr, 'k', label = 'baseline')\n",
    "    plt.plot(model_fpr, model_tpr, 'm', label = 'model')\n",
    "    plt.text(s = 'AUC = ' + str(round(roc_auc_score(train_labels, train_probs),2))\n",
    "    , x=0.6, y=0.0, fontsize=15\n",
    ")\n",
    "    plt.legend();\n",
    "    plt.xlabel('False Positive Rate'); plt.ylabel('True Positive Rate'); plt.title('ROC Curves');"
   ]
  },
  {
   "cell_type": "markdown",
   "metadata": {},
   "source": [
    "### Random forest"
   ]
  },
  {
   "cell_type": "code",
   "execution_count": 24,
   "metadata": {},
   "outputs": [
    {
     "data": {
      "text/plain": [
       "Index(['Slope', 'TermType', 'bed', 'thickness', 'surface_elevation', 'cmb',\n",
       "       'width_centerline', 'Runoff', 'WH', 'WHsin', 'dummy'],\n",
       "      dtype='object')"
      ]
     },
     "execution_count": 24,
     "metadata": {},
     "output_type": "execute_result"
    }
   ],
   "source": [
    "df.columns"
   ]
  },
  {
   "cell_type": "code",
   "execution_count": 25,
   "metadata": {},
   "outputs": [
    {
     "name": "stderr",
     "output_type": "stream",
     "text": [
      "[Parallel(n_jobs=-1)]: Using backend ThreadingBackend with 8 concurrent workers.\n",
      "[Parallel(n_jobs=-1)]: Done  34 tasks      | elapsed:    0.1s\n",
      "[Parallel(n_jobs=-1)]: Done 184 tasks      | elapsed:    0.4s\n",
      "[Parallel(n_jobs=-1)]: Done 434 tasks      | elapsed:    1.1s\n",
      "[Parallel(n_jobs=-1)]: Done 784 tasks      | elapsed:    2.2s\n",
      "[Parallel(n_jobs=-1)]: Done 1000 out of 1000 | elapsed:    2.8s finished\n"
     ]
    },
    {
     "data": {
      "text/plain": [
       "RandomForestClassifier(max_depth=2, max_features='sqrt', n_estimators=1000,\n",
       "                       n_jobs=-1, random_state=50, verbose=1)"
      ]
     },
     "execution_count": 25,
     "metadata": {},
     "output_type": "execute_result"
    }
   ],
   "source": [
    "from sklearn.ensemble import RandomForestClassifier\n",
    "\n",
    "# Create the model with 100 trees\n",
    "model = RandomForestClassifier(n_estimators=1000, \n",
    "                               random_state=RSEED, \n",
    "                               max_features = 'sqrt',\n",
    "                               max_depth = 2,\n",
    "                               n_jobs=-1, verbose = 1)\n",
    "\n",
    "# Fit on training data\n",
    "model.fit(train, train_labels)"
   ]
  },
  {
   "cell_type": "code",
   "execution_count": 26,
   "metadata": {},
   "outputs": [
    {
     "name": "stdout",
     "output_type": "stream",
     "text": [
      "Average number of nodes 7\n",
      "Average maximum depth 2\n"
     ]
    }
   ],
   "source": [
    "n_nodes = []\n",
    "max_depths = []\n",
    "\n",
    "for ind_tree in model.estimators_:\n",
    "    n_nodes.append(ind_tree.tree_.node_count)\n",
    "    max_depths.append(ind_tree.tree_.max_depth)\n",
    "    \n",
    "print(f'Average number of nodes {int(np.mean(n_nodes))}')\n",
    "print(f'Average maximum depth {int(np.mean(max_depths))}')"
   ]
  },
  {
   "cell_type": "code",
   "execution_count": 27,
   "metadata": {},
   "outputs": [
    {
     "name": "stderr",
     "output_type": "stream",
     "text": [
      "[Parallel(n_jobs=8)]: Using backend ThreadingBackend with 8 concurrent workers.\n",
      "[Parallel(n_jobs=8)]: Done  34 tasks      | elapsed:    0.1s\n",
      "[Parallel(n_jobs=8)]: Done 184 tasks      | elapsed:    0.3s\n",
      "[Parallel(n_jobs=8)]: Done 434 tasks      | elapsed:    0.5s\n",
      "[Parallel(n_jobs=8)]: Done 784 tasks      | elapsed:    0.7s\n",
      "[Parallel(n_jobs=8)]: Done 1000 out of 1000 | elapsed:    0.8s finished\n",
      "[Parallel(n_jobs=8)]: Using backend ThreadingBackend with 8 concurrent workers.\n",
      "[Parallel(n_jobs=8)]: Done  34 tasks      | elapsed:    0.0s\n",
      "[Parallel(n_jobs=8)]: Done 184 tasks      | elapsed:    0.1s\n",
      "[Parallel(n_jobs=8)]: Done 434 tasks      | elapsed:    0.2s\n",
      "[Parallel(n_jobs=8)]: Done 784 tasks      | elapsed:    0.3s\n",
      "[Parallel(n_jobs=8)]: Done 1000 out of 1000 | elapsed:    0.4s finished\n",
      "[Parallel(n_jobs=8)]: Using backend ThreadingBackend with 8 concurrent workers.\n",
      "[Parallel(n_jobs=8)]: Done  34 tasks      | elapsed:    0.0s\n",
      "[Parallel(n_jobs=8)]: Done 184 tasks      | elapsed:    0.1s\n",
      "[Parallel(n_jobs=8)]: Done 434 tasks      | elapsed:    0.1s\n",
      "[Parallel(n_jobs=8)]: Done 784 tasks      | elapsed:    0.2s\n",
      "[Parallel(n_jobs=8)]: Done 1000 out of 1000 | elapsed:    0.3s finished\n",
      "[Parallel(n_jobs=8)]: Using backend ThreadingBackend with 8 concurrent workers.\n",
      "[Parallel(n_jobs=8)]: Done  34 tasks      | elapsed:    0.0s\n",
      "[Parallel(n_jobs=8)]: Done 184 tasks      | elapsed:    0.1s\n",
      "[Parallel(n_jobs=8)]: Done 434 tasks      | elapsed:    0.1s\n",
      "[Parallel(n_jobs=8)]: Done 784 tasks      | elapsed:    0.2s\n",
      "[Parallel(n_jobs=8)]: Done 1000 out of 1000 | elapsed:    0.3s finished\n"
     ]
    }
   ],
   "source": [
    "train_rf_predictions = model.predict(train)\n",
    "train_rf_probs = model.predict_proba(train)[:, 1]\n",
    "\n",
    "rf_predictions = model.predict(test)\n",
    "rf_probs = model.predict_proba(test)[:, 1]"
   ]
  },
  {
   "cell_type": "code",
   "execution_count": 28,
   "metadata": {},
   "outputs": [],
   "source": [
    "pd.DataFrame({'true':test_labels, 'predictions':rf_predictions, 'probs':rf_probs}).to_csv('/home/colili/Documents/PhD/project_john/DataFrame_produced/ROC_curve/df_compare_roc_RF_centerline_resample_area.csv')"
   ]
  },
  {
   "cell_type": "code",
   "execution_count": 29,
   "metadata": {},
   "outputs": [
    {
     "name": "stdout",
     "output_type": "stream",
     "text": [
      "Recall Baseline: 1.0 Test: 0.71 Train: 0.7\n",
      "Precision Baseline: 0.5 Test: 0.75 Train: 0.75\n",
      "Roc Baseline: 0.5 Test: 0.8 Train: 0.8\n"
     ]
    },
    {
     "data": {
      "image/png": "[encoded data removed]",
      "text/plain": [
       "<Figure size 576x432 with 1 Axes>"
      ]
     },
     "metadata": {
      "needs_background": "light"
     },
     "output_type": "display_data"
    }
   ],
   "source": [
    "evaluate_model(rf_predictions, rf_probs, train_rf_predictions, train_rf_probs)"
   ]
  },
  {
   "cell_type": "code",
   "execution_count": 30,
   "metadata": {},
   "outputs": [],
   "source": [
    "from sklearn.metrics import confusion_matrix\n",
    "import itertools\n",
    "\n",
    "def plot_confusion_matrix(cm, classes,\n",
    "                          normalize=False,\n",
    "                          title='Confusion matrix',\n",
    "                          cmap=plt.cm.Oranges):\n",
    "    \"\"\"\n",
    "    This function prints and plots the confusion matrix.\n",
    "    Normalization can be applied by setting `normalize=True`.\n",
    "    Source: http://scikit-learn.org/stable/auto_examples/model_selection/plot_confusion_matrix.html\n",
    "    \"\"\"\n",
    "    if normalize:\n",
    "        cm = cm.astype('float') / cm.sum(axis=1)[:, np.newaxis]\n",
    "        print(\"Normalized confusion matrix\")\n",
    "    else:\n",
    "        print('Confusion matrix, without normalization')\n",
    "\n",
    "    print(cm)\n",
    "\n",
    "    plt.figure(figsize = (10, 10))\n",
    "    plt.imshow(cm, interpolation='nearest', cmap=cmap)\n",
    "    plt.title(title, size = 24)\n",
    "    cbar = plt.colorbar(aspect=4)\n",
    "    plt.clim(0,100)\n",
    "    cbar.set_label('Fraction (%)')\n",
    "    tick_marks = np.arange(len(classes))\n",
    "    plt.xticks(tick_marks, classes, rotation=45, size = 14)\n",
    "    plt.yticks(tick_marks, classes, size = 14)\n",
    "\n",
    "    fmt = '.2f' if normalize else 'd'\n",
    "    thresh = cm.max() / 2.\n",
    "    \n",
    "    # Labeling the plot\n",
    "    for i, j in itertools.product(range(cm.shape[0]), range(cm.shape[1])):\n",
    "        plt.text(j, i, format(cm[i, j], fmt), fontsize = 20,\n",
    "                 horizontalalignment=\"center\",\n",
    "                 color=\"white\" if cm[i, j] > thresh else \"black\")\n",
    "        \n",
    "    plt.grid(None)\n",
    "    plt.tight_layout()\n",
    "    plt.ylabel('True label', size = 18)\n",
    "    plt.xlabel('Predicted label', size = 18)"
   ]
  },
  {
   "cell_type": "code",
   "execution_count": null,
   "metadata": {},
   "outputs": [],
   "source": []
  },
  {
   "cell_type": "code",
   "execution_count": 31,
   "metadata": {},
   "outputs": [
    {
     "name": "stdout",
     "output_type": "stream",
     "text": [
      "Confusion matrix, without normalization\n",
      "[[38 12]\n",
      " [15 35]]\n"
     ]
    },
    {
     "data": {
      "image/png": "[encoded data removed]",
      "text/plain": [
       "<Figure size 720x720 with 2 Axes>"
      ]
     },
     "metadata": {
      "needs_background": "light"
     },
     "output_type": "display_data"
    }
   ],
   "source": [
    "cm_rf = confusion_matrix(test_labels, rf_predictions)\n",
    "plot_confusion_matrix(np.round(cm_rf/(test_labels.shape)*100).astype(int), classes = ['Surge', 'Non-surge'],\n",
    "                      title = 'Confusion Matrix RF', cmap='Purples')"
   ]
  },
  {
   "cell_type": "code",
   "execution_count": 32,
   "metadata": {},
   "outputs": [
    {
     "name": "stdout",
     "output_type": "stream",
     "text": [
      "Average precision-recall score: 0.68\n"
     ]
    }
   ],
   "source": [
    "from sklearn.metrics import average_precision_score\n",
    "average_precision_rf = average_precision_score(test_labels, rf_predictions)\n",
    "\n",
    "print('Average precision-recall score: {0:0.2f}'.format(\n",
    "      average_precision_rf))"
   ]
  },
  {
   "cell_type": "code",
   "execution_count": 33,
   "metadata": {},
   "outputs": [
    {
     "name": "stderr",
     "output_type": "stream",
     "text": [
      "[Parallel(n_jobs=8)]: Using backend ThreadingBackend with 8 concurrent workers.\n",
      "[Parallel(n_jobs=8)]: Done  34 tasks      | elapsed:    0.0s\n",
      "[Parallel(n_jobs=8)]: Done 184 tasks      | elapsed:    0.1s\n",
      "[Parallel(n_jobs=8)]: Done 434 tasks      | elapsed:    0.1s\n",
      "[Parallel(n_jobs=8)]: Done 784 tasks      | elapsed:    0.2s\n",
      "[Parallel(n_jobs=8)]: Done 1000 out of 1000 | elapsed:    0.3s finished\n"
     ]
    },
    {
     "data": {
      "text/plain": [
       "Text(0.5, 1.0, '2-class Precision-Recall curve RF: AP=0.68')"
      ]
     },
     "execution_count": 33,
     "metadata": {},
     "output_type": "execute_result"
    },
    {
     "data": {
      "image/png": "[encoded data removed]",
      "text/plain": [
       "<Figure size 432x288 with 1 Axes>"
      ]
     },
     "metadata": {
      "needs_background": "light"
     },
     "output_type": "display_data"
    }
   ],
   "source": [
    "from sklearn.metrics import precision_recall_curve\n",
    "from sklearn.metrics import plot_precision_recall_curve\n",
    "import matplotlib.pyplot as plt\n",
    "\n",
    "disp_rf = plot_precision_recall_curve(model, test, test_labels)\n",
    "disp_rf.ax_.set_title('2-class Precision-Recall curve RF: '\n",
    "                   'AP={0:0.2f}'.format(average_precision_rf))"
   ]
  },
  {
   "cell_type": "code",
   "execution_count": 34,
   "metadata": {},
   "outputs": [
    {
     "name": "stdout",
     "output_type": "stream",
     "text": [
      "Decision tree has 1641 nodes with maximum depth 26.\n"
     ]
    }
   ],
   "source": [
    "tree = DecisionTreeClassifier(random_state=RSEED)\n",
    "tree.fit(train, train_labels)\n",
    "print(f'Decision tree has {tree.tree_.node_count} nodes with maximum depth {tree.tree_.max_depth}.')"
   ]
  },
  {
   "cell_type": "code",
   "execution_count": 35,
   "metadata": {},
   "outputs": [
    {
     "data": {
      "text/html": [
       "<div>\n",
       "<style scoped>\n",
       "    .dataframe tbody tr th:only-of-type {\n",
       "        vertical-align: middle;\n",
       "    }\n",
       "\n",
       "    .dataframe tbody tr th {\n",
       "        vertical-align: top;\n",
       "    }\n",
       "\n",
       "    .dataframe thead th {\n",
       "        text-align: right;\n",
       "    }\n",
       "</style>\n",
       "<table border=\"1\" class=\"dataframe\">\n",
       "  <thead>\n",
       "    <tr style=\"text-align: right;\">\n",
       "      <th></th>\n",
       "      <th>feature</th>\n",
       "      <th>importance</th>\n",
       "    </tr>\n",
       "  </thead>\n",
       "  <tbody>\n",
       "    <tr>\n",
       "      <th>0</th>\n",
       "      <td>Slope</td>\n",
       "      <td>0.465672</td>\n",
       "    </tr>\n",
       "    <tr>\n",
       "      <th>6</th>\n",
       "      <td>width_centerline</td>\n",
       "      <td>0.088313</td>\n",
       "    </tr>\n",
       "    <tr>\n",
       "      <th>5</th>\n",
       "      <td>cmb</td>\n",
       "      <td>0.078958</td>\n",
       "    </tr>\n",
       "    <tr>\n",
       "      <th>7</th>\n",
       "      <td>Runoff</td>\n",
       "      <td>0.074517</td>\n",
       "    </tr>\n",
       "    <tr>\n",
       "      <th>2</th>\n",
       "      <td>bed</td>\n",
       "      <td>0.069621</td>\n",
       "    </tr>\n",
       "  </tbody>\n",
       "</table>\n",
       "</div>"
      ],
      "text/plain": [
       "            feature  importance\n",
       "0             Slope    0.465672\n",
       "6  width_centerline    0.088313\n",
       "5               cmb    0.078958\n",
       "7            Runoff    0.074517\n",
       "2               bed    0.069621"
      ]
     },
     "execution_count": 35,
     "metadata": {},
     "output_type": "execute_result"
    }
   ],
   "source": [
    "fi = pd.DataFrame({'feature': features,\n",
    "                   'importance': tree.feature_importances_}).\\\n",
    "                    sort_values('importance', ascending = False)\n",
    "fi.head()"
   ]
  },
  {
   "cell_type": "markdown",
   "metadata": {},
   "source": [
    "# Gradient boosting"
   ]
  },
  {
   "cell_type": "code",
   "execution_count": 36,
   "metadata": {},
   "outputs": [],
   "source": [
    "import xgboost\n",
    "import sklearn.metrics as metrics\n",
    "from sklearn.model_selection import train_test_split"
   ]
  },
  {
   "cell_type": "code",
   "execution_count": 37,
   "metadata": {},
   "outputs": [],
   "source": [
    "# dmatrix_train = xgboost.DMatrix(train[train.columns[1:]], label=train_labels)\n",
    "# dmatrix_test = xgboost.DMatrix(test[test.columns[1:]], label=test_labels)\n",
    "\n",
    "dmatrix_train = xgboost.DMatrix(train, label=train_labels)\n",
    "dmatrix_test = xgboost.DMatrix(test, label=test_labels)"
   ]
  },
  {
   "cell_type": "code",
   "execution_count": 38,
   "metadata": {},
   "outputs": [
    {
     "data": {
      "text/plain": [
       "array([1, 0, 0, ..., 0, 0, 1])"
      ]
     },
     "execution_count": 38,
     "metadata": {},
     "output_type": "execute_result"
    }
   ],
   "source": [
    "train_labels"
   ]
  },
  {
   "cell_type": "code",
   "execution_count": 39,
   "metadata": {},
   "outputs": [
    {
     "data": {
      "text/plain": [
       "array([1, 0, 0, ..., 0, 0, 0])"
      ]
     },
     "execution_count": 39,
     "metadata": {},
     "output_type": "execute_result"
    }
   ],
   "source": [
    "test_labels"
   ]
  },
  {
   "cell_type": "code",
   "execution_count": 40,
   "metadata": {},
   "outputs": [
    {
     "data": {
      "text/html": [
       "<div>\n",
       "<style scoped>\n",
       "    .dataframe tbody tr th:only-of-type {\n",
       "        vertical-align: middle;\n",
       "    }\n",
       "\n",
       "    .dataframe tbody tr th {\n",
       "        vertical-align: top;\n",
       "    }\n",
       "\n",
       "    .dataframe thead th {\n",
       "        text-align: right;\n",
       "    }\n",
       "</style>\n",
       "<table border=\"1\" class=\"dataframe\">\n",
       "  <thead>\n",
       "    <tr style=\"text-align: right;\">\n",
       "      <th></th>\n",
       "      <th>Slope</th>\n",
       "      <th>TermType</th>\n",
       "      <th>bed</th>\n",
       "      <th>thickness</th>\n",
       "      <th>surface_elevation</th>\n",
       "      <th>cmb</th>\n",
       "      <th>width_centerline</th>\n",
       "      <th>Runoff</th>\n",
       "      <th>WH</th>\n",
       "      <th>WHsin</th>\n",
       "      <th>dummy</th>\n",
       "      <th>y</th>\n",
       "    </tr>\n",
       "  </thead>\n",
       "  <tbody>\n",
       "    <tr>\n",
       "      <th>Slope</th>\n",
       "      <td>1.000000</td>\n",
       "      <td>-0.268806</td>\n",
       "      <td>0.436993</td>\n",
       "      <td>-0.531408</td>\n",
       "      <td>0.264753</td>\n",
       "      <td>0.202393</td>\n",
       "      <td>-0.355296</td>\n",
       "      <td>-0.180692</td>\n",
       "      <td>-0.091803</td>\n",
       "      <td>0.112600</td>\n",
       "      <td>0.010065</td>\n",
       "      <td>-0.407064</td>\n",
       "    </tr>\n",
       "    <tr>\n",
       "      <th>TermType</th>\n",
       "      <td>-0.268806</td>\n",
       "      <td>1.000000</td>\n",
       "      <td>-0.316771</td>\n",
       "      <td>0.376568</td>\n",
       "      <td>-0.195513</td>\n",
       "      <td>-0.129612</td>\n",
       "      <td>0.226940</td>\n",
       "      <td>0.187502</td>\n",
       "      <td>0.033846</td>\n",
       "      <td>-0.131927</td>\n",
       "      <td>0.005927</td>\n",
       "      <td>0.307612</td>\n",
       "    </tr>\n",
       "    <tr>\n",
       "      <th>bed</th>\n",
       "      <td>0.436993</td>\n",
       "      <td>-0.316771</td>\n",
       "      <td>1.000000</td>\n",
       "      <td>-0.442591</td>\n",
       "      <td>0.927752</td>\n",
       "      <td>0.750252</td>\n",
       "      <td>-0.205606</td>\n",
       "      <td>-0.648754</td>\n",
       "      <td>0.034408</td>\n",
       "      <td>0.080649</td>\n",
       "      <td>-0.018790</td>\n",
       "      <td>-0.287526</td>\n",
       "    </tr>\n",
       "    <tr>\n",
       "      <th>thickness</th>\n",
       "      <td>-0.531408</td>\n",
       "      <td>0.376568</td>\n",
       "      <td>-0.442591</td>\n",
       "      <td>1.000000</td>\n",
       "      <td>-0.075959</td>\n",
       "      <td>-0.030000</td>\n",
       "      <td>0.365110</td>\n",
       "      <td>0.033617</td>\n",
       "      <td>-0.047945</td>\n",
       "      <td>-0.235068</td>\n",
       "      <td>-0.002272</td>\n",
       "      <td>0.325232</td>\n",
       "    </tr>\n",
       "    <tr>\n",
       "      <th>surface_elevation</th>\n",
       "      <td>0.264753</td>\n",
       "      <td>-0.195513</td>\n",
       "      <td>0.927752</td>\n",
       "      <td>-0.075959</td>\n",
       "      <td>1.000000</td>\n",
       "      <td>0.821757</td>\n",
       "      <td>-0.076672</td>\n",
       "      <td>-0.707391</td>\n",
       "      <td>0.018306</td>\n",
       "      <td>-0.008153</td>\n",
       "      <td>-0.021839</td>\n",
       "      <td>-0.184359</td>\n",
       "    </tr>\n",
       "    <tr>\n",
       "      <th>cmb</th>\n",
       "      <td>0.202393</td>\n",
       "      <td>-0.129612</td>\n",
       "      <td>0.750252</td>\n",
       "      <td>-0.030000</td>\n",
       "      <td>0.821757</td>\n",
       "      <td>1.000000</td>\n",
       "      <td>0.024266</td>\n",
       "      <td>-0.820261</td>\n",
       "      <td>0.049439</td>\n",
       "      <td>-0.097226</td>\n",
       "      <td>-0.015652</td>\n",
       "      <td>-0.171054</td>\n",
       "    </tr>\n",
       "    <tr>\n",
       "      <th>width_centerline</th>\n",
       "      <td>-0.355296</td>\n",
       "      <td>0.226940</td>\n",
       "      <td>-0.205606</td>\n",
       "      <td>0.365110</td>\n",
       "      <td>-0.076672</td>\n",
       "      <td>0.024266</td>\n",
       "      <td>1.000000</td>\n",
       "      <td>-0.048355</td>\n",
       "      <td>0.645546</td>\n",
       "      <td>-0.594876</td>\n",
       "      <td>0.013439</td>\n",
       "      <td>0.194559</td>\n",
       "    </tr>\n",
       "    <tr>\n",
       "      <th>Runoff</th>\n",
       "      <td>-0.180692</td>\n",
       "      <td>0.187502</td>\n",
       "      <td>-0.648754</td>\n",
       "      <td>0.033617</td>\n",
       "      <td>-0.707391</td>\n",
       "      <td>-0.820261</td>\n",
       "      <td>-0.048355</td>\n",
       "      <td>1.000000</td>\n",
       "      <td>-0.051397</td>\n",
       "      <td>0.125854</td>\n",
       "      <td>0.013128</td>\n",
       "      <td>0.207907</td>\n",
       "    </tr>\n",
       "    <tr>\n",
       "      <th>WH</th>\n",
       "      <td>-0.091803</td>\n",
       "      <td>0.033846</td>\n",
       "      <td>0.034408</td>\n",
       "      <td>-0.047945</td>\n",
       "      <td>0.018306</td>\n",
       "      <td>0.049439</td>\n",
       "      <td>0.645546</td>\n",
       "      <td>-0.051397</td>\n",
       "      <td>1.000000</td>\n",
       "      <td>-0.265646</td>\n",
       "      <td>0.006930</td>\n",
       "      <td>0.047362</td>\n",
       "    </tr>\n",
       "    <tr>\n",
       "      <th>WHsin</th>\n",
       "      <td>0.112600</td>\n",
       "      <td>-0.131927</td>\n",
       "      <td>0.080649</td>\n",
       "      <td>-0.235068</td>\n",
       "      <td>-0.008153</td>\n",
       "      <td>-0.097226</td>\n",
       "      <td>-0.594876</td>\n",
       "      <td>0.125854</td>\n",
       "      <td>-0.265646</td>\n",
       "      <td>1.000000</td>\n",
       "      <td>-0.009563</td>\n",
       "      <td>-0.067655</td>\n",
       "    </tr>\n",
       "    <tr>\n",
       "      <th>dummy</th>\n",
       "      <td>0.010065</td>\n",
       "      <td>0.005927</td>\n",
       "      <td>-0.018790</td>\n",
       "      <td>-0.002272</td>\n",
       "      <td>-0.021839</td>\n",
       "      <td>-0.015652</td>\n",
       "      <td>0.013439</td>\n",
       "      <td>0.013128</td>\n",
       "      <td>0.006930</td>\n",
       "      <td>-0.009563</td>\n",
       "      <td>1.000000</td>\n",
       "      <td>-0.000353</td>\n",
       "    </tr>\n",
       "    <tr>\n",
       "      <th>y</th>\n",
       "      <td>-0.407064</td>\n",
       "      <td>0.307612</td>\n",
       "      <td>-0.287526</td>\n",
       "      <td>0.325232</td>\n",
       "      <td>-0.184359</td>\n",
       "      <td>-0.171054</td>\n",
       "      <td>0.194559</td>\n",
       "      <td>0.207907</td>\n",
       "      <td>0.047362</td>\n",
       "      <td>-0.067655</td>\n",
       "      <td>-0.000353</td>\n",
       "      <td>1.000000</td>\n",
       "    </tr>\n",
       "  </tbody>\n",
       "</table>\n",
       "</div>"
      ],
      "text/plain": [
       "                      Slope  TermType       bed  thickness  surface_elevation  \\\n",
       "Slope              1.000000 -0.268806  0.436993  -0.531408           0.264753   \n",
       "TermType          -0.268806  1.000000 -0.316771   0.376568          -0.195513   \n",
       "bed                0.436993 -0.316771  1.000000  -0.442591           0.927752   \n",
       "thickness         -0.531408  0.376568 -0.442591   1.000000          -0.075959   \n",
       "surface_elevation  0.264753 -0.195513  0.927752  -0.075959           1.000000   \n",
       "cmb                0.202393 -0.129612  0.750252  -0.030000           0.821757   \n",
       "width_centerline  -0.355296  0.226940 -0.205606   0.365110          -0.076672   \n",
       "Runoff            -0.180692  0.187502 -0.648754   0.033617          -0.707391   \n",
       "WH                -0.091803  0.033846  0.034408  -0.047945           0.018306   \n",
       "WHsin              0.112600 -0.131927  0.080649  -0.235068          -0.008153   \n",
       "dummy              0.010065  0.005927 -0.018790  -0.002272          -0.021839   \n",
       "y                 -0.407064  0.307612 -0.287526   0.325232          -0.184359   \n",
       "\n",
       "                        cmb  width_centerline    Runoff        WH     WHsin  \\\n",
       "Slope              0.202393         -0.355296 -0.180692 -0.091803  0.112600   \n",
       "TermType          -0.129612          0.226940  0.187502  0.033846 -0.131927   \n",
       "bed                0.750252         -0.205606 -0.648754  0.034408  0.080649   \n",
       "thickness         -0.030000          0.365110  0.033617 -0.047945 -0.235068   \n",
       "surface_elevation  0.821757         -0.076672 -0.707391  0.018306 -0.008153   \n",
       "cmb                1.000000          0.024266 -0.820261  0.049439 -0.097226   \n",
       "width_centerline   0.024266          1.000000 -0.048355  0.645546 -0.594876   \n",
       "Runoff            -0.820261         -0.048355  1.000000 -0.051397  0.125854   \n",
       "WH                 0.049439          0.645546 -0.051397  1.000000 -0.265646   \n",
       "WHsin             -0.097226         -0.594876  0.125854 -0.265646  1.000000   \n",
       "dummy             -0.015652          0.013439  0.013128  0.006930 -0.009563   \n",
       "y                 -0.171054          0.194559  0.207907  0.047362 -0.067655   \n",
       "\n",
       "                      dummy         y  \n",
       "Slope              0.010065 -0.407064  \n",
       "TermType           0.005927  0.307612  \n",
       "bed               -0.018790 -0.287526  \n",
       "thickness         -0.002272  0.325232  \n",
       "surface_elevation -0.021839 -0.184359  \n",
       "cmb               -0.015652 -0.171054  \n",
       "width_centerline   0.013439  0.194559  \n",
       "Runoff             0.013128  0.207907  \n",
       "WH                 0.006930  0.047362  \n",
       "WHsin             -0.009563 -0.067655  \n",
       "dummy              1.000000 -0.000353  \n",
       "y                 -0.000353  1.000000  "
      ]
     },
     "execution_count": 40,
     "metadata": {},
     "output_type": "execute_result"
    }
   ],
   "source": [
    "trainprob = train.copy()\n",
    "trainprob['y'] = train_labels\n",
    "\n",
    "trainprob.corr()"
   ]
  },
  {
   "cell_type": "code",
   "execution_count": 41,
   "metadata": {},
   "outputs": [],
   "source": [
    "# trainprob.Area.hist(bins=100)"
   ]
  },
  {
   "cell_type": "code",
   "execution_count": 42,
   "metadata": {},
   "outputs": [],
   "source": [
    "# trainprob[trainprob.y==0].Area.describe()"
   ]
  },
  {
   "cell_type": "code",
   "execution_count": 43,
   "metadata": {},
   "outputs": [],
   "source": [
    "# trainprob[trainprob.y==1].Area.describe()"
   ]
  },
  {
   "cell_type": "code",
   "execution_count": 44,
   "metadata": {},
   "outputs": [
    {
     "name": "stdout",
     "output_type": "stream",
     "text": [
      "[16:30:44] WARNING: ../src/learner.cc:573: \n",
      "Parameters: { \"num_boost_round\" } might not be used.\n",
      "\n",
      "  This may not be accurate due to some parameters are only used in language bindings but\n",
      "  passed down to XGBoost core.  Or some parameters are not used but slip through this\n",
      "  verification. Please open an issue if you find above cases.\n",
      "\n",
      "\n"
     ]
    }
   ],
   "source": [
    "params = {'objective':'reg:logistic', 'num_boost_round':20000, 'max_depth':1, 'scale_pos_weight':0.5}\n",
    "\n",
    "xgb = xgboost.train(params, dmatrix_train, num_boost_round=20000)"
   ]
  },
  {
   "cell_type": "code",
   "execution_count": 45,
   "metadata": {},
   "outputs": [],
   "source": [
    "predictions_xgboost = xgb.predict(dmatrix_test)\n",
    "pd.DataFrame({'true':test_labels, 'predictions':predictions_xgboost})\n",
    "pd.DataFrame({'true':test_labels, 'predictions':predictions_xgboost}).to_csv('/home/colili/Documents/PhD/project_john/DataFrame_produced/ROC_curve/df_compare_roc_xgboost_centerline_resample_area.csv')"
   ]
  },
  {
   "cell_type": "code",
   "execution_count": 46,
   "metadata": {},
   "outputs": [
    {
     "data": {
      "text/plain": [
       "Text(0.6, 0.0, 'AUC = 0.91')"
      ]
     },
     "execution_count": 46,
     "metadata": {},
     "output_type": "execute_result"
    },
    {
     "data": {
      "image/png": "[encoded data removed]",
      "text/plain": [
       "<Figure size 648x576 with 1 Axes>"
      ]
     },
     "metadata": {
      "needs_background": "light"
     },
     "output_type": "display_data"
    }
   ],
   "source": [
    "fpr, tpr, t = metrics.roc_curve(y_true=test_labels, y_score=predictions_xgboost)\n",
    "\n",
    "fig, ax = plt.subplots(figsize=(9, 8))\n",
    "\n",
    "ax.plot(fpr, tpr, 'b')\n",
    "ax.plot([0, 1], [0, 1], 'k')\n",
    "\n",
    "ax.set_ylabel('True Positive Rate', fontsize=15)\n",
    "ax.set_xlabel('False Positive Rate', fontsize=15)\n",
    "ax.set_title('ROC XgBoost', fontsize=15)\n",
    "ax.text(\n",
    "s = 'AUC = ' + str(round(metrics.roc_auc_score(y_true=test_labels, y_score=predictions_xgboost),2))\n",
    "    , x=0.6, y=0.0, fontsize=15\n",
    ")"
   ]
  },
  {
   "cell_type": "code",
   "execution_count": 47,
   "metadata": {},
   "outputs": [
    {
     "data": {
      "text/plain": [
       "<AxesSubplot:title={'center':'Feature importance'}, xlabel='F score', ylabel='Features'>"
      ]
     },
     "execution_count": 47,
     "metadata": {},
     "output_type": "execute_result"
    },
    {
     "data": {
      "image/png": "[encoded data removed]",
      "text/plain": [
       "<Figure size 360x360 with 1 Axes>"
      ]
     },
     "metadata": {
      "needs_background": "light"
     },
     "output_type": "display_data"
    }
   ],
   "source": [
    "fig, ax = plt.subplots(figsize=(5, 5))\n",
    "xgboost.plot_importance(xgb, importance_type = 'gain', ax=ax, color='grey')"
   ]
  },
  {
   "cell_type": "code",
   "execution_count": 48,
   "metadata": {},
   "outputs": [
    {
     "name": "stdout",
     "output_type": "stream",
     "text": [
      "Average precision-recall score: 0.90\n"
     ]
    }
   ],
   "source": [
    "average_precision_xgboost = average_precision_score(test_labels, predictions_xgboost)\n",
    "\n",
    "print('Average precision-recall score: {0:0.2f}'.format(\n",
    "      average_precision_xgboost))"
   ]
  },
  {
   "cell_type": "code",
   "execution_count": 49,
   "metadata": {},
   "outputs": [
    {
     "data": {
      "text/plain": [
       "dtype('int64')"
      ]
     },
     "execution_count": 49,
     "metadata": {},
     "output_type": "execute_result"
    }
   ],
   "source": [
    "test_labels.dtype"
   ]
  },
  {
   "cell_type": "code",
   "execution_count": null,
   "metadata": {},
   "outputs": [],
   "source": []
  },
  {
   "cell_type": "code",
   "execution_count": 50,
   "metadata": {},
   "outputs": [
    {
     "name": "stdout",
     "output_type": "stream",
     "text": [
      "Confusion matrix, without normalization\n",
      "[[43  6]\n",
      " [12 36]]\n"
     ]
    },
    {
     "data": {
      "image/png": "[encoded data removed]",
      "text/plain": [
       "<Figure size 720x720 with 2 Axes>"
      ]
     },
     "metadata": {
      "needs_background": "light"
     },
     "output_type": "display_data"
    }
   ],
   "source": [
    "# confusion_matrix(test_labels, predictions.round())\n",
    "cm_xgboost = confusion_matrix(test_labels, predictions_xgboost.round())\n",
    "plot_confusion_matrix((cm_xgboost/test_labels.shape*100).astype(int), classes = ['Surge', 'Non-surge'],\n",
    "                      title = 'Confusion Matrix XgBoost', cmap='Blues')"
   ]
  },
  {
   "cell_type": "markdown",
   "metadata": {},
   "source": [
    "Theory: https://towardsdatascience.com/introduction-to-logistic-regression-66248243c148\n",
    "\n",
    "Example: https://towardsdatascience.com/building-a-logistic-regression-in-python-step-by-step-becd4d56c9c8"
   ]
  },
  {
   "cell_type": "markdown",
   "metadata": {},
   "source": [
    "# Logistic regression"
   ]
  },
  {
   "cell_type": "code",
   "execution_count": 51,
   "metadata": {},
   "outputs": [],
   "source": [
    "from sklearn.linear_model import LogisticRegression"
   ]
  },
  {
   "cell_type": "code",
   "execution_count": 52,
   "metadata": {},
   "outputs": [
    {
     "data": {
      "text/plain": [
       "LogisticRegression()"
      ]
     },
     "execution_count": 52,
     "metadata": {},
     "output_type": "execute_result"
    }
   ],
   "source": [
    "logreg = LogisticRegression()\n",
    "logreg.fit(train, train_labels)"
   ]
  },
  {
   "cell_type": "code",
   "execution_count": 53,
   "metadata": {},
   "outputs": [
    {
     "name": "stdout",
     "output_type": "stream",
     "text": [
      "Accuracy of logistic regression classifier on test set: 0.69\n"
     ]
    }
   ],
   "source": [
    "predictions_LR = logreg.predict(test)\n",
    "probs_LR = logreg.predict_proba(test)[:, 1]\n",
    "print('Accuracy of logistic regression classifier on test set: {:.2f}'.format(logreg.score(test, test_labels)))"
   ]
  },
  {
   "cell_type": "code",
   "execution_count": 54,
   "metadata": {},
   "outputs": [
    {
     "data": {
      "text/plain": [
       "3269"
      ]
     },
     "execution_count": 54,
     "metadata": {},
     "output_type": "execute_result"
    }
   ],
   "source": [
    "test_labels.sum()"
   ]
  },
  {
   "cell_type": "code",
   "execution_count": 55,
   "metadata": {},
   "outputs": [],
   "source": [
    "pd.DataFrame({'true':test_labels, 'predictions':predictions_LR, 'prob':probs_LR}).to_csv('/home/colili/Documents/PhD/project_john/DataFrame_produced/ROC_curve/df_compare_roc_LR_centerline_resample_area.csv')"
   ]
  },
  {
   "cell_type": "code",
   "execution_count": 56,
   "metadata": {},
   "outputs": [
    {
     "data": {
      "image/png": "[encoded data removed]",
      "text/plain": [
       "<Figure size 648x576 with 1 Axes>"
      ]
     },
     "metadata": {
      "needs_background": "light"
     },
     "output_type": "display_data"
    }
   ],
   "source": [
    "logit_roc_auc = roc_auc_score(test_labels, logreg.predict_proba(test)[:,1])\n",
    "fpr, tpr, thresholds = roc_curve(test_labels, logreg.predict_proba(test)[:,1])\n",
    "plt.figure(figsize=(9, 8))\n",
    "plt.plot(fpr, tpr, 'g', label='AUC = %0.2f' % logit_roc_auc)\n",
    "plt.plot([0, 1], [0, 1], 'k')\n",
    "# # plt.xlim([0.0, 1.0])\n",
    "# plt.ylim([0.0, 1.05])\n",
    "plt.xlabel('False Positive Rate')\n",
    "plt.ylabel('True Positive Rate')\n",
    "plt.title('ROC Logistic regression')\n",
    "plt.legend(loc=\"lower right\")\n",
    "# plt.savefig('Log_ROC')\n",
    "plt.show()"
   ]
  },
  {
   "cell_type": "code",
   "execution_count": 57,
   "metadata": {},
   "outputs": [
    {
     "name": "stdout",
     "output_type": "stream",
     "text": [
      "<function confusion_matrix at 0x7f06a02abe50>\n",
      "Confusion matrix, without normalization\n",
      "[[35 14]\n",
      " [16 33]]\n"
     ]
    },
    {
     "data": {
      "image/png": "[encoded data removed]",
      "text/plain": [
       "<Figure size 720x720 with 2 Axes>"
      ]
     },
     "metadata": {
      "needs_background": "light"
     },
     "output_type": "display_data"
    }
   ],
   "source": [
    "from sklearn.metrics import confusion_matrix\n",
    "cm_LR = confusion_matrix(test_labels, predictions_LR)\n",
    "print(confusion_matrix)\n",
    "plot_confusion_matrix((cm_LR/test_labels.shape*100).astype(int), classes = ['Surge', 'Non-surge'],\n",
    "                      title = 'Confusion Matrix Logistic Regression', cmap='Greens')"
   ]
  },
  {
   "cell_type": "code",
   "execution_count": 58,
   "metadata": {},
   "outputs": [
    {
     "name": "stdout",
     "output_type": "stream",
     "text": [
      "Average precision-recall score: 0.63\n"
     ]
    }
   ],
   "source": [
    "average_precision_LR = average_precision_score(test_labels, predictions_LR)\n",
    "\n",
    "print('Average precision-recall score: {0:0.2f}'.format(\n",
    "      average_precision_LR))"
   ]
  },
  {
   "cell_type": "code",
   "execution_count": 59,
   "metadata": {},
   "outputs": [
    {
     "data": {
      "text/plain": [
       "Text(0.5, 1.0, '2-class Precision-Recall curve RF: AP=0.63')"
      ]
     },
     "execution_count": 59,
     "metadata": {},
     "output_type": "execute_result"
    },
    {
     "data": {
      "image/png": "[encoded data removed]",
      "text/plain": [
       "<Figure size 432x288 with 1 Axes>"
      ]
     },
     "metadata": {
      "needs_background": "light"
     },
     "output_type": "display_data"
    }
   ],
   "source": [
    "disp_lr = plot_precision_recall_curve(logreg, test, test_labels)\n",
    "disp_lr.ax_.set_title('2-class Precision-Recall curve RF: '\n",
    "                   'AP={0:0.2f}'.format(average_precision_LR))"
   ]
  }
 ],
 "metadata": {
  "kernelspec": {
   "display_name": "Python 3",
   "language": "python",
   "name": "python3"
  },
  "language_info": {
   "codemirror_mode": {
    "name": "ipython",
    "version": 3
   },
   "file_extension": ".py",
   "mimetype": "text/x-python",
   "name": "python",
   "nbconvert_exporter": "python",
   "pygments_lexer": "ipython3",
   "version": "3.8.8"
  }
 },
 "nbformat": 4,
 "nbformat_minor": 4
}
