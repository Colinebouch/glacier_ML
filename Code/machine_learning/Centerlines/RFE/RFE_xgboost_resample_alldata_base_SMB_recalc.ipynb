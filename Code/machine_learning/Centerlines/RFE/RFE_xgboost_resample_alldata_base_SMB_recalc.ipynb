{
 "cells": [
  {
   "cell_type": "markdown",
   "metadata": {},
   "source": [
    "Theory : https://towardsdatascience.com/understanding-random-forest-58381e0602d2\n",
    "\n",
    "Examples : https://towardsdatascience.com/an-implementation-and-explanation-of-the-random-forest-in-python-77bf308a9b76"
   ]
  },
  {
   "cell_type": "markdown",
   "metadata": {},
   "source": [
    "# Probability of surges"
   ]
  },
  {
   "cell_type": "code",
   "execution_count": 1,
   "metadata": {},
   "outputs": [],
   "source": [
    "import numpy as np\n",
    "import pandas as pd\n",
    "from sklearn.model_selection import train_test_split\n",
    "from sklearn.tree import DecisionTreeClassifier\n",
    "from sklearn.metrics import precision_score, recall_score, roc_auc_score, roc_curve\n",
    "\n",
    "import cartopy\n",
    "import cartopy.crs as ccrs\n",
    "from cartopy.mpl.gridliner import LONGITUDE_FORMATTER, LATITUDE_FORMATTER\n",
    "\n",
    "import geopandas as gpd\n",
    "from shapely.geometry import Polygon\n",
    "\n",
    "import matplotlib.pyplot as plt\n",
    "\n",
    "from sklearn.utils import resample"
   ]
  },
  {
   "cell_type": "markdown",
   "metadata": {},
   "source": [
    "### Set random seed to ensure reproducible runs"
   ]
  },
  {
   "cell_type": "code",
   "execution_count": 2,
   "metadata": {},
   "outputs": [],
   "source": [
    "RSEED = 50"
   ]
  },
  {
   "cell_type": "markdown",
   "metadata": {},
   "source": [
    "### Importing data and data cleaning"
   ]
  },
  {
   "cell_type": "code",
   "execution_count": 3,
   "metadata": {},
   "outputs": [
    {
     "data": {
      "text/html": [
       "<div>\n",
       "<style scoped>\n",
       "    .dataframe tbody tr th:only-of-type {\n",
       "        vertical-align: middle;\n",
       "    }\n",
       "\n",
       "    .dataframe tbody tr th {\n",
       "        vertical-align: top;\n",
       "    }\n",
       "\n",
       "    .dataframe thead th {\n",
       "        text-align: right;\n",
       "    }\n",
       "</style>\n",
       "<table border=\"1\" class=\"dataframe\">\n",
       "  <thead>\n",
       "    <tr style=\"text-align: right;\">\n",
       "      <th></th>\n",
       "      <th></th>\n",
       "      <th></th>\n",
       "      <th>Unnamed: 0</th>\n",
       "      <th>Surge</th>\n",
       "      <th>Area</th>\n",
       "      <th>Slope</th>\n",
       "      <th>TermType</th>\n",
       "      <th>Name</th>\n",
       "      <th>bed</th>\n",
       "      <th>thickness</th>\n",
       "      <th>surface_elevation</th>\n",
       "      <th>ELA</th>\n",
       "      <th>beta</th>\n",
       "      <th>cmb</th>\n",
       "      <th>width_centerline</th>\n",
       "      <th>Runoff</th>\n",
       "    </tr>\n",
       "    <tr>\n",
       "      <th>rgiid</th>\n",
       "      <th>x</th>\n",
       "      <th>y</th>\n",
       "      <th></th>\n",
       "      <th></th>\n",
       "      <th></th>\n",
       "      <th></th>\n",
       "      <th></th>\n",
       "      <th></th>\n",
       "      <th></th>\n",
       "      <th></th>\n",
       "      <th></th>\n",
       "      <th></th>\n",
       "      <th></th>\n",
       "      <th></th>\n",
       "      <th></th>\n",
       "      <th></th>\n",
       "    </tr>\n",
       "  </thead>\n",
       "  <tbody>\n",
       "    <tr>\n",
       "      <th rowspan=\"5\" valign=\"top\">RGI60-07.00004</th>\n",
       "      <th>524657.521964</th>\n",
       "      <th>8.539931e+06</th>\n",
       "      <td>206</td>\n",
       "      <td>0</td>\n",
       "      <td>1.044</td>\n",
       "      <td>13.8</td>\n",
       "      <td>0</td>\n",
       "      <td>NaN</td>\n",
       "      <td>889.68555</td>\n",
       "      <td>25.314478</td>\n",
       "      <td>915.00000</td>\n",
       "      <td>432.103017</td>\n",
       "      <td>0.005069</td>\n",
       "      <td>1.392706</td>\n",
       "      <td>279.780932</td>\n",
       "      <td>1.100061</td>\n",
       "    </tr>\n",
       "    <tr>\n",
       "      <th>524681.113471</th>\n",
       "      <th>8.539955e+06</th>\n",
       "      <td>207</td>\n",
       "      <td>0</td>\n",
       "      <td>1.044</td>\n",
       "      <td>13.8</td>\n",
       "      <td>0</td>\n",
       "      <td>NaN</td>\n",
       "      <td>882.06460</td>\n",
       "      <td>30.935455</td>\n",
       "      <td>913.00000</td>\n",
       "      <td>432.421537</td>\n",
       "      <td>0.005068</td>\n",
       "      <td>1.391001</td>\n",
       "      <td>295.980219</td>\n",
       "      <td>1.094416</td>\n",
       "    </tr>\n",
       "    <tr>\n",
       "      <th>524704.704977</th>\n",
       "      <th>8.539980e+06</th>\n",
       "      <td>208</td>\n",
       "      <td>0</td>\n",
       "      <td>1.044</td>\n",
       "      <td>13.8</td>\n",
       "      <td>0</td>\n",
       "      <td>NaN</td>\n",
       "      <td>882.06460</td>\n",
       "      <td>30.935455</td>\n",
       "      <td>913.00000</td>\n",
       "      <td>432.740057</td>\n",
       "      <td>0.005068</td>\n",
       "      <td>1.389296</td>\n",
       "      <td>330.851846</td>\n",
       "      <td>1.088771</td>\n",
       "    </tr>\n",
       "    <tr>\n",
       "      <th>524728.296484</th>\n",
       "      <th>8.540004e+06</th>\n",
       "      <td>209</td>\n",
       "      <td>0</td>\n",
       "      <td>1.044</td>\n",
       "      <td>13.8</td>\n",
       "      <td>0</td>\n",
       "      <td>NaN</td>\n",
       "      <td>882.06460</td>\n",
       "      <td>30.935455</td>\n",
       "      <td>913.00000</td>\n",
       "      <td>433.058576</td>\n",
       "      <td>0.005067</td>\n",
       "      <td>1.387591</td>\n",
       "      <td>342.886985</td>\n",
       "      <td>1.083127</td>\n",
       "    </tr>\n",
       "    <tr>\n",
       "      <th>524751.887990</th>\n",
       "      <th>8.540028e+06</th>\n",
       "      <td>210</td>\n",
       "      <td>0</td>\n",
       "      <td>1.044</td>\n",
       "      <td>13.8</td>\n",
       "      <td>0</td>\n",
       "      <td>NaN</td>\n",
       "      <td>881.31860</td>\n",
       "      <td>34.681380</td>\n",
       "      <td>916.00000</td>\n",
       "      <td>433.377096</td>\n",
       "      <td>0.005067</td>\n",
       "      <td>1.385886</td>\n",
       "      <td>336.403639</td>\n",
       "      <td>1.077530</td>\n",
       "    </tr>\n",
       "    <tr>\n",
       "      <th>...</th>\n",
       "      <th>...</th>\n",
       "      <th>...</th>\n",
       "      <td>...</td>\n",
       "      <td>...</td>\n",
       "      <td>...</td>\n",
       "      <td>...</td>\n",
       "      <td>...</td>\n",
       "      <td>...</td>\n",
       "      <td>...</td>\n",
       "      <td>...</td>\n",
       "      <td>...</td>\n",
       "      <td>...</td>\n",
       "      <td>...</td>\n",
       "      <td>...</td>\n",
       "      <td>...</td>\n",
       "      <td>...</td>\n",
       "    </tr>\n",
       "    <tr>\n",
       "      <th rowspan=\"5\" valign=\"top\">RGI60-07.01567</th>\n",
       "      <th>534269.488654</th>\n",
       "      <th>8.675206e+06</th>\n",
       "      <td>130984</td>\n",
       "      <td>3</td>\n",
       "      <td>5.350</td>\n",
       "      <td>11.7</td>\n",
       "      <td>0</td>\n",
       "      <td>Moeysalbreen</td>\n",
       "      <td>237.64468</td>\n",
       "      <td>50.380424</td>\n",
       "      <td>288.02512</td>\n",
       "      <td>627.625366</td>\n",
       "      <td>0.004612</td>\n",
       "      <td>-1.412920</td>\n",
       "      <td>278.553621</td>\n",
       "      <td>2.123592</td>\n",
       "    </tr>\n",
       "    <tr>\n",
       "      <th>534310.362510</th>\n",
       "      <th>8.675249e+06</th>\n",
       "      <td>130985</td>\n",
       "      <td>3</td>\n",
       "      <td>5.350</td>\n",
       "      <td>11.7</td>\n",
       "      <td>0</td>\n",
       "      <td>Moeysalbreen</td>\n",
       "      <td>233.07228</td>\n",
       "      <td>46.717087</td>\n",
       "      <td>279.78937</td>\n",
       "      <td>627.625366</td>\n",
       "      <td>0.004614</td>\n",
       "      <td>-1.423469</td>\n",
       "      <td>256.755923</td>\n",
       "      <td>2.127417</td>\n",
       "    </tr>\n",
       "    <tr>\n",
       "      <th>534309.250485</th>\n",
       "      <th>8.675291e+06</th>\n",
       "      <td>130986</td>\n",
       "      <td>3</td>\n",
       "      <td>5.350</td>\n",
       "      <td>11.7</td>\n",
       "      <td>0</td>\n",
       "      <td>Moeysalbreen</td>\n",
       "      <td>233.07228</td>\n",
       "      <td>46.717087</td>\n",
       "      <td>279.78937</td>\n",
       "      <td>627.625366</td>\n",
       "      <td>0.004618</td>\n",
       "      <td>-1.395654</td>\n",
       "      <td>238.477978</td>\n",
       "      <td>2.076787</td>\n",
       "    </tr>\n",
       "    <tr>\n",
       "      <th>534308.138459</th>\n",
       "      <th>8.675333e+06</th>\n",
       "      <td>130987</td>\n",
       "      <td>3</td>\n",
       "      <td>5.350</td>\n",
       "      <td>11.7</td>\n",
       "      <td>0</td>\n",
       "      <td>Moeysalbreen</td>\n",
       "      <td>233.18828</td>\n",
       "      <td>47.159560</td>\n",
       "      <td>280.34784</td>\n",
       "      <td>627.625366</td>\n",
       "      <td>0.004620</td>\n",
       "      <td>-1.382369</td>\n",
       "      <td>226.342325</td>\n",
       "      <td>2.005969</td>\n",
       "    </tr>\n",
       "    <tr>\n",
       "      <th>534307.026431</th>\n",
       "      <th>8.675375e+06</th>\n",
       "      <td>130988</td>\n",
       "      <td>3</td>\n",
       "      <td>5.350</td>\n",
       "      <td>11.7</td>\n",
       "      <td>0</td>\n",
       "      <td>Moeysalbreen</td>\n",
       "      <td>233.18828</td>\n",
       "      <td>47.159560</td>\n",
       "      <td>280.34784</td>\n",
       "      <td>627.625366</td>\n",
       "      <td>0.004621</td>\n",
       "      <td>-1.369084</td>\n",
       "      <td>215.631320</td>\n",
       "      <td>1.935151</td>\n",
       "    </tr>\n",
       "  </tbody>\n",
       "</table>\n",
       "<p>94234 rows × 14 columns</p>\n",
       "</div>"
      ],
      "text/plain": [
       "                                           Unnamed: 0  Surge   Area  Slope  \\\n",
       "rgiid          x             y                                               \n",
       "RGI60-07.00004 524657.521964 8.539931e+06         206      0  1.044   13.8   \n",
       "               524681.113471 8.539955e+06         207      0  1.044   13.8   \n",
       "               524704.704977 8.539980e+06         208      0  1.044   13.8   \n",
       "               524728.296484 8.540004e+06         209      0  1.044   13.8   \n",
       "               524751.887990 8.540028e+06         210      0  1.044   13.8   \n",
       "...                                               ...    ...    ...    ...   \n",
       "RGI60-07.01567 534269.488654 8.675206e+06      130984      3  5.350   11.7   \n",
       "               534310.362510 8.675249e+06      130985      3  5.350   11.7   \n",
       "               534309.250485 8.675291e+06      130986      3  5.350   11.7   \n",
       "               534308.138459 8.675333e+06      130987      3  5.350   11.7   \n",
       "               534307.026431 8.675375e+06      130988      3  5.350   11.7   \n",
       "\n",
       "                                           TermType          Name        bed  \\\n",
       "rgiid          x             y                                                 \n",
       "RGI60-07.00004 524657.521964 8.539931e+06         0           NaN  889.68555   \n",
       "               524681.113471 8.539955e+06         0           NaN  882.06460   \n",
       "               524704.704977 8.539980e+06         0           NaN  882.06460   \n",
       "               524728.296484 8.540004e+06         0           NaN  882.06460   \n",
       "               524751.887990 8.540028e+06         0           NaN  881.31860   \n",
       "...                                             ...           ...        ...   \n",
       "RGI60-07.01567 534269.488654 8.675206e+06         0  Moeysalbreen  237.64468   \n",
       "               534310.362510 8.675249e+06         0  Moeysalbreen  233.07228   \n",
       "               534309.250485 8.675291e+06         0  Moeysalbreen  233.07228   \n",
       "               534308.138459 8.675333e+06         0  Moeysalbreen  233.18828   \n",
       "               534307.026431 8.675375e+06         0  Moeysalbreen  233.18828   \n",
       "\n",
       "                                           thickness  surface_elevation  \\\n",
       "rgiid          x             y                                            \n",
       "RGI60-07.00004 524657.521964 8.539931e+06  25.314478          915.00000   \n",
       "               524681.113471 8.539955e+06  30.935455          913.00000   \n",
       "               524704.704977 8.539980e+06  30.935455          913.00000   \n",
       "               524728.296484 8.540004e+06  30.935455          913.00000   \n",
       "               524751.887990 8.540028e+06  34.681380          916.00000   \n",
       "...                                              ...                ...   \n",
       "RGI60-07.01567 534269.488654 8.675206e+06  50.380424          288.02512   \n",
       "               534310.362510 8.675249e+06  46.717087          279.78937   \n",
       "               534309.250485 8.675291e+06  46.717087          279.78937   \n",
       "               534308.138459 8.675333e+06  47.159560          280.34784   \n",
       "               534307.026431 8.675375e+06  47.159560          280.34784   \n",
       "\n",
       "                                                  ELA      beta       cmb  \\\n",
       "rgiid          x             y                                              \n",
       "RGI60-07.00004 524657.521964 8.539931e+06  432.103017  0.005069  1.392706   \n",
       "               524681.113471 8.539955e+06  432.421537  0.005068  1.391001   \n",
       "               524704.704977 8.539980e+06  432.740057  0.005068  1.389296   \n",
       "               524728.296484 8.540004e+06  433.058576  0.005067  1.387591   \n",
       "               524751.887990 8.540028e+06  433.377096  0.005067  1.385886   \n",
       "...                                               ...       ...       ...   \n",
       "RGI60-07.01567 534269.488654 8.675206e+06  627.625366  0.004612 -1.412920   \n",
       "               534310.362510 8.675249e+06  627.625366  0.004614 -1.423469   \n",
       "               534309.250485 8.675291e+06  627.625366  0.004618 -1.395654   \n",
       "               534308.138459 8.675333e+06  627.625366  0.004620 -1.382369   \n",
       "               534307.026431 8.675375e+06  627.625366  0.004621 -1.369084   \n",
       "\n",
       "                                           width_centerline    Runoff  \n",
       "rgiid          x             y                                         \n",
       "RGI60-07.00004 524657.521964 8.539931e+06        279.780932  1.100061  \n",
       "               524681.113471 8.539955e+06        295.980219  1.094416  \n",
       "               524704.704977 8.539980e+06        330.851846  1.088771  \n",
       "               524728.296484 8.540004e+06        342.886985  1.083127  \n",
       "               524751.887990 8.540028e+06        336.403639  1.077530  \n",
       "...                                                     ...       ...  \n",
       "RGI60-07.01567 534269.488654 8.675206e+06        278.553621  2.123592  \n",
       "               534310.362510 8.675249e+06        256.755923  2.127417  \n",
       "               534309.250485 8.675291e+06        238.477978  2.076787  \n",
       "               534308.138459 8.675333e+06        226.342325  2.005969  \n",
       "               534307.026431 8.675375e+06        215.631320  1.935151  \n",
       "\n",
       "[94234 rows x 14 columns]"
      ]
     },
     "execution_count": 3,
     "metadata": {},
     "output_type": "execute_result"
    }
   ],
   "source": [
    "df_main = pd.read_csv('/home/colili/Documents/PhD/project_john/DataFrame_produced/df_main.csv', index_col=['rgiid', 'x', 'y'])\n",
    "df_main"
   ]
  },
  {
   "cell_type": "code",
   "execution_count": 4,
   "metadata": {},
   "outputs": [
    {
     "data": {
      "text/html": [
       "<div>\n",
       "<style scoped>\n",
       "    .dataframe tbody tr th:only-of-type {\n",
       "        vertical-align: middle;\n",
       "    }\n",
       "\n",
       "    .dataframe tbody tr th {\n",
       "        vertical-align: top;\n",
       "    }\n",
       "\n",
       "    .dataframe thead th {\n",
       "        text-align: right;\n",
       "    }\n",
       "</style>\n",
       "<table border=\"1\" class=\"dataframe\">\n",
       "  <thead>\n",
       "    <tr style=\"text-align: right;\">\n",
       "      <th></th>\n",
       "      <th></th>\n",
       "      <th></th>\n",
       "      <th>Unnamed: 0</th>\n",
       "      <th>Surge</th>\n",
       "      <th>Area</th>\n",
       "      <th>Slope</th>\n",
       "      <th>TermType</th>\n",
       "      <th>Name</th>\n",
       "      <th>bed</th>\n",
       "      <th>thickness</th>\n",
       "      <th>surface_elevation</th>\n",
       "      <th>ELA</th>\n",
       "      <th>beta</th>\n",
       "      <th>cmb</th>\n",
       "      <th>width_centerline</th>\n",
       "      <th>Runoff</th>\n",
       "      <th>SMB_calc</th>\n",
       "    </tr>\n",
       "    <tr>\n",
       "      <th>rgiid</th>\n",
       "      <th>x</th>\n",
       "      <th>y</th>\n",
       "      <th></th>\n",
       "      <th></th>\n",
       "      <th></th>\n",
       "      <th></th>\n",
       "      <th></th>\n",
       "      <th></th>\n",
       "      <th></th>\n",
       "      <th></th>\n",
       "      <th></th>\n",
       "      <th></th>\n",
       "      <th></th>\n",
       "      <th></th>\n",
       "      <th></th>\n",
       "      <th></th>\n",
       "      <th></th>\n",
       "    </tr>\n",
       "  </thead>\n",
       "  <tbody>\n",
       "    <tr>\n",
       "      <th rowspan=\"5\" valign=\"top\">RGI60-07.00004</th>\n",
       "      <th>524657.521964</th>\n",
       "      <th>8.539931e+06</th>\n",
       "      <td>206</td>\n",
       "      <td>0</td>\n",
       "      <td>1.044</td>\n",
       "      <td>13.8</td>\n",
       "      <td>0</td>\n",
       "      <td>NaN</td>\n",
       "      <td>889.68555</td>\n",
       "      <td>25.314478</td>\n",
       "      <td>915.00000</td>\n",
       "      <td>432.103017</td>\n",
       "      <td>0.005069</td>\n",
       "      <td>1.392706</td>\n",
       "      <td>279.780932</td>\n",
       "      <td>1.100061</td>\n",
       "      <td>2.447634</td>\n",
       "    </tr>\n",
       "    <tr>\n",
       "      <th>524681.113471</th>\n",
       "      <th>8.539955e+06</th>\n",
       "      <td>207</td>\n",
       "      <td>0</td>\n",
       "      <td>1.044</td>\n",
       "      <td>13.8</td>\n",
       "      <td>0</td>\n",
       "      <td>NaN</td>\n",
       "      <td>882.06460</td>\n",
       "      <td>30.935455</td>\n",
       "      <td>913.00000</td>\n",
       "      <td>432.421537</td>\n",
       "      <td>0.005068</td>\n",
       "      <td>1.391001</td>\n",
       "      <td>295.980219</td>\n",
       "      <td>1.094416</td>\n",
       "      <td>2.435692</td>\n",
       "    </tr>\n",
       "    <tr>\n",
       "      <th>524704.704977</th>\n",
       "      <th>8.539980e+06</th>\n",
       "      <td>208</td>\n",
       "      <td>0</td>\n",
       "      <td>1.044</td>\n",
       "      <td>13.8</td>\n",
       "      <td>0</td>\n",
       "      <td>NaN</td>\n",
       "      <td>882.06460</td>\n",
       "      <td>30.935455</td>\n",
       "      <td>913.00000</td>\n",
       "      <td>432.740057</td>\n",
       "      <td>0.005068</td>\n",
       "      <td>1.389296</td>\n",
       "      <td>330.851846</td>\n",
       "      <td>1.088771</td>\n",
       "      <td>2.433887</td>\n",
       "    </tr>\n",
       "    <tr>\n",
       "      <th>524728.296484</th>\n",
       "      <th>8.540004e+06</th>\n",
       "      <td>209</td>\n",
       "      <td>0</td>\n",
       "      <td>1.044</td>\n",
       "      <td>13.8</td>\n",
       "      <td>0</td>\n",
       "      <td>NaN</td>\n",
       "      <td>882.06460</td>\n",
       "      <td>30.935455</td>\n",
       "      <td>913.00000</td>\n",
       "      <td>433.058576</td>\n",
       "      <td>0.005067</td>\n",
       "      <td>1.387591</td>\n",
       "      <td>342.886985</td>\n",
       "      <td>1.083127</td>\n",
       "      <td>2.432082</td>\n",
       "    </tr>\n",
       "    <tr>\n",
       "      <th>524751.887990</th>\n",
       "      <th>8.540028e+06</th>\n",
       "      <td>210</td>\n",
       "      <td>0</td>\n",
       "      <td>1.044</td>\n",
       "      <td>13.8</td>\n",
       "      <td>0</td>\n",
       "      <td>NaN</td>\n",
       "      <td>881.31860</td>\n",
       "      <td>34.681380</td>\n",
       "      <td>916.00000</td>\n",
       "      <td>433.377096</td>\n",
       "      <td>0.005067</td>\n",
       "      <td>1.385886</td>\n",
       "      <td>336.403639</td>\n",
       "      <td>1.077530</td>\n",
       "      <td>2.445479</td>\n",
       "    </tr>\n",
       "    <tr>\n",
       "      <th>...</th>\n",
       "      <th>...</th>\n",
       "      <th>...</th>\n",
       "      <td>...</td>\n",
       "      <td>...</td>\n",
       "      <td>...</td>\n",
       "      <td>...</td>\n",
       "      <td>...</td>\n",
       "      <td>...</td>\n",
       "      <td>...</td>\n",
       "      <td>...</td>\n",
       "      <td>...</td>\n",
       "      <td>...</td>\n",
       "      <td>...</td>\n",
       "      <td>...</td>\n",
       "      <td>...</td>\n",
       "      <td>...</td>\n",
       "      <td>...</td>\n",
       "    </tr>\n",
       "    <tr>\n",
       "      <th rowspan=\"5\" valign=\"top\">RGI60-07.01567</th>\n",
       "      <th>534269.488654</th>\n",
       "      <th>8.675206e+06</th>\n",
       "      <td>130984</td>\n",
       "      <td>3</td>\n",
       "      <td>5.350</td>\n",
       "      <td>11.7</td>\n",
       "      <td>0</td>\n",
       "      <td>Moeysalbreen</td>\n",
       "      <td>237.64468</td>\n",
       "      <td>50.380424</td>\n",
       "      <td>288.02512</td>\n",
       "      <td>627.625366</td>\n",
       "      <td>0.004612</td>\n",
       "      <td>-1.412920</td>\n",
       "      <td>278.553621</td>\n",
       "      <td>2.123592</td>\n",
       "      <td>-1.566323</td>\n",
       "    </tr>\n",
       "    <tr>\n",
       "      <th>534310.362510</th>\n",
       "      <th>8.675249e+06</th>\n",
       "      <td>130985</td>\n",
       "      <td>3</td>\n",
       "      <td>5.350</td>\n",
       "      <td>11.7</td>\n",
       "      <td>0</td>\n",
       "      <td>Moeysalbreen</td>\n",
       "      <td>233.07228</td>\n",
       "      <td>46.717087</td>\n",
       "      <td>279.78937</td>\n",
       "      <td>627.625366</td>\n",
       "      <td>0.004614</td>\n",
       "      <td>-1.423469</td>\n",
       "      <td>256.755923</td>\n",
       "      <td>2.127417</td>\n",
       "      <td>-1.604864</td>\n",
       "    </tr>\n",
       "    <tr>\n",
       "      <th>534309.250485</th>\n",
       "      <th>8.675291e+06</th>\n",
       "      <td>130986</td>\n",
       "      <td>3</td>\n",
       "      <td>5.350</td>\n",
       "      <td>11.7</td>\n",
       "      <td>0</td>\n",
       "      <td>Moeysalbreen</td>\n",
       "      <td>233.07228</td>\n",
       "      <td>46.717087</td>\n",
       "      <td>279.78937</td>\n",
       "      <td>627.625366</td>\n",
       "      <td>0.004618</td>\n",
       "      <td>-1.395654</td>\n",
       "      <td>238.477978</td>\n",
       "      <td>2.076787</td>\n",
       "      <td>-1.606379</td>\n",
       "    </tr>\n",
       "    <tr>\n",
       "      <th>534308.138459</th>\n",
       "      <th>8.675333e+06</th>\n",
       "      <td>130987</td>\n",
       "      <td>3</td>\n",
       "      <td>5.350</td>\n",
       "      <td>11.7</td>\n",
       "      <td>0</td>\n",
       "      <td>Moeysalbreen</td>\n",
       "      <td>233.18828</td>\n",
       "      <td>47.159560</td>\n",
       "      <td>280.34784</td>\n",
       "      <td>627.625366</td>\n",
       "      <td>0.004620</td>\n",
       "      <td>-1.382369</td>\n",
       "      <td>226.342325</td>\n",
       "      <td>2.005969</td>\n",
       "      <td>-1.604294</td>\n",
       "    </tr>\n",
       "    <tr>\n",
       "      <th>534307.026431</th>\n",
       "      <th>8.675375e+06</th>\n",
       "      <td>130988</td>\n",
       "      <td>3</td>\n",
       "      <td>5.350</td>\n",
       "      <td>11.7</td>\n",
       "      <td>0</td>\n",
       "      <td>Moeysalbreen</td>\n",
       "      <td>233.18828</td>\n",
       "      <td>47.159560</td>\n",
       "      <td>280.34784</td>\n",
       "      <td>627.625366</td>\n",
       "      <td>0.004621</td>\n",
       "      <td>-1.369084</td>\n",
       "      <td>215.631320</td>\n",
       "      <td>1.935151</td>\n",
       "      <td>-1.604788</td>\n",
       "    </tr>\n",
       "  </tbody>\n",
       "</table>\n",
       "<p>94234 rows × 15 columns</p>\n",
       "</div>"
      ],
      "text/plain": [
       "                                           Unnamed: 0  Surge   Area  Slope  \\\n",
       "rgiid          x             y                                               \n",
       "RGI60-07.00004 524657.521964 8.539931e+06         206      0  1.044   13.8   \n",
       "               524681.113471 8.539955e+06         207      0  1.044   13.8   \n",
       "               524704.704977 8.539980e+06         208      0  1.044   13.8   \n",
       "               524728.296484 8.540004e+06         209      0  1.044   13.8   \n",
       "               524751.887990 8.540028e+06         210      0  1.044   13.8   \n",
       "...                                               ...    ...    ...    ...   \n",
       "RGI60-07.01567 534269.488654 8.675206e+06      130984      3  5.350   11.7   \n",
       "               534310.362510 8.675249e+06      130985      3  5.350   11.7   \n",
       "               534309.250485 8.675291e+06      130986      3  5.350   11.7   \n",
       "               534308.138459 8.675333e+06      130987      3  5.350   11.7   \n",
       "               534307.026431 8.675375e+06      130988      3  5.350   11.7   \n",
       "\n",
       "                                           TermType          Name        bed  \\\n",
       "rgiid          x             y                                                 \n",
       "RGI60-07.00004 524657.521964 8.539931e+06         0           NaN  889.68555   \n",
       "               524681.113471 8.539955e+06         0           NaN  882.06460   \n",
       "               524704.704977 8.539980e+06         0           NaN  882.06460   \n",
       "               524728.296484 8.540004e+06         0           NaN  882.06460   \n",
       "               524751.887990 8.540028e+06         0           NaN  881.31860   \n",
       "...                                             ...           ...        ...   \n",
       "RGI60-07.01567 534269.488654 8.675206e+06         0  Moeysalbreen  237.64468   \n",
       "               534310.362510 8.675249e+06         0  Moeysalbreen  233.07228   \n",
       "               534309.250485 8.675291e+06         0  Moeysalbreen  233.07228   \n",
       "               534308.138459 8.675333e+06         0  Moeysalbreen  233.18828   \n",
       "               534307.026431 8.675375e+06         0  Moeysalbreen  233.18828   \n",
       "\n",
       "                                           thickness  surface_elevation  \\\n",
       "rgiid          x             y                                            \n",
       "RGI60-07.00004 524657.521964 8.539931e+06  25.314478          915.00000   \n",
       "               524681.113471 8.539955e+06  30.935455          913.00000   \n",
       "               524704.704977 8.539980e+06  30.935455          913.00000   \n",
       "               524728.296484 8.540004e+06  30.935455          913.00000   \n",
       "               524751.887990 8.540028e+06  34.681380          916.00000   \n",
       "...                                              ...                ...   \n",
       "RGI60-07.01567 534269.488654 8.675206e+06  50.380424          288.02512   \n",
       "               534310.362510 8.675249e+06  46.717087          279.78937   \n",
       "               534309.250485 8.675291e+06  46.717087          279.78937   \n",
       "               534308.138459 8.675333e+06  47.159560          280.34784   \n",
       "               534307.026431 8.675375e+06  47.159560          280.34784   \n",
       "\n",
       "                                                  ELA      beta       cmb  \\\n",
       "rgiid          x             y                                              \n",
       "RGI60-07.00004 524657.521964 8.539931e+06  432.103017  0.005069  1.392706   \n",
       "               524681.113471 8.539955e+06  432.421537  0.005068  1.391001   \n",
       "               524704.704977 8.539980e+06  432.740057  0.005068  1.389296   \n",
       "               524728.296484 8.540004e+06  433.058576  0.005067  1.387591   \n",
       "               524751.887990 8.540028e+06  433.377096  0.005067  1.385886   \n",
       "...                                               ...       ...       ...   \n",
       "RGI60-07.01567 534269.488654 8.675206e+06  627.625366  0.004612 -1.412920   \n",
       "               534310.362510 8.675249e+06  627.625366  0.004614 -1.423469   \n",
       "               534309.250485 8.675291e+06  627.625366  0.004618 -1.395654   \n",
       "               534308.138459 8.675333e+06  627.625366  0.004620 -1.382369   \n",
       "               534307.026431 8.675375e+06  627.625366  0.004621 -1.369084   \n",
       "\n",
       "                                           width_centerline    Runoff  \\\n",
       "rgiid          x             y                                          \n",
       "RGI60-07.00004 524657.521964 8.539931e+06        279.780932  1.100061   \n",
       "               524681.113471 8.539955e+06        295.980219  1.094416   \n",
       "               524704.704977 8.539980e+06        330.851846  1.088771   \n",
       "               524728.296484 8.540004e+06        342.886985  1.083127   \n",
       "               524751.887990 8.540028e+06        336.403639  1.077530   \n",
       "...                                                     ...       ...   \n",
       "RGI60-07.01567 534269.488654 8.675206e+06        278.553621  2.123592   \n",
       "               534310.362510 8.675249e+06        256.755923  2.127417   \n",
       "               534309.250485 8.675291e+06        238.477978  2.076787   \n",
       "               534308.138459 8.675333e+06        226.342325  2.005969   \n",
       "               534307.026431 8.675375e+06        215.631320  1.935151   \n",
       "\n",
       "                                           SMB_calc  \n",
       "rgiid          x             y                       \n",
       "RGI60-07.00004 524657.521964 8.539931e+06  2.447634  \n",
       "               524681.113471 8.539955e+06  2.435692  \n",
       "               524704.704977 8.539980e+06  2.433887  \n",
       "               524728.296484 8.540004e+06  2.432082  \n",
       "               524751.887990 8.540028e+06  2.445479  \n",
       "...                                             ...  \n",
       "RGI60-07.01567 534269.488654 8.675206e+06 -1.566323  \n",
       "               534310.362510 8.675249e+06 -1.604864  \n",
       "               534309.250485 8.675291e+06 -1.606379  \n",
       "               534308.138459 8.675333e+06 -1.604294  \n",
       "               534307.026431 8.675375e+06 -1.604788  \n",
       "\n",
       "[94234 rows x 15 columns]"
      ]
     },
     "execution_count": 4,
     "metadata": {},
     "output_type": "execute_result"
    }
   ],
   "source": [
    "df_main['SMB_calc'] = df_main['beta']*(df_main['surface_elevation']-df_main['ELA'])\n",
    "df_main"
   ]
  },
  {
   "cell_type": "code",
   "execution_count": 5,
   "metadata": {},
   "outputs": [],
   "source": [
    "df_main['WH'] = df_main['width_centerline'] / df_main['thickness']\n",
    "df_main['WHsin'] = df_main['thickness']*df_main['width_centerline']*np.sin(df_main['Slope'])\n",
    "df_main['dummy'] = np.random.rand(df_main.shape[0])"
   ]
  },
  {
   "cell_type": "code",
   "execution_count": 6,
   "metadata": {},
   "outputs": [],
   "source": [
    "df = df_main.drop(df_main[df_main['Surge']==9].index)\n",
    "df = df.drop(df_main[df_main['Surge']==1].index)\n",
    "# df = df_main.drop(df_main[df_main['Surge']==2].index)\n",
    "df = df.drop(columns = ['Unnamed: 0', 'ELA', 'beta', 'Name', 'Area', 'cmb'])\n",
    "df.dropna(how='any', inplace=True)"
   ]
  },
  {
   "cell_type": "code",
   "execution_count": 7,
   "metadata": {},
   "outputs": [
    {
     "data": {
      "text/html": [
       "<div>\n",
       "<style scoped>\n",
       "    .dataframe tbody tr th:only-of-type {\n",
       "        vertical-align: middle;\n",
       "    }\n",
       "\n",
       "    .dataframe tbody tr th {\n",
       "        vertical-align: top;\n",
       "    }\n",
       "\n",
       "    .dataframe thead th {\n",
       "        text-align: right;\n",
       "    }\n",
       "</style>\n",
       "<table border=\"1\" class=\"dataframe\">\n",
       "  <thead>\n",
       "    <tr style=\"text-align: right;\">\n",
       "      <th></th>\n",
       "      <th>Slope</th>\n",
       "      <th>TermType</th>\n",
       "      <th>bed</th>\n",
       "      <th>thickness</th>\n",
       "      <th>surface_elevation</th>\n",
       "      <th>width_centerline</th>\n",
       "      <th>Runoff</th>\n",
       "      <th>SMB_calc</th>\n",
       "      <th>WH</th>\n",
       "      <th>WHsin</th>\n",
       "      <th>dummy</th>\n",
       "    </tr>\n",
       "    <tr>\n",
       "      <th>Surge</th>\n",
       "      <th></th>\n",
       "      <th></th>\n",
       "      <th></th>\n",
       "      <th></th>\n",
       "      <th></th>\n",
       "      <th></th>\n",
       "      <th></th>\n",
       "      <th></th>\n",
       "      <th></th>\n",
       "      <th></th>\n",
       "      <th></th>\n",
       "    </tr>\n",
       "  </thead>\n",
       "  <tbody>\n",
       "    <tr>\n",
       "      <th>0</th>\n",
       "      <td>68675</td>\n",
       "      <td>68675</td>\n",
       "      <td>68675</td>\n",
       "      <td>68675</td>\n",
       "      <td>68675</td>\n",
       "      <td>68675</td>\n",
       "      <td>68675</td>\n",
       "      <td>68675</td>\n",
       "      <td>68675</td>\n",
       "      <td>68675</td>\n",
       "      <td>68675</td>\n",
       "    </tr>\n",
       "    <tr>\n",
       "      <th>2</th>\n",
       "      <td>4249</td>\n",
       "      <td>4249</td>\n",
       "      <td>4249</td>\n",
       "      <td>4249</td>\n",
       "      <td>4249</td>\n",
       "      <td>4249</td>\n",
       "      <td>4249</td>\n",
       "      <td>4249</td>\n",
       "      <td>4249</td>\n",
       "      <td>4249</td>\n",
       "      <td>4249</td>\n",
       "    </tr>\n",
       "    <tr>\n",
       "      <th>3</th>\n",
       "      <td>10897</td>\n",
       "      <td>10897</td>\n",
       "      <td>10897</td>\n",
       "      <td>10897</td>\n",
       "      <td>10897</td>\n",
       "      <td>10897</td>\n",
       "      <td>10897</td>\n",
       "      <td>10897</td>\n",
       "      <td>10897</td>\n",
       "      <td>10897</td>\n",
       "      <td>10897</td>\n",
       "    </tr>\n",
       "  </tbody>\n",
       "</table>\n",
       "</div>"
      ],
      "text/plain": [
       "       Slope  TermType    bed  thickness  surface_elevation  width_centerline  \\\n",
       "Surge                                                                           \n",
       "0      68675     68675  68675      68675              68675             68675   \n",
       "2       4249      4249   4249       4249               4249              4249   \n",
       "3      10897     10897  10897      10897              10897             10897   \n",
       "\n",
       "       Runoff  SMB_calc     WH  WHsin  dummy  \n",
       "Surge                                         \n",
       "0       68675     68675  68675  68675  68675  \n",
       "2        4249      4249   4249   4249   4249  \n",
       "3       10897     10897  10897  10897  10897  "
      ]
     },
     "execution_count": 7,
     "metadata": {},
     "output_type": "execute_result"
    }
   ],
   "source": [
    "df.groupby('Surge').count()"
   ]
  },
  {
   "cell_type": "code",
   "execution_count": 8,
   "metadata": {},
   "outputs": [
    {
     "data": {
      "text/plain": [
       "0    68675\n",
       "1    15146\n",
       "Name: label, dtype: int64"
      ]
     },
     "execution_count": 8,
     "metadata": {},
     "output_type": "execute_result"
    }
   ],
   "source": [
    "df['Surge'] = df['Surge'].replace({3: 1, 2:1})\n",
    "df = df.loc[df['Surge'].isin([0, 1])].copy()\n",
    "df = df.rename(columns = {'Surge': 'label'})\n",
    "df['label'].value_counts()"
   ]
  },
  {
   "cell_type": "code",
   "execution_count": 9,
   "metadata": {},
   "outputs": [
    {
     "data": {
      "text/plain": [
       "15146"
      ]
     },
     "execution_count": 9,
     "metadata": {},
     "output_type": "execute_result"
    }
   ],
   "source": [
    "df[df['label']==1].shape[0]"
   ]
  },
  {
   "cell_type": "code",
   "execution_count": 10,
   "metadata": {},
   "outputs": [
    {
     "data": {
      "text/plain": [
       "(83821, 12)"
      ]
     },
     "execution_count": 10,
     "metadata": {},
     "output_type": "execute_result"
    }
   ],
   "source": [
    "df.shape"
   ]
  },
  {
   "cell_type": "markdown",
   "metadata": {},
   "source": [
    "### Resampled"
   ]
  },
  {
   "cell_type": "code",
   "execution_count": 11,
   "metadata": {},
   "outputs": [],
   "source": [
    "# Separate majority and minority classes\n",
    "df_majority = df[df['label']==0]\n",
    "df_minority = df[df['label']==1]\n",
    " \n",
    "# Downsample majority class\n",
    "df_majority_downsampled = resample(df_majority, \n",
    "                                 replace=False,    # sample without replacement\n",
    "                                 n_samples=df[df['label']==1].shape[0],     # to match minority class\n",
    "                                 random_state=RSEED) # reproducible results\n",
    " \n",
    "# Combine minority class with downsampled majority class\n",
    "df_downsampled = pd.concat([df_majority_downsampled, df_minority])\n",
    " \n",
    "# Display new class counts\n",
    "df_downsampled['label'].value_counts()\n",
    "df = df_downsampled"
   ]
  },
  {
   "cell_type": "code",
   "execution_count": 12,
   "metadata": {},
   "outputs": [
    {
     "data": {
      "text/plain": [
       "(30292, 12)"
      ]
     },
     "execution_count": 12,
     "metadata": {},
     "output_type": "execute_result"
    }
   ],
   "source": [
    "df_downsampled.shape"
   ]
  },
  {
   "cell_type": "code",
   "execution_count": 13,
   "metadata": {},
   "outputs": [],
   "source": [
    "# Extract the labels\n",
    "labels = np.array(df.pop('label'))\n",
    "\n",
    "# 30% examples in test data\n",
    "train, test, train_labels, test_labels = train_test_split(df, labels, \n",
    "                                                          stratify = labels,\n",
    "                                                          test_size = 0.3, \n",
    "                                                          random_state = RSEED)"
   ]
  },
  {
   "cell_type": "code",
   "execution_count": 14,
   "metadata": {},
   "outputs": [
    {
     "data": {
      "text/plain": [
       "0.5"
      ]
     },
     "execution_count": 14,
     "metadata": {},
     "output_type": "execute_result"
    }
   ],
   "source": [
    "train_labels.sum()/train_labels.shape[0]"
   ]
  },
  {
   "cell_type": "code",
   "execution_count": 15,
   "metadata": {},
   "outputs": [
    {
     "data": {
      "text/plain": [
       "0.5"
      ]
     },
     "execution_count": 15,
     "metadata": {},
     "output_type": "execute_result"
    }
   ],
   "source": [
    "test_labels.sum()/test_labels.shape[0]"
   ]
  },
  {
   "cell_type": "code",
   "execution_count": 16,
   "metadata": {},
   "outputs": [
    {
     "data": {
      "text/plain": [
       "['Slope',\n",
       " 'TermType',\n",
       " 'bed',\n",
       " 'thickness',\n",
       " 'surface_elevation',\n",
       " 'width_centerline',\n",
       " 'Runoff',\n",
       " 'SMB_calc',\n",
       " 'WH',\n",
       " 'WHsin',\n",
       " 'dummy']"
      ]
     },
     "execution_count": 16,
     "metadata": {},
     "output_type": "execute_result"
    }
   ],
   "source": [
    "# Features for feature importances\n",
    "features = list(train.columns)\n",
    "features"
   ]
  },
  {
   "cell_type": "code",
   "execution_count": 17,
   "metadata": {},
   "outputs": [
    {
     "data": {
      "text/html": [
       "<div>\n",
       "<style scoped>\n",
       "    .dataframe tbody tr th:only-of-type {\n",
       "        vertical-align: middle;\n",
       "    }\n",
       "\n",
       "    .dataframe tbody tr th {\n",
       "        vertical-align: top;\n",
       "    }\n",
       "\n",
       "    .dataframe thead th {\n",
       "        text-align: right;\n",
       "    }\n",
       "</style>\n",
       "<table border=\"1\" class=\"dataframe\">\n",
       "  <thead>\n",
       "    <tr style=\"text-align: right;\">\n",
       "      <th></th>\n",
       "      <th></th>\n",
       "      <th></th>\n",
       "      <th>Slope</th>\n",
       "      <th>TermType</th>\n",
       "      <th>bed</th>\n",
       "      <th>thickness</th>\n",
       "      <th>surface_elevation</th>\n",
       "      <th>width_centerline</th>\n",
       "      <th>Runoff</th>\n",
       "      <th>SMB_calc</th>\n",
       "      <th>WH</th>\n",
       "      <th>WHsin</th>\n",
       "      <th>dummy</th>\n",
       "    </tr>\n",
       "    <tr>\n",
       "      <th>rgiid</th>\n",
       "      <th>x</th>\n",
       "      <th>y</th>\n",
       "      <th></th>\n",
       "      <th></th>\n",
       "      <th></th>\n",
       "      <th></th>\n",
       "      <th></th>\n",
       "      <th></th>\n",
       "      <th></th>\n",
       "      <th></th>\n",
       "      <th></th>\n",
       "      <th></th>\n",
       "      <th></th>\n",
       "    </tr>\n",
       "  </thead>\n",
       "  <tbody>\n",
       "    <tr>\n",
       "      <th>RGI60-07.00515</th>\n",
       "      <th>441975.150359</th>\n",
       "      <th>8.727522e+06</th>\n",
       "      <td>19.5</td>\n",
       "      <td>0</td>\n",
       "      <td>264.174900</td>\n",
       "      <td>38.879795</td>\n",
       "      <td>303.0547</td>\n",
       "      <td>576.297132</td>\n",
       "      <td>2.549741</td>\n",
       "      <td>-1.518291</td>\n",
       "      <td>14.822535</td>\n",
       "      <td>13567.916665</td>\n",
       "      <td>0.685089</td>\n",
       "    </tr>\n",
       "    <tr>\n",
       "      <th>RGI60-07.00873</th>\n",
       "      <th>548147.700372</th>\n",
       "      <th>8.772440e+06</th>\n",
       "      <td>7.4</td>\n",
       "      <td>0</td>\n",
       "      <td>1034.511800</td>\n",
       "      <td>81.036380</td>\n",
       "      <td>1115.5482</td>\n",
       "      <td>4308.036475</td>\n",
       "      <td>0.253687</td>\n",
       "      <td>0.200014</td>\n",
       "      <td>53.161759</td>\n",
       "      <td>313745.899081</td>\n",
       "      <td>0.287366</td>\n",
       "    </tr>\n",
       "    <tr>\n",
       "      <th>RGI60-07.00859</th>\n",
       "      <th>530846.114530</th>\n",
       "      <th>8.837916e+06</th>\n",
       "      <td>9.1</td>\n",
       "      <td>1</td>\n",
       "      <td>579.684600</td>\n",
       "      <td>214.568920</td>\n",
       "      <td>794.2535</td>\n",
       "      <td>7218.261007</td>\n",
       "      <td>0.504620</td>\n",
       "      <td>0.259796</td>\n",
       "      <td>33.640758</td>\n",
       "      <td>494224.160475</td>\n",
       "      <td>0.082296</td>\n",
       "    </tr>\n",
       "    <tr>\n",
       "      <th>RGI60-07.00315</th>\n",
       "      <th>578764.810581</th>\n",
       "      <th>8.620960e+06</th>\n",
       "      <td>9.4</td>\n",
       "      <td>1</td>\n",
       "      <td>-28.271210</td>\n",
       "      <td>97.271210</td>\n",
       "      <td>69.0000</td>\n",
       "      <td>2263.341551</td>\n",
       "      <td>2.532262</td>\n",
       "      <td>-1.377222</td>\n",
       "      <td>23.268360</td>\n",
       "      <td>5454.507405</td>\n",
       "      <td>0.179656</td>\n",
       "    </tr>\n",
       "    <tr>\n",
       "      <th>RGI60-07.00233</th>\n",
       "      <th>514508.764759</th>\n",
       "      <th>8.598699e+06</th>\n",
       "      <td>10.7</td>\n",
       "      <td>0</td>\n",
       "      <td>-33.664413</td>\n",
       "      <td>150.664410</td>\n",
       "      <td>117.0000</td>\n",
       "      <td>864.509164</td>\n",
       "      <td>3.193687</td>\n",
       "      <td>-3.300643</td>\n",
       "      <td>5.737979</td>\n",
       "      <td>-124602.440895</td>\n",
       "      <td>0.587507</td>\n",
       "    </tr>\n",
       "  </tbody>\n",
       "</table>\n",
       "</div>"
      ],
      "text/plain": [
       "                                           Slope  TermType          bed  \\\n",
       "rgiid          x             y                                            \n",
       "RGI60-07.00515 441975.150359 8.727522e+06   19.5         0   264.174900   \n",
       "RGI60-07.00873 548147.700372 8.772440e+06    7.4         0  1034.511800   \n",
       "RGI60-07.00859 530846.114530 8.837916e+06    9.1         1   579.684600   \n",
       "RGI60-07.00315 578764.810581 8.620960e+06    9.4         1   -28.271210   \n",
       "RGI60-07.00233 514508.764759 8.598699e+06   10.7         0   -33.664413   \n",
       "\n",
       "                                            thickness  surface_elevation  \\\n",
       "rgiid          x             y                                             \n",
       "RGI60-07.00515 441975.150359 8.727522e+06   38.879795           303.0547   \n",
       "RGI60-07.00873 548147.700372 8.772440e+06   81.036380          1115.5482   \n",
       "RGI60-07.00859 530846.114530 8.837916e+06  214.568920           794.2535   \n",
       "RGI60-07.00315 578764.810581 8.620960e+06   97.271210            69.0000   \n",
       "RGI60-07.00233 514508.764759 8.598699e+06  150.664410           117.0000   \n",
       "\n",
       "                                           width_centerline    Runoff  \\\n",
       "rgiid          x             y                                          \n",
       "RGI60-07.00515 441975.150359 8.727522e+06        576.297132  2.549741   \n",
       "RGI60-07.00873 548147.700372 8.772440e+06       4308.036475  0.253687   \n",
       "RGI60-07.00859 530846.114530 8.837916e+06       7218.261007  0.504620   \n",
       "RGI60-07.00315 578764.810581 8.620960e+06       2263.341551  2.532262   \n",
       "RGI60-07.00233 514508.764759 8.598699e+06        864.509164  3.193687   \n",
       "\n",
       "                                           SMB_calc         WH          WHsin  \\\n",
       "rgiid          x             y                                                  \n",
       "RGI60-07.00515 441975.150359 8.727522e+06 -1.518291  14.822535   13567.916665   \n",
       "RGI60-07.00873 548147.700372 8.772440e+06  0.200014  53.161759  313745.899081   \n",
       "RGI60-07.00859 530846.114530 8.837916e+06  0.259796  33.640758  494224.160475   \n",
       "RGI60-07.00315 578764.810581 8.620960e+06 -1.377222  23.268360    5454.507405   \n",
       "RGI60-07.00233 514508.764759 8.598699e+06 -3.300643   5.737979 -124602.440895   \n",
       "\n",
       "                                              dummy  \n",
       "rgiid          x             y                       \n",
       "RGI60-07.00515 441975.150359 8.727522e+06  0.685089  \n",
       "RGI60-07.00873 548147.700372 8.772440e+06  0.287366  \n",
       "RGI60-07.00859 530846.114530 8.837916e+06  0.082296  \n",
       "RGI60-07.00315 578764.810581 8.620960e+06  0.179656  \n",
       "RGI60-07.00233 514508.764759 8.598699e+06  0.587507  "
      ]
     },
     "execution_count": 17,
     "metadata": {},
     "output_type": "execute_result"
    }
   ],
   "source": [
    "train.head()"
   ]
  },
  {
   "cell_type": "code",
   "execution_count": 18,
   "metadata": {},
   "outputs": [
    {
     "data": {
      "text/plain": [
       "(21204,)"
      ]
     },
     "execution_count": 18,
     "metadata": {},
     "output_type": "execute_result"
    }
   ],
   "source": [
    "train_labels.shape"
   ]
  },
  {
   "cell_type": "code",
   "execution_count": 19,
   "metadata": {},
   "outputs": [
    {
     "data": {
      "text/html": [
       "<div>\n",
       "<style scoped>\n",
       "    .dataframe tbody tr th:only-of-type {\n",
       "        vertical-align: middle;\n",
       "    }\n",
       "\n",
       "    .dataframe tbody tr th {\n",
       "        vertical-align: top;\n",
       "    }\n",
       "\n",
       "    .dataframe thead th {\n",
       "        text-align: right;\n",
       "    }\n",
       "</style>\n",
       "<table border=\"1\" class=\"dataframe\">\n",
       "  <thead>\n",
       "    <tr style=\"text-align: right;\">\n",
       "      <th></th>\n",
       "      <th></th>\n",
       "      <th></th>\n",
       "      <th>Slope</th>\n",
       "      <th>TermType</th>\n",
       "      <th>bed</th>\n",
       "      <th>thickness</th>\n",
       "      <th>surface_elevation</th>\n",
       "      <th>width_centerline</th>\n",
       "      <th>Runoff</th>\n",
       "      <th>SMB_calc</th>\n",
       "      <th>WH</th>\n",
       "      <th>WHsin</th>\n",
       "      <th>dummy</th>\n",
       "    </tr>\n",
       "    <tr>\n",
       "      <th>rgiid</th>\n",
       "      <th>x</th>\n",
       "      <th>y</th>\n",
       "      <th></th>\n",
       "      <th></th>\n",
       "      <th></th>\n",
       "      <th></th>\n",
       "      <th></th>\n",
       "      <th></th>\n",
       "      <th></th>\n",
       "      <th></th>\n",
       "      <th></th>\n",
       "      <th></th>\n",
       "      <th></th>\n",
       "    </tr>\n",
       "  </thead>\n",
       "  <tbody>\n",
       "    <tr>\n",
       "      <th>RGI60-07.00465</th>\n",
       "      <th>478371.303131</th>\n",
       "      <th>8.716493e+06</th>\n",
       "      <td>8.1</td>\n",
       "      <td>1</td>\n",
       "      <td>46.214294</td>\n",
       "      <td>221.83762</td>\n",
       "      <td>268.05190</td>\n",
       "      <td>5613.527053</td>\n",
       "      <td>2.654832</td>\n",
       "      <td>-1.401845</td>\n",
       "      <td>25.304667</td>\n",
       "      <td>1.207796e+06</td>\n",
       "      <td>0.554090</td>\n",
       "    </tr>\n",
       "    <tr>\n",
       "      <th>RGI60-07.01090</th>\n",
       "      <th>489770.321036</th>\n",
       "      <th>8.649560e+06</th>\n",
       "      <td>10.6</td>\n",
       "      <td>0</td>\n",
       "      <td>147.998780</td>\n",
       "      <td>71.05932</td>\n",
       "      <td>219.05810</td>\n",
       "      <td>645.227888</td>\n",
       "      <td>1.370421</td>\n",
       "      <td>-1.918945</td>\n",
       "      <td>9.080130</td>\n",
       "      <td>-4.230875e+04</td>\n",
       "      <td>0.883679</td>\n",
       "    </tr>\n",
       "    <tr>\n",
       "      <th>RGI60-07.00406</th>\n",
       "      <th>557921.341535</th>\n",
       "      <th>8.663047e+06</th>\n",
       "      <td>12.2</td>\n",
       "      <td>0</td>\n",
       "      <td>184.157470</td>\n",
       "      <td>48.18905</td>\n",
       "      <td>232.34653</td>\n",
       "      <td>619.202874</td>\n",
       "      <td>2.521803</td>\n",
       "      <td>-1.821770</td>\n",
       "      <td>12.849452</td>\n",
       "      <td>-1.068913e+04</td>\n",
       "      <td>0.201146</td>\n",
       "    </tr>\n",
       "    <tr>\n",
       "      <th>RGI60-07.00862</th>\n",
       "      <th>541092.973415</th>\n",
       "      <th>8.860543e+06</th>\n",
       "      <td>9.7</td>\n",
       "      <td>0</td>\n",
       "      <td>165.962950</td>\n",
       "      <td>90.94358</td>\n",
       "      <td>256.90652</td>\n",
       "      <td>276.764792</td>\n",
       "      <td>1.145731</td>\n",
       "      <td>-0.664016</td>\n",
       "      <td>3.043258</td>\n",
       "      <td>-6.840210e+03</td>\n",
       "      <td>0.707244</td>\n",
       "    </tr>\n",
       "    <tr>\n",
       "      <th>RGI60-07.00169</th>\n",
       "      <th>530699.535153</th>\n",
       "      <th>8.626463e+06</th>\n",
       "      <td>14.4</td>\n",
       "      <td>0</td>\n",
       "      <td>551.148100</td>\n",
       "      <td>41.85196</td>\n",
       "      <td>593.00000</td>\n",
       "      <td>1038.449988</td>\n",
       "      <td>1.399670</td>\n",
       "      <td>0.206295</td>\n",
       "      <td>24.812458</td>\n",
       "      <td>4.196861e+04</td>\n",
       "      <td>0.291264</td>\n",
       "    </tr>\n",
       "  </tbody>\n",
       "</table>\n",
       "</div>"
      ],
      "text/plain": [
       "                                           Slope  TermType         bed  \\\n",
       "rgiid          x             y                                           \n",
       "RGI60-07.00465 478371.303131 8.716493e+06    8.1         1   46.214294   \n",
       "RGI60-07.01090 489770.321036 8.649560e+06   10.6         0  147.998780   \n",
       "RGI60-07.00406 557921.341535 8.663047e+06   12.2         0  184.157470   \n",
       "RGI60-07.00862 541092.973415 8.860543e+06    9.7         0  165.962950   \n",
       "RGI60-07.00169 530699.535153 8.626463e+06   14.4         0  551.148100   \n",
       "\n",
       "                                           thickness  surface_elevation  \\\n",
       "rgiid          x             y                                            \n",
       "RGI60-07.00465 478371.303131 8.716493e+06  221.83762          268.05190   \n",
       "RGI60-07.01090 489770.321036 8.649560e+06   71.05932          219.05810   \n",
       "RGI60-07.00406 557921.341535 8.663047e+06   48.18905          232.34653   \n",
       "RGI60-07.00862 541092.973415 8.860543e+06   90.94358          256.90652   \n",
       "RGI60-07.00169 530699.535153 8.626463e+06   41.85196          593.00000   \n",
       "\n",
       "                                           width_centerline    Runoff  \\\n",
       "rgiid          x             y                                          \n",
       "RGI60-07.00465 478371.303131 8.716493e+06       5613.527053  2.654832   \n",
       "RGI60-07.01090 489770.321036 8.649560e+06        645.227888  1.370421   \n",
       "RGI60-07.00406 557921.341535 8.663047e+06        619.202874  2.521803   \n",
       "RGI60-07.00862 541092.973415 8.860543e+06        276.764792  1.145731   \n",
       "RGI60-07.00169 530699.535153 8.626463e+06       1038.449988  1.399670   \n",
       "\n",
       "                                           SMB_calc         WH         WHsin  \\\n",
       "rgiid          x             y                                                 \n",
       "RGI60-07.00465 478371.303131 8.716493e+06 -1.401845  25.304667  1.207796e+06   \n",
       "RGI60-07.01090 489770.321036 8.649560e+06 -1.918945   9.080130 -4.230875e+04   \n",
       "RGI60-07.00406 557921.341535 8.663047e+06 -1.821770  12.849452 -1.068913e+04   \n",
       "RGI60-07.00862 541092.973415 8.860543e+06 -0.664016   3.043258 -6.840210e+03   \n",
       "RGI60-07.00169 530699.535153 8.626463e+06  0.206295  24.812458  4.196861e+04   \n",
       "\n",
       "                                              dummy  \n",
       "rgiid          x             y                       \n",
       "RGI60-07.00465 478371.303131 8.716493e+06  0.554090  \n",
       "RGI60-07.01090 489770.321036 8.649560e+06  0.883679  \n",
       "RGI60-07.00406 557921.341535 8.663047e+06  0.201146  \n",
       "RGI60-07.00862 541092.973415 8.860543e+06  0.707244  \n",
       "RGI60-07.00169 530699.535153 8.626463e+06  0.291264  "
      ]
     },
     "execution_count": 19,
     "metadata": {},
     "output_type": "execute_result"
    }
   ],
   "source": [
    "test.head()"
   ]
  },
  {
   "cell_type": "markdown",
   "metadata": {},
   "source": [
    "# Gradient boosting"
   ]
  },
  {
   "cell_type": "markdown",
   "metadata": {},
   "source": [
    "### Only 4 values (Term, thickness, runoff, width)"
   ]
  },
  {
   "cell_type": "code",
   "execution_count": 20,
   "metadata": {},
   "outputs": [],
   "source": [
    "import xgboost\n",
    "import sklearn.metrics as metrics\n",
    "from sklearn.model_selection import train_test_split\n",
    "from sklearn.feature_selection import RFE"
   ]
  },
  {
   "cell_type": "code",
   "execution_count": 21,
   "metadata": {},
   "outputs": [
    {
     "data": {
      "text/plain": [
       "Index(['Slope', 'TermType', 'bed', 'thickness', 'surface_elevation',\n",
       "       'width_centerline', 'Runoff', 'SMB_calc', 'WH', 'WHsin', 'dummy'],\n",
       "      dtype='object')"
      ]
     },
     "execution_count": 21,
     "metadata": {},
     "output_type": "execute_result"
    }
   ],
   "source": [
    "train.columns"
   ]
  },
  {
   "cell_type": "code",
   "execution_count": 22,
   "metadata": {},
   "outputs": [],
   "source": [
    "train_reduced = train.drop(columns=['Slope', 'bed', 'surface_elevation', 'SMB_calc', 'WH', 'WHsin', 'dummy'])\n",
    "test_reduced = test.drop(columns=['Slope', 'bed', 'surface_elevation', 'SMB_calc', 'WH', 'WHsin', 'dummy'])"
   ]
  },
  {
   "cell_type": "code",
   "execution_count": 23,
   "metadata": {},
   "outputs": [
    {
     "data": {
      "text/html": [
       "<div>\n",
       "<style scoped>\n",
       "    .dataframe tbody tr th:only-of-type {\n",
       "        vertical-align: middle;\n",
       "    }\n",
       "\n",
       "    .dataframe tbody tr th {\n",
       "        vertical-align: top;\n",
       "    }\n",
       "\n",
       "    .dataframe thead th {\n",
       "        text-align: right;\n",
       "    }\n",
       "</style>\n",
       "<table border=\"1\" class=\"dataframe\">\n",
       "  <thead>\n",
       "    <tr style=\"text-align: right;\">\n",
       "      <th></th>\n",
       "      <th></th>\n",
       "      <th></th>\n",
       "      <th>Slope</th>\n",
       "      <th>TermType</th>\n",
       "      <th>bed</th>\n",
       "      <th>thickness</th>\n",
       "      <th>surface_elevation</th>\n",
       "      <th>width_centerline</th>\n",
       "      <th>Runoff</th>\n",
       "      <th>SMB_calc</th>\n",
       "      <th>WH</th>\n",
       "      <th>WHsin</th>\n",
       "      <th>dummy</th>\n",
       "    </tr>\n",
       "    <tr>\n",
       "      <th>rgiid</th>\n",
       "      <th>x</th>\n",
       "      <th>y</th>\n",
       "      <th></th>\n",
       "      <th></th>\n",
       "      <th></th>\n",
       "      <th></th>\n",
       "      <th></th>\n",
       "      <th></th>\n",
       "      <th></th>\n",
       "      <th></th>\n",
       "      <th></th>\n",
       "      <th></th>\n",
       "      <th></th>\n",
       "    </tr>\n",
       "  </thead>\n",
       "  <tbody>\n",
       "    <tr>\n",
       "      <th>RGI60-07.00465</th>\n",
       "      <th>478371.303131</th>\n",
       "      <th>8.716493e+06</th>\n",
       "      <td>8.1</td>\n",
       "      <td>1</td>\n",
       "      <td>46.214294</td>\n",
       "      <td>221.837620</td>\n",
       "      <td>268.05190</td>\n",
       "      <td>5613.527053</td>\n",
       "      <td>2.654832</td>\n",
       "      <td>-1.401845</td>\n",
       "      <td>25.304667</td>\n",
       "      <td>1.207796e+06</td>\n",
       "      <td>0.554090</td>\n",
       "    </tr>\n",
       "    <tr>\n",
       "      <th>RGI60-07.01090</th>\n",
       "      <th>489770.321036</th>\n",
       "      <th>8.649560e+06</th>\n",
       "      <td>10.6</td>\n",
       "      <td>0</td>\n",
       "      <td>147.998780</td>\n",
       "      <td>71.059320</td>\n",
       "      <td>219.05810</td>\n",
       "      <td>645.227888</td>\n",
       "      <td>1.370421</td>\n",
       "      <td>-1.918945</td>\n",
       "      <td>9.080130</td>\n",
       "      <td>-4.230875e+04</td>\n",
       "      <td>0.883679</td>\n",
       "    </tr>\n",
       "    <tr>\n",
       "      <th>RGI60-07.00406</th>\n",
       "      <th>557921.341535</th>\n",
       "      <th>8.663047e+06</th>\n",
       "      <td>12.2</td>\n",
       "      <td>0</td>\n",
       "      <td>184.157470</td>\n",
       "      <td>48.189050</td>\n",
       "      <td>232.34653</td>\n",
       "      <td>619.202874</td>\n",
       "      <td>2.521803</td>\n",
       "      <td>-1.821770</td>\n",
       "      <td>12.849452</td>\n",
       "      <td>-1.068913e+04</td>\n",
       "      <td>0.201146</td>\n",
       "    </tr>\n",
       "    <tr>\n",
       "      <th>RGI60-07.00862</th>\n",
       "      <th>541092.973415</th>\n",
       "      <th>8.860543e+06</th>\n",
       "      <td>9.7</td>\n",
       "      <td>0</td>\n",
       "      <td>165.962950</td>\n",
       "      <td>90.943580</td>\n",
       "      <td>256.90652</td>\n",
       "      <td>276.764792</td>\n",
       "      <td>1.145731</td>\n",
       "      <td>-0.664016</td>\n",
       "      <td>3.043258</td>\n",
       "      <td>-6.840210e+03</td>\n",
       "      <td>0.707244</td>\n",
       "    </tr>\n",
       "    <tr>\n",
       "      <th>RGI60-07.00169</th>\n",
       "      <th>530699.535153</th>\n",
       "      <th>8.626463e+06</th>\n",
       "      <td>14.4</td>\n",
       "      <td>0</td>\n",
       "      <td>551.148100</td>\n",
       "      <td>41.851960</td>\n",
       "      <td>593.00000</td>\n",
       "      <td>1038.449988</td>\n",
       "      <td>1.399670</td>\n",
       "      <td>0.206295</td>\n",
       "      <td>24.812458</td>\n",
       "      <td>4.196861e+04</td>\n",
       "      <td>0.291264</td>\n",
       "    </tr>\n",
       "    <tr>\n",
       "      <th>...</th>\n",
       "      <th>...</th>\n",
       "      <th>...</th>\n",
       "      <td>...</td>\n",
       "      <td>...</td>\n",
       "      <td>...</td>\n",
       "      <td>...</td>\n",
       "      <td>...</td>\n",
       "      <td>...</td>\n",
       "      <td>...</td>\n",
       "      <td>...</td>\n",
       "      <td>...</td>\n",
       "      <td>...</td>\n",
       "      <td>...</td>\n",
       "    </tr>\n",
       "    <tr>\n",
       "      <th>RGI60-07.01164</th>\n",
       "      <th>490373.714054</th>\n",
       "      <th>8.827258e+06</th>\n",
       "      <td>11.0</td>\n",
       "      <td>0</td>\n",
       "      <td>779.663400</td>\n",
       "      <td>29.336622</td>\n",
       "      <td>809.00000</td>\n",
       "      <td>610.638536</td>\n",
       "      <td>1.196574</td>\n",
       "      <td>-0.154676</td>\n",
       "      <td>20.814889</td>\n",
       "      <td>-1.791390e+04</td>\n",
       "      <td>0.098276</td>\n",
       "    </tr>\n",
       "    <tr>\n",
       "      <th>RGI60-07.00244</th>\n",
       "      <th>517785.529431</th>\n",
       "      <th>8.572797e+06</th>\n",
       "      <td>8.7</td>\n",
       "      <td>1</td>\n",
       "      <td>159.438140</td>\n",
       "      <td>326.561860</td>\n",
       "      <td>486.00000</td>\n",
       "      <td>3647.614162</td>\n",
       "      <td>1.632135</td>\n",
       "      <td>-0.321394</td>\n",
       "      <td>11.169749</td>\n",
       "      <td>7.897102e+05</td>\n",
       "      <td>0.832826</td>\n",
       "    </tr>\n",
       "    <tr>\n",
       "      <th>RGI60-07.01324</th>\n",
       "      <th>438854.874150</th>\n",
       "      <th>8.849988e+06</th>\n",
       "      <td>28.3</td>\n",
       "      <td>0</td>\n",
       "      <td>390.872800</td>\n",
       "      <td>21.127195</td>\n",
       "      <td>412.00000</td>\n",
       "      <td>384.196907</td>\n",
       "      <td>2.246294</td>\n",
       "      <td>-0.467437</td>\n",
       "      <td>18.184946</td>\n",
       "      <td>-2.083091e+02</td>\n",
       "      <td>0.238669</td>\n",
       "    </tr>\n",
       "    <tr>\n",
       "      <th>RGI60-07.00794</th>\n",
       "      <th>438844.817248</th>\n",
       "      <th>8.833907e+06</th>\n",
       "      <td>10.9</td>\n",
       "      <td>1</td>\n",
       "      <td>395.974120</td>\n",
       "      <td>244.025860</td>\n",
       "      <td>640.00000</td>\n",
       "      <td>2552.053484</td>\n",
       "      <td>1.181408</td>\n",
       "      <td>0.369055</td>\n",
       "      <td>10.458127</td>\n",
       "      <td>-6.199249e+05</td>\n",
       "      <td>0.088863</td>\n",
       "    </tr>\n",
       "    <tr>\n",
       "      <th>RGI60-07.00238</th>\n",
       "      <th>533597.937390</th>\n",
       "      <th>8.562548e+06</th>\n",
       "      <td>6.0</td>\n",
       "      <td>1</td>\n",
       "      <td>-51.900406</td>\n",
       "      <td>211.900400</td>\n",
       "      <td>160.00000</td>\n",
       "      <td>5051.933251</td>\n",
       "      <td>2.758889</td>\n",
       "      <td>-1.989718</td>\n",
       "      <td>23.841075</td>\n",
       "      <td>-2.991162e+05</td>\n",
       "      <td>0.710694</td>\n",
       "    </tr>\n",
       "  </tbody>\n",
       "</table>\n",
       "<p>9088 rows × 11 columns</p>\n",
       "</div>"
      ],
      "text/plain": [
       "                                           Slope  TermType         bed  \\\n",
       "rgiid          x             y                                           \n",
       "RGI60-07.00465 478371.303131 8.716493e+06    8.1         1   46.214294   \n",
       "RGI60-07.01090 489770.321036 8.649560e+06   10.6         0  147.998780   \n",
       "RGI60-07.00406 557921.341535 8.663047e+06   12.2         0  184.157470   \n",
       "RGI60-07.00862 541092.973415 8.860543e+06    9.7         0  165.962950   \n",
       "RGI60-07.00169 530699.535153 8.626463e+06   14.4         0  551.148100   \n",
       "...                                          ...       ...         ...   \n",
       "RGI60-07.01164 490373.714054 8.827258e+06   11.0         0  779.663400   \n",
       "RGI60-07.00244 517785.529431 8.572797e+06    8.7         1  159.438140   \n",
       "RGI60-07.01324 438854.874150 8.849988e+06   28.3         0  390.872800   \n",
       "RGI60-07.00794 438844.817248 8.833907e+06   10.9         1  395.974120   \n",
       "RGI60-07.00238 533597.937390 8.562548e+06    6.0         1  -51.900406   \n",
       "\n",
       "                                            thickness  surface_elevation  \\\n",
       "rgiid          x             y                                             \n",
       "RGI60-07.00465 478371.303131 8.716493e+06  221.837620          268.05190   \n",
       "RGI60-07.01090 489770.321036 8.649560e+06   71.059320          219.05810   \n",
       "RGI60-07.00406 557921.341535 8.663047e+06   48.189050          232.34653   \n",
       "RGI60-07.00862 541092.973415 8.860543e+06   90.943580          256.90652   \n",
       "RGI60-07.00169 530699.535153 8.626463e+06   41.851960          593.00000   \n",
       "...                                               ...                ...   \n",
       "RGI60-07.01164 490373.714054 8.827258e+06   29.336622          809.00000   \n",
       "RGI60-07.00244 517785.529431 8.572797e+06  326.561860          486.00000   \n",
       "RGI60-07.01324 438854.874150 8.849988e+06   21.127195          412.00000   \n",
       "RGI60-07.00794 438844.817248 8.833907e+06  244.025860          640.00000   \n",
       "RGI60-07.00238 533597.937390 8.562548e+06  211.900400          160.00000   \n",
       "\n",
       "                                           width_centerline    Runoff  \\\n",
       "rgiid          x             y                                          \n",
       "RGI60-07.00465 478371.303131 8.716493e+06       5613.527053  2.654832   \n",
       "RGI60-07.01090 489770.321036 8.649560e+06        645.227888  1.370421   \n",
       "RGI60-07.00406 557921.341535 8.663047e+06        619.202874  2.521803   \n",
       "RGI60-07.00862 541092.973415 8.860543e+06        276.764792  1.145731   \n",
       "RGI60-07.00169 530699.535153 8.626463e+06       1038.449988  1.399670   \n",
       "...                                                     ...       ...   \n",
       "RGI60-07.01164 490373.714054 8.827258e+06        610.638536  1.196574   \n",
       "RGI60-07.00244 517785.529431 8.572797e+06       3647.614162  1.632135   \n",
       "RGI60-07.01324 438854.874150 8.849988e+06        384.196907  2.246294   \n",
       "RGI60-07.00794 438844.817248 8.833907e+06       2552.053484  1.181408   \n",
       "RGI60-07.00238 533597.937390 8.562548e+06       5051.933251  2.758889   \n",
       "\n",
       "                                           SMB_calc         WH         WHsin  \\\n",
       "rgiid          x             y                                                 \n",
       "RGI60-07.00465 478371.303131 8.716493e+06 -1.401845  25.304667  1.207796e+06   \n",
       "RGI60-07.01090 489770.321036 8.649560e+06 -1.918945   9.080130 -4.230875e+04   \n",
       "RGI60-07.00406 557921.341535 8.663047e+06 -1.821770  12.849452 -1.068913e+04   \n",
       "RGI60-07.00862 541092.973415 8.860543e+06 -0.664016   3.043258 -6.840210e+03   \n",
       "RGI60-07.00169 530699.535153 8.626463e+06  0.206295  24.812458  4.196861e+04   \n",
       "...                                             ...        ...           ...   \n",
       "RGI60-07.01164 490373.714054 8.827258e+06 -0.154676  20.814889 -1.791390e+04   \n",
       "RGI60-07.00244 517785.529431 8.572797e+06 -0.321394  11.169749  7.897102e+05   \n",
       "RGI60-07.01324 438854.874150 8.849988e+06 -0.467437  18.184946 -2.083091e+02   \n",
       "RGI60-07.00794 438844.817248 8.833907e+06  0.369055  10.458127 -6.199249e+05   \n",
       "RGI60-07.00238 533597.937390 8.562548e+06 -1.989718  23.841075 -2.991162e+05   \n",
       "\n",
       "                                              dummy  \n",
       "rgiid          x             y                       \n",
       "RGI60-07.00465 478371.303131 8.716493e+06  0.554090  \n",
       "RGI60-07.01090 489770.321036 8.649560e+06  0.883679  \n",
       "RGI60-07.00406 557921.341535 8.663047e+06  0.201146  \n",
       "RGI60-07.00862 541092.973415 8.860543e+06  0.707244  \n",
       "RGI60-07.00169 530699.535153 8.626463e+06  0.291264  \n",
       "...                                             ...  \n",
       "RGI60-07.01164 490373.714054 8.827258e+06  0.098276  \n",
       "RGI60-07.00244 517785.529431 8.572797e+06  0.832826  \n",
       "RGI60-07.01324 438854.874150 8.849988e+06  0.238669  \n",
       "RGI60-07.00794 438844.817248 8.833907e+06  0.088863  \n",
       "RGI60-07.00238 533597.937390 8.562548e+06  0.710694  \n",
       "\n",
       "[9088 rows x 11 columns]"
      ]
     },
     "execution_count": 23,
     "metadata": {},
     "output_type": "execute_result"
    }
   ],
   "source": [
    "test"
   ]
  },
  {
   "cell_type": "code",
   "execution_count": 24,
   "metadata": {},
   "outputs": [],
   "source": [
    "dmatrix_train = xgboost.DMatrix(train_reduced, label=train_labels)\n",
    "dmatrix_test = xgboost.DMatrix(test_reduced, label=test_labels)"
   ]
  },
  {
   "cell_type": "code",
   "execution_count": 25,
   "metadata": {},
   "outputs": [],
   "source": [
    "# params = {'objective':'reg:logistic', 'num_boost_round':20000, 'max_depth':1, 'scale_pos_weight':0.5}\n",
    "params = {'objective':'reg:logistic', 'max_depth':1, 'scale_pos_weight':0.5}\n",
    "xgb = xgboost.train(params, dmatrix_train, num_boost_round=20000)\n",
    "\n",
    "# xgb = xgboost.XGBClassifier(**params)\n",
    "# xgb.fit(train_reduced, train_labels)\n",
    "# xgb = xgboost.train(params, dmatrix_train, num_boost_round=20000)"
   ]
  },
  {
   "cell_type": "code",
   "execution_count": 26,
   "metadata": {},
   "outputs": [
    {
     "data": {
      "text/plain": [
       "Text(0.6, 0.0, 'AUC = 0.8')"
      ]
     },
     "execution_count": 26,
     "metadata": {},
     "output_type": "execute_result"
    },
    {
     "data": {
      "image/png": "[encoded data removed]",
      "text/plain": [
       "<Figure size 648x576 with 1 Axes>"
      ]
     },
     "metadata": {
      "needs_background": "light"
     },
     "output_type": "display_data"
    }
   ],
   "source": [
    "predictions_xgboost = xgb.predict(dmatrix_test)\n",
    "fpr, tpr, t = metrics.roc_curve(y_true=test_labels, y_score=predictions_xgboost)\n",
    "\n",
    "fig, ax = plt.subplots(figsize=(9, 8))\n",
    "\n",
    "ax.plot(fpr, tpr, 'b')\n",
    "ax.plot([0, 1], [0, 1], 'k')\n",
    "\n",
    "ax.set_ylabel('True Positive Rate', fontsize=15)\n",
    "ax.set_xlabel('False Positive Rate', fontsize=15)\n",
    "ax.set_title('ROC XgBoost', fontsize=15)\n",
    "ax.text(\n",
    "s = 'AUC = ' + str(round(metrics.roc_auc_score(y_true=test_labels, y_score=predictions_xgboost),2))\n",
    "    , x=0.6, y=0.0, fontsize=15\n",
    ")"
   ]
  },
  {
   "cell_type": "code",
   "execution_count": 27,
   "metadata": {},
   "outputs": [
    {
     "data": {
      "text/plain": [
       "<AxesSubplot:title={'center':'Feature importance'}, xlabel='F score', ylabel='Features'>"
      ]
     },
     "execution_count": 27,
     "metadata": {},
     "output_type": "execute_result"
    },
    {
     "data": {
      "image/png": "[encoded data removed]",
      "text/plain": [
       "<Figure size 360x360 with 1 Axes>"
      ]
     },
     "metadata": {
      "needs_background": "light"
     },
     "output_type": "display_data"
    }
   ],
   "source": [
    "fig, ax = plt.subplots(figsize=(5, 5))\n",
    "xgboost.plot_importance(xgb, ax=ax)"
   ]
  },
  {
   "cell_type": "code",
   "execution_count": 28,
   "metadata": {},
   "outputs": [
    {
     "name": "stderr",
     "output_type": "stream",
     "text": [
      "/home/colili/anaconda3/lib/python3.8/site-packages/xgboost/sklearn.py:1146: UserWarning: The use of label encoder in XGBClassifier is deprecated and will be removed in a future release. To remove this warning, do the following: 1) Pass option use_label_encoder=False when constructing XGBClassifier object; and 2) Encode your labels (y) as integers starting with 0, i.e. 0, 1, 2, ..., [num_class - 1].\n",
      "  warnings.warn(label_encoder_deprecation_msg, UserWarning)\n"
     ]
    },
    {
     "data": {
      "text/plain": [
       "XGBClassifier(base_score=0.5, booster='gbtree', colsample_bylevel=1,\n",
       "              colsample_bynode=1, colsample_bytree=1, gamma=0, gpu_id=-1,\n",
       "              importance_type='gain', interaction_constraints='',\n",
       "              learning_rate=0.300000012, max_delta_step=0, max_depth=1,\n",
       "              min_child_weight=1, missing=nan, monotone_constraints='()',\n",
       "              n_estimators=100, n_jobs=8, num_parallel_tree=1,\n",
       "              objective='reg:logistic', random_state=0, reg_alpha=0,\n",
       "              reg_lambda=1, scale_pos_weight=0.5, subsample=1,\n",
       "              tree_method='exact', validate_parameters=1, verbosity=None)"
      ]
     },
     "execution_count": 28,
     "metadata": {},
     "output_type": "execute_result"
    }
   ],
   "source": [
    "xgb = xgboost.XGBClassifier(**params)\n",
    "xgb.fit(train_reduced, train_labels)"
   ]
  },
  {
   "cell_type": "code",
   "execution_count": 29,
   "metadata": {
    "scrolled": true
   },
   "outputs": [
    {
     "name": "stderr",
     "output_type": "stream",
     "text": [
      "/home/colili/anaconda3/lib/python3.8/site-packages/sklearn/utils/validation.py:70: FutureWarning: Pass n_features_to_select=2 as keyword args. From version 1.0 (renaming of 0.25) passing these as positional arguments will result in an error\n",
      "  warnings.warn(f\"Pass {args_msg} as keyword args. From version \"\n",
      "/home/colili/anaconda3/lib/python3.8/site-packages/xgboost/sklearn.py:1146: UserWarning: The use of label encoder in XGBClassifier is deprecated and will be removed in a future release. To remove this warning, do the following: 1) Pass option use_label_encoder=False when constructing XGBClassifier object; and 2) Encode your labels (y) as integers starting with 0, i.e. 0, 1, 2, ..., [num_class - 1].\n",
      "  warnings.warn(label_encoder_deprecation_msg, UserWarning)\n",
      "/home/colili/anaconda3/lib/python3.8/site-packages/xgboost/sklearn.py:1146: UserWarning: The use of label encoder in XGBClassifier is deprecated and will be removed in a future release. To remove this warning, do the following: 1) Pass option use_label_encoder=False when constructing XGBClassifier object; and 2) Encode your labels (y) as integers starting with 0, i.e. 0, 1, 2, ..., [num_class - 1].\n",
      "  warnings.warn(label_encoder_deprecation_msg, UserWarning)\n",
      "/home/colili/anaconda3/lib/python3.8/site-packages/xgboost/sklearn.py:1146: UserWarning: The use of label encoder in XGBClassifier is deprecated and will be removed in a future release. To remove this warning, do the following: 1) Pass option use_label_encoder=False when constructing XGBClassifier object; and 2) Encode your labels (y) as integers starting with 0, i.e. 0, 1, 2, ..., [num_class - 1].\n",
      "  warnings.warn(label_encoder_deprecation_msg, UserWarning)\n"
     ]
    },
    {
     "name": "stdout",
     "output_type": "stream",
     "text": [
      "[ True False  True False]\n",
      "[1 2 1 3]\n"
     ]
    }
   ],
   "source": [
    "rfe = RFE(xgb,2)\n",
    "rfe = rfe.fit(train_reduced, train_labels)\n",
    "\n",
    "print(rfe.support_)\n",
    "print(rfe.ranking_)"
   ]
  },
  {
   "cell_type": "code",
   "execution_count": 30,
   "metadata": {},
   "outputs": [
    {
     "name": "stdout",
     "output_type": "stream",
     "text": [
      "Index(['TermType', 'width_centerline'], dtype='object')\n"
     ]
    }
   ],
   "source": [
    "temp = pd.Series(rfe.support_,index = train_reduced.columns)\n",
    "selected_features_rfe = temp[temp==True].index\n",
    "print(selected_features_rfe)"
   ]
  },
  {
   "cell_type": "markdown",
   "metadata": {},
   "source": [
    "### All database"
   ]
  },
  {
   "cell_type": "code",
   "execution_count": 31,
   "metadata": {},
   "outputs": [],
   "source": [
    "dmatrix_train = xgboost.DMatrix(train, label=train_labels)\n",
    "dmatrix_test = xgboost.DMatrix(test, label=test_labels)"
   ]
  },
  {
   "cell_type": "code",
   "execution_count": 32,
   "metadata": {},
   "outputs": [],
   "source": [
    "params = {'objective':'reg:logistic', 'max_depth':1, 'scale_pos_weight':0.5}\n",
    "xgb = xgboost.train(params, dmatrix_train, num_boost_round=20000)"
   ]
  },
  {
   "cell_type": "code",
   "execution_count": 33,
   "metadata": {},
   "outputs": [
    {
     "data": {
      "text/plain": [
       "Text(0.6, 0.0, 'AUC = 0.9')"
      ]
     },
     "execution_count": 33,
     "metadata": {},
     "output_type": "execute_result"
    },
    {
     "data": {
      "image/png": "[encoded data removed]",
      "text/plain": [
       "<Figure size 648x576 with 1 Axes>"
      ]
     },
     "metadata": {
      "needs_background": "light"
     },
     "output_type": "display_data"
    }
   ],
   "source": [
    "predictions_xgboost = xgb.predict(dmatrix_test)\n",
    "fpr, tpr, t = metrics.roc_curve(y_true=test_labels, y_score=predictions_xgboost)\n",
    "\n",
    "fig, ax = plt.subplots(figsize=(9, 8))\n",
    "\n",
    "ax.plot(fpr, tpr, 'b')\n",
    "ax.plot([0, 1], [0, 1], 'k')\n",
    "\n",
    "ax.set_ylabel('True Positive Rate', fontsize=15)\n",
    "ax.set_xlabel('False Positive Rate', fontsize=15)\n",
    "ax.set_title('ROC XgBoost', fontsize=15)\n",
    "ax.text(\n",
    "s = 'AUC = ' + str(round(metrics.roc_auc_score(y_true=test_labels, y_score=predictions_xgboost),2))\n",
    "    , x=0.6, y=0.0, fontsize=15\n",
    ")"
   ]
  },
  {
   "cell_type": "code",
   "execution_count": 34,
   "metadata": {},
   "outputs": [
    {
     "data": {
      "image/png": "[encoded data removed]",
      "text/plain": [
       "<Figure size 360x360 with 1 Axes>"
      ]
     },
     "metadata": {
      "needs_background": "light"
     },
     "output_type": "display_data"
    }
   ],
   "source": [
    "fig, ax = plt.subplots(figsize=(5, 5))\n",
    "xgboost.plot_importance(xgb, ax=ax)\n",
    "plt.savefig('/home/colili/Documents/PhD/project_john/Figure_produced/Raw/feature_importance_XGBoost.pdf', format='pdf', bbox_inches='tight')"
   ]
  },
  {
   "cell_type": "code",
   "execution_count": 35,
   "metadata": {},
   "outputs": [
    {
     "name": "stderr",
     "output_type": "stream",
     "text": [
      "/home/colili/anaconda3/lib/python3.8/site-packages/xgboost/sklearn.py:1146: UserWarning: The use of label encoder in XGBClassifier is deprecated and will be removed in a future release. To remove this warning, do the following: 1) Pass option use_label_encoder=False when constructing XGBClassifier object; and 2) Encode your labels (y) as integers starting with 0, i.e. 0, 1, 2, ..., [num_class - 1].\n",
      "  warnings.warn(label_encoder_deprecation_msg, UserWarning)\n"
     ]
    },
    {
     "data": {
      "text/plain": [
       "XGBClassifier(base_score=0.5, booster='gbtree', colsample_bylevel=1,\n",
       "              colsample_bynode=1, colsample_bytree=1, gamma=0, gpu_id=-1,\n",
       "              importance_type='gain', interaction_constraints='',\n",
       "              learning_rate=0.300000012, max_delta_step=0, max_depth=1,\n",
       "              min_child_weight=1, missing=nan, monotone_constraints='()',\n",
       "              n_estimators=100, n_jobs=8, num_parallel_tree=1,\n",
       "              objective='reg:logistic', random_state=0, reg_alpha=0,\n",
       "              reg_lambda=1, scale_pos_weight=0.5, subsample=1,\n",
       "              tree_method='exact', validate_parameters=1, verbosity=None)"
      ]
     },
     "execution_count": 35,
     "metadata": {},
     "output_type": "execute_result"
    }
   ],
   "source": [
    "xgb = xgboost.XGBClassifier(**params)\n",
    "xgb.fit(train, train_labels)"
   ]
  },
  {
   "cell_type": "code",
   "execution_count": 36,
   "metadata": {},
   "outputs": [
    {
     "name": "stderr",
     "output_type": "stream",
     "text": [
      "/home/colili/anaconda3/lib/python3.8/site-packages/sklearn/utils/validation.py:70: FutureWarning: Pass n_features_to_select=4 as keyword args. From version 1.0 (renaming of 0.25) passing these as positional arguments will result in an error\n",
      "  warnings.warn(f\"Pass {args_msg} as keyword args. From version \"\n",
      "/home/colili/anaconda3/lib/python3.8/site-packages/xgboost/sklearn.py:1146: UserWarning: The use of label encoder in XGBClassifier is deprecated and will be removed in a future release. To remove this warning, do the following: 1) Pass option use_label_encoder=False when constructing XGBClassifier object; and 2) Encode your labels (y) as integers starting with 0, i.e. 0, 1, 2, ..., [num_class - 1].\n",
      "  warnings.warn(label_encoder_deprecation_msg, UserWarning)\n"
     ]
    },
    {
     "name": "stdout",
     "output_type": "stream",
     "text": [
      "[ True  True  True  True]\n",
      "[1 1 1 1]\n"
     ]
    }
   ],
   "source": [
    "rfe = RFE(xgb,4)\n",
    "rfe = rfe.fit(train_reduced, train_labels)\n",
    "\n",
    "print(rfe.support_)\n",
    "print(rfe.ranking_)"
   ]
  },
  {
   "cell_type": "code",
   "execution_count": 37,
   "metadata": {},
   "outputs": [
    {
     "name": "stdout",
     "output_type": "stream",
     "text": [
      "Index(['TermType', 'thickness', 'width_centerline', 'Runoff'], dtype='object')\n"
     ]
    }
   ],
   "source": [
    "temp = pd.Series(rfe.support_,index = train_reduced.columns)\n",
    "selected_features_rfe = temp[temp==True].index\n",
    "print(selected_features_rfe)"
   ]
  },
  {
   "cell_type": "markdown",
   "metadata": {},
   "source": [
    "### Recursively delete feature and rerun the model to see the AUC"
   ]
  },
  {
   "cell_type": "code",
   "execution_count": 38,
   "metadata": {},
   "outputs": [],
   "source": [
    "from sklearn.metrics import accuracy_score\n",
    "from sklearn.feature_selection import SelectFromModel\n",
    "from numpy import sort"
   ]
  },
  {
   "cell_type": "code",
   "execution_count": 39,
   "metadata": {},
   "outputs": [],
   "source": [
    "dmatrix_train = xgboost.DMatrix(train, label=train_labels)\n",
    "dmatrix_test = xgboost.DMatrix(test, label=test_labels)"
   ]
  },
  {
   "cell_type": "code",
   "execution_count": 40,
   "metadata": {},
   "outputs": [],
   "source": [
    "params = {'objective':'reg:logistic', 'max_depth':1, 'scale_pos_weight':0.5}\n",
    "xgb = xgboost.train(params, dmatrix_train, num_boost_round=20000)"
   ]
  },
  {
   "cell_type": "code",
   "execution_count": 41,
   "metadata": {},
   "outputs": [],
   "source": [
    "predictions_xgboost = xgb.predict(dmatrix_test)\n",
    "fpr, tpr, t = metrics.roc_curve(y_true=test_labels, y_score=predictions_xgboost)"
   ]
  },
  {
   "cell_type": "code",
   "execution_count": 42,
   "metadata": {},
   "outputs": [
    {
     "name": "stderr",
     "output_type": "stream",
     "text": [
      "/home/colili/anaconda3/lib/python3.8/site-packages/xgboost/sklearn.py:1146: UserWarning: The use of label encoder in XGBClassifier is deprecated and will be removed in a future release. To remove this warning, do the following: 1) Pass option use_label_encoder=False when constructing XGBClassifier object; and 2) Encode your labels (y) as integers starting with 0, i.e. 0, 1, 2, ..., [num_class - 1].\n",
      "  warnings.warn(label_encoder_deprecation_msg, UserWarning)\n"
     ]
    },
    {
     "data": {
      "text/plain": [
       "XGBClassifier(base_score=0.5, booster='gbtree', colsample_bylevel=1,\n",
       "              colsample_bynode=1, colsample_bytree=1, gamma=0, gpu_id=-1,\n",
       "              importance_type='gain', interaction_constraints='',\n",
       "              learning_rate=0.300000012, max_delta_step=0, max_depth=1,\n",
       "              min_child_weight=1, missing=nan, monotone_constraints='()',\n",
       "              n_estimators=100, n_jobs=8, num_parallel_tree=1,\n",
       "              objective='reg:logistic', random_state=0, reg_alpha=0,\n",
       "              reg_lambda=1, scale_pos_weight=0.5, subsample=1,\n",
       "              tree_method='exact', validate_parameters=1, verbosity=None)"
      ]
     },
     "execution_count": 42,
     "metadata": {},
     "output_type": "execute_result"
    }
   ],
   "source": [
    "xgb = xgboost.XGBClassifier(**params)\n",
    "xgb.fit(train, train_labels)"
   ]
  },
  {
   "cell_type": "code",
   "execution_count": 43,
   "metadata": {},
   "outputs": [
    {
     "name": "stdout",
     "output_type": "stream",
     "text": [
      "0.0\n",
      "Thresh=0.000, n=11, Accuracy: 74.30%\n",
      "0.0\n",
      "Thresh=0.000, n=11, Accuracy: 74.30%\n",
      "0.012293207\n",
      "Thresh=0.012, n=9, Accuracy: 74.30%\n",
      "0.016816588\n",
      "Thresh=0.017, n=8, Accuracy: 74.39%\n",
      "0.017812949\n",
      "Thresh=0.018, n=7, Accuracy: 74.81%\n",
      "0.041579004\n",
      "Thresh=0.042, n=6, Accuracy: 74.63%\n",
      "0.06628417\n",
      "Thresh=0.066, n=5, Accuracy: 74.44%\n",
      "0.066847116\n",
      "Thresh=0.067, n=4, Accuracy: 72.55%\n",
      "0.12098423\n",
      "Thresh=0.121, n=3, Accuracy: 71.73%\n",
      "0.19158445\n",
      "Thresh=0.192, n=2, Accuracy: 68.87%\n",
      "0.46579832\n",
      "Thresh=0.466, n=1, Accuracy: 69.66%\n"
     ]
    }
   ],
   "source": [
    "import warnings\n",
    "warnings.filterwarnings('ignore')\n",
    "\n",
    "AUC=[]\n",
    "\n",
    "# Fit model using each importance as a threshold\n",
    "thresholds = sort(xgb.feature_importances_)\n",
    "for thresh in thresholds:\n",
    "    print(thresh)\n",
    "    # select features using threshold\n",
    "    selection = SelectFromModel(xgb, threshold=thresh, prefit=True)\n",
    "    select_X_train = selection.transform(train)\n",
    "    # train model\n",
    "    selection_model = xgboost.XGBClassifier(**params)\n",
    "    selection_model.fit(select_X_train, train_labels)\n",
    "    # eval model\n",
    "    select_X_test = selection.transform(test)\n",
    "    predictions = selection_model.predict(select_X_test)\n",
    "    accuracy = accuracy_score(test_labels, predictions)\n",
    "    print(\"Thresh=%.3f, n=%d, Accuracy: %.2f%%\" % (thresh, select_X_train.shape[1], accuracy*100.0))\n",
    "    AUC.append(metrics.roc_auc_score(y_true=test_labels, y_score=predictions))\n"
   ]
  },
  {
   "cell_type": "code",
   "execution_count": 44,
   "metadata": {},
   "outputs": [
    {
     "data": {
      "text/plain": [
       "[0.6966329225352113,\n",
       " 0.6887103873239436,\n",
       " 0.7173195422535211,\n",
       " 0.725462147887324,\n",
       " 0.744388204225352,\n",
       " 0.7462588028169015,\n",
       " 0.7481294014084507,\n",
       " 0.7439480633802817,\n",
       " 0.7429577464788734,\n",
       " 0.7429577464788734,\n",
       " 0.7429577464788734]"
      ]
     },
     "execution_count": 44,
     "metadata": {},
     "output_type": "execute_result"
    }
   ],
   "source": [
    "AUC.reverse()\n",
    "AUC"
   ]
  },
  {
   "cell_type": "code",
   "execution_count": 45,
   "metadata": {},
   "outputs": [
    {
     "data": {
      "text/plain": [
       "[<matplotlib.axis.XTick at 0x7fabf9a81790>,\n",
       " <matplotlib.axis.XTick at 0x7fabf9a812e0>,\n",
       " <matplotlib.axis.XTick at 0x7fabf9b610d0>,\n",
       " <matplotlib.axis.XTick at 0x7fabf9b0c340>,\n",
       " <matplotlib.axis.XTick at 0x7fabf9b0c850>,\n",
       " <matplotlib.axis.XTick at 0x7fabf99046a0>,\n",
       " <matplotlib.axis.XTick at 0x7fabf9904d30>,\n",
       " <matplotlib.axis.XTick at 0x7fabf99d54f0>,\n",
       " <matplotlib.axis.XTick at 0x7fabf9a9d340>,\n",
       " <matplotlib.axis.XTick at 0x7fabf99233d0>,\n",
       " <matplotlib.axis.XTick at 0x7fabf9a4c280>]"
      ]
     },
     "execution_count": 45,
     "metadata": {},
     "output_type": "execute_result"
    },
    {
     "data": {
      "image/png": "[encoded data removed]",
      "text/plain": [
       "<Figure size 720x648 with 1 Axes>"
      ]
     },
     "metadata": {
      "needs_background": "light"
     },
     "output_type": "display_data"
    }
   ],
   "source": [
    "nb_features = np.arange(1, 12, 1)\n",
    "\n",
    "fig, ax = plt.subplots(figsize=(10, 9))\n",
    "ax.plot(nb_features, AUC, color='k')\n",
    "ax.set_ylabel('AUC', fontsize=15)\n",
    "ax.set_xlabel('Number of features', fontsize=15)\n",
    "ax.set_xticks(nb_features)"
   ]
  },
  {
   "cell_type": "code",
   "execution_count": 46,
   "metadata": {},
   "outputs": [
    {
     "name": "stdout",
     "output_type": "stream",
     "text": [
      "0.0\n",
      "0.0\n",
      "0.012293207\n",
      "0.016816588\n",
      "0.017812949\n",
      "0.041579004\n",
      "0.06628417\n",
      "0.066847116\n",
      "0.12098423\n",
      "0.19158445\n",
      "0.46579832\n"
     ]
    }
   ],
   "source": [
    "import warnings\n",
    "warnings.filterwarnings('ignore')\n",
    "\n",
    "AUC=[]\n",
    "\n",
    "# Fit model using each importance as a threshold\n",
    "thresholds = sort(xgb.feature_importances_)\n",
    "for thresh in thresholds:\n",
    "    print(thresh)\n",
    "    # select features using threshold\n",
    "    selection = SelectFromModel(xgb, threshold=thresh, prefit=True)\n",
    "    select_X_train = selection.transform(train)\n",
    "    select_X_test = selection.transform(test)\n",
    "    \n",
    "    #Build matrix\n",
    "    dmatrix_train = xgboost.DMatrix(select_X_train, label=train_labels)\n",
    "    dmatrix_test = xgboost.DMatrix(select_X_test, label=test_labels)\n",
    "    \n",
    "    # train model\n",
    "    selection_model = xgboost.train(params, dmatrix_train, num_boost_round=20000)\n",
    "\n",
    "    # eval model\n",
    "    predictions = selection_model.predict(dmatrix_test)\n",
    "#     accuracy = accuracy_score(test_labels, predictions)\n",
    "#     print(\"Thresh=%.3f, n=%d, Accuracy: %.2f%%\" % (thresh, select_X_train.shape[1], accuracy*100.0))\n",
    "    AUC.append(metrics.roc_auc_score(y_true=test_labels, y_score=predictions))"
   ]
  },
  {
   "cell_type": "code",
   "execution_count": 47,
   "metadata": {},
   "outputs": [
    {
     "data": {
      "text/plain": [
       "[0.7532965038248859,\n",
       " 0.7673039329451621,\n",
       " 0.7918285876128249,\n",
       " 0.7979927872693909,\n",
       " 0.8932372950013017,\n",
       " 0.8951392042284516,\n",
       " 0.8952436456602733,\n",
       " 0.8975168268634695,\n",
       " 0.8992609237068538,\n",
       " 0.8983834025831928,\n",
       " 0.8983834025831928]"
      ]
     },
     "execution_count": 47,
     "metadata": {},
     "output_type": "execute_result"
    }
   ],
   "source": [
    "AUC.reverse()\n",
    "AUC"
   ]
  },
  {
   "cell_type": "code",
   "execution_count": 48,
   "metadata": {},
   "outputs": [
    {
     "data": {
      "image/png": "[encoded data removed]",
      "text/plain": [
       "<Figure size 720x648 with 1 Axes>"
      ]
     },
     "metadata": {
      "needs_background": "light"
     },
     "output_type": "display_data"
    }
   ],
   "source": [
    "nb_features = np.arange(1, 12, 1)\n",
    "\n",
    "fig, ax = plt.subplots(figsize=(10, 9))\n",
    "ax.plot(nb_features, AUC, color='k')\n",
    "ax.set_ylabel('AUC', fontsize=15)\n",
    "ax.set_xlabel('Number of features', fontsize=15)\n",
    "ax.set_xticks(nb_features)\n",
    "ax.set_title('Features: Slope/WHsin/Thick./Bed/Runoff/Width/Dummy/SMB/WH/Surf/Terminus', fontsize=15)\n",
    "ax.grid()\n",
    "plt.savefig('/home/colili/Documents/PhD/project_john/Figure_produced/Raw/Features_elimination.pdf', format='pdf', bbox_inches='tight')"
   ]
  },
  {
   "cell_type": "code",
   "execution_count": 49,
   "metadata": {},
   "outputs": [],
   "source": [
    "# rfe = RFE(xgb,4)\n",
    "# rfe = rfe.fit(train_reduced, train_labels)\n",
    "\n",
    "# print(rfe.support_)\n",
    "# print(rfe.ranking_)"
   ]
  },
  {
   "cell_type": "code",
   "execution_count": 50,
   "metadata": {},
   "outputs": [],
   "source": [
    "# temp = pd.Series(rfe.support_,index = train_reduced.columns)\n",
    "# selected_features_rfe = temp[temp==True].index\n",
    "# print(selected_features_rfe)"
   ]
  }
 ],
 "metadata": {
  "kernelspec": {
   "display_name": "Python 3",
   "language": "python",
   "name": "python3"
  },
  "language_info": {
   "codemirror_mode": {
    "name": "ipython",
    "version": 3
   },
   "file_extension": ".py",
   "mimetype": "text/x-python",
   "name": "python",
   "nbconvert_exporter": "python",
   "pygments_lexer": "ipython3",
   "version": "3.8.8"
  }
 },
 "nbformat": 4,
 "nbformat_minor": 4
}
