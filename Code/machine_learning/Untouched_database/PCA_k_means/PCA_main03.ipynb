{
 "cells": [
  {
   "cell_type": "markdown",
   "metadata": {},
   "source": [
    "# PCA on the dataset"
   ]
  },
  {
   "cell_type": "code",
   "execution_count": 2,
   "metadata": {},
   "outputs": [],
   "source": [
    "import xarray as xr\n",
    "import numpy as np\n",
    "import scipy.interpolate as interp\n",
    "import pandas as pd\n",
    "from sklearn.preprocessing import StandardScaler\n",
    "from sklearn.decomposition import PCA\n",
    "\n",
    "import numpy as np\n",
    "import scipy.stats as stats\n",
    "\n",
    "import matplotlib.pyplot as plt\n"
   ]
  },
  {
   "cell_type": "markdown",
   "metadata": {},
   "source": [
    "### Importing the dataset"
   ]
  },
  {
   "cell_type": "code",
   "execution_count": 42,
   "metadata": {},
   "outputs": [
    {
     "data": {
      "text/html": [
       "<div>\n",
       "<style scoped>\n",
       "    .dataframe tbody tr th:only-of-type {\n",
       "        vertical-align: middle;\n",
       "    }\n",
       "\n",
       "    .dataframe tbody tr th {\n",
       "        vertical-align: top;\n",
       "    }\n",
       "\n",
       "    .dataframe thead th {\n",
       "        text-align: right;\n",
       "    }\n",
       "</style>\n",
       "<table border=\"1\" class=\"dataframe\">\n",
       "  <thead>\n",
       "    <tr style=\"text-align: right;\">\n",
       "      <th></th>\n",
       "      <th>rgiid</th>\n",
       "      <th>x</th>\n",
       "      <th>y</th>\n",
       "      <th>Slope</th>\n",
       "      <th>Name</th>\n",
       "      <th>bed</th>\n",
       "      <th>thickness</th>\n",
       "      <th>surface_elevation</th>\n",
       "      <th>ELA</th>\n",
       "      <th>beta</th>\n",
       "      <th>cmb</th>\n",
       "      <th>width_centerline</th>\n",
       "    </tr>\n",
       "    <tr>\n",
       "      <th>Surge</th>\n",
       "      <th></th>\n",
       "      <th></th>\n",
       "      <th></th>\n",
       "      <th></th>\n",
       "      <th></th>\n",
       "      <th></th>\n",
       "      <th></th>\n",
       "      <th></th>\n",
       "      <th></th>\n",
       "      <th></th>\n",
       "      <th></th>\n",
       "      <th></th>\n",
       "    </tr>\n",
       "  </thead>\n",
       "  <tbody>\n",
       "    <tr>\n",
       "      <th>0</th>\n",
       "      <td>104245</td>\n",
       "      <td>104245</td>\n",
       "      <td>104245</td>\n",
       "      <td>104245</td>\n",
       "      <td>60242</td>\n",
       "      <td>99044</td>\n",
       "      <td>99044</td>\n",
       "      <td>99044</td>\n",
       "      <td>104079</td>\n",
       "      <td>104079</td>\n",
       "      <td>104079</td>\n",
       "      <td>104097</td>\n",
       "    </tr>\n",
       "    <tr>\n",
       "      <th>1</th>\n",
       "      <td>10953</td>\n",
       "      <td>10953</td>\n",
       "      <td>10953</td>\n",
       "      <td>10953</td>\n",
       "      <td>10876</td>\n",
       "      <td>10612</td>\n",
       "      <td>10612</td>\n",
       "      <td>10612</td>\n",
       "      <td>10953</td>\n",
       "      <td>10953</td>\n",
       "      <td>10953</td>\n",
       "      <td>10953</td>\n",
       "    </tr>\n",
       "    <tr>\n",
       "      <th>2</th>\n",
       "      <td>4361</td>\n",
       "      <td>4361</td>\n",
       "      <td>4361</td>\n",
       "      <td>4361</td>\n",
       "      <td>4361</td>\n",
       "      <td>4249</td>\n",
       "      <td>4249</td>\n",
       "      <td>4249</td>\n",
       "      <td>4361</td>\n",
       "      <td>4361</td>\n",
       "      <td>4361</td>\n",
       "      <td>4361</td>\n",
       "    </tr>\n",
       "    <tr>\n",
       "      <th>3</th>\n",
       "      <td>11431</td>\n",
       "      <td>11431</td>\n",
       "      <td>11431</td>\n",
       "      <td>11431</td>\n",
       "      <td>11350</td>\n",
       "      <td>11082</td>\n",
       "      <td>11082</td>\n",
       "      <td>11082</td>\n",
       "      <td>11421</td>\n",
       "      <td>11421</td>\n",
       "      <td>11421</td>\n",
       "      <td>11429</td>\n",
       "    </tr>\n",
       "    <tr>\n",
       "      <th>9</th>\n",
       "      <td>3815</td>\n",
       "      <td>3815</td>\n",
       "      <td>3815</td>\n",
       "      <td>3815</td>\n",
       "      <td>3815</td>\n",
       "      <td>0</td>\n",
       "      <td>0</td>\n",
       "      <td>0</td>\n",
       "      <td>0</td>\n",
       "      <td>0</td>\n",
       "      <td>0</td>\n",
       "      <td>3795</td>\n",
       "    </tr>\n",
       "  </tbody>\n",
       "</table>\n",
       "</div>"
      ],
      "text/plain": [
       "        rgiid       x       y   Slope   Name    bed  thickness  \\\n",
       "Surge                                                            \n",
       "0      104245  104245  104245  104245  60242  99044      99044   \n",
       "1       10953   10953   10953   10953  10876  10612      10612   \n",
       "2        4361    4361    4361    4361   4361   4249       4249   \n",
       "3       11431   11431   11431   11431  11350  11082      11082   \n",
       "9        3815    3815    3815    3815   3815      0          0   \n",
       "\n",
       "       surface_elevation     ELA    beta     cmb  width_centerline  \n",
       "Surge                                                               \n",
       "0                  99044  104079  104079  104079            104097  \n",
       "1                  10612   10953   10953   10953             10953  \n",
       "2                   4249    4361    4361    4361              4361  \n",
       "3                  11082   11421   11421   11421             11429  \n",
       "9                      0       0       0       0              3795  "
      ]
     },
     "execution_count": 42,
     "metadata": {},
     "output_type": "execute_result"
    }
   ],
   "source": [
    "df_main = pd.read_csv('/home/colili/Documents/PhD/project_john/DataFrame_produced/df_main.csv', index_col=0)\n",
    "df_main.groupby('Surge').count()"
   ]
  },
  {
   "cell_type": "code",
   "execution_count": 43,
   "metadata": {},
   "outputs": [
    {
     "data": {
      "text/html": [
       "<div>\n",
       "<style scoped>\n",
       "    .dataframe tbody tr th:only-of-type {\n",
       "        vertical-align: middle;\n",
       "    }\n",
       "\n",
       "    .dataframe tbody tr th {\n",
       "        vertical-align: top;\n",
       "    }\n",
       "\n",
       "    .dataframe thead th {\n",
       "        text-align: right;\n",
       "    }\n",
       "</style>\n",
       "<table border=\"1\" class=\"dataframe\">\n",
       "  <thead>\n",
       "    <tr style=\"text-align: right;\">\n",
       "      <th></th>\n",
       "      <th>rgiid</th>\n",
       "      <th>x</th>\n",
       "      <th>y</th>\n",
       "      <th>Slope</th>\n",
       "      <th>Name</th>\n",
       "      <th>bed</th>\n",
       "      <th>thickness</th>\n",
       "      <th>surface_elevation</th>\n",
       "      <th>ELA</th>\n",
       "      <th>beta</th>\n",
       "      <th>cmb</th>\n",
       "      <th>width_centerline</th>\n",
       "    </tr>\n",
       "    <tr>\n",
       "      <th>Surge</th>\n",
       "      <th></th>\n",
       "      <th></th>\n",
       "      <th></th>\n",
       "      <th></th>\n",
       "      <th></th>\n",
       "      <th></th>\n",
       "      <th></th>\n",
       "      <th></th>\n",
       "      <th></th>\n",
       "      <th></th>\n",
       "      <th></th>\n",
       "      <th></th>\n",
       "    </tr>\n",
       "  </thead>\n",
       "  <tbody>\n",
       "    <tr>\n",
       "      <th>0</th>\n",
       "      <td>104245</td>\n",
       "      <td>104245</td>\n",
       "      <td>104245</td>\n",
       "      <td>104245</td>\n",
       "      <td>60242</td>\n",
       "      <td>99044</td>\n",
       "      <td>99044</td>\n",
       "      <td>99044</td>\n",
       "      <td>104079</td>\n",
       "      <td>104079</td>\n",
       "      <td>104079</td>\n",
       "      <td>104097</td>\n",
       "    </tr>\n",
       "    <tr>\n",
       "      <th>3</th>\n",
       "      <td>11431</td>\n",
       "      <td>11431</td>\n",
       "      <td>11431</td>\n",
       "      <td>11431</td>\n",
       "      <td>11350</td>\n",
       "      <td>11082</td>\n",
       "      <td>11082</td>\n",
       "      <td>11082</td>\n",
       "      <td>11421</td>\n",
       "      <td>11421</td>\n",
       "      <td>11421</td>\n",
       "      <td>11429</td>\n",
       "    </tr>\n",
       "  </tbody>\n",
       "</table>\n",
       "</div>"
      ],
      "text/plain": [
       "        rgiid       x       y   Slope   Name    bed  thickness  \\\n",
       "Surge                                                            \n",
       "0      104245  104245  104245  104245  60242  99044      99044   \n",
       "3       11431   11431   11431   11431  11350  11082      11082   \n",
       "\n",
       "       surface_elevation     ELA    beta     cmb  width_centerline  \n",
       "Surge                                                               \n",
       "0                  99044  104079  104079  104079            104097  \n",
       "3                  11082   11421   11421   11421             11429  "
      ]
     },
     "execution_count": 43,
     "metadata": {},
     "output_type": "execute_result"
    }
   ],
   "source": [
    "df_main.drop(df_main[df_main['Surge']==9].index, inplace = True)\n",
    "df_main.drop(df_main[df_main['Surge']==1].index, inplace = True)\n",
    "df_main.drop(df_main[df_main['Surge']==2].index, inplace = True)\n",
    "df_main.groupby('Surge').count()"
   ]
  },
  {
   "cell_type": "code",
   "execution_count": 44,
   "metadata": {},
   "outputs": [
    {
     "data": {
      "text/html": [
       "<div>\n",
       "<style scoped>\n",
       "    .dataframe tbody tr th:only-of-type {\n",
       "        vertical-align: middle;\n",
       "    }\n",
       "\n",
       "    .dataframe tbody tr th {\n",
       "        vertical-align: top;\n",
       "    }\n",
       "\n",
       "    .dataframe thead th {\n",
       "        text-align: right;\n",
       "    }\n",
       "</style>\n",
       "<table border=\"1\" class=\"dataframe\">\n",
       "  <thead>\n",
       "    <tr style=\"text-align: right;\">\n",
       "      <th></th>\n",
       "      <th>x</th>\n",
       "      <th>y</th>\n",
       "      <th>Surge</th>\n",
       "      <th>Slope</th>\n",
       "      <th>bed</th>\n",
       "      <th>thickness</th>\n",
       "      <th>surface_elevation</th>\n",
       "      <th>ELA</th>\n",
       "      <th>beta</th>\n",
       "      <th>cmb</th>\n",
       "      <th>width_centerline</th>\n",
       "    </tr>\n",
       "  </thead>\n",
       "  <tbody>\n",
       "    <tr>\n",
       "      <th>x</th>\n",
       "      <td>1.000000</td>\n",
       "      <td>-0.149144</td>\n",
       "      <td>0.135795</td>\n",
       "      <td>-0.474290</td>\n",
       "      <td>-0.249954</td>\n",
       "      <td>0.376819</td>\n",
       "      <td>-0.139235</td>\n",
       "      <td>-0.382967</td>\n",
       "      <td>-0.270208</td>\n",
       "      <td>-0.270208</td>\n",
       "      <td>0.324672</td>\n",
       "    </tr>\n",
       "    <tr>\n",
       "      <th>y</th>\n",
       "      <td>-0.149144</td>\n",
       "      <td>1.000000</td>\n",
       "      <td>-0.138088</td>\n",
       "      <td>0.015916</td>\n",
       "      <td>0.067223</td>\n",
       "      <td>0.182079</td>\n",
       "      <td>0.135797</td>\n",
       "      <td>0.101428</td>\n",
       "      <td>-0.334081</td>\n",
       "      <td>-0.334081</td>\n",
       "      <td>0.170020</td>\n",
       "    </tr>\n",
       "    <tr>\n",
       "      <th>Surge</th>\n",
       "      <td>0.135795</td>\n",
       "      <td>-0.138088</td>\n",
       "      <td>1.000000</td>\n",
       "      <td>-0.299665</td>\n",
       "      <td>-0.198208</td>\n",
       "      <td>0.287949</td>\n",
       "      <td>-0.114179</td>\n",
       "      <td>-0.097796</td>\n",
       "      <td>-0.027109</td>\n",
       "      <td>-0.027109</td>\n",
       "      <td>0.232376</td>\n",
       "    </tr>\n",
       "    <tr>\n",
       "      <th>Slope</th>\n",
       "      <td>-0.474290</td>\n",
       "      <td>0.015916</td>\n",
       "      <td>-0.299665</td>\n",
       "      <td>1.000000</td>\n",
       "      <td>0.353604</td>\n",
       "      <td>-0.533973</td>\n",
       "      <td>0.196661</td>\n",
       "      <td>0.211976</td>\n",
       "      <td>0.217967</td>\n",
       "      <td>0.217967</td>\n",
       "      <td>-0.345796</td>\n",
       "    </tr>\n",
       "    <tr>\n",
       "      <th>bed</th>\n",
       "      <td>-0.249954</td>\n",
       "      <td>0.067223</td>\n",
       "      <td>-0.198208</td>\n",
       "      <td>0.353604</td>\n",
       "      <td>1.000000</td>\n",
       "      <td>-0.383121</td>\n",
       "      <td>0.947236</td>\n",
       "      <td>0.524953</td>\n",
       "      <td>-0.197396</td>\n",
       "      <td>-0.197396</td>\n",
       "      <td>-0.219306</td>\n",
       "    </tr>\n",
       "    <tr>\n",
       "      <th>thickness</th>\n",
       "      <td>0.376819</td>\n",
       "      <td>0.182079</td>\n",
       "      <td>0.287949</td>\n",
       "      <td>-0.533973</td>\n",
       "      <td>-0.383121</td>\n",
       "      <td>1.000000</td>\n",
       "      <td>-0.066827</td>\n",
       "      <td>-0.332237</td>\n",
       "      <td>-0.235967</td>\n",
       "      <td>-0.235967</td>\n",
       "      <td>0.538322</td>\n",
       "    </tr>\n",
       "    <tr>\n",
       "      <th>surface_elevation</th>\n",
       "      <td>-0.139235</td>\n",
       "      <td>0.135797</td>\n",
       "      <td>-0.114179</td>\n",
       "      <td>0.196661</td>\n",
       "      <td>0.947236</td>\n",
       "      <td>-0.066827</td>\n",
       "      <td>1.000000</td>\n",
       "      <td>0.451881</td>\n",
       "      <td>-0.295287</td>\n",
       "      <td>-0.295287</td>\n",
       "      <td>-0.050098</td>\n",
       "    </tr>\n",
       "    <tr>\n",
       "      <th>ELA</th>\n",
       "      <td>-0.382967</td>\n",
       "      <td>0.101428</td>\n",
       "      <td>-0.097796</td>\n",
       "      <td>0.211976</td>\n",
       "      <td>0.524953</td>\n",
       "      <td>-0.332237</td>\n",
       "      <td>0.451881</td>\n",
       "      <td>1.000000</td>\n",
       "      <td>-0.205150</td>\n",
       "      <td>-0.205150</td>\n",
       "      <td>-0.235459</td>\n",
       "    </tr>\n",
       "    <tr>\n",
       "      <th>beta</th>\n",
       "      <td>-0.270208</td>\n",
       "      <td>-0.334081</td>\n",
       "      <td>-0.027109</td>\n",
       "      <td>0.217967</td>\n",
       "      <td>-0.197396</td>\n",
       "      <td>-0.235967</td>\n",
       "      <td>-0.295287</td>\n",
       "      <td>-0.205150</td>\n",
       "      <td>1.000000</td>\n",
       "      <td>1.000000</td>\n",
       "      <td>-0.211345</td>\n",
       "    </tr>\n",
       "    <tr>\n",
       "      <th>cmb</th>\n",
       "      <td>-0.270208</td>\n",
       "      <td>-0.334081</td>\n",
       "      <td>-0.027109</td>\n",
       "      <td>0.217967</td>\n",
       "      <td>-0.197396</td>\n",
       "      <td>-0.235967</td>\n",
       "      <td>-0.295287</td>\n",
       "      <td>-0.205150</td>\n",
       "      <td>1.000000</td>\n",
       "      <td>1.000000</td>\n",
       "      <td>-0.211345</td>\n",
       "    </tr>\n",
       "    <tr>\n",
       "      <th>width_centerline</th>\n",
       "      <td>0.324672</td>\n",
       "      <td>0.170020</td>\n",
       "      <td>0.232376</td>\n",
       "      <td>-0.345796</td>\n",
       "      <td>-0.219306</td>\n",
       "      <td>0.538322</td>\n",
       "      <td>-0.050098</td>\n",
       "      <td>-0.235459</td>\n",
       "      <td>-0.211345</td>\n",
       "      <td>-0.211345</td>\n",
       "      <td>1.000000</td>\n",
       "    </tr>\n",
       "  </tbody>\n",
       "</table>\n",
       "</div>"
      ],
      "text/plain": [
       "                          x         y     Surge     Slope       bed  \\\n",
       "x                  1.000000 -0.149144  0.135795 -0.474290 -0.249954   \n",
       "y                 -0.149144  1.000000 -0.138088  0.015916  0.067223   \n",
       "Surge              0.135795 -0.138088  1.000000 -0.299665 -0.198208   \n",
       "Slope             -0.474290  0.015916 -0.299665  1.000000  0.353604   \n",
       "bed               -0.249954  0.067223 -0.198208  0.353604  1.000000   \n",
       "thickness          0.376819  0.182079  0.287949 -0.533973 -0.383121   \n",
       "surface_elevation -0.139235  0.135797 -0.114179  0.196661  0.947236   \n",
       "ELA               -0.382967  0.101428 -0.097796  0.211976  0.524953   \n",
       "beta              -0.270208 -0.334081 -0.027109  0.217967 -0.197396   \n",
       "cmb               -0.270208 -0.334081 -0.027109  0.217967 -0.197396   \n",
       "width_centerline   0.324672  0.170020  0.232376 -0.345796 -0.219306   \n",
       "\n",
       "                   thickness  surface_elevation       ELA      beta       cmb  \\\n",
       "x                   0.376819          -0.139235 -0.382967 -0.270208 -0.270208   \n",
       "y                   0.182079           0.135797  0.101428 -0.334081 -0.334081   \n",
       "Surge               0.287949          -0.114179 -0.097796 -0.027109 -0.027109   \n",
       "Slope              -0.533973           0.196661  0.211976  0.217967  0.217967   \n",
       "bed                -0.383121           0.947236  0.524953 -0.197396 -0.197396   \n",
       "thickness           1.000000          -0.066827 -0.332237 -0.235967 -0.235967   \n",
       "surface_elevation  -0.066827           1.000000  0.451881 -0.295287 -0.295287   \n",
       "ELA                -0.332237           0.451881  1.000000 -0.205150 -0.205150   \n",
       "beta               -0.235967          -0.295287 -0.205150  1.000000  1.000000   \n",
       "cmb                -0.235967          -0.295287 -0.205150  1.000000  1.000000   \n",
       "width_centerline    0.538322          -0.050098 -0.235459 -0.211345 -0.211345   \n",
       "\n",
       "                   width_centerline  \n",
       "x                          0.324672  \n",
       "y                          0.170020  \n",
       "Surge                      0.232376  \n",
       "Slope                     -0.345796  \n",
       "bed                       -0.219306  \n",
       "thickness                  0.538322  \n",
       "surface_elevation         -0.050098  \n",
       "ELA                       -0.235459  \n",
       "beta                      -0.211345  \n",
       "cmb                       -0.211345  \n",
       "width_centerline           1.000000  "
      ]
     },
     "execution_count": 44,
     "metadata": {},
     "output_type": "execute_result"
    }
   ],
   "source": [
    "corr = df_main.corr()\n",
    "corr"
   ]
  },
  {
   "cell_type": "code",
   "execution_count": 45,
   "metadata": {},
   "outputs": [
    {
     "data": {
      "text/html": [
       "<div>\n",
       "<style scoped>\n",
       "    .dataframe tbody tr th:only-of-type {\n",
       "        vertical-align: middle;\n",
       "    }\n",
       "\n",
       "    .dataframe tbody tr th {\n",
       "        vertical-align: top;\n",
       "    }\n",
       "\n",
       "    .dataframe thead th {\n",
       "        text-align: right;\n",
       "    }\n",
       "</style>\n",
       "<table border=\"1\" class=\"dataframe\">\n",
       "  <thead>\n",
       "    <tr style=\"text-align: right;\">\n",
       "      <th></th>\n",
       "      <th>rgiid</th>\n",
       "      <th>x</th>\n",
       "      <th>y</th>\n",
       "      <th>Slope</th>\n",
       "      <th>Name</th>\n",
       "      <th>bed</th>\n",
       "      <th>thickness</th>\n",
       "      <th>surface_elevation</th>\n",
       "      <th>ELA</th>\n",
       "      <th>beta</th>\n",
       "      <th>cmb</th>\n",
       "      <th>width_centerline</th>\n",
       "    </tr>\n",
       "    <tr>\n",
       "      <th>Surge</th>\n",
       "      <th></th>\n",
       "      <th></th>\n",
       "      <th></th>\n",
       "      <th></th>\n",
       "      <th></th>\n",
       "      <th></th>\n",
       "      <th></th>\n",
       "      <th></th>\n",
       "      <th></th>\n",
       "      <th></th>\n",
       "      <th></th>\n",
       "      <th></th>\n",
       "    </tr>\n",
       "  </thead>\n",
       "  <tbody>\n",
       "    <tr>\n",
       "      <th>0</th>\n",
       "      <td>104245</td>\n",
       "      <td>104245</td>\n",
       "      <td>104245</td>\n",
       "      <td>104245</td>\n",
       "      <td>60242</td>\n",
       "      <td>99044</td>\n",
       "      <td>99044</td>\n",
       "      <td>99044</td>\n",
       "      <td>104079</td>\n",
       "      <td>104079</td>\n",
       "      <td>104079</td>\n",
       "      <td>104097</td>\n",
       "    </tr>\n",
       "    <tr>\n",
       "      <th>3</th>\n",
       "      <td>11431</td>\n",
       "      <td>11431</td>\n",
       "      <td>11431</td>\n",
       "      <td>11431</td>\n",
       "      <td>11350</td>\n",
       "      <td>11082</td>\n",
       "      <td>11082</td>\n",
       "      <td>11082</td>\n",
       "      <td>11421</td>\n",
       "      <td>11421</td>\n",
       "      <td>11421</td>\n",
       "      <td>11429</td>\n",
       "    </tr>\n",
       "  </tbody>\n",
       "</table>\n",
       "</div>"
      ],
      "text/plain": [
       "        rgiid       x       y   Slope   Name    bed  thickness  \\\n",
       "Surge                                                            \n",
       "0      104245  104245  104245  104245  60242  99044      99044   \n",
       "3       11431   11431   11431   11431  11350  11082      11082   \n",
       "\n",
       "       surface_elevation     ELA    beta     cmb  width_centerline  \n",
       "Surge                                                               \n",
       "0                  99044  104079  104079  104079            104097  \n",
       "3                  11082   11421   11421   11421             11429  "
      ]
     },
     "execution_count": 45,
     "metadata": {},
     "output_type": "execute_result"
    }
   ],
   "source": [
    "df_main.groupby('Surge').count()"
   ]
  },
  {
   "cell_type": "code",
   "execution_count": 46,
   "metadata": {},
   "outputs": [
    {
     "data": {
      "text/plain": [
       "<matplotlib.colorbar.Colorbar at 0x7fd6f2b2c8b0>"
      ]
     },
     "execution_count": 46,
     "metadata": {},
     "output_type": "execute_result"
    },
    {
     "data": {
      "image/png": "[encoded data removed]",
      "text/plain": [
       "<Figure size 576x576 with 2 Axes>"
      ]
     },
     "metadata": {
      "needs_background": "light"
     },
     "output_type": "display_data"
    }
   ],
   "source": [
    "plt.figure(figsize = (8, 8))\n",
    "plt.matshow(corr, cmap='coolwarm', vmin=-1, vmax=1, fignum=1)\n",
    "plt.xticks(range(len(corr.columns)), corr.columns, rotation='vertical');\n",
    "plt.yticks(range(len(corr.columns)), corr.columns);\n",
    "plt.colorbar()"
   ]
  },
  {
   "cell_type": "code",
   "execution_count": 143,
   "metadata": {},
   "outputs": [
    {
     "data": {
      "text/plain": [
       "<matplotlib.axes._subplots.AxesSubplot at 0x7f199406e6d0>"
      ]
     },
     "execution_count": 143,
     "metadata": {},
     "output_type": "execute_result"
    },
    {
     "data": {
      "image/png": "[encoded data removed]",
      "text/plain": [
       "<Figure size 432x288 with 2 Axes>"
      ]
     },
     "metadata": {
      "needs_background": "light"
     },
     "output_type": "display_data"
    }
   ],
   "source": [
    "df_main[df_main.Surge.isin([0, 3])].plot.scatter(x='x', y='y', c='Surge', cmap='cool')"
   ]
  },
  {
   "cell_type": "code",
   "execution_count": 29,
   "metadata": {},
   "outputs": [
    {
     "data": {
      "text/plain": [
       "<matplotlib.axes._subplots.AxesSubplot at 0x7fd6f2fe3fa0>"
      ]
     },
     "execution_count": 29,
     "metadata": {},
     "output_type": "execute_result"
    },
    {
     "data": {
      "image/png": "[encoded data removed]",
      "text/plain": [
       "<Figure size 432x288 with 1 Axes>"
      ]
     },
     "metadata": {
      "needs_background": "light"
     },
     "output_type": "display_data"
    }
   ],
   "source": [
    "df_main.plot.scatter(x='cmb', y='surface_elevation')"
   ]
  },
  {
   "cell_type": "code",
   "execution_count": 30,
   "metadata": {},
   "outputs": [
    {
     "data": {
      "text/plain": [
       "<matplotlib.axes._subplots.AxesSubplot at 0x7fd6f3127f40>"
      ]
     },
     "execution_count": 30,
     "metadata": {},
     "output_type": "execute_result"
    },
    {
     "data": {
      "image/png": "[encoded data removed]",
      "text/plain": [
       "<Figure size 432x288 with 1 Axes>"
      ]
     },
     "metadata": {
      "needs_background": "light"
     },
     "output_type": "display_data"
    }
   ],
   "source": [
    "df_main.plot.scatter(x='thickness', y='Slope', alpha=0.15)"
   ]
  },
  {
   "cell_type": "code",
   "execution_count": 31,
   "metadata": {},
   "outputs": [],
   "source": [
    "features = ['Slope', 'bed', 'thickness',\n",
    "       'surface_elevation', 'ELA', 'beta', 'cmb', 'width_centerline']\n",
    "\n",
    "# features = [df_main['Slope'], df_main['bed'], df_main['thickness'],\n",
    "#        df_main['surface_elevation'], df_main['ELA'], df_main['beta'], df_main['cmb'], df_main['width_centerline']]\n",
    "# # Separating out the features\n",
    "# x = df.loc[:, features].values\n",
    "# # Separating out the target\n",
    "# y = df.loc[:,['target']].values\n",
    "# # Standardizing the features\n",
    "# x = StandardScaler().fit_transform(x)"
   ]
  },
  {
   "cell_type": "markdown",
   "metadata": {},
   "source": [
    "### Separating out the features"
   ]
  },
  {
   "cell_type": "code",
   "execution_count": 32,
   "metadata": {},
   "outputs": [],
   "source": [
    "x = df_main.loc[:, features].values"
   ]
  },
  {
   "cell_type": "code",
   "execution_count": 33,
   "metadata": {},
   "outputs": [],
   "source": [
    "# Separating out the target\n",
    "y = df_main.loc[:,['Surge']].values"
   ]
  },
  {
   "cell_type": "markdown",
   "metadata": {},
   "source": [
    "### Standardizing the features"
   ]
  },
  {
   "cell_type": "code",
   "execution_count": 34,
   "metadata": {},
   "outputs": [],
   "source": [
    "x = StandardScaler().fit_transform(x)\n",
    "# x = x[~np.isnan(x)]"
   ]
  },
  {
   "cell_type": "code",
   "execution_count": 35,
   "metadata": {},
   "outputs": [
    {
     "data": {
      "text/html": [
       "<div>\n",
       "<style scoped>\n",
       "    .dataframe tbody tr th:only-of-type {\n",
       "        vertical-align: middle;\n",
       "    }\n",
       "\n",
       "    .dataframe tbody tr th {\n",
       "        vertical-align: top;\n",
       "    }\n",
       "\n",
       "    .dataframe thead th {\n",
       "        text-align: right;\n",
       "    }\n",
       "</style>\n",
       "<table border=\"1\" class=\"dataframe\">\n",
       "  <thead>\n",
       "    <tr style=\"text-align: right;\">\n",
       "      <th></th>\n",
       "      <th>Slope</th>\n",
       "      <th>bed</th>\n",
       "      <th>thickness</th>\n",
       "      <th>surface_elevation</th>\n",
       "      <th>ELA</th>\n",
       "      <th>beta</th>\n",
       "      <th>cmb</th>\n",
       "      <th>width_centerline</th>\n",
       "    </tr>\n",
       "  </thead>\n",
       "  <tbody>\n",
       "    <tr>\n",
       "      <th>0</th>\n",
       "      <td>0.529943</td>\n",
       "      <td>0.070233</td>\n",
       "      <td>-0.770698</td>\n",
       "      <td>-0.191579</td>\n",
       "      <td>-0.729527</td>\n",
       "      <td>-0.222033</td>\n",
       "      <td>-0.222033</td>\n",
       "      <td>-0.436740</td>\n",
       "    </tr>\n",
       "    <tr>\n",
       "      <th>1</th>\n",
       "      <td>0.529943</td>\n",
       "      <td>0.070233</td>\n",
       "      <td>-0.770698</td>\n",
       "      <td>-0.191579</td>\n",
       "      <td>-0.729527</td>\n",
       "      <td>-0.220869</td>\n",
       "      <td>-0.220869</td>\n",
       "      <td>-0.448435</td>\n",
       "    </tr>\n",
       "    <tr>\n",
       "      <th>2</th>\n",
       "      <td>0.529943</td>\n",
       "      <td>0.070233</td>\n",
       "      <td>-0.770698</td>\n",
       "      <td>-0.191579</td>\n",
       "      <td>-0.729527</td>\n",
       "      <td>-0.219705</td>\n",
       "      <td>-0.219705</td>\n",
       "      <td>-0.444545</td>\n",
       "    </tr>\n",
       "    <tr>\n",
       "      <th>3</th>\n",
       "      <td>0.529943</td>\n",
       "      <td>0.070233</td>\n",
       "      <td>-0.770698</td>\n",
       "      <td>-0.191579</td>\n",
       "      <td>-0.729527</td>\n",
       "      <td>-0.218540</td>\n",
       "      <td>-0.218540</td>\n",
       "      <td>-0.440655</td>\n",
       "    </tr>\n",
       "    <tr>\n",
       "      <th>4</th>\n",
       "      <td>0.529943</td>\n",
       "      <td>0.070233</td>\n",
       "      <td>-0.770698</td>\n",
       "      <td>-0.191579</td>\n",
       "      <td>-0.729527</td>\n",
       "      <td>-0.217376</td>\n",
       "      <td>-0.217376</td>\n",
       "      <td>-0.427905</td>\n",
       "    </tr>\n",
       "    <tr>\n",
       "      <th>...</th>\n",
       "      <td>...</td>\n",
       "      <td>...</td>\n",
       "      <td>...</td>\n",
       "      <td>...</td>\n",
       "      <td>...</td>\n",
       "      <td>...</td>\n",
       "      <td>...</td>\n",
       "      <td>...</td>\n",
       "    </tr>\n",
       "    <tr>\n",
       "      <th>115670</th>\n",
       "      <td>-0.499366</td>\n",
       "      <td>-0.586808</td>\n",
       "      <td>-0.195035</td>\n",
       "      <td>-0.701540</td>\n",
       "      <td>0.572635</td>\n",
       "      <td>-0.010490</td>\n",
       "      <td>-0.010490</td>\n",
       "      <td>-0.371204</td>\n",
       "    </tr>\n",
       "    <tr>\n",
       "      <th>115671</th>\n",
       "      <td>-0.499366</td>\n",
       "      <td>-0.605105</td>\n",
       "      <td>-0.240668</td>\n",
       "      <td>-0.737141</td>\n",
       "      <td>0.572635</td>\n",
       "      <td>-0.009340</td>\n",
       "      <td>-0.009340</td>\n",
       "      <td>-0.378635</td>\n",
       "    </tr>\n",
       "    <tr>\n",
       "      <th>115672</th>\n",
       "      <td>-0.499366</td>\n",
       "      <td>-0.605105</td>\n",
       "      <td>-0.240668</td>\n",
       "      <td>-0.737141</td>\n",
       "      <td>0.572635</td>\n",
       "      <td>-0.006210</td>\n",
       "      <td>-0.006210</td>\n",
       "      <td>-0.384866</td>\n",
       "    </tr>\n",
       "    <tr>\n",
       "      <th>115673</th>\n",
       "      <td>-0.499366</td>\n",
       "      <td>-0.604641</td>\n",
       "      <td>-0.235156</td>\n",
       "      <td>-0.734726</td>\n",
       "      <td>0.572635</td>\n",
       "      <td>-0.005186</td>\n",
       "      <td>-0.005186</td>\n",
       "      <td>-0.389003</td>\n",
       "    </tr>\n",
       "    <tr>\n",
       "      <th>115674</th>\n",
       "      <td>-0.499366</td>\n",
       "      <td>-0.604641</td>\n",
       "      <td>-0.235156</td>\n",
       "      <td>-0.734726</td>\n",
       "      <td>0.572635</td>\n",
       "      <td>-0.004162</td>\n",
       "      <td>-0.004162</td>\n",
       "      <td>-0.392654</td>\n",
       "    </tr>\n",
       "  </tbody>\n",
       "</table>\n",
       "<p>109850 rows × 8 columns</p>\n",
       "</div>"
      ],
      "text/plain": [
       "           Slope       bed  thickness  surface_elevation       ELA      beta  \\\n",
       "0       0.529943  0.070233  -0.770698          -0.191579 -0.729527 -0.222033   \n",
       "1       0.529943  0.070233  -0.770698          -0.191579 -0.729527 -0.220869   \n",
       "2       0.529943  0.070233  -0.770698          -0.191579 -0.729527 -0.219705   \n",
       "3       0.529943  0.070233  -0.770698          -0.191579 -0.729527 -0.218540   \n",
       "4       0.529943  0.070233  -0.770698          -0.191579 -0.729527 -0.217376   \n",
       "...          ...       ...        ...                ...       ...       ...   \n",
       "115670 -0.499366 -0.586808  -0.195035          -0.701540  0.572635 -0.010490   \n",
       "115671 -0.499366 -0.605105  -0.240668          -0.737141  0.572635 -0.009340   \n",
       "115672 -0.499366 -0.605105  -0.240668          -0.737141  0.572635 -0.006210   \n",
       "115673 -0.499366 -0.604641  -0.235156          -0.734726  0.572635 -0.005186   \n",
       "115674 -0.499366 -0.604641  -0.235156          -0.734726  0.572635 -0.004162   \n",
       "\n",
       "             cmb  width_centerline  \n",
       "0      -0.222033         -0.436740  \n",
       "1      -0.220869         -0.448435  \n",
       "2      -0.219705         -0.444545  \n",
       "3      -0.218540         -0.440655  \n",
       "4      -0.217376         -0.427905  \n",
       "...          ...               ...  \n",
       "115670 -0.010490         -0.371204  \n",
       "115671 -0.009340         -0.378635  \n",
       "115672 -0.006210         -0.384866  \n",
       "115673 -0.005186         -0.389003  \n",
       "115674 -0.004162         -0.392654  \n",
       "\n",
       "[109850 rows x 8 columns]"
      ]
     },
     "execution_count": 35,
     "metadata": {},
     "output_type": "execute_result"
    }
   ],
   "source": [
    "df_main_standard = pd.DataFrame(x)\n",
    "df_main_standard.columns = ['Slope', 'bed', 'thickness', 'surface_elevation', 'ELA', 'beta', 'cmb', 'width_centerline']\n",
    "df_main_standard.dropna(how='any', inplace=True)\n",
    "df_main_standard\n",
    "# df_main_standard"
   ]
  },
  {
   "cell_type": "code",
   "execution_count": 79,
   "metadata": {},
   "outputs": [
    {
     "data": {
      "text/plain": [
       "False"
      ]
     },
     "execution_count": 79,
     "metadata": {},
     "output_type": "execute_result"
    }
   ],
   "source": [
    "np.any(np.isnan(df_main_standard))"
   ]
  },
  {
   "cell_type": "code",
   "execution_count": 73,
   "metadata": {},
   "outputs": [
    {
     "data": {
      "text/plain": [
       "False"
      ]
     },
     "execution_count": 73,
     "metadata": {},
     "output_type": "execute_result"
    }
   ],
   "source": [
    "np.all(np.isinf(df_main_standard))"
   ]
  },
  {
   "cell_type": "code",
   "execution_count": 76,
   "metadata": {},
   "outputs": [
    {
     "data": {
      "text/plain": [
       "array([[ 0.57040642,  0.1030487 , -0.78739149, ..., -0.24456751,\n",
       "        -0.24456751, -0.45786748],\n",
       "       [ 0.57040642,  0.1030487 , -0.78739149, ..., -0.24337557,\n",
       "        -0.24337557, -0.46965694],\n",
       "       [ 0.57040642,  0.1030487 , -0.78739149, ..., -0.24218364,\n",
       "        -0.24218364, -0.46573577],\n",
       "       ...,\n",
       "       [-0.77086233,         nan,         nan, ...,         nan,\n",
       "                nan,         nan],\n",
       "       [-0.77086233,         nan,         nan, ...,         nan,\n",
       "                nan,         nan],\n",
       "       [-0.77086233,         nan,         nan, ...,         nan,\n",
       "                nan,         nan]])"
      ]
     },
     "execution_count": 76,
     "metadata": {},
     "output_type": "execute_result"
    }
   ],
   "source": [
    "x"
   ]
  },
  {
   "cell_type": "markdown",
   "metadata": {},
   "source": [
    "### PCA Projection to 2D"
   ]
  },
  {
   "cell_type": "code",
   "execution_count": 47,
   "metadata": {},
   "outputs": [],
   "source": [
    "pca = PCA(n_components=8)\n",
    "principalComponents = pca.fit_transform(df_main_standard)\n",
    "principalDf = pd.DataFrame(data = principalComponents\n",
    "              , columns = ['PC1', 'PC2', 'PC3', 'PC4', 'PC5', 'PC6', 'PC7', 'PC8'])\n"
   ]
  },
  {
   "cell_type": "code",
   "execution_count": 48,
   "metadata": {},
   "outputs": [
    {
     "data": {
      "text/html": [
       "<div>\n",
       "<style scoped>\n",
       "    .dataframe tbody tr th:only-of-type {\n",
       "        vertical-align: middle;\n",
       "    }\n",
       "\n",
       "    .dataframe tbody tr th {\n",
       "        vertical-align: top;\n",
       "    }\n",
       "\n",
       "    .dataframe thead th {\n",
       "        text-align: right;\n",
       "    }\n",
       "</style>\n",
       "<table border=\"1\" class=\"dataframe\">\n",
       "  <thead>\n",
       "    <tr style=\"text-align: right;\">\n",
       "      <th></th>\n",
       "      <th>PC1</th>\n",
       "      <th>PC2</th>\n",
       "      <th>PC3</th>\n",
       "      <th>PC4</th>\n",
       "      <th>PC5</th>\n",
       "      <th>PC6</th>\n",
       "      <th>PC7</th>\n",
       "      <th>PC8</th>\n",
       "      <th>Surge</th>\n",
       "    </tr>\n",
       "  </thead>\n",
       "  <tbody>\n",
       "    <tr>\n",
       "      <th>0</th>\n",
       "      <td>-0.213209</td>\n",
       "      <td>0.464964</td>\n",
       "      <td>-0.618684</td>\n",
       "      <td>0.824857</td>\n",
       "      <td>-0.555968</td>\n",
       "      <td>0.365224</td>\n",
       "      <td>2.571293e-10</td>\n",
       "      <td>-2.099102e-16</td>\n",
       "      <td>0.0</td>\n",
       "    </tr>\n",
       "    <tr>\n",
       "      <th>1</th>\n",
       "      <td>-0.215588</td>\n",
       "      <td>0.470256</td>\n",
       "      <td>-0.622897</td>\n",
       "      <td>0.820894</td>\n",
       "      <td>-0.563270</td>\n",
       "      <td>0.360860</td>\n",
       "      <td>2.565105e-10</td>\n",
       "      <td>-2.021731e-14</td>\n",
       "      <td>0.0</td>\n",
       "    </tr>\n",
       "    <tr>\n",
       "      <th>2</th>\n",
       "      <td>-0.214306</td>\n",
       "      <td>0.470179</td>\n",
       "      <td>-0.620325</td>\n",
       "      <td>0.821648</td>\n",
       "      <td>-0.560618</td>\n",
       "      <td>0.362265</td>\n",
       "      <td>2.566046e-10</td>\n",
       "      <td>-2.347518e-16</td>\n",
       "      <td>0.0</td>\n",
       "    </tr>\n",
       "    <tr>\n",
       "      <th>3</th>\n",
       "      <td>-0.213024</td>\n",
       "      <td>0.470101</td>\n",
       "      <td>-0.617753</td>\n",
       "      <td>0.822402</td>\n",
       "      <td>-0.557966</td>\n",
       "      <td>0.363670</td>\n",
       "      <td>2.568460e-10</td>\n",
       "      <td>-2.077828e-16</td>\n",
       "      <td>0.0</td>\n",
       "    </tr>\n",
       "    <tr>\n",
       "      <th>4</th>\n",
       "      <td>-0.209661</td>\n",
       "      <td>0.466972</td>\n",
       "      <td>-0.611323</td>\n",
       "      <td>0.825839</td>\n",
       "      <td>-0.549655</td>\n",
       "      <td>0.368354</td>\n",
       "      <td>2.575885e-10</td>\n",
       "      <td>-5.328809e-15</td>\n",
       "      <td>0.0</td>\n",
       "    </tr>\n",
       "    <tr>\n",
       "      <th>...</th>\n",
       "      <td>...</td>\n",
       "      <td>...</td>\n",
       "      <td>...</td>\n",
       "      <td>...</td>\n",
       "      <td>...</td>\n",
       "      <td>...</td>\n",
       "      <td>...</td>\n",
       "      <td>...</td>\n",
       "      <td>...</td>\n",
       "    </tr>\n",
       "    <tr>\n",
       "      <th>130985</th>\n",
       "      <td>NaN</td>\n",
       "      <td>NaN</td>\n",
       "      <td>NaN</td>\n",
       "      <td>NaN</td>\n",
       "      <td>NaN</td>\n",
       "      <td>NaN</td>\n",
       "      <td>NaN</td>\n",
       "      <td>NaN</td>\n",
       "      <td>3.0</td>\n",
       "    </tr>\n",
       "    <tr>\n",
       "      <th>130986</th>\n",
       "      <td>NaN</td>\n",
       "      <td>NaN</td>\n",
       "      <td>NaN</td>\n",
       "      <td>NaN</td>\n",
       "      <td>NaN</td>\n",
       "      <td>NaN</td>\n",
       "      <td>NaN</td>\n",
       "      <td>NaN</td>\n",
       "      <td>3.0</td>\n",
       "    </tr>\n",
       "    <tr>\n",
       "      <th>130987</th>\n",
       "      <td>NaN</td>\n",
       "      <td>NaN</td>\n",
       "      <td>NaN</td>\n",
       "      <td>NaN</td>\n",
       "      <td>NaN</td>\n",
       "      <td>NaN</td>\n",
       "      <td>NaN</td>\n",
       "      <td>NaN</td>\n",
       "      <td>3.0</td>\n",
       "    </tr>\n",
       "    <tr>\n",
       "      <th>130988</th>\n",
       "      <td>NaN</td>\n",
       "      <td>NaN</td>\n",
       "      <td>NaN</td>\n",
       "      <td>NaN</td>\n",
       "      <td>NaN</td>\n",
       "      <td>NaN</td>\n",
       "      <td>NaN</td>\n",
       "      <td>NaN</td>\n",
       "      <td>3.0</td>\n",
       "    </tr>\n",
       "    <tr>\n",
       "      <th>130989</th>\n",
       "      <td>NaN</td>\n",
       "      <td>NaN</td>\n",
       "      <td>NaN</td>\n",
       "      <td>NaN</td>\n",
       "      <td>NaN</td>\n",
       "      <td>NaN</td>\n",
       "      <td>NaN</td>\n",
       "      <td>NaN</td>\n",
       "      <td>3.0</td>\n",
       "    </tr>\n",
       "  </tbody>\n",
       "</table>\n",
       "<p>129104 rows × 9 columns</p>\n",
       "</div>"
      ],
      "text/plain": [
       "             PC1       PC2       PC3       PC4       PC5       PC6  \\\n",
       "0      -0.213209  0.464964 -0.618684  0.824857 -0.555968  0.365224   \n",
       "1      -0.215588  0.470256 -0.622897  0.820894 -0.563270  0.360860   \n",
       "2      -0.214306  0.470179 -0.620325  0.821648 -0.560618  0.362265   \n",
       "3      -0.213024  0.470101 -0.617753  0.822402 -0.557966  0.363670   \n",
       "4      -0.209661  0.466972 -0.611323  0.825839 -0.549655  0.368354   \n",
       "...          ...       ...       ...       ...       ...       ...   \n",
       "130985       NaN       NaN       NaN       NaN       NaN       NaN   \n",
       "130986       NaN       NaN       NaN       NaN       NaN       NaN   \n",
       "130987       NaN       NaN       NaN       NaN       NaN       NaN   \n",
       "130988       NaN       NaN       NaN       NaN       NaN       NaN   \n",
       "130989       NaN       NaN       NaN       NaN       NaN       NaN   \n",
       "\n",
       "                 PC7           PC8  Surge  \n",
       "0       2.571293e-10 -2.099102e-16    0.0  \n",
       "1       2.565105e-10 -2.021731e-14    0.0  \n",
       "2       2.566046e-10 -2.347518e-16    0.0  \n",
       "3       2.568460e-10 -2.077828e-16    0.0  \n",
       "4       2.575885e-10 -5.328809e-15    0.0  \n",
       "...              ...           ...    ...  \n",
       "130985           NaN           NaN    3.0  \n",
       "130986           NaN           NaN    3.0  \n",
       "130987           NaN           NaN    3.0  \n",
       "130988           NaN           NaN    3.0  \n",
       "130989           NaN           NaN    3.0  \n",
       "\n",
       "[129104 rows x 9 columns]"
      ]
     },
     "execution_count": 48,
     "metadata": {},
     "output_type": "execute_result"
    }
   ],
   "source": [
    "finalDf = pd.concat([principalDf, df_main[['Surge']]], axis = 1)\n",
    "finalDf.groupby('Surge').count()\n",
    "finalDf"
   ]
  },
  {
   "cell_type": "code",
   "execution_count": 49,
   "metadata": {},
   "outputs": [
    {
     "data": {
      "text/plain": [
       "[<matplotlib.lines.Line2D at 0x7fd6f2a3cca0>]"
      ]
     },
     "execution_count": 49,
     "metadata": {},
     "output_type": "execute_result"
    },
    {
     "data": {
      "image/png": "[encoded data removed]",
      "text/plain": [
       "<Figure size 432x288 with 1 Axes>"
      ]
     },
     "metadata": {
      "needs_background": "light"
     },
     "output_type": "display_data"
    }
   ],
   "source": [
    "plt.plot(1-pca.explained_variance_ratio_)"
   ]
  },
  {
   "cell_type": "code",
   "execution_count": 50,
   "metadata": {},
   "outputs": [
    {
     "name": "stderr",
     "output_type": "stream",
     "text": [
      "/usr/lib64/python3.8/site-packages/pandas/plotting/_matplotlib/tools.py:307: MatplotlibDeprecationWarning: \n",
      "The rowNum attribute was deprecated in Matplotlib 3.2 and will be removed two minor releases later. Use ax.get_subplotspec().rowspan.start instead.\n",
      "  layout[ax.rowNum, ax.colNum] = ax.get_visible()\n",
      "/usr/lib64/python3.8/site-packages/pandas/plotting/_matplotlib/tools.py:307: MatplotlibDeprecationWarning: \n",
      "The colNum attribute was deprecated in Matplotlib 3.2 and will be removed two minor releases later. Use ax.get_subplotspec().colspan.start instead.\n",
      "  layout[ax.rowNum, ax.colNum] = ax.get_visible()\n",
      "/usr/lib64/python3.8/site-packages/pandas/plotting/_matplotlib/tools.py:313: MatplotlibDeprecationWarning: \n",
      "The rowNum attribute was deprecated in Matplotlib 3.2 and will be removed two minor releases later. Use ax.get_subplotspec().rowspan.start instead.\n",
      "  if not layout[ax.rowNum + 1, ax.colNum]:\n",
      "/usr/lib64/python3.8/site-packages/pandas/plotting/_matplotlib/tools.py:313: MatplotlibDeprecationWarning: \n",
      "The colNum attribute was deprecated in Matplotlib 3.2 and will be removed two minor releases later. Use ax.get_subplotspec().colspan.start instead.\n",
      "  if not layout[ax.rowNum + 1, ax.colNum]:\n"
     ]
    },
    {
     "data": {
      "text/plain": [
       "<matplotlib.axes._subplots.AxesSubplot at 0x7fd6f29f86a0>"
      ]
     },
     "execution_count": 50,
     "metadata": {},
     "output_type": "execute_result"
    },
    {
     "data": {
      "image/png": "[encoded data removed]",
      "text/plain": [
       "<Figure size 432x288 with 2 Axes>"
      ]
     },
     "metadata": {
      "needs_background": "light"
     },
     "output_type": "display_data"
    }
   ],
   "source": [
    "finalDf.plot.scatter(x='PC1', y='PC2', c='Surge', cmap='Spectral', alpha=0.25)"
   ]
  },
  {
   "cell_type": "code",
   "execution_count": 123,
   "metadata": {},
   "outputs": [
    {
     "data": {
      "image/png": "[encoded data removed]",
      "text/plain": [
       "<Figure size 576x576 with 1 Axes>"
      ]
     },
     "metadata": {
      "needs_background": "light"
     },
     "output_type": "display_data"
    }
   ],
   "source": [
    "fig = plt.figure(figsize = (8,8))\n",
    "ax = fig.add_subplot(1,1,1) \n",
    "ax.set_xlabel('Principal Component 1', fontsize = 15)\n",
    "ax.set_ylabel('Principal Component 2', fontsize = 15)\n",
    "ax.set_title('2 component PCA', fontsize = 20)\n",
    "surges = ['0', '1', '2', '3']\n",
    "colors = ['r', 'g', 'b', 'k']\n",
    "for surge, color in zip(surges,colors):\n",
    "    indicesToKeep = finalDf['Surge'] == surge\n",
    "    ax.scatter(finalDf.loc[indicesToKeep, 'principal component 1']\n",
    "               , finalDf.loc[indicesToKeep, 'principal component 2']\n",
    "               , c = color)\n",
    "#                , s = 50)\n",
    "ax.legend(surges)\n",
    "ax.grid()\n"
   ]
  }
 ],
 "metadata": {
  "kernelspec": {
   "display_name": "Python 3",
   "language": "python",
   "name": "python3"
  },
  "language_info": {
   "codemirror_mode": {
    "name": "ipython",
    "version": 3
   },
   "file_extension": ".py",
   "mimetype": "text/x-python",
   "name": "python",
   "nbconvert_exporter": "python",
   "pygments_lexer": "ipython3",
   "version": "3.8.6"
  }
 },
 "nbformat": 4,
 "nbformat_minor": 4
}
