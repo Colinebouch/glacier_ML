{
 "cells": [
  {
   "cell_type": "markdown",
   "metadata": {},
   "source": [
    "Theory : https://towardsdatascience.com/understanding-random-forest-58381e0602d2\n",
    "\n",
    "Examples : https://towardsdatascience.com/an-implementation-and-explanation-of-the-random-forest-in-python-77bf308a9b76"
   ]
  },
  {
   "cell_type": "markdown",
   "metadata": {},
   "source": [
    "# Forests of randomized trees"
   ]
  },
  {
   "cell_type": "code",
   "execution_count": 1,
   "metadata": {},
   "outputs": [],
   "source": [
    "import numpy as np\n",
    "import pandas as pd\n",
    "from sklearn.model_selection import train_test_split\n",
    "from sklearn.tree import DecisionTreeClassifier\n",
    "from sklearn.metrics import precision_score, recall_score, roc_auc_score, roc_curve\n",
    "\n",
    "import matplotlib.pyplot as plt\n",
    "\n",
    "from sklearn.utils import resample"
   ]
  },
  {
   "cell_type": "markdown",
   "metadata": {},
   "source": [
    "### Set random seed to ensure reproducible runs"
   ]
  },
  {
   "cell_type": "code",
   "execution_count": 2,
   "metadata": {},
   "outputs": [],
   "source": [
    "RSEED = 50"
   ]
  },
  {
   "cell_type": "markdown",
   "metadata": {},
   "source": [
    "### Importing data and data cleaning"
   ]
  },
  {
   "cell_type": "code",
   "execution_count": 3,
   "metadata": {},
   "outputs": [
    {
     "data": {
      "text/plain": [
       "Index(['width_mean0', 'width_mean1', 'width_mean2', 'width_mean3',\n",
       "       'width_mean4', 'width_mean5', 'width_mean6', 'width_mean7',\n",
       "       'width_mean8', 'width_mean9', 'width_mean10', 'width_mean11',\n",
       "       'ELA_mean0', 'ELA_mean1', 'ELA_mean2', 'ELA_mean3', 'ELA_mean4',\n",
       "       'ELA_mean5', 'ELA_mean6', 'ELA_mean7', 'ELA_mean8', 'ELA_mean9',\n",
       "       'ELA_mean10', 'ELA_mean11', 'CMB_mean0', 'CMB_mean1', 'CMB_mean2',\n",
       "       'CMB_mean3', 'CMB_mean4', 'CMB_mean5', 'CMB_mean6', 'CMB_mean7',\n",
       "       'CMB_mean8', 'CMB_mean9', 'CMB_mean10', 'CMB_mean11', 'beta0', 'beta1',\n",
       "       'beta2', 'beta3', 'beta4', 'beta5', 'beta6', 'beta7', 'beta8', 'beta9',\n",
       "       'beta10', 'beta11', 'Z_min0', 'Z_min1', 'Z_min2', 'Z_min3', 'Z_min4',\n",
       "       'Z_min5', 'Z_min6', 'Z_min7', 'Z_min8', 'Z_min9', 'Z_min10', 'Z_min11',\n",
       "       'Z_max0', 'Z_max1', 'Z_max2', 'Z_max3', 'Z_max4', 'Z_max5', 'Z_max6',\n",
       "       'Z_max7', 'Z_max8', 'Z_max9', 'Z_max10', 'Z_max11', 'Z_mean0',\n",
       "       'Z_mean1', 'Z_mean2', 'Z_mean3', 'Z_mean4', 'Z_mean5', 'Z_mean6',\n",
       "       'Z_mean7', 'Z_mean8', 'Z_mean9', 'Z_mean10', 'Z_mean11'],\n",
       "      dtype='object')"
      ]
     },
     "execution_count": 3,
     "metadata": {},
     "output_type": "execute_result"
    }
   ],
   "source": [
    "df_main = pd.read_csv('/home/colili/Documents/PhD/project_john/DataFrame_produced/df_statmodel_main03.csv', index_col=0)\n",
    "df_main.columns[50:]"
   ]
  },
  {
   "cell_type": "code",
   "execution_count": 4,
   "metadata": {},
   "outputs": [
    {
     "data": {
      "text/plain": [
       "Index(['surge_reduced', 'thick_w0', 'thick_w1', 'thick_w2', 'thick_w3',\n",
       "       'thick_w4', 'thick_w5', 'thick_w6', 'thick_w7', 'thick_w8',\n",
       "       ...\n",
       "       'Z_mean2', 'Z_mean3', 'Z_mean4', 'Z_mean5', 'Z_mean6', 'Z_mean7',\n",
       "       'Z_mean8', 'Z_mean9', 'Z_mean10', 'Z_mean11'],\n",
       "      dtype='object', length=109)"
      ]
     },
     "execution_count": 4,
     "metadata": {},
     "output_type": "execute_result"
    }
   ],
   "source": [
    "df = df_main.drop(columns = ['Name', 'ELA_mean0', 'ELA_mean1', 'ELA_mean2', 'ELA_mean3', 'ELA_mean4',\n",
    "       'ELA_mean5', 'ELA_mean6', 'ELA_mean7', 'ELA_mean8', 'ELA_mean9',\n",
    "       'ELA_mean10', 'ELA_mean11', 'beta0', 'beta1',\n",
    "       'beta2', 'beta3', 'beta4', 'beta5', 'beta6', 'beta7', 'beta8', 'beta9',\n",
    "       'beta10', 'beta11',])\n",
    "df.fillna(0, inplace = True)\n",
    "df.columns"
   ]
  },
  {
   "cell_type": "code",
   "execution_count": 5,
   "metadata": {},
   "outputs": [
    {
     "name": "stdout",
     "output_type": "stream",
     "text": [
      "surge_reduced\n",
      "False    851\n",
      "Name: surge_reduced, dtype: int64\n",
      "\n",
      "thick_w0\n",
      "False    851\n",
      "Name: thick_w0, dtype: int64\n",
      "\n",
      "thick_w1\n",
      "False    851\n",
      "Name: thick_w1, dtype: int64\n",
      "\n",
      "thick_w2\n",
      "False    851\n",
      "Name: thick_w2, dtype: int64\n",
      "\n",
      "thick_w3\n",
      "False    851\n",
      "Name: thick_w3, dtype: int64\n",
      "\n",
      "thick_w4\n",
      "False    851\n",
      "Name: thick_w4, dtype: int64\n",
      "\n",
      "thick_w5\n",
      "False    851\n",
      "Name: thick_w5, dtype: int64\n",
      "\n",
      "thick_w6\n",
      "False    851\n",
      "Name: thick_w6, dtype: int64\n",
      "\n",
      "thick_w7\n",
      "False    851\n",
      "Name: thick_w7, dtype: int64\n",
      "\n",
      "thick_w8\n",
      "False    851\n",
      "Name: thick_w8, dtype: int64\n",
      "\n",
      "thick_w9\n",
      "False    851\n",
      "Name: thick_w9, dtype: int64\n",
      "\n",
      "thick_w10\n",
      "False    851\n",
      "Name: thick_w10, dtype: int64\n",
      "\n",
      "thick_w11\n",
      "False    851\n",
      "Name: thick_w11, dtype: int64\n",
      "\n",
      "windowlength_w0\n",
      "False    851\n",
      "Name: windowlength_w0, dtype: int64\n",
      "\n",
      "windowlength_w1\n",
      "False    851\n",
      "Name: windowlength_w1, dtype: int64\n",
      "\n",
      "windowlength_w2\n",
      "False    851\n",
      "Name: windowlength_w2, dtype: int64\n",
      "\n",
      "windowlength_w3\n",
      "False    851\n",
      "Name: windowlength_w3, dtype: int64\n",
      "\n",
      "windowlength_w4\n",
      "False    851\n",
      "Name: windowlength_w4, dtype: int64\n",
      "\n",
      "windowlength_w5\n",
      "False    851\n",
      "Name: windowlength_w5, dtype: int64\n",
      "\n",
      "windowlength_w6\n",
      "False    851\n",
      "Name: windowlength_w6, dtype: int64\n",
      "\n",
      "windowlength_w7\n",
      "False    851\n",
      "Name: windowlength_w7, dtype: int64\n",
      "\n",
      "windowlength_w8\n",
      "False    851\n",
      "Name: windowlength_w8, dtype: int64\n",
      "\n",
      "windowlength_w9\n",
      "False    851\n",
      "Name: windowlength_w9, dtype: int64\n",
      "\n",
      "windowlength_w10\n",
      "False    851\n",
      "Name: windowlength_w10, dtype: int64\n",
      "\n",
      "windowlength_w11\n",
      "False    851\n",
      "Name: windowlength_w11, dtype: int64\n",
      "\n",
      "bedslope_w0\n",
      "False    851\n",
      "Name: bedslope_w0, dtype: int64\n",
      "\n",
      "bedslope_w1\n",
      "False    851\n",
      "Name: bedslope_w1, dtype: int64\n",
      "\n",
      "bedslope_w2\n",
      "False    851\n",
      "Name: bedslope_w2, dtype: int64\n",
      "\n",
      "bedslope_w3\n",
      "False    851\n",
      "Name: bedslope_w3, dtype: int64\n",
      "\n",
      "bedslope_w4\n",
      "False    851\n",
      "Name: bedslope_w4, dtype: int64\n",
      "\n",
      "bedslope_w5\n",
      "False    851\n",
      "Name: bedslope_w5, dtype: int64\n",
      "\n",
      "bedslope_w6\n",
      "False    851\n",
      "Name: bedslope_w6, dtype: int64\n",
      "\n",
      "bedslope_w7\n",
      "False    851\n",
      "Name: bedslope_w7, dtype: int64\n",
      "\n",
      "bedslope_w8\n",
      "False    851\n",
      "Name: bedslope_w8, dtype: int64\n",
      "\n",
      "bedslope_w9\n",
      "False    851\n",
      "Name: bedslope_w9, dtype: int64\n",
      "\n",
      "bedslope_w10\n",
      "False    851\n",
      "Name: bedslope_w10, dtype: int64\n",
      "\n",
      "bedslope_w11\n",
      "False    851\n",
      "Name: bedslope_w11, dtype: int64\n",
      "\n",
      "surfslope_w0\n",
      "False    851\n",
      "Name: surfslope_w0, dtype: int64\n",
      "\n",
      "surfslope_w1\n",
      "False    851\n",
      "Name: surfslope_w1, dtype: int64\n",
      "\n",
      "surfslope_w2\n",
      "False    851\n",
      "Name: surfslope_w2, dtype: int64\n",
      "\n",
      "surfslope_w3\n",
      "False    851\n",
      "Name: surfslope_w3, dtype: int64\n",
      "\n",
      "surfslope_w4\n",
      "False    851\n",
      "Name: surfslope_w4, dtype: int64\n",
      "\n",
      "surfslope_w5\n",
      "False    851\n",
      "Name: surfslope_w5, dtype: int64\n",
      "\n",
      "surfslope_w6\n",
      "False    851\n",
      "Name: surfslope_w6, dtype: int64\n",
      "\n",
      "surfslope_w7\n",
      "False    851\n",
      "Name: surfslope_w7, dtype: int64\n",
      "\n",
      "surfslope_w8\n",
      "False    851\n",
      "Name: surfslope_w8, dtype: int64\n",
      "\n",
      "surfslope_w9\n",
      "False    851\n",
      "Name: surfslope_w9, dtype: int64\n",
      "\n",
      "surfslope_w10\n",
      "False    851\n",
      "Name: surfslope_w10, dtype: int64\n",
      "\n",
      "surfslope_w11\n",
      "False    851\n",
      "Name: surfslope_w11, dtype: int64\n",
      "\n",
      "width_mean0\n",
      "False    851\n",
      "Name: width_mean0, dtype: int64\n",
      "\n",
      "width_mean1\n",
      "False    851\n",
      "Name: width_mean1, dtype: int64\n",
      "\n",
      "width_mean2\n",
      "False    851\n",
      "Name: width_mean2, dtype: int64\n",
      "\n",
      "width_mean3\n",
      "False    851\n",
      "Name: width_mean3, dtype: int64\n",
      "\n",
      "width_mean4\n",
      "False    851\n",
      "Name: width_mean4, dtype: int64\n",
      "\n",
      "width_mean5\n",
      "False    851\n",
      "Name: width_mean5, dtype: int64\n",
      "\n",
      "width_mean6\n",
      "False    851\n",
      "Name: width_mean6, dtype: int64\n",
      "\n",
      "width_mean7\n",
      "False    851\n",
      "Name: width_mean7, dtype: int64\n",
      "\n",
      "width_mean8\n",
      "False    851\n",
      "Name: width_mean8, dtype: int64\n",
      "\n",
      "width_mean9\n",
      "False    851\n",
      "Name: width_mean9, dtype: int64\n",
      "\n",
      "width_mean10\n",
      "False    851\n",
      "Name: width_mean10, dtype: int64\n",
      "\n",
      "width_mean11\n",
      "False    851\n",
      "Name: width_mean11, dtype: int64\n",
      "\n",
      "CMB_mean0\n",
      "False    851\n",
      "Name: CMB_mean0, dtype: int64\n",
      "\n",
      "CMB_mean1\n",
      "False    851\n",
      "Name: CMB_mean1, dtype: int64\n",
      "\n",
      "CMB_mean2\n",
      "False    851\n",
      "Name: CMB_mean2, dtype: int64\n",
      "\n",
      "CMB_mean3\n",
      "False    851\n",
      "Name: CMB_mean3, dtype: int64\n",
      "\n",
      "CMB_mean4\n",
      "False    851\n",
      "Name: CMB_mean4, dtype: int64\n",
      "\n",
      "CMB_mean5\n",
      "False    851\n",
      "Name: CMB_mean5, dtype: int64\n",
      "\n",
      "CMB_mean6\n",
      "False    851\n",
      "Name: CMB_mean6, dtype: int64\n",
      "\n",
      "CMB_mean7\n",
      "False    851\n",
      "Name: CMB_mean7, dtype: int64\n",
      "\n",
      "CMB_mean8\n",
      "False    851\n",
      "Name: CMB_mean8, dtype: int64\n",
      "\n",
      "CMB_mean9\n",
      "False    851\n",
      "Name: CMB_mean9, dtype: int64\n",
      "\n",
      "CMB_mean10\n",
      "False    851\n",
      "Name: CMB_mean10, dtype: int64\n",
      "\n",
      "CMB_mean11\n",
      "False    851\n",
      "Name: CMB_mean11, dtype: int64\n",
      "\n",
      "Z_min0\n",
      "False    851\n",
      "Name: Z_min0, dtype: int64\n",
      "\n",
      "Z_min1\n",
      "False    851\n",
      "Name: Z_min1, dtype: int64\n",
      "\n",
      "Z_min2\n",
      "False    851\n",
      "Name: Z_min2, dtype: int64\n",
      "\n",
      "Z_min3\n",
      "False    851\n",
      "Name: Z_min3, dtype: int64\n",
      "\n",
      "Z_min4\n",
      "False    851\n",
      "Name: Z_min4, dtype: int64\n",
      "\n",
      "Z_min5\n",
      "False    851\n",
      "Name: Z_min5, dtype: int64\n",
      "\n",
      "Z_min6\n",
      "False    851\n",
      "Name: Z_min6, dtype: int64\n",
      "\n",
      "Z_min7\n",
      "False    851\n",
      "Name: Z_min7, dtype: int64\n",
      "\n",
      "Z_min8\n",
      "False    851\n",
      "Name: Z_min8, dtype: int64\n",
      "\n",
      "Z_min9\n",
      "False    851\n",
      "Name: Z_min9, dtype: int64\n",
      "\n",
      "Z_min10\n",
      "False    851\n",
      "Name: Z_min10, dtype: int64\n",
      "\n",
      "Z_min11\n",
      "False    851\n",
      "Name: Z_min11, dtype: int64\n",
      "\n",
      "Z_max0\n",
      "False    851\n",
      "Name: Z_max0, dtype: int64\n",
      "\n",
      "Z_max1\n",
      "False    851\n",
      "Name: Z_max1, dtype: int64\n",
      "\n",
      "Z_max2\n",
      "False    851\n",
      "Name: Z_max2, dtype: int64\n",
      "\n",
      "Z_max3\n",
      "False    851\n",
      "Name: Z_max3, dtype: int64\n",
      "\n",
      "Z_max4\n",
      "False    851\n",
      "Name: Z_max4, dtype: int64\n",
      "\n",
      "Z_max5\n",
      "False    851\n",
      "Name: Z_max5, dtype: int64\n",
      "\n",
      "Z_max6\n",
      "False    851\n",
      "Name: Z_max6, dtype: int64\n",
      "\n",
      "Z_max7\n",
      "False    851\n",
      "Name: Z_max7, dtype: int64\n",
      "\n",
      "Z_max8\n",
      "False    851\n",
      "Name: Z_max8, dtype: int64\n",
      "\n",
      "Z_max9\n",
      "False    851\n",
      "Name: Z_max9, dtype: int64\n",
      "\n",
      "Z_max10\n",
      "False    851\n",
      "Name: Z_max10, dtype: int64\n",
      "\n",
      "Z_max11\n",
      "False    851\n",
      "Name: Z_max11, dtype: int64\n",
      "\n",
      "Z_mean0\n",
      "False    851\n",
      "Name: Z_mean0, dtype: int64\n",
      "\n",
      "Z_mean1\n",
      "False    851\n",
      "Name: Z_mean1, dtype: int64\n",
      "\n",
      "Z_mean2\n",
      "False    851\n",
      "Name: Z_mean2, dtype: int64\n",
      "\n",
      "Z_mean3\n",
      "False    851\n",
      "Name: Z_mean3, dtype: int64\n",
      "\n",
      "Z_mean4\n",
      "False    851\n",
      "Name: Z_mean4, dtype: int64\n",
      "\n",
      "Z_mean5\n",
      "False    851\n",
      "Name: Z_mean5, dtype: int64\n",
      "\n",
      "Z_mean6\n",
      "False    851\n",
      "Name: Z_mean6, dtype: int64\n",
      "\n",
      "Z_mean7\n",
      "False    851\n",
      "Name: Z_mean7, dtype: int64\n",
      "\n",
      "Z_mean8\n",
      "False    851\n",
      "Name: Z_mean8, dtype: int64\n",
      "\n",
      "Z_mean9\n",
      "False    851\n",
      "Name: Z_mean9, dtype: int64\n",
      "\n",
      "Z_mean10\n",
      "False    851\n",
      "Name: Z_mean10, dtype: int64\n",
      "\n",
      "Z_mean11\n",
      "False    851\n",
      "Name: Z_mean11, dtype: int64\n",
      "\n"
     ]
    }
   ],
   "source": [
    "missing_data = df.isna()\n",
    "for column in missing_data.columns.values.tolist():\n",
    "    print(column)\n",
    "    print(missing_data[column].value_counts())\n",
    "    print(\"\")"
   ]
  },
  {
   "cell_type": "code",
   "execution_count": 6,
   "metadata": {},
   "outputs": [
    {
     "data": {
      "text/plain": [
       "(851, 109)"
      ]
     },
     "execution_count": 6,
     "metadata": {},
     "output_type": "execute_result"
    }
   ],
   "source": [
    "df.shape"
   ]
  },
  {
   "cell_type": "code",
   "execution_count": 7,
   "metadata": {},
   "outputs": [
    {
     "data": {
      "text/html": [
       "<div>\n",
       "<style scoped>\n",
       "    .dataframe tbody tr th:only-of-type {\n",
       "        vertical-align: middle;\n",
       "    }\n",
       "\n",
       "    .dataframe tbody tr th {\n",
       "        vertical-align: top;\n",
       "    }\n",
       "\n",
       "    .dataframe thead th {\n",
       "        text-align: right;\n",
       "    }\n",
       "</style>\n",
       "<table border=\"1\" class=\"dataframe\">\n",
       "  <thead>\n",
       "    <tr style=\"text-align: right;\">\n",
       "      <th></th>\n",
       "      <th>thick_w0</th>\n",
       "      <th>thick_w1</th>\n",
       "      <th>thick_w2</th>\n",
       "      <th>thick_w3</th>\n",
       "      <th>thick_w4</th>\n",
       "      <th>thick_w5</th>\n",
       "      <th>thick_w6</th>\n",
       "      <th>thick_w7</th>\n",
       "      <th>thick_w8</th>\n",
       "      <th>thick_w9</th>\n",
       "      <th>...</th>\n",
       "      <th>Z_mean2</th>\n",
       "      <th>Z_mean3</th>\n",
       "      <th>Z_mean4</th>\n",
       "      <th>Z_mean5</th>\n",
       "      <th>Z_mean6</th>\n",
       "      <th>Z_mean7</th>\n",
       "      <th>Z_mean8</th>\n",
       "      <th>Z_mean9</th>\n",
       "      <th>Z_mean10</th>\n",
       "      <th>Z_mean11</th>\n",
       "    </tr>\n",
       "    <tr>\n",
       "      <th>surge_reduced</th>\n",
       "      <th></th>\n",
       "      <th></th>\n",
       "      <th></th>\n",
       "      <th></th>\n",
       "      <th></th>\n",
       "      <th></th>\n",
       "      <th></th>\n",
       "      <th></th>\n",
       "      <th></th>\n",
       "      <th></th>\n",
       "      <th></th>\n",
       "      <th></th>\n",
       "      <th></th>\n",
       "      <th></th>\n",
       "      <th></th>\n",
       "      <th></th>\n",
       "      <th></th>\n",
       "      <th></th>\n",
       "      <th></th>\n",
       "      <th></th>\n",
       "      <th></th>\n",
       "    </tr>\n",
       "  </thead>\n",
       "  <tbody>\n",
       "    <tr>\n",
       "      <th>0</th>\n",
       "      <td>751</td>\n",
       "      <td>751</td>\n",
       "      <td>751</td>\n",
       "      <td>751</td>\n",
       "      <td>751</td>\n",
       "      <td>751</td>\n",
       "      <td>751</td>\n",
       "      <td>751</td>\n",
       "      <td>751</td>\n",
       "      <td>751</td>\n",
       "      <td>...</td>\n",
       "      <td>751</td>\n",
       "      <td>751</td>\n",
       "      <td>751</td>\n",
       "      <td>751</td>\n",
       "      <td>751</td>\n",
       "      <td>751</td>\n",
       "      <td>751</td>\n",
       "      <td>751</td>\n",
       "      <td>751</td>\n",
       "      <td>751</td>\n",
       "    </tr>\n",
       "    <tr>\n",
       "      <th>1</th>\n",
       "      <td>100</td>\n",
       "      <td>100</td>\n",
       "      <td>100</td>\n",
       "      <td>100</td>\n",
       "      <td>100</td>\n",
       "      <td>100</td>\n",
       "      <td>100</td>\n",
       "      <td>100</td>\n",
       "      <td>100</td>\n",
       "      <td>100</td>\n",
       "      <td>...</td>\n",
       "      <td>100</td>\n",
       "      <td>100</td>\n",
       "      <td>100</td>\n",
       "      <td>100</td>\n",
       "      <td>100</td>\n",
       "      <td>100</td>\n",
       "      <td>100</td>\n",
       "      <td>100</td>\n",
       "      <td>100</td>\n",
       "      <td>100</td>\n",
       "    </tr>\n",
       "  </tbody>\n",
       "</table>\n",
       "<p>2 rows × 108 columns</p>\n",
       "</div>"
      ],
      "text/plain": [
       "               thick_w0  thick_w1  thick_w2  thick_w3  thick_w4  thick_w5  \\\n",
       "surge_reduced                                                               \n",
       "0                   751       751       751       751       751       751   \n",
       "1                   100       100       100       100       100       100   \n",
       "\n",
       "               thick_w6  thick_w7  thick_w8  thick_w9  ...  Z_mean2  Z_mean3  \\\n",
       "surge_reduced                                          ...                     \n",
       "0                   751       751       751       751  ...      751      751   \n",
       "1                   100       100       100       100  ...      100      100   \n",
       "\n",
       "               Z_mean4  Z_mean5  Z_mean6  Z_mean7  Z_mean8  Z_mean9  Z_mean10  \\\n",
       "surge_reduced                                                                   \n",
       "0                  751      751      751      751      751      751       751   \n",
       "1                  100      100      100      100      100      100       100   \n",
       "\n",
       "               Z_mean11  \n",
       "surge_reduced            \n",
       "0                   751  \n",
       "1                   100  \n",
       "\n",
       "[2 rows x 108 columns]"
      ]
     },
     "execution_count": 7,
     "metadata": {},
     "output_type": "execute_result"
    }
   ],
   "source": [
    "df.groupby('surge_reduced').count()"
   ]
  },
  {
   "cell_type": "code",
   "execution_count": 8,
   "metadata": {},
   "outputs": [
    {
     "data": {
      "text/plain": [
       "0    751\n",
       "1    100\n",
       "Name: label, dtype: int64"
      ]
     },
     "execution_count": 8,
     "metadata": {},
     "output_type": "execute_result"
    }
   ],
   "source": [
    "df = df.loc[df['surge_reduced'].isin([0, 1])].copy()\n",
    "df = df.rename(columns = {'surge_reduced': 'label'})\n",
    "df['label'].value_counts()"
   ]
  },
  {
   "cell_type": "code",
   "execution_count": 9,
   "metadata": {},
   "outputs": [
    {
     "data": {
      "text/plain": [
       "rgiid\n",
       "RGI60-07.00004    0\n",
       "RGI60-07.00006    0\n",
       "RGI60-07.00008    0\n",
       "RGI60-07.00010    0\n",
       "RGI60-07.00024    0\n",
       "                 ..\n",
       "RGI60-07.01562    0\n",
       "RGI60-07.01563    0\n",
       "RGI60-07.01564    1\n",
       "RGI60-07.01566    0\n",
       "RGI60-07.01567    1\n",
       "Name: label, Length: 851, dtype: int64"
      ]
     },
     "execution_count": 9,
     "metadata": {},
     "output_type": "execute_result"
    }
   ],
   "source": [
    "df['label']"
   ]
  },
  {
   "cell_type": "code",
   "execution_count": 10,
   "metadata": {},
   "outputs": [],
   "source": [
    "# Separate majority and minority classes\n",
    "df_majority = df[df['label']==0]\n",
    "df_minority = df[df['label']==1]\n",
    " \n",
    "# Downsample majority class\n",
    "df_majority_downsampled = resample(df_majority, \n",
    "                                 replace=False,    # sample without replacement\n",
    "                                 n_samples=100,     # to match minority class\n",
    "                                 random_state=RSEED) # reproducible results\n",
    " \n",
    "# Combine minority class with downsampled majority class\n",
    "df_downsampled = pd.concat([df_majority_downsampled, df_minority])\n",
    " \n",
    "# Display new class counts\n",
    "df_downsampled['label'].value_counts()\n",
    "df = df_downsampled"
   ]
  },
  {
   "cell_type": "code",
   "execution_count": 11,
   "metadata": {},
   "outputs": [
    {
     "data": {
      "text/plain": [
       "Index(['label', 'thick_w0', 'thick_w1', 'thick_w2', 'thick_w3', 'thick_w4',\n",
       "       'thick_w5', 'thick_w6', 'thick_w7', 'thick_w8',\n",
       "       ...\n",
       "       'Z_mean2', 'Z_mean3', 'Z_mean4', 'Z_mean5', 'Z_mean6', 'Z_mean7',\n",
       "       'Z_mean8', 'Z_mean9', 'Z_mean10', 'Z_mean11'],\n",
       "      dtype='object', length=109)"
      ]
     },
     "execution_count": 11,
     "metadata": {},
     "output_type": "execute_result"
    }
   ],
   "source": [
    "df.columns"
   ]
  },
  {
   "cell_type": "code",
   "execution_count": 12,
   "metadata": {},
   "outputs": [],
   "source": [
    "# Extract the labels\n",
    "labels = np.array(df.pop('label'))\n",
    "\n",
    "# 30% examples in test data\n",
    "train, test, train_labels, test_labels = train_test_split(df, labels, \n",
    "                                                          stratify = labels,\n",
    "                                                          test_size = 0.3, \n",
    "                                                          random_state = RSEED)"
   ]
  },
  {
   "cell_type": "code",
   "execution_count": 13,
   "metadata": {},
   "outputs": [
    {
     "data": {
      "text/plain": [
       "0.5"
      ]
     },
     "execution_count": 13,
     "metadata": {},
     "output_type": "execute_result"
    }
   ],
   "source": [
    "train_labels.sum()/train_labels.shape[0]"
   ]
  },
  {
   "cell_type": "code",
   "execution_count": 14,
   "metadata": {},
   "outputs": [
    {
     "data": {
      "text/plain": [
       "0.5"
      ]
     },
     "execution_count": 14,
     "metadata": {},
     "output_type": "execute_result"
    }
   ],
   "source": [
    "test_labels.sum()/test_labels.shape[0]"
   ]
  },
  {
   "cell_type": "code",
   "execution_count": 15,
   "metadata": {},
   "outputs": [
    {
     "data": {
      "text/plain": [
       "['thick_w0',\n",
       " 'thick_w1',\n",
       " 'thick_w2',\n",
       " 'thick_w3',\n",
       " 'thick_w4',\n",
       " 'thick_w5',\n",
       " 'thick_w6',\n",
       " 'thick_w7',\n",
       " 'thick_w8',\n",
       " 'thick_w9',\n",
       " 'thick_w10',\n",
       " 'thick_w11',\n",
       " 'windowlength_w0',\n",
       " 'windowlength_w1',\n",
       " 'windowlength_w2',\n",
       " 'windowlength_w3',\n",
       " 'windowlength_w4',\n",
       " 'windowlength_w5',\n",
       " 'windowlength_w6',\n",
       " 'windowlength_w7',\n",
       " 'windowlength_w8',\n",
       " 'windowlength_w9',\n",
       " 'windowlength_w10',\n",
       " 'windowlength_w11',\n",
       " 'bedslope_w0',\n",
       " 'bedslope_w1',\n",
       " 'bedslope_w2',\n",
       " 'bedslope_w3',\n",
       " 'bedslope_w4',\n",
       " 'bedslope_w5',\n",
       " 'bedslope_w6',\n",
       " 'bedslope_w7',\n",
       " 'bedslope_w8',\n",
       " 'bedslope_w9',\n",
       " 'bedslope_w10',\n",
       " 'bedslope_w11',\n",
       " 'surfslope_w0',\n",
       " 'surfslope_w1',\n",
       " 'surfslope_w2',\n",
       " 'surfslope_w3',\n",
       " 'surfslope_w4',\n",
       " 'surfslope_w5',\n",
       " 'surfslope_w6',\n",
       " 'surfslope_w7',\n",
       " 'surfslope_w8',\n",
       " 'surfslope_w9',\n",
       " 'surfslope_w10',\n",
       " 'surfslope_w11',\n",
       " 'width_mean0',\n",
       " 'width_mean1',\n",
       " 'width_mean2',\n",
       " 'width_mean3',\n",
       " 'width_mean4',\n",
       " 'width_mean5',\n",
       " 'width_mean6',\n",
       " 'width_mean7',\n",
       " 'width_mean8',\n",
       " 'width_mean9',\n",
       " 'width_mean10',\n",
       " 'width_mean11',\n",
       " 'CMB_mean0',\n",
       " 'CMB_mean1',\n",
       " 'CMB_mean2',\n",
       " 'CMB_mean3',\n",
       " 'CMB_mean4',\n",
       " 'CMB_mean5',\n",
       " 'CMB_mean6',\n",
       " 'CMB_mean7',\n",
       " 'CMB_mean8',\n",
       " 'CMB_mean9',\n",
       " 'CMB_mean10',\n",
       " 'CMB_mean11',\n",
       " 'Z_min0',\n",
       " 'Z_min1',\n",
       " 'Z_min2',\n",
       " 'Z_min3',\n",
       " 'Z_min4',\n",
       " 'Z_min5',\n",
       " 'Z_min6',\n",
       " 'Z_min7',\n",
       " 'Z_min8',\n",
       " 'Z_min9',\n",
       " 'Z_min10',\n",
       " 'Z_min11',\n",
       " 'Z_max0',\n",
       " 'Z_max1',\n",
       " 'Z_max2',\n",
       " 'Z_max3',\n",
       " 'Z_max4',\n",
       " 'Z_max5',\n",
       " 'Z_max6',\n",
       " 'Z_max7',\n",
       " 'Z_max8',\n",
       " 'Z_max9',\n",
       " 'Z_max10',\n",
       " 'Z_max11',\n",
       " 'Z_mean0',\n",
       " 'Z_mean1',\n",
       " 'Z_mean2',\n",
       " 'Z_mean3',\n",
       " 'Z_mean4',\n",
       " 'Z_mean5',\n",
       " 'Z_mean6',\n",
       " 'Z_mean7',\n",
       " 'Z_mean8',\n",
       " 'Z_mean9',\n",
       " 'Z_mean10',\n",
       " 'Z_mean11']"
      ]
     },
     "execution_count": 15,
     "metadata": {},
     "output_type": "execute_result"
    }
   ],
   "source": [
    "# Features for feature importances\n",
    "features = list(train.columns)\n",
    "features"
   ]
  },
  {
   "cell_type": "code",
   "execution_count": 16,
   "metadata": {},
   "outputs": [
    {
     "data": {
      "text/plain": [
       "(140, 108)"
      ]
     },
     "execution_count": 16,
     "metadata": {},
     "output_type": "execute_result"
    }
   ],
   "source": [
    "train.shape"
   ]
  },
  {
   "cell_type": "code",
   "execution_count": 17,
   "metadata": {},
   "outputs": [
    {
     "data": {
      "text/plain": [
       "(140,)"
      ]
     },
     "execution_count": 17,
     "metadata": {},
     "output_type": "execute_result"
    }
   ],
   "source": [
    "train_labels.shape"
   ]
  },
  {
   "cell_type": "code",
   "execution_count": 18,
   "metadata": {},
   "outputs": [
    {
     "data": {
      "text/plain": [
       "(60, 108)"
      ]
     },
     "execution_count": 18,
     "metadata": {},
     "output_type": "execute_result"
    }
   ],
   "source": [
    "test.shape"
   ]
  },
  {
   "cell_type": "markdown",
   "metadata": {},
   "source": [
    "### Evaluate the decision tree"
   ]
  },
  {
   "cell_type": "code",
   "execution_count": 19,
   "metadata": {},
   "outputs": [],
   "source": [
    "def evaluate_model(predictions, probs, train_predictions, train_probs):\n",
    "    \"\"\"Compare machine learning model to baseline performance.\n",
    "    Computes statistics and shows ROC curve.\"\"\"\n",
    "    \n",
    "    baseline = {}\n",
    "    \n",
    "    baseline['recall'] = recall_score(test_labels, [1 for _ in range(len(test_labels))])\n",
    "    baseline['precision'] = precision_score(test_labels, [1 for _ in range(len(test_labels))])\n",
    "    baseline['roc'] = 0.5\n",
    "    \n",
    "    results = {}\n",
    "    \n",
    "    results['recall'] = recall_score(test_labels, predictions)\n",
    "    results['precision'] = precision_score(test_labels, predictions)\n",
    "    results['roc'] = roc_auc_score(test_labels, probs)\n",
    "    \n",
    "    train_results = {}\n",
    "    train_results['recall'] = recall_score(train_labels, train_predictions)\n",
    "    train_results['precision'] = precision_score(train_labels, train_predictions)\n",
    "    train_results['roc'] = roc_auc_score(train_labels, train_probs)\n",
    "    \n",
    "    for metric in ['recall', 'precision', 'roc']:\n",
    "        print(f'{metric.capitalize()} Baseline: {round(baseline[metric], 2)} Test: {round(results[metric], 2)} Train: {round(train_results[metric], 2)}')\n",
    "    \n",
    "    # Calculate false positive rates and true positive rates\n",
    "    base_fpr, base_tpr, _ = roc_curve(test_labels, [1 for _ in range(len(test_labels))])\n",
    "    model_fpr, model_tpr, _ = roc_curve(test_labels, probs)\n",
    "\n",
    "    plt.figure(figsize = (8, 6))\n",
    "    plt.rcParams['font.size'] = 16\n",
    "    \n",
    "    # Plot both curves\n",
    "    plt.plot(base_fpr, base_tpr, 'b', label = 'baseline')\n",
    "    plt.plot(model_fpr, model_tpr, 'r', label = 'model')\n",
    "    plt.legend();\n",
    "    plt.xlabel('False Positive Rate'); plt.ylabel('True Positive Rate'); plt.title('ROC Curves');"
   ]
  },
  {
   "cell_type": "markdown",
   "metadata": {},
   "source": [
    "### Random forest"
   ]
  },
  {
   "cell_type": "code",
   "execution_count": 20,
   "metadata": {},
   "outputs": [
    {
     "data": {
      "text/plain": [
       "Index(['thick_w0', 'thick_w1', 'thick_w2', 'thick_w3', 'thick_w4', 'thick_w5',\n",
       "       'thick_w6', 'thick_w7', 'thick_w8', 'thick_w9',\n",
       "       ...\n",
       "       'Z_mean2', 'Z_mean3', 'Z_mean4', 'Z_mean5', 'Z_mean6', 'Z_mean7',\n",
       "       'Z_mean8', 'Z_mean9', 'Z_mean10', 'Z_mean11'],\n",
       "      dtype='object', length=108)"
      ]
     },
     "execution_count": 20,
     "metadata": {},
     "output_type": "execute_result"
    }
   ],
   "source": [
    "df.columns"
   ]
  },
  {
   "cell_type": "code",
   "execution_count": 21,
   "metadata": {},
   "outputs": [
    {
     "name": "stderr",
     "output_type": "stream",
     "text": [
      "[Parallel(n_jobs=-1)]: Using backend ThreadingBackend with 8 concurrent workers.\n",
      "[Parallel(n_jobs=-1)]: Done  34 tasks      | elapsed:    0.0s\n",
      "[Parallel(n_jobs=-1)]: Done 184 tasks      | elapsed:    0.2s\n",
      "[Parallel(n_jobs=-1)]: Done 434 tasks      | elapsed:    0.5s\n",
      "[Parallel(n_jobs=-1)]: Done 784 tasks      | elapsed:    0.9s\n",
      "[Parallel(n_jobs=-1)]: Done 1000 out of 1000 | elapsed:    1.1s finished\n"
     ]
    },
    {
     "data": {
      "text/plain": [
       "RandomForestClassifier(bootstrap=True, ccp_alpha=0.0, class_weight=None,\n",
       "                       criterion='gini', max_depth=2, max_features='sqrt',\n",
       "                       max_leaf_nodes=None, max_samples=None,\n",
       "                       min_impurity_decrease=0.0, min_impurity_split=None,\n",
       "                       min_samples_leaf=1, min_samples_split=2,\n",
       "                       min_weight_fraction_leaf=0.0, n_estimators=1000,\n",
       "                       n_jobs=-1, oob_score=False, random_state=50, verbose=1,\n",
       "                       warm_start=False)"
      ]
     },
     "execution_count": 21,
     "metadata": {},
     "output_type": "execute_result"
    }
   ],
   "source": [
    "from sklearn.ensemble import RandomForestClassifier\n",
    "\n",
    "# Create the model with 100 trees\n",
    "model = RandomForestClassifier(n_estimators=1000, \n",
    "                               random_state=RSEED, \n",
    "                               max_features = 'sqrt',\n",
    "                               max_depth = 2,\n",
    "                               n_jobs=-1, verbose = 1)\n",
    "\n",
    "# Fit on training data\n",
    "model.fit(train, train_labels)"
   ]
  },
  {
   "cell_type": "code",
   "execution_count": 22,
   "metadata": {},
   "outputs": [
    {
     "name": "stdout",
     "output_type": "stream",
     "text": [
      "Average number of nodes 6\n",
      "Average maximum depth 2\n"
     ]
    }
   ],
   "source": [
    "n_nodes = []\n",
    "max_depths = []\n",
    "\n",
    "for ind_tree in model.estimators_:\n",
    "    n_nodes.append(ind_tree.tree_.node_count)\n",
    "    max_depths.append(ind_tree.tree_.max_depth)\n",
    "    \n",
    "print(f'Average number of nodes {int(np.mean(n_nodes))}')\n",
    "print(f'Average maximum depth {int(np.mean(max_depths))}')"
   ]
  },
  {
   "cell_type": "code",
   "execution_count": 23,
   "metadata": {},
   "outputs": [
    {
     "name": "stderr",
     "output_type": "stream",
     "text": [
      "[Parallel(n_jobs=8)]: Using backend ThreadingBackend with 8 concurrent workers.\n",
      "[Parallel(n_jobs=8)]: Done  34 tasks      | elapsed:    0.0s\n",
      "[Parallel(n_jobs=8)]: Done 184 tasks      | elapsed:    0.0s\n",
      "[Parallel(n_jobs=8)]: Done 434 tasks      | elapsed:    0.1s\n",
      "[Parallel(n_jobs=8)]: Done 784 tasks      | elapsed:    0.2s\n",
      "[Parallel(n_jobs=8)]: Done 1000 out of 1000 | elapsed:    0.2s finished\n",
      "[Parallel(n_jobs=8)]: Using backend ThreadingBackend with 8 concurrent workers.\n",
      "[Parallel(n_jobs=8)]: Done  34 tasks      | elapsed:    0.0s\n",
      "[Parallel(n_jobs=8)]: Done 184 tasks      | elapsed:    0.0s\n",
      "[Parallel(n_jobs=8)]: Done 434 tasks      | elapsed:    0.1s\n",
      "[Parallel(n_jobs=8)]: Done 784 tasks      | elapsed:    0.2s\n",
      "[Parallel(n_jobs=8)]: Done 1000 out of 1000 | elapsed:    0.2s finished\n",
      "[Parallel(n_jobs=8)]: Using backend ThreadingBackend with 8 concurrent workers.\n",
      "[Parallel(n_jobs=8)]: Done  34 tasks      | elapsed:    0.0s\n",
      "[Parallel(n_jobs=8)]: Done 184 tasks      | elapsed:    0.0s\n",
      "[Parallel(n_jobs=8)]: Done 434 tasks      | elapsed:    0.0s\n",
      "[Parallel(n_jobs=8)]: Done 784 tasks      | elapsed:    0.1s\n",
      "[Parallel(n_jobs=8)]: Done 1000 out of 1000 | elapsed:    0.1s finished\n",
      "[Parallel(n_jobs=8)]: Using backend ThreadingBackend with 8 concurrent workers.\n",
      "[Parallel(n_jobs=8)]: Done  34 tasks      | elapsed:    0.0s\n",
      "[Parallel(n_jobs=8)]: Done 184 tasks      | elapsed:    0.0s\n",
      "[Parallel(n_jobs=8)]: Done 434 tasks      | elapsed:    0.0s\n",
      "[Parallel(n_jobs=8)]: Done 784 tasks      | elapsed:    0.1s\n",
      "[Parallel(n_jobs=8)]: Done 1000 out of 1000 | elapsed:    0.1s finished\n"
     ]
    }
   ],
   "source": [
    "train_rf_predictions = model.predict(train)\n",
    "train_rf_probs = model.predict_proba(train)[:, 1]\n",
    "\n",
    "rf_predictions = model.predict(test)\n",
    "rf_probs = model.predict_proba(test)[:, 1]"
   ]
  },
  {
   "cell_type": "code",
   "execution_count": 47,
   "metadata": {},
   "outputs": [],
   "source": [
    "pd.DataFrame({'true':test_labels, 'predictions':rf_predictions, 'probs':rf_probs}).to_csv('/home/colili/Documents/PhD/project_john/DataFrame_produced/df_compare_roc_rf_resample_window.csv')"
   ]
  },
  {
   "cell_type": "code",
   "execution_count": 25,
   "metadata": {},
   "outputs": [
    {
     "name": "stdout",
     "output_type": "stream",
     "text": [
      "Recall Baseline: 1.0 Test: 0.63 Train: 0.77\n",
      "Precision Baseline: 0.5 Test: 0.79 Train: 0.84\n",
      "Roc Baseline: 0.5 Test: 0.81 Train: 0.92\n"
     ]
    },
    {
     "data": {
      "image/png": "[encoded data removed]",
      "text/plain": [
       "<Figure size 576x432 with 1 Axes>"
      ]
     },
     "metadata": {
      "needs_background": "light"
     },
     "output_type": "display_data"
    }
   ],
   "source": [
    "evaluate_model(rf_predictions, rf_probs, train_rf_predictions, train_rf_probs)"
   ]
  },
  {
   "cell_type": "code",
   "execution_count": 26,
   "metadata": {},
   "outputs": [],
   "source": [
    "from sklearn.metrics import confusion_matrix\n",
    "import itertools\n",
    "\n",
    "def plot_confusion_matrix(cm, classes,\n",
    "                          normalize=False,\n",
    "                          title='Confusion matrix',\n",
    "                          cmap=plt.cm.Oranges):\n",
    "    \"\"\"\n",
    "    This function prints and plots the confusion matrix.\n",
    "    Normalization can be applied by setting `normalize=True`.\n",
    "    Source: http://scikit-learn.org/stable/auto_examples/model_selection/plot_confusion_matrix.html\n",
    "    \"\"\"\n",
    "    if normalize:\n",
    "        cm = cm.astype('float') / cm.sum(axis=1)[:, np.newaxis]\n",
    "        print(\"Normalized confusion matrix\")\n",
    "    else:\n",
    "        print('Confusion matrix, without normalization')\n",
    "\n",
    "    print(cm)\n",
    "\n",
    "    plt.figure(figsize = (10, 10))\n",
    "    plt.imshow(cm, interpolation='nearest', cmap=cmap)\n",
    "    plt.title(title, size = 24)\n",
    "    plt.colorbar(aspect=4)\n",
    "    tick_marks = np.arange(len(classes))\n",
    "    plt.xticks(tick_marks, classes, rotation=45, size = 14)\n",
    "    plt.yticks(tick_marks, classes, size = 14)\n",
    "\n",
    "    fmt = '.2f' if normalize else 'd'\n",
    "    thresh = cm.max() / 2.\n",
    "    \n",
    "    # Labeling the plot\n",
    "    for i, j in itertools.product(range(cm.shape[0]), range(cm.shape[1])):\n",
    "        plt.text(j, i, format(cm[i, j], fmt), fontsize = 20,\n",
    "                 horizontalalignment=\"center\",\n",
    "                 color=\"white\" if cm[i, j] > thresh else \"black\")\n",
    "        \n",
    "    plt.grid(None)\n",
    "    plt.tight_layout()\n",
    "    plt.ylabel('True label', size = 18)\n",
    "    plt.xlabel('Predicted label', size = 18)"
   ]
  },
  {
   "cell_type": "code",
   "execution_count": 49,
   "metadata": {},
   "outputs": [
    {
     "name": "stdout",
     "output_type": "stream",
     "text": [
      "Confusion matrix, without normalization\n",
      "[[25  5]\n",
      " [11 19]]\n"
     ]
    },
    {
     "data": {
      "image/png": "[encoded data removed]",
      "text/plain": [
       "<Figure size 720x720 with 2 Axes>"
      ]
     },
     "metadata": {
      "needs_background": "light"
     },
     "output_type": "display_data"
    }
   ],
   "source": [
    "cm_rf = confusion_matrix(test_labels, rf_predictions)\n",
    "plot_confusion_matrix(cm_rf, classes = ['Surge', 'Non-surge'],\n",
    "                      title = 'Confusion Matrix RF', cmap='Purples')"
   ]
  },
  {
   "cell_type": "code",
   "execution_count": 28,
   "metadata": {},
   "outputs": [
    {
     "name": "stdout",
     "output_type": "stream",
     "text": [
      "Average precision-recall score: 0.68\n"
     ]
    }
   ],
   "source": [
    "from sklearn.metrics import average_precision_score\n",
    "average_precision_rf = average_precision_score(test_labels, rf_predictions)\n",
    "\n",
    "print('Average precision-recall score: {0:0.2f}'.format(\n",
    "      average_precision_rf))"
   ]
  },
  {
   "cell_type": "code",
   "execution_count": 29,
   "metadata": {},
   "outputs": [
    {
     "name": "stderr",
     "output_type": "stream",
     "text": [
      "[Parallel(n_jobs=8)]: Using backend ThreadingBackend with 8 concurrent workers.\n",
      "[Parallel(n_jobs=8)]: Done  34 tasks      | elapsed:    0.0s\n",
      "[Parallel(n_jobs=8)]: Done 184 tasks      | elapsed:    0.0s\n",
      "[Parallel(n_jobs=8)]: Done 434 tasks      | elapsed:    0.1s\n",
      "[Parallel(n_jobs=8)]: Done 784 tasks      | elapsed:    0.1s\n",
      "[Parallel(n_jobs=8)]: Done 1000 out of 1000 | elapsed:    0.2s finished\n"
     ]
    },
    {
     "data": {
      "text/plain": [
       "Text(0.5, 1.0, '2-class Precision-Recall curve RF: AP=0.68')"
      ]
     },
     "execution_count": 29,
     "metadata": {},
     "output_type": "execute_result"
    },
    {
     "data": {
      "image/png": "[encoded data removed]",
      "text/plain": [
       "<Figure size 432x288 with 1 Axes>"
      ]
     },
     "metadata": {
      "needs_background": "light"
     },
     "output_type": "display_data"
    }
   ],
   "source": [
    "from sklearn.metrics import precision_recall_curve\n",
    "from sklearn.metrics import plot_precision_recall_curve\n",
    "import matplotlib.pyplot as plt\n",
    "\n",
    "disp_rf = plot_precision_recall_curve(model, test, test_labels)\n",
    "disp_rf.ax_.set_title('2-class Precision-Recall curve RF: '\n",
    "                   'AP={0:0.2f}'.format(average_precision_rf))"
   ]
  },
  {
   "cell_type": "markdown",
   "metadata": {},
   "source": [
    "# Gradient boosting"
   ]
  },
  {
   "cell_type": "code",
   "execution_count": 30,
   "metadata": {},
   "outputs": [],
   "source": [
    "import xgboost\n",
    "import sklearn.metrics as metrics\n",
    "from sklearn.model_selection import train_test_split"
   ]
  },
  {
   "cell_type": "code",
   "execution_count": 31,
   "metadata": {},
   "outputs": [],
   "source": [
    "dmatrix_train = xgboost.DMatrix(train, label=train_labels)\n",
    "dmatrix_test = xgboost.DMatrix(test, label=test_labels)"
   ]
  },
  {
   "cell_type": "code",
   "execution_count": 32,
   "metadata": {},
   "outputs": [
    {
     "name": "stdout",
     "output_type": "stream",
     "text": [
      "[16:01:51] WARNING: ../src/learner.cc:541: \n",
      "Parameters: { num_boost_round } might not be used.\n",
      "\n",
      "  This may not be accurate due to some parameters are only used in language bindings but\n",
      "  passed down to XGBoost core.  Or some parameters are not used but slip through this\n",
      "  verification. Please open an issue if you find above cases.\n",
      "\n",
      "\n"
     ]
    }
   ],
   "source": [
    "params = {'objective':'reg:logistic', 'num_boost_round':20000, 'max_depth':1, 'scale_pos_weight':0.3}\n",
    "\n",
    "xgb = xgboost.train(params, dmatrix_train, num_boost_round=20000)"
   ]
  },
  {
   "cell_type": "code",
   "execution_count": 33,
   "metadata": {},
   "outputs": [],
   "source": [
    "predictions_xgboost = xgb.predict(dmatrix_test)\n",
    "pd.DataFrame({'true':test_labels, 'predictions':predictions_xgboost})\n",
    "pd.DataFrame({'true':test_labels, 'predictions':predictions_xgboost}).to_csv('/home/colili/Documents/PhD/project_john/DataFrame_produced/df_compare_roc_xgboost_resample_window.csv')"
   ]
  },
  {
   "cell_type": "code",
   "execution_count": 34,
   "metadata": {},
   "outputs": [
    {
     "data": {
      "text/plain": [
       "Text(0.6, 0.0, 'AUC = 0.74')"
      ]
     },
     "execution_count": 34,
     "metadata": {},
     "output_type": "execute_result"
    },
    {
     "data": {
      "image/png": "[encoded data removed]",
      "text/plain": [
       "<Figure size 648x576 with 1 Axes>"
      ]
     },
     "metadata": {
      "needs_background": "light"
     },
     "output_type": "display_data"
    }
   ],
   "source": [
    "fpr, tpr, t = metrics.roc_curve(y_true=test_labels, y_score=predictions_xgboost)\n",
    "\n",
    "fig, ax = plt.subplots(figsize=(9, 8))\n",
    "\n",
    "ax.plot(fpr, tpr)\n",
    "ax.plot([0, 1], [0, 1])\n",
    "\n",
    "ax.set_ylabel('True Positive Rate', fontsize=15)\n",
    "ax.set_xlabel('False Positive Rate', fontsize=15)\n",
    "ax.set_title('ROC XgBoost', fontsize=15)\n",
    "ax.text(\n",
    "s = 'AUC = ' + str(round(metrics.roc_auc_score(y_true=test_labels, y_score=predictions_xgboost),2))\n",
    "    , x=0.6, y=0.0, fontsize=15\n",
    ")"
   ]
  },
  {
   "cell_type": "code",
   "execution_count": 35,
   "metadata": {},
   "outputs": [
    {
     "data": {
      "text/plain": [
       "<matplotlib.axes._subplots.AxesSubplot at 0x7faf085d2df0>"
      ]
     },
     "execution_count": 35,
     "metadata": {},
     "output_type": "execute_result"
    },
    {
     "data": {
      "image/png": "[encoded data removed]",
      "text/plain": [
       "<Figure size 360x360 with 1 Axes>"
      ]
     },
     "metadata": {
      "needs_background": "light"
     },
     "output_type": "display_data"
    }
   ],
   "source": [
    "fig, ax = plt.subplots(figsize=(5, 5))\n",
    "xgboost.plot_importance(xgb, ax=ax)"
   ]
  },
  {
   "cell_type": "code",
   "execution_count": 36,
   "metadata": {},
   "outputs": [
    {
     "name": "stdout",
     "output_type": "stream",
     "text": [
      "Average precision-recall score: 0.74\n"
     ]
    }
   ],
   "source": [
    "average_precision_xgboost = average_precision_score(test_labels, predictions_xgboost)\n",
    "\n",
    "print('Average precision-recall score: {0:0.2f}'.format(\n",
    "      average_precision_xgboost))"
   ]
  },
  {
   "cell_type": "code",
   "execution_count": 37,
   "metadata": {},
   "outputs": [
    {
     "data": {
      "text/plain": [
       "dtype('int64')"
      ]
     },
     "execution_count": 37,
     "metadata": {},
     "output_type": "execute_result"
    }
   ],
   "source": [
    "test_labels.dtype"
   ]
  },
  {
   "cell_type": "code",
   "execution_count": 50,
   "metadata": {},
   "outputs": [
    {
     "name": "stdout",
     "output_type": "stream",
     "text": [
      "Confusion matrix, without normalization\n",
      "[[23  7]\n",
      " [12 18]]\n"
     ]
    },
    {
     "data": {
      "image/png": "[encoded data removed]",
      "text/plain": [
       "<Figure size 720x720 with 2 Axes>"
      ]
     },
     "metadata": {
      "needs_background": "light"
     },
     "output_type": "display_data"
    }
   ],
   "source": [
    "# confusion_matrix(test_labels, predictions.round())\n",
    "cm_xgboost = confusion_matrix(test_labels, predictions_xgboost.round())\n",
    "plot_confusion_matrix(cm_xgboost, classes = ['Surge', 'Non-surge'],\n",
    "                      title = 'Confusion Matrix XgBoost', cmap='Blues')"
   ]
  },
  {
   "cell_type": "markdown",
   "metadata": {},
   "source": [
    "Theory: https://towardsdatascience.com/introduction-to-logistic-regression-66248243c148\n",
    "\n",
    "Example: https://towardsdatascience.com/building-a-logistic-regression-in-python-step-by-step-becd4d56c9c8"
   ]
  },
  {
   "cell_type": "markdown",
   "metadata": {},
   "source": [
    "# Logistic regression"
   ]
  },
  {
   "cell_type": "code",
   "execution_count": 39,
   "metadata": {},
   "outputs": [],
   "source": [
    "from sklearn.linear_model import LogisticRegression"
   ]
  },
  {
   "cell_type": "code",
   "execution_count": 40,
   "metadata": {},
   "outputs": [
    {
     "name": "stderr",
     "output_type": "stream",
     "text": [
      "/usr/lib64/python3.8/site-packages/sklearn/linear_model/_logistic.py:938: ConvergenceWarning: lbfgs failed to converge (status=1):\n",
      "STOP: TOTAL NO. of ITERATIONS REACHED LIMIT.\n",
      "\n",
      "Increase the number of iterations (max_iter) or scale the data as shown in:\n",
      "    https://scikit-learn.org/stable/modules/preprocessing.html\n",
      "Please also refer to the documentation for alternative solver options:\n",
      "    https://scikit-learn.org/stable/modules/linear_model.html#logistic-regression\n",
      "  n_iter_i = _check_optimize_result(\n"
     ]
    },
    {
     "data": {
      "text/plain": [
       "LogisticRegression(C=1.0, class_weight=None, dual=False, fit_intercept=True,\n",
       "                   intercept_scaling=1, l1_ratio=None, max_iter=100,\n",
       "                   multi_class='auto', n_jobs=None, penalty='l2',\n",
       "                   random_state=None, solver='lbfgs', tol=0.0001, verbose=0,\n",
       "                   warm_start=False)"
      ]
     },
     "execution_count": 40,
     "metadata": {},
     "output_type": "execute_result"
    }
   ],
   "source": [
    "logreg = LogisticRegression()\n",
    "logreg.fit(train, train_labels)"
   ]
  },
  {
   "cell_type": "code",
   "execution_count": 41,
   "metadata": {},
   "outputs": [
    {
     "name": "stdout",
     "output_type": "stream",
     "text": [
      "Accuracy of logistic regression classifier on test set: 0.70\n"
     ]
    }
   ],
   "source": [
    "predictions_LR = logreg.predict(test)\n",
    "probs_LR = logreg.predict_proba(test)[:,1]\n",
    "print('Accuracy of logistic regression classifier on test set: {:.2f}'.format(logreg.score(test, test_labels)))"
   ]
  },
  {
   "cell_type": "code",
   "execution_count": 48,
   "metadata": {},
   "outputs": [],
   "source": [
    "pd.DataFrame({'true':test_labels, 'predictions':predictions_LR, 'probs':probs_LR}).to_csv('/home/colili/Documents/PhD/project_john/DataFrame_produced/df_compare_roc_LR_resample_window.csv')"
   ]
  },
  {
   "cell_type": "code",
   "execution_count": 43,
   "metadata": {},
   "outputs": [
    {
     "data": {
      "image/png": "[encoded data removed]",
      "text/plain": [
       "<Figure size 648x576 with 1 Axes>"
      ]
     },
     "metadata": {
      "needs_background": "light"
     },
     "output_type": "display_data"
    }
   ],
   "source": [
    "logit_roc_auc = roc_auc_score(test_labels, logreg.predict(test))\n",
    "fpr, tpr, thresholds = roc_curve(test_labels, logreg.predict_proba(test)[:,1])\n",
    "plt.figure(figsize=(9, 8))\n",
    "plt.plot(fpr, tpr, label='AUC = %0.2f' % logit_roc_auc)\n",
    "plt.plot([0, 1], [0, 1])\n",
    "plt.xlim([0.0, 1.0])\n",
    "plt.ylim([0.0, 1.05])\n",
    "plt.xlabel('False Positive Rate')\n",
    "plt.ylabel('True Positive Rate')\n",
    "plt.title('ROC Logistic regression')\n",
    "plt.legend(loc=\"lower right\")\n",
    "# plt.savefig('Log_ROC')\n",
    "plt.show()"
   ]
  },
  {
   "cell_type": "code",
   "execution_count": 51,
   "metadata": {},
   "outputs": [
    {
     "name": "stdout",
     "output_type": "stream",
     "text": [
      "<function confusion_matrix at 0x7faf0e1921f0>\n",
      "Confusion matrix, without normalization\n",
      "[[21  9]\n",
      " [ 9 21]]\n"
     ]
    },
    {
     "data": {
      "image/png": "[encoded data removed]",
      "text/plain": [
       "<Figure size 720x720 with 2 Axes>"
      ]
     },
     "metadata": {
      "needs_background": "light"
     },
     "output_type": "display_data"
    }
   ],
   "source": [
    "from sklearn.metrics import confusion_matrix\n",
    "cm_LR = confusion_matrix(test_labels, predictions_LR)\n",
    "print(confusion_matrix)\n",
    "plot_confusion_matrix(cm_LR, classes = ['Surge', 'Non-surge'],\n",
    "                      title = 'Confusion Matrix Logistic Regression', cmap='Greens')"
   ]
  },
  {
   "cell_type": "code",
   "execution_count": 45,
   "metadata": {},
   "outputs": [
    {
     "name": "stdout",
     "output_type": "stream",
     "text": [
      "Average precision-recall score: 0.64\n"
     ]
    }
   ],
   "source": [
    "average_precision_LR = average_precision_score(test_labels, predictions_LR)\n",
    "\n",
    "print('Average precision-recall score: {0:0.2f}'.format(\n",
    "      average_precision_LR))"
   ]
  },
  {
   "cell_type": "code",
   "execution_count": 46,
   "metadata": {},
   "outputs": [
    {
     "data": {
      "text/plain": [
       "Text(0.5, 1.0, '2-class Precision-Recall curve RF: AP=0.64')"
      ]
     },
     "execution_count": 46,
     "metadata": {},
     "output_type": "execute_result"
    },
    {
     "data": {
      "image/png": "[encoded data removed]",
      "text/plain": [
       "<Figure size 432x288 with 1 Axes>"
      ]
     },
     "metadata": {
      "needs_background": "light"
     },
     "output_type": "display_data"
    }
   ],
   "source": [
    "disp_lr = plot_precision_recall_curve(logreg, test, test_labels)\n",
    "disp_lr.ax_.set_title('2-class Precision-Recall curve RF: '\n",
    "                   'AP={0:0.2f}'.format(average_precision_LR))"
   ]
  }
 ],
 "metadata": {
  "kernelspec": {
   "display_name": "Python 3",
   "language": "python",
   "name": "python3"
  },
  "language_info": {
   "codemirror_mode": {
    "name": "ipython",
    "version": 3
   },
   "file_extension": ".py",
   "mimetype": "text/x-python",
   "name": "python",
   "nbconvert_exporter": "python",
   "pygments_lexer": "ipython3",
   "version": "3.8.6"
  }
 },
 "nbformat": 4,
 "nbformat_minor": 4
}
