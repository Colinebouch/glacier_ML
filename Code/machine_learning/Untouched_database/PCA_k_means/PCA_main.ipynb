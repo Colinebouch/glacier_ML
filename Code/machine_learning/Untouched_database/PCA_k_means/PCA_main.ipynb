{
 "cells": [
  {
   "cell_type": "markdown",
   "metadata": {},
   "source": [
    "PCA example code: https://towardsdatascience.com/pca-using-python-scikit-learn-e653f8989e60"
   ]
  },
  {
   "cell_type": "markdown",
   "metadata": {},
   "source": [
    "# PCA on the dataset"
   ]
  },
  {
   "cell_type": "code",
   "execution_count": 36,
   "metadata": {},
   "outputs": [],
   "source": [
    "import xarray as xr\n",
    "import numpy as np\n",
    "import scipy.interpolate as interp\n",
    "import pandas as pd\n",
    "from sklearn.preprocessing import StandardScaler\n",
    "from sklearn.decomposition import PCA\n",
    "\n",
    "import numpy as np\n",
    "import scipy.stats as stats\n",
    "\n",
    "import matplotlib.pyplot as plt\n"
   ]
  },
  {
   "cell_type": "markdown",
   "metadata": {},
   "source": [
    "### Importing the dataset"
   ]
  },
  {
   "cell_type": "code",
   "execution_count": 96,
   "metadata": {},
   "outputs": [
    {
     "data": {
      "text/html": [
       "<div>\n",
       "<style scoped>\n",
       "    .dataframe tbody tr th:only-of-type {\n",
       "        vertical-align: middle;\n",
       "    }\n",
       "\n",
       "    .dataframe tbody tr th {\n",
       "        vertical-align: top;\n",
       "    }\n",
       "\n",
       "    .dataframe thead th {\n",
       "        text-align: right;\n",
       "    }\n",
       "</style>\n",
       "<table border=\"1\" class=\"dataframe\">\n",
       "  <thead>\n",
       "    <tr style=\"text-align: right;\">\n",
       "      <th></th>\n",
       "      <th>rgiid</th>\n",
       "      <th>x</th>\n",
       "      <th>y</th>\n",
       "      <th>Slope</th>\n",
       "      <th>Name</th>\n",
       "      <th>bed</th>\n",
       "      <th>thickness</th>\n",
       "      <th>surface_elevation</th>\n",
       "      <th>ELA</th>\n",
       "      <th>beta</th>\n",
       "      <th>cmb</th>\n",
       "      <th>width_centerline</th>\n",
       "    </tr>\n",
       "    <tr>\n",
       "      <th>Surge</th>\n",
       "      <th></th>\n",
       "      <th></th>\n",
       "      <th></th>\n",
       "      <th></th>\n",
       "      <th></th>\n",
       "      <th></th>\n",
       "      <th></th>\n",
       "      <th></th>\n",
       "      <th></th>\n",
       "      <th></th>\n",
       "      <th></th>\n",
       "      <th></th>\n",
       "    </tr>\n",
       "  </thead>\n",
       "  <tbody>\n",
       "    <tr>\n",
       "      <th>0</th>\n",
       "      <td>104245</td>\n",
       "      <td>104245</td>\n",
       "      <td>104245</td>\n",
       "      <td>104245</td>\n",
       "      <td>60242</td>\n",
       "      <td>99044</td>\n",
       "      <td>99044</td>\n",
       "      <td>99044</td>\n",
       "      <td>104079</td>\n",
       "      <td>104079</td>\n",
       "      <td>104079</td>\n",
       "      <td>104097</td>\n",
       "    </tr>\n",
       "    <tr>\n",
       "      <th>1</th>\n",
       "      <td>10953</td>\n",
       "      <td>10953</td>\n",
       "      <td>10953</td>\n",
       "      <td>10953</td>\n",
       "      <td>10876</td>\n",
       "      <td>10612</td>\n",
       "      <td>10612</td>\n",
       "      <td>10612</td>\n",
       "      <td>10953</td>\n",
       "      <td>10953</td>\n",
       "      <td>10953</td>\n",
       "      <td>10953</td>\n",
       "    </tr>\n",
       "    <tr>\n",
       "      <th>2</th>\n",
       "      <td>4361</td>\n",
       "      <td>4361</td>\n",
       "      <td>4361</td>\n",
       "      <td>4361</td>\n",
       "      <td>4361</td>\n",
       "      <td>4249</td>\n",
       "      <td>4249</td>\n",
       "      <td>4249</td>\n",
       "      <td>4361</td>\n",
       "      <td>4361</td>\n",
       "      <td>4361</td>\n",
       "      <td>4361</td>\n",
       "    </tr>\n",
       "    <tr>\n",
       "      <th>3</th>\n",
       "      <td>11431</td>\n",
       "      <td>11431</td>\n",
       "      <td>11431</td>\n",
       "      <td>11431</td>\n",
       "      <td>11350</td>\n",
       "      <td>11082</td>\n",
       "      <td>11082</td>\n",
       "      <td>11082</td>\n",
       "      <td>11421</td>\n",
       "      <td>11421</td>\n",
       "      <td>11421</td>\n",
       "      <td>11429</td>\n",
       "    </tr>\n",
       "    <tr>\n",
       "      <th>9</th>\n",
       "      <td>3815</td>\n",
       "      <td>3815</td>\n",
       "      <td>3815</td>\n",
       "      <td>3815</td>\n",
       "      <td>3815</td>\n",
       "      <td>0</td>\n",
       "      <td>0</td>\n",
       "      <td>0</td>\n",
       "      <td>0</td>\n",
       "      <td>0</td>\n",
       "      <td>0</td>\n",
       "      <td>3795</td>\n",
       "    </tr>\n",
       "  </tbody>\n",
       "</table>\n",
       "</div>"
      ],
      "text/plain": [
       "        rgiid       x       y   Slope   Name    bed  thickness  \\\n",
       "Surge                                                            \n",
       "0      104245  104245  104245  104245  60242  99044      99044   \n",
       "1       10953   10953   10953   10953  10876  10612      10612   \n",
       "2        4361    4361    4361    4361   4361   4249       4249   \n",
       "3       11431   11431   11431   11431  11350  11082      11082   \n",
       "9        3815    3815    3815    3815   3815      0          0   \n",
       "\n",
       "       surface_elevation     ELA    beta     cmb  width_centerline  \n",
       "Surge                                                               \n",
       "0                  99044  104079  104079  104079            104097  \n",
       "1                  10612   10953   10953   10953             10953  \n",
       "2                   4249    4361    4361    4361              4361  \n",
       "3                  11082   11421   11421   11421             11429  \n",
       "9                      0       0       0       0              3795  "
      ]
     },
     "execution_count": 96,
     "metadata": {},
     "output_type": "execute_result"
    }
   ],
   "source": [
    "df_main = pd.read_csv('/home/colili/Documents/PhD/project_john/DataFrame_produced/df_main.csv', index_col=0)\n",
    "df_main.groupby('Surge').count()"
   ]
  },
  {
   "cell_type": "code",
   "execution_count": 144,
   "metadata": {},
   "outputs": [
    {
     "data": {
      "text/html": [
       "<div>\n",
       "<style scoped>\n",
       "    .dataframe tbody tr th:only-of-type {\n",
       "        vertical-align: middle;\n",
       "    }\n",
       "\n",
       "    .dataframe tbody tr th {\n",
       "        vertical-align: top;\n",
       "    }\n",
       "\n",
       "    .dataframe thead th {\n",
       "        text-align: right;\n",
       "    }\n",
       "</style>\n",
       "<table border=\"1\" class=\"dataframe\">\n",
       "  <thead>\n",
       "    <tr style=\"text-align: right;\">\n",
       "      <th></th>\n",
       "      <th>x</th>\n",
       "      <th>y</th>\n",
       "      <th>Surge</th>\n",
       "      <th>Slope</th>\n",
       "      <th>bed</th>\n",
       "      <th>thickness</th>\n",
       "      <th>surface_elevation</th>\n",
       "      <th>ELA</th>\n",
       "      <th>beta</th>\n",
       "      <th>cmb</th>\n",
       "      <th>width_centerline</th>\n",
       "    </tr>\n",
       "  </thead>\n",
       "  <tbody>\n",
       "    <tr>\n",
       "      <th>x</th>\n",
       "      <td>1.000000</td>\n",
       "      <td>-0.149144</td>\n",
       "      <td>0.135795</td>\n",
       "      <td>-0.474290</td>\n",
       "      <td>-0.249954</td>\n",
       "      <td>0.376819</td>\n",
       "      <td>-0.139235</td>\n",
       "      <td>-0.382967</td>\n",
       "      <td>-0.270208</td>\n",
       "      <td>-0.270208</td>\n",
       "      <td>0.324672</td>\n",
       "    </tr>\n",
       "    <tr>\n",
       "      <th>y</th>\n",
       "      <td>-0.149144</td>\n",
       "      <td>1.000000</td>\n",
       "      <td>-0.138088</td>\n",
       "      <td>0.015916</td>\n",
       "      <td>0.067223</td>\n",
       "      <td>0.182079</td>\n",
       "      <td>0.135797</td>\n",
       "      <td>0.101428</td>\n",
       "      <td>-0.334081</td>\n",
       "      <td>-0.334081</td>\n",
       "      <td>0.170020</td>\n",
       "    </tr>\n",
       "    <tr>\n",
       "      <th>Surge</th>\n",
       "      <td>0.135795</td>\n",
       "      <td>-0.138088</td>\n",
       "      <td>1.000000</td>\n",
       "      <td>-0.299665</td>\n",
       "      <td>-0.198208</td>\n",
       "      <td>0.287949</td>\n",
       "      <td>-0.114179</td>\n",
       "      <td>-0.097796</td>\n",
       "      <td>-0.027109</td>\n",
       "      <td>-0.027109</td>\n",
       "      <td>0.232376</td>\n",
       "    </tr>\n",
       "    <tr>\n",
       "      <th>Slope</th>\n",
       "      <td>-0.474290</td>\n",
       "      <td>0.015916</td>\n",
       "      <td>-0.299665</td>\n",
       "      <td>1.000000</td>\n",
       "      <td>0.353604</td>\n",
       "      <td>-0.533973</td>\n",
       "      <td>0.196661</td>\n",
       "      <td>0.211976</td>\n",
       "      <td>0.217967</td>\n",
       "      <td>0.217967</td>\n",
       "      <td>-0.345796</td>\n",
       "    </tr>\n",
       "    <tr>\n",
       "      <th>bed</th>\n",
       "      <td>-0.249954</td>\n",
       "      <td>0.067223</td>\n",
       "      <td>-0.198208</td>\n",
       "      <td>0.353604</td>\n",
       "      <td>1.000000</td>\n",
       "      <td>-0.383121</td>\n",
       "      <td>0.947236</td>\n",
       "      <td>0.524953</td>\n",
       "      <td>-0.197396</td>\n",
       "      <td>-0.197396</td>\n",
       "      <td>-0.219306</td>\n",
       "    </tr>\n",
       "    <tr>\n",
       "      <th>thickness</th>\n",
       "      <td>0.376819</td>\n",
       "      <td>0.182079</td>\n",
       "      <td>0.287949</td>\n",
       "      <td>-0.533973</td>\n",
       "      <td>-0.383121</td>\n",
       "      <td>1.000000</td>\n",
       "      <td>-0.066827</td>\n",
       "      <td>-0.332237</td>\n",
       "      <td>-0.235967</td>\n",
       "      <td>-0.235967</td>\n",
       "      <td>0.538322</td>\n",
       "    </tr>\n",
       "    <tr>\n",
       "      <th>surface_elevation</th>\n",
       "      <td>-0.139235</td>\n",
       "      <td>0.135797</td>\n",
       "      <td>-0.114179</td>\n",
       "      <td>0.196661</td>\n",
       "      <td>0.947236</td>\n",
       "      <td>-0.066827</td>\n",
       "      <td>1.000000</td>\n",
       "      <td>0.451881</td>\n",
       "      <td>-0.295287</td>\n",
       "      <td>-0.295287</td>\n",
       "      <td>-0.050098</td>\n",
       "    </tr>\n",
       "    <tr>\n",
       "      <th>ELA</th>\n",
       "      <td>-0.382967</td>\n",
       "      <td>0.101428</td>\n",
       "      <td>-0.097796</td>\n",
       "      <td>0.211976</td>\n",
       "      <td>0.524953</td>\n",
       "      <td>-0.332237</td>\n",
       "      <td>0.451881</td>\n",
       "      <td>1.000000</td>\n",
       "      <td>-0.205150</td>\n",
       "      <td>-0.205150</td>\n",
       "      <td>-0.235459</td>\n",
       "    </tr>\n",
       "    <tr>\n",
       "      <th>beta</th>\n",
       "      <td>-0.270208</td>\n",
       "      <td>-0.334081</td>\n",
       "      <td>-0.027109</td>\n",
       "      <td>0.217967</td>\n",
       "      <td>-0.197396</td>\n",
       "      <td>-0.235967</td>\n",
       "      <td>-0.295287</td>\n",
       "      <td>-0.205150</td>\n",
       "      <td>1.000000</td>\n",
       "      <td>1.000000</td>\n",
       "      <td>-0.211345</td>\n",
       "    </tr>\n",
       "    <tr>\n",
       "      <th>cmb</th>\n",
       "      <td>-0.270208</td>\n",
       "      <td>-0.334081</td>\n",
       "      <td>-0.027109</td>\n",
       "      <td>0.217967</td>\n",
       "      <td>-0.197396</td>\n",
       "      <td>-0.235967</td>\n",
       "      <td>-0.295287</td>\n",
       "      <td>-0.205150</td>\n",
       "      <td>1.000000</td>\n",
       "      <td>1.000000</td>\n",
       "      <td>-0.211345</td>\n",
       "    </tr>\n",
       "    <tr>\n",
       "      <th>width_centerline</th>\n",
       "      <td>0.324672</td>\n",
       "      <td>0.170020</td>\n",
       "      <td>0.232376</td>\n",
       "      <td>-0.345796</td>\n",
       "      <td>-0.219306</td>\n",
       "      <td>0.538322</td>\n",
       "      <td>-0.050098</td>\n",
       "      <td>-0.235459</td>\n",
       "      <td>-0.211345</td>\n",
       "      <td>-0.211345</td>\n",
       "      <td>1.000000</td>\n",
       "    </tr>\n",
       "  </tbody>\n",
       "</table>\n",
       "</div>"
      ],
      "text/plain": [
       "                          x         y     Surge     Slope       bed  \\\n",
       "x                  1.000000 -0.149144  0.135795 -0.474290 -0.249954   \n",
       "y                 -0.149144  1.000000 -0.138088  0.015916  0.067223   \n",
       "Surge              0.135795 -0.138088  1.000000 -0.299665 -0.198208   \n",
       "Slope             -0.474290  0.015916 -0.299665  1.000000  0.353604   \n",
       "bed               -0.249954  0.067223 -0.198208  0.353604  1.000000   \n",
       "thickness          0.376819  0.182079  0.287949 -0.533973 -0.383121   \n",
       "surface_elevation -0.139235  0.135797 -0.114179  0.196661  0.947236   \n",
       "ELA               -0.382967  0.101428 -0.097796  0.211976  0.524953   \n",
       "beta              -0.270208 -0.334081 -0.027109  0.217967 -0.197396   \n",
       "cmb               -0.270208 -0.334081 -0.027109  0.217967 -0.197396   \n",
       "width_centerline   0.324672  0.170020  0.232376 -0.345796 -0.219306   \n",
       "\n",
       "                   thickness  surface_elevation       ELA      beta       cmb  \\\n",
       "x                   0.376819          -0.139235 -0.382967 -0.270208 -0.270208   \n",
       "y                   0.182079           0.135797  0.101428 -0.334081 -0.334081   \n",
       "Surge               0.287949          -0.114179 -0.097796 -0.027109 -0.027109   \n",
       "Slope              -0.533973           0.196661  0.211976  0.217967  0.217967   \n",
       "bed                -0.383121           0.947236  0.524953 -0.197396 -0.197396   \n",
       "thickness           1.000000          -0.066827 -0.332237 -0.235967 -0.235967   \n",
       "surface_elevation  -0.066827           1.000000  0.451881 -0.295287 -0.295287   \n",
       "ELA                -0.332237           0.451881  1.000000 -0.205150 -0.205150   \n",
       "beta               -0.235967          -0.295287 -0.205150  1.000000  1.000000   \n",
       "cmb                -0.235967          -0.295287 -0.205150  1.000000  1.000000   \n",
       "width_centerline    0.538322          -0.050098 -0.235459 -0.211345 -0.211345   \n",
       "\n",
       "                   width_centerline  \n",
       "x                          0.324672  \n",
       "y                          0.170020  \n",
       "Surge                      0.232376  \n",
       "Slope                     -0.345796  \n",
       "bed                       -0.219306  \n",
       "thickness                  0.538322  \n",
       "surface_elevation         -0.050098  \n",
       "ELA                       -0.235459  \n",
       "beta                      -0.211345  \n",
       "cmb                       -0.211345  \n",
       "width_centerline           1.000000  "
      ]
     },
     "execution_count": 144,
     "metadata": {},
     "output_type": "execute_result"
    }
   ],
   "source": [
    "df_main[df_main.Surge.isin([0, 3])].corr()"
   ]
  },
  {
   "cell_type": "code",
   "execution_count": 143,
   "metadata": {},
   "outputs": [
    {
     "data": {
      "text/plain": [
       "<matplotlib.axes._subplots.AxesSubplot at 0x7f199406e6d0>"
      ]
     },
     "execution_count": 143,
     "metadata": {},
     "output_type": "execute_result"
    },
    {
     "data": {
      "image/png": "[encoded data removed]",
      "text/plain": [
       "<Figure size 432x288 with 2 Axes>"
      ]
     },
     "metadata": {
      "needs_background": "light"
     },
     "output_type": "display_data"
    }
   ],
   "source": [
    "df_main[df_main.Surge.isin([0, 3])].plot.scatter(x='x', y='y', c='Surge', cmap='cool')"
   ]
  },
  {
   "cell_type": "code",
   "execution_count": 137,
   "metadata": {},
   "outputs": [
    {
     "data": {
      "text/plain": [
       "<matplotlib.axes._subplots.AxesSubplot at 0x7f1993f72220>"
      ]
     },
     "execution_count": 137,
     "metadata": {},
     "output_type": "execute_result"
    },
    {
     "data": {
      "image/png": "[encoded data removed]",
      "text/plain": [
       "<Figure size 432x288 with 1 Axes>"
      ]
     },
     "metadata": {
      "needs_background": "light"
     },
     "output_type": "display_data"
    }
   ],
   "source": [
    "df_main.plot.scatter(x='cmb', y='surface_elevation')"
   ]
  },
  {
   "cell_type": "code",
   "execution_count": 136,
   "metadata": {},
   "outputs": [
    {
     "data": {
      "text/plain": [
       "<matplotlib.axes._subplots.AxesSubplot at 0x7f1993f72f10>"
      ]
     },
     "execution_count": 136,
     "metadata": {},
     "output_type": "execute_result"
    },
    {
     "data": {
      "image/png": "[encoded data removed]",
      "text/plain": [
       "<Figure size 432x288 with 1 Axes>"
      ]
     },
     "metadata": {
      "needs_background": "light"
     },
     "output_type": "display_data"
    }
   ],
   "source": [
    "df_main.plot.scatter(x='thickness', y='Slope', alpha=0.15)"
   ]
  },
  {
   "cell_type": "code",
   "execution_count": null,
   "metadata": {},
   "outputs": [],
   "source": []
  },
  {
   "cell_type": "code",
   "execution_count": 57,
   "metadata": {},
   "outputs": [],
   "source": [
    "features = ['Slope', 'bed', 'thickness',\n",
    "       'surface_elevation', 'ELA', 'beta', 'cmb', 'width_centerline']\n",
    "\n",
    "# features = [df_main['Slope'], df_main['bed'], df_main['thickness'],\n",
    "#        df_main['surface_elevation'], df_main['ELA'], df_main['beta'], df_main['cmb'], df_main['width_centerline']]\n",
    "# # Separating out the features\n",
    "# x = df.loc[:, features].values\n",
    "# # Separating out the target\n",
    "# y = df.loc[:,['target']].values\n",
    "# # Standardizing the features\n",
    "# x = StandardScaler().fit_transform(x)"
   ]
  },
  {
   "cell_type": "markdown",
   "metadata": {},
   "source": [
    "### Separating out the features"
   ]
  },
  {
   "cell_type": "code",
   "execution_count": 84,
   "metadata": {},
   "outputs": [],
   "source": [
    "x = df_main.loc[:, features].values"
   ]
  },
  {
   "cell_type": "code",
   "execution_count": 92,
   "metadata": {},
   "outputs": [],
   "source": [
    "# Separating out the target\n",
    "y = df_main.loc[:,['Surge']].values"
   ]
  },
  {
   "cell_type": "markdown",
   "metadata": {},
   "source": [
    "### Standardizing the features"
   ]
  },
  {
   "cell_type": "code",
   "execution_count": 85,
   "metadata": {},
   "outputs": [],
   "source": [
    "x = StandardScaler().fit_transform(x)\n",
    "# x = x[~np.isnan(x)]"
   ]
  },
  {
   "cell_type": "code",
   "execution_count": 86,
   "metadata": {},
   "outputs": [
    {
     "data": {
      "text/html": [
       "<div>\n",
       "<style scoped>\n",
       "    .dataframe tbody tr th:only-of-type {\n",
       "        vertical-align: middle;\n",
       "    }\n",
       "\n",
       "    .dataframe tbody tr th {\n",
       "        vertical-align: top;\n",
       "    }\n",
       "\n",
       "    .dataframe thead th {\n",
       "        text-align: right;\n",
       "    }\n",
       "</style>\n",
       "<table border=\"1\" class=\"dataframe\">\n",
       "  <thead>\n",
       "    <tr style=\"text-align: right;\">\n",
       "      <th></th>\n",
       "      <th>Slope</th>\n",
       "      <th>bed</th>\n",
       "      <th>thickness</th>\n",
       "      <th>surface_elevation</th>\n",
       "      <th>ELA</th>\n",
       "      <th>beta</th>\n",
       "      <th>cmb</th>\n",
       "      <th>width_centerline</th>\n",
       "    </tr>\n",
       "  </thead>\n",
       "  <tbody>\n",
       "    <tr>\n",
       "      <th>0</th>\n",
       "      <td>0.570406</td>\n",
       "      <td>0.103049</td>\n",
       "      <td>-0.787391</td>\n",
       "      <td>-0.178540</td>\n",
       "      <td>-0.770526</td>\n",
       "      <td>-0.244568</td>\n",
       "      <td>-0.244568</td>\n",
       "      <td>-0.457867</td>\n",
       "    </tr>\n",
       "    <tr>\n",
       "      <th>1</th>\n",
       "      <td>0.570406</td>\n",
       "      <td>0.103049</td>\n",
       "      <td>-0.787391</td>\n",
       "      <td>-0.178540</td>\n",
       "      <td>-0.770526</td>\n",
       "      <td>-0.243376</td>\n",
       "      <td>-0.243376</td>\n",
       "      <td>-0.469657</td>\n",
       "    </tr>\n",
       "    <tr>\n",
       "      <th>2</th>\n",
       "      <td>0.570406</td>\n",
       "      <td>0.103049</td>\n",
       "      <td>-0.787391</td>\n",
       "      <td>-0.178540</td>\n",
       "      <td>-0.770526</td>\n",
       "      <td>-0.242184</td>\n",
       "      <td>-0.242184</td>\n",
       "      <td>-0.465736</td>\n",
       "    </tr>\n",
       "    <tr>\n",
       "      <th>3</th>\n",
       "      <td>0.570406</td>\n",
       "      <td>0.103049</td>\n",
       "      <td>-0.787391</td>\n",
       "      <td>-0.178540</td>\n",
       "      <td>-0.770526</td>\n",
       "      <td>-0.240992</td>\n",
       "      <td>-0.240992</td>\n",
       "      <td>-0.461815</td>\n",
       "    </tr>\n",
       "    <tr>\n",
       "      <th>4</th>\n",
       "      <td>0.570406</td>\n",
       "      <td>0.103049</td>\n",
       "      <td>-0.787391</td>\n",
       "      <td>-0.178540</td>\n",
       "      <td>-0.770526</td>\n",
       "      <td>-0.239800</td>\n",
       "      <td>-0.239800</td>\n",
       "      <td>-0.448962</td>\n",
       "    </tr>\n",
       "    <tr>\n",
       "      <th>...</th>\n",
       "      <td>...</td>\n",
       "      <td>...</td>\n",
       "      <td>...</td>\n",
       "      <td>...</td>\n",
       "      <td>...</td>\n",
       "      <td>...</td>\n",
       "      <td>...</td>\n",
       "      <td>...</td>\n",
       "    </tr>\n",
       "    <tr>\n",
       "      <th>130984</th>\n",
       "      <td>-0.461339</td>\n",
       "      <td>-0.554690</td>\n",
       "      <td>-0.241365</td>\n",
       "      <td>-0.693307</td>\n",
       "      <td>0.572731</td>\n",
       "      <td>-0.027979</td>\n",
       "      <td>-0.027979</td>\n",
       "      <td>-0.391801</td>\n",
       "    </tr>\n",
       "    <tr>\n",
       "      <th>130985</th>\n",
       "      <td>-0.461339</td>\n",
       "      <td>-0.573007</td>\n",
       "      <td>-0.284648</td>\n",
       "      <td>-0.729243</td>\n",
       "      <td>0.572731</td>\n",
       "      <td>-0.026802</td>\n",
       "      <td>-0.026802</td>\n",
       "      <td>-0.399292</td>\n",
       "    </tr>\n",
       "    <tr>\n",
       "      <th>130986</th>\n",
       "      <td>-0.461339</td>\n",
       "      <td>-0.573007</td>\n",
       "      <td>-0.284648</td>\n",
       "      <td>-0.729243</td>\n",
       "      <td>0.572731</td>\n",
       "      <td>-0.023596</td>\n",
       "      <td>-0.023596</td>\n",
       "      <td>-0.405573</td>\n",
       "    </tr>\n",
       "    <tr>\n",
       "      <th>130987</th>\n",
       "      <td>-0.461339</td>\n",
       "      <td>-0.572543</td>\n",
       "      <td>-0.279420</td>\n",
       "      <td>-0.726806</td>\n",
       "      <td>0.572731</td>\n",
       "      <td>-0.022548</td>\n",
       "      <td>-0.022548</td>\n",
       "      <td>-0.409744</td>\n",
       "    </tr>\n",
       "    <tr>\n",
       "      <th>130988</th>\n",
       "      <td>-0.461339</td>\n",
       "      <td>-0.572543</td>\n",
       "      <td>-0.279420</td>\n",
       "      <td>-0.726806</td>\n",
       "      <td>0.572731</td>\n",
       "      <td>-0.021500</td>\n",
       "      <td>-0.021500</td>\n",
       "      <td>-0.413425</td>\n",
       "    </tr>\n",
       "  </tbody>\n",
       "</table>\n",
       "<p>124711 rows × 8 columns</p>\n",
       "</div>"
      ],
      "text/plain": [
       "           Slope       bed  thickness  surface_elevation       ELA      beta  \\\n",
       "0       0.570406  0.103049  -0.787391          -0.178540 -0.770526 -0.244568   \n",
       "1       0.570406  0.103049  -0.787391          -0.178540 -0.770526 -0.243376   \n",
       "2       0.570406  0.103049  -0.787391          -0.178540 -0.770526 -0.242184   \n",
       "3       0.570406  0.103049  -0.787391          -0.178540 -0.770526 -0.240992   \n",
       "4       0.570406  0.103049  -0.787391          -0.178540 -0.770526 -0.239800   \n",
       "...          ...       ...        ...                ...       ...       ...   \n",
       "130984 -0.461339 -0.554690  -0.241365          -0.693307  0.572731 -0.027979   \n",
       "130985 -0.461339 -0.573007  -0.284648          -0.729243  0.572731 -0.026802   \n",
       "130986 -0.461339 -0.573007  -0.284648          -0.729243  0.572731 -0.023596   \n",
       "130987 -0.461339 -0.572543  -0.279420          -0.726806  0.572731 -0.022548   \n",
       "130988 -0.461339 -0.572543  -0.279420          -0.726806  0.572731 -0.021500   \n",
       "\n",
       "             cmb  width_centerline  \n",
       "0      -0.244568         -0.457867  \n",
       "1      -0.243376         -0.469657  \n",
       "2      -0.242184         -0.465736  \n",
       "3      -0.240992         -0.461815  \n",
       "4      -0.239800         -0.448962  \n",
       "...          ...               ...  \n",
       "130984 -0.027979         -0.391801  \n",
       "130985 -0.026802         -0.399292  \n",
       "130986 -0.023596         -0.405573  \n",
       "130987 -0.022548         -0.409744  \n",
       "130988 -0.021500         -0.413425  \n",
       "\n",
       "[124711 rows x 8 columns]"
      ]
     },
     "execution_count": 86,
     "metadata": {},
     "output_type": "execute_result"
    }
   ],
   "source": [
    "df_main_standard = pd.DataFrame(x)\n",
    "df_main_standard.columns = ['Slope', 'bed', 'thickness', 'surface_elevation', 'ELA', 'beta', 'cmb', 'width_centerline']\n",
    "df_main_standard.dropna(how='any', inplace=True)\n",
    "df_main_standard\n",
    "# df_main_standard"
   ]
  },
  {
   "cell_type": "code",
   "execution_count": 146,
   "metadata": {},
   "outputs": [],
   "source": [
    "corr = df_main.corr()"
   ]
  },
  {
   "cell_type": "code",
   "execution_count": 147,
   "metadata": {},
   "outputs": [
    {
     "data": {
      "text/plain": [
       "<matplotlib.colorbar.Colorbar at 0x7f1993ca3fa0>"
      ]
     },
     "execution_count": 147,
     "metadata": {},
     "output_type": "execute_result"
    },
    {
     "data": {
      "image/png": "[encoded data removed]",
      "text/plain": [
       "<Figure size 576x576 with 2 Axes>"
      ]
     },
     "metadata": {
      "needs_background": "light"
     },
     "output_type": "display_data"
    }
   ],
   "source": [
    "plt.figure(figsize = (8, 8))\n",
    "plt.matshow(corr, cmap='coolwarm', vmin=-1, vmax=1, fignum=1)\n",
    "plt.xticks(range(len(corr.columns)), corr.columns, rotation='vertical');\n",
    "plt.yticks(range(len(corr.columns)), corr.columns);\n",
    "plt.colorbar()"
   ]
  },
  {
   "cell_type": "code",
   "execution_count": 79,
   "metadata": {},
   "outputs": [
    {
     "data": {
      "text/plain": [
       "False"
      ]
     },
     "execution_count": 79,
     "metadata": {},
     "output_type": "execute_result"
    }
   ],
   "source": [
    "np.any(np.isnan(df_main_standard))"
   ]
  },
  {
   "cell_type": "code",
   "execution_count": 73,
   "metadata": {},
   "outputs": [
    {
     "data": {
      "text/plain": [
       "False"
      ]
     },
     "execution_count": 73,
     "metadata": {},
     "output_type": "execute_result"
    }
   ],
   "source": [
    "np.all(np.isinf(df_main_standard))"
   ]
  },
  {
   "cell_type": "code",
   "execution_count": 76,
   "metadata": {},
   "outputs": [
    {
     "data": {
      "text/plain": [
       "array([[ 0.57040642,  0.1030487 , -0.78739149, ..., -0.24456751,\n",
       "        -0.24456751, -0.45786748],\n",
       "       [ 0.57040642,  0.1030487 , -0.78739149, ..., -0.24337557,\n",
       "        -0.24337557, -0.46965694],\n",
       "       [ 0.57040642,  0.1030487 , -0.78739149, ..., -0.24218364,\n",
       "        -0.24218364, -0.46573577],\n",
       "       ...,\n",
       "       [-0.77086233,         nan,         nan, ...,         nan,\n",
       "                nan,         nan],\n",
       "       [-0.77086233,         nan,         nan, ...,         nan,\n",
       "                nan,         nan],\n",
       "       [-0.77086233,         nan,         nan, ...,         nan,\n",
       "                nan,         nan]])"
      ]
     },
     "execution_count": 76,
     "metadata": {},
     "output_type": "execute_result"
    }
   ],
   "source": [
    "x"
   ]
  },
  {
   "cell_type": "markdown",
   "metadata": {},
   "source": [
    "### PCA Projection to 2D"
   ]
  },
  {
   "cell_type": "code",
   "execution_count": 126,
   "metadata": {},
   "outputs": [],
   "source": [
    "pca = PCA(n_components=8)\n",
    "principalComponents = pca.fit_transform(df_main_standard)\n",
    "principalDf = pd.DataFrame(data = principalComponents\n",
    "              , columns = ['PC1', 'PC2', 'PC3', 'PC4', 'PC5', 'PC6', 'PC7', 'PC8'])\n"
   ]
  },
  {
   "cell_type": "code",
   "execution_count": 127,
   "metadata": {},
   "outputs": [
    {
     "data": {
      "text/html": [
       "<div>\n",
       "<style scoped>\n",
       "    .dataframe tbody tr th:only-of-type {\n",
       "        vertical-align: middle;\n",
       "    }\n",
       "\n",
       "    .dataframe tbody tr th {\n",
       "        vertical-align: top;\n",
       "    }\n",
       "\n",
       "    .dataframe thead th {\n",
       "        text-align: right;\n",
       "    }\n",
       "</style>\n",
       "<table border=\"1\" class=\"dataframe\">\n",
       "  <thead>\n",
       "    <tr style=\"text-align: right;\">\n",
       "      <th></th>\n",
       "      <th>PC1</th>\n",
       "      <th>PC2</th>\n",
       "      <th>PC3</th>\n",
       "      <th>PC4</th>\n",
       "      <th>PC5</th>\n",
       "      <th>PC6</th>\n",
       "      <th>PC7</th>\n",
       "      <th>PC8</th>\n",
       "      <th>Surge</th>\n",
       "    </tr>\n",
       "  </thead>\n",
       "  <tbody>\n",
       "    <tr>\n",
       "      <th>0</th>\n",
       "      <td>-0.269988</td>\n",
       "      <td>0.487928</td>\n",
       "      <td>-0.663348</td>\n",
       "      <td>0.974125</td>\n",
       "      <td>-0.468753</td>\n",
       "      <td>0.239139</td>\n",
       "      <td>1.158423e-10</td>\n",
       "      <td>-2.030463e-16</td>\n",
       "      <td>0</td>\n",
       "    </tr>\n",
       "    <tr>\n",
       "      <th>1</th>\n",
       "      <td>-0.272275</td>\n",
       "      <td>0.493627</td>\n",
       "      <td>-0.667441</td>\n",
       "      <td>0.970651</td>\n",
       "      <td>-0.476136</td>\n",
       "      <td>0.234579</td>\n",
       "      <td>1.148065e-10</td>\n",
       "      <td>3.993502e-14</td>\n",
       "      <td>0</td>\n",
       "    </tr>\n",
       "    <tr>\n",
       "      <th>2</th>\n",
       "      <td>-0.270917</td>\n",
       "      <td>0.493418</td>\n",
       "      <td>-0.664836</td>\n",
       "      <td>0.971282</td>\n",
       "      <td>-0.473529</td>\n",
       "      <td>0.236112</td>\n",
       "      <td>1.151812e-10</td>\n",
       "      <td>-1.891104e-16</td>\n",
       "      <td>0</td>\n",
       "    </tr>\n",
       "    <tr>\n",
       "      <th>3</th>\n",
       "      <td>-0.269558</td>\n",
       "      <td>0.493209</td>\n",
       "      <td>-0.662231</td>\n",
       "      <td>0.971913</td>\n",
       "      <td>-0.470923</td>\n",
       "      <td>0.237645</td>\n",
       "      <td>1.155188e-10</td>\n",
       "      <td>-2.202967e-16</td>\n",
       "      <td>0</td>\n",
       "    </tr>\n",
       "    <tr>\n",
       "      <th>4</th>\n",
       "      <td>-0.266127</td>\n",
       "      <td>0.489642</td>\n",
       "      <td>-0.655819</td>\n",
       "      <td>0.974877</td>\n",
       "      <td>-0.462637</td>\n",
       "      <td>0.242643</td>\n",
       "      <td>1.166809e-10</td>\n",
       "      <td>-4.171216e-16</td>\n",
       "      <td>0</td>\n",
       "    </tr>\n",
       "    <tr>\n",
       "      <th>...</th>\n",
       "      <td>...</td>\n",
       "      <td>...</td>\n",
       "      <td>...</td>\n",
       "      <td>...</td>\n",
       "      <td>...</td>\n",
       "      <td>...</td>\n",
       "      <td>...</td>\n",
       "      <td>...</td>\n",
       "      <td>...</td>\n",
       "    </tr>\n",
       "    <tr>\n",
       "      <th>134800</th>\n",
       "      <td>NaN</td>\n",
       "      <td>NaN</td>\n",
       "      <td>NaN</td>\n",
       "      <td>NaN</td>\n",
       "      <td>NaN</td>\n",
       "      <td>NaN</td>\n",
       "      <td>NaN</td>\n",
       "      <td>NaN</td>\n",
       "      <td>9</td>\n",
       "    </tr>\n",
       "    <tr>\n",
       "      <th>134801</th>\n",
       "      <td>NaN</td>\n",
       "      <td>NaN</td>\n",
       "      <td>NaN</td>\n",
       "      <td>NaN</td>\n",
       "      <td>NaN</td>\n",
       "      <td>NaN</td>\n",
       "      <td>NaN</td>\n",
       "      <td>NaN</td>\n",
       "      <td>9</td>\n",
       "    </tr>\n",
       "    <tr>\n",
       "      <th>134802</th>\n",
       "      <td>NaN</td>\n",
       "      <td>NaN</td>\n",
       "      <td>NaN</td>\n",
       "      <td>NaN</td>\n",
       "      <td>NaN</td>\n",
       "      <td>NaN</td>\n",
       "      <td>NaN</td>\n",
       "      <td>NaN</td>\n",
       "      <td>9</td>\n",
       "    </tr>\n",
       "    <tr>\n",
       "      <th>134803</th>\n",
       "      <td>NaN</td>\n",
       "      <td>NaN</td>\n",
       "      <td>NaN</td>\n",
       "      <td>NaN</td>\n",
       "      <td>NaN</td>\n",
       "      <td>NaN</td>\n",
       "      <td>NaN</td>\n",
       "      <td>NaN</td>\n",
       "      <td>9</td>\n",
       "    </tr>\n",
       "    <tr>\n",
       "      <th>134804</th>\n",
       "      <td>NaN</td>\n",
       "      <td>NaN</td>\n",
       "      <td>NaN</td>\n",
       "      <td>NaN</td>\n",
       "      <td>NaN</td>\n",
       "      <td>NaN</td>\n",
       "      <td>NaN</td>\n",
       "      <td>NaN</td>\n",
       "      <td>9</td>\n",
       "    </tr>\n",
       "  </tbody>\n",
       "</table>\n",
       "<p>134805 rows × 9 columns</p>\n",
       "</div>"
      ],
      "text/plain": [
       "             PC1       PC2       PC3       PC4       PC5       PC6  \\\n",
       "0      -0.269988  0.487928 -0.663348  0.974125 -0.468753  0.239139   \n",
       "1      -0.272275  0.493627 -0.667441  0.970651 -0.476136  0.234579   \n",
       "2      -0.270917  0.493418 -0.664836  0.971282 -0.473529  0.236112   \n",
       "3      -0.269558  0.493209 -0.662231  0.971913 -0.470923  0.237645   \n",
       "4      -0.266127  0.489642 -0.655819  0.974877 -0.462637  0.242643   \n",
       "...          ...       ...       ...       ...       ...       ...   \n",
       "134800       NaN       NaN       NaN       NaN       NaN       NaN   \n",
       "134801       NaN       NaN       NaN       NaN       NaN       NaN   \n",
       "134802       NaN       NaN       NaN       NaN       NaN       NaN   \n",
       "134803       NaN       NaN       NaN       NaN       NaN       NaN   \n",
       "134804       NaN       NaN       NaN       NaN       NaN       NaN   \n",
       "\n",
       "                 PC7           PC8  Surge  \n",
       "0       1.158423e-10 -2.030463e-16      0  \n",
       "1       1.148065e-10  3.993502e-14      0  \n",
       "2       1.151812e-10 -1.891104e-16      0  \n",
       "3       1.155188e-10 -2.202967e-16      0  \n",
       "4       1.166809e-10 -4.171216e-16      0  \n",
       "...              ...           ...    ...  \n",
       "134800           NaN           NaN      9  \n",
       "134801           NaN           NaN      9  \n",
       "134802           NaN           NaN      9  \n",
       "134803           NaN           NaN      9  \n",
       "134804           NaN           NaN      9  \n",
       "\n",
       "[134805 rows x 9 columns]"
      ]
     },
     "execution_count": 127,
     "metadata": {},
     "output_type": "execute_result"
    }
   ],
   "source": [
    "finalDf = pd.concat([principalDf, df_main[['Surge']]], axis = 1)\n",
    "finalDf.groupby('Surge').count()\n",
    "finalDf"
   ]
  },
  {
   "cell_type": "code",
   "execution_count": 130,
   "metadata": {},
   "outputs": [
    {
     "data": {
      "text/plain": [
       "[<matplotlib.lines.Line2D at 0x7f19942afdc0>]"
      ]
     },
     "execution_count": 130,
     "metadata": {},
     "output_type": "execute_result"
    },
    {
     "data": {
      "image/png": "[encoded data removed]",
      "text/plain": [
       "<Figure size 432x288 with 1 Axes>"
      ]
     },
     "metadata": {
      "needs_background": "light"
     },
     "output_type": "display_data"
    }
   ],
   "source": [
    "plt.plot(1-pca.explained_variance_ratio_)"
   ]
  },
  {
   "cell_type": "code",
   "execution_count": 132,
   "metadata": {},
   "outputs": [
    {
     "name": "stderr",
     "output_type": "stream",
     "text": [
      "/usr/lib64/python3.8/site-packages/pandas/plotting/_matplotlib/tools.py:307: MatplotlibDeprecationWarning: \n",
      "The rowNum attribute was deprecated in Matplotlib 3.2 and will be removed two minor releases later. Use ax.get_subplotspec().rowspan.start instead.\n",
      "  layout[ax.rowNum, ax.colNum] = ax.get_visible()\n",
      "/usr/lib64/python3.8/site-packages/pandas/plotting/_matplotlib/tools.py:307: MatplotlibDeprecationWarning: \n",
      "The colNum attribute was deprecated in Matplotlib 3.2 and will be removed two minor releases later. Use ax.get_subplotspec().colspan.start instead.\n",
      "  layout[ax.rowNum, ax.colNum] = ax.get_visible()\n",
      "/usr/lib64/python3.8/site-packages/pandas/plotting/_matplotlib/tools.py:313: MatplotlibDeprecationWarning: \n",
      "The rowNum attribute was deprecated in Matplotlib 3.2 and will be removed two minor releases later. Use ax.get_subplotspec().rowspan.start instead.\n",
      "  if not layout[ax.rowNum + 1, ax.colNum]:\n",
      "/usr/lib64/python3.8/site-packages/pandas/plotting/_matplotlib/tools.py:313: MatplotlibDeprecationWarning: \n",
      "The colNum attribute was deprecated in Matplotlib 3.2 and will be removed two minor releases later. Use ax.get_subplotspec().colspan.start instead.\n",
      "  if not layout[ax.rowNum + 1, ax.colNum]:\n"
     ]
    },
    {
     "data": {
      "text/plain": [
       "<matplotlib.axes._subplots.AxesSubplot at 0x7f1994273ac0>"
      ]
     },
     "execution_count": 132,
     "metadata": {},
     "output_type": "execute_result"
    },
    {
     "data": {
      "image/png": "[encoded data removed]",
      "text/plain": [
       "<Figure size 432x288 with 2 Axes>"
      ]
     },
     "metadata": {
      "needs_background": "light"
     },
     "output_type": "display_data"
    }
   ],
   "source": [
    "finalDf.plot.scatter(x='PC1', y='PC2', c='Surge', cmap='Spectral', alpha=0.25)"
   ]
  },
  {
   "cell_type": "code",
   "execution_count": 123,
   "metadata": {},
   "outputs": [
    {
     "data": {
      "image/png": "[encoded data removed]",
      "text/plain": [
       "<Figure size 576x576 with 1 Axes>"
      ]
     },
     "metadata": {
      "needs_background": "light"
     },
     "output_type": "display_data"
    }
   ],
   "source": [
    "fig = plt.figure(figsize = (8,8))\n",
    "ax = fig.add_subplot(1,1,1) \n",
    "ax.set_xlabel('Principal Component 1', fontsize = 15)\n",
    "ax.set_ylabel('Principal Component 2', fontsize = 15)\n",
    "ax.set_title('2 component PCA', fontsize = 20)\n",
    "surges = ['0', '1', '2', '3']\n",
    "colors = ['r', 'g', 'b', 'k']\n",
    "for surge, color in zip(surges,colors):\n",
    "    indicesToKeep = finalDf['Surge'] == surge\n",
    "    ax.scatter(finalDf.loc[indicesToKeep, 'principal component 1']\n",
    "               , finalDf.loc[indicesToKeep, 'principal component 2']\n",
    "               , c = color)\n",
    "#                , s = 50)\n",
    "ax.legend(surges)\n",
    "ax.grid()\n"
   ]
  }
 ],
 "metadata": {
  "kernelspec": {
   "display_name": "Python 3",
   "language": "python",
   "name": "python3"
  },
  "language_info": {
   "codemirror_mode": {
    "name": "ipython",
    "version": 3
   },
   "file_extension": ".py",
   "mimetype": "text/x-python",
   "name": "python",
   "nbconvert_exporter": "python",
   "pygments_lexer": "ipython3",
   "version": "3.8.6"
  }
 },
 "nbformat": 4,
 "nbformat_minor": 4
}
