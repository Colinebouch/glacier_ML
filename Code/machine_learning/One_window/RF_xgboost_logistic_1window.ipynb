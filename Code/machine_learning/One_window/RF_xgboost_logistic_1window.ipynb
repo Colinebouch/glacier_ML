{
 "cells": [
  {
   "cell_type": "markdown",
   "metadata": {},
   "source": [
    "Theory : https://towardsdatascience.com/understanding-random-forest-58381e0602d2\n",
    "\n",
    "Examples : https://towardsdatascience.com/an-implementation-and-explanation-of-the-random-forest-in-python-77bf308a9b76"
   ]
  },
  {
   "cell_type": "markdown",
   "metadata": {},
   "source": [
    "# Forests of randomized trees"
   ]
  },
  {
   "cell_type": "code",
   "execution_count": 1,
   "metadata": {},
   "outputs": [],
   "source": [
    "import numpy as np\n",
    "import pandas as pd\n",
    "from sklearn.model_selection import train_test_split\n",
    "from sklearn.tree import DecisionTreeClassifier\n",
    "from sklearn.metrics import precision_score, recall_score, roc_auc_score, roc_curve\n",
    "\n",
    "import matplotlib.pyplot as plt\n",
    "\n",
    "from sklearn.utils import resample"
   ]
  },
  {
   "cell_type": "markdown",
   "metadata": {},
   "source": [
    "### Set random seed to ensure reproducible runs"
   ]
  },
  {
   "cell_type": "code",
   "execution_count": 2,
   "metadata": {},
   "outputs": [],
   "source": [
    "RSEED = 50"
   ]
  },
  {
   "cell_type": "markdown",
   "metadata": {},
   "source": [
    "### Importing data and data cleaning"
   ]
  },
  {
   "cell_type": "code",
   "execution_count": 3,
   "metadata": {},
   "outputs": [
    {
     "data": {
      "text/plain": [
       "Index(['length', 'bed_slope', 'surf_slope', 'rgiid', 'x', 'y', 'Surge', 'Area',\n",
       "       'Slope', 'TermType', 'bed', 'thickness', 'surface_elevation', 'ELA',\n",
       "       'beta', 'cmb', 'width_centerline', 'Runoff', 'WH', 'WHsin', 'dummy'],\n",
       "      dtype='object')"
      ]
     },
     "execution_count": 3,
     "metadata": {},
     "output_type": "execute_result"
    }
   ],
   "source": [
    "df_main = pd.read_csv('/home/colili/Documents/PhD/project_john/DataFrame_produced/df_main_one_window.csv', index_col=0)\n",
    "df_main.columns"
   ]
  },
  {
   "cell_type": "code",
   "execution_count": 4,
   "metadata": {},
   "outputs": [
    {
     "data": {
      "text/plain": [
       "1612"
      ]
     },
     "execution_count": 4,
     "metadata": {},
     "output_type": "execute_result"
    }
   ],
   "source": [
    "1322+103+37+103+47"
   ]
  },
  {
   "cell_type": "code",
   "execution_count": 5,
   "metadata": {},
   "outputs": [],
   "source": [
    "df_main.drop(df_main[df_main['Surge']==9].index, inplace = True)\n",
    "df_main.drop(df_main[df_main['Surge']==1].index, inplace = True)\n",
    "df_main.drop(df_main[df_main['Surge']==2].index, inplace = True)\n",
    "df = df_main.drop(columns = ['rgiid', 'x', 'y', 'ELA', 'beta'])\n",
    "df.dropna(how='any', inplace=True)"
   ]
  },
  {
   "cell_type": "code",
   "execution_count": 6,
   "metadata": {},
   "outputs": [
    {
     "data": {
      "text/html": [
       "<div>\n",
       "<style scoped>\n",
       "    .dataframe tbody tr th:only-of-type {\n",
       "        vertical-align: middle;\n",
       "    }\n",
       "\n",
       "    .dataframe tbody tr th {\n",
       "        vertical-align: top;\n",
       "    }\n",
       "\n",
       "    .dataframe thead th {\n",
       "        text-align: right;\n",
       "    }\n",
       "</style>\n",
       "<table border=\"1\" class=\"dataframe\">\n",
       "  <thead>\n",
       "    <tr style=\"text-align: right;\">\n",
       "      <th></th>\n",
       "      <th>length</th>\n",
       "      <th>bed_slope</th>\n",
       "      <th>surf_slope</th>\n",
       "      <th>Surge</th>\n",
       "      <th>Area</th>\n",
       "      <th>Slope</th>\n",
       "      <th>TermType</th>\n",
       "      <th>bed</th>\n",
       "      <th>thickness</th>\n",
       "      <th>surface_elevation</th>\n",
       "      <th>cmb</th>\n",
       "      <th>width_centerline</th>\n",
       "      <th>Runoff</th>\n",
       "      <th>WH</th>\n",
       "      <th>WHsin</th>\n",
       "      <th>dummy</th>\n",
       "    </tr>\n",
       "  </thead>\n",
       "  <tbody>\n",
       "    <tr>\n",
       "      <th>RGI60-07.00004</th>\n",
       "      <td>913.899798</td>\n",
       "      <td>0.201471</td>\n",
       "      <td>0.211265</td>\n",
       "      <td>0</td>\n",
       "      <td>1.044</td>\n",
       "      <td>13.8</td>\n",
       "      <td>0</td>\n",
       "      <td>823.260914</td>\n",
       "      <td>30.600193</td>\n",
       "      <td>853.861111</td>\n",
       "      <td>0.005051</td>\n",
       "      <td>425.276089</td>\n",
       "      <td>1.135406</td>\n",
       "      <td>13.897824</td>\n",
       "      <td>3104.162397</td>\n",
       "      <td>0.351551</td>\n",
       "    </tr>\n",
       "    <tr>\n",
       "      <th>RGI60-07.00006</th>\n",
       "      <td>7126.067102</td>\n",
       "      <td>0.087083</td>\n",
       "      <td>0.082606</td>\n",
       "      <td>0</td>\n",
       "      <td>13.618</td>\n",
       "      <td>12.6</td>\n",
       "      <td>1</td>\n",
       "      <td>249.308085</td>\n",
       "      <td>56.154878</td>\n",
       "      <td>305.462963</td>\n",
       "      <td>0.006963</td>\n",
       "      <td>1156.936330</td>\n",
       "      <td>2.196162</td>\n",
       "      <td>20.602597</td>\n",
       "      <td>14172.246964</td>\n",
       "      <td>0.387579</td>\n",
       "    </tr>\n",
       "    <tr>\n",
       "      <th>RGI60-07.00008</th>\n",
       "      <td>1567.942574</td>\n",
       "      <td>0.128219</td>\n",
       "      <td>0.135020</td>\n",
       "      <td>0</td>\n",
       "      <td>1.577</td>\n",
       "      <td>14.8</td>\n",
       "      <td>0</td>\n",
       "      <td>173.741327</td>\n",
       "      <td>20.128238</td>\n",
       "      <td>193.869565</td>\n",
       "      <td>0.006616</td>\n",
       "      <td>587.915603</td>\n",
       "      <td>2.628263</td>\n",
       "      <td>29.208498</td>\n",
       "      <td>3022.869846</td>\n",
       "      <td>0.803769</td>\n",
       "    </tr>\n",
       "    <tr>\n",
       "      <th>RGI60-07.00010</th>\n",
       "      <td>2180.241958</td>\n",
       "      <td>0.185345</td>\n",
       "      <td>0.185439</td>\n",
       "      <td>0</td>\n",
       "      <td>1.456</td>\n",
       "      <td>16.0</td>\n",
       "      <td>0</td>\n",
       "      <td>315.729296</td>\n",
       "      <td>19.246014</td>\n",
       "      <td>334.975309</td>\n",
       "      <td>0.006769</td>\n",
       "      <td>633.852539</td>\n",
       "      <td>2.321316</td>\n",
       "      <td>32.934224</td>\n",
       "      <td>3362.537237</td>\n",
       "      <td>0.538773</td>\n",
       "    </tr>\n",
       "    <tr>\n",
       "      <th>RGI60-07.00024</th>\n",
       "      <td>1472.682273</td>\n",
       "      <td>0.172078</td>\n",
       "      <td>0.172772</td>\n",
       "      <td>0</td>\n",
       "      <td>1.025</td>\n",
       "      <td>19.4</td>\n",
       "      <td>0</td>\n",
       "      <td>396.148187</td>\n",
       "      <td>13.090450</td>\n",
       "      <td>409.238636</td>\n",
       "      <td>0.007053</td>\n",
       "      <td>327.444479</td>\n",
       "      <td>1.937088</td>\n",
       "      <td>25.013996</td>\n",
       "      <td>1423.774059</td>\n",
       "      <td>0.114366</td>\n",
       "    </tr>\n",
       "    <tr>\n",
       "      <th>...</th>\n",
       "      <td>...</td>\n",
       "      <td>...</td>\n",
       "      <td>...</td>\n",
       "      <td>...</td>\n",
       "      <td>...</td>\n",
       "      <td>...</td>\n",
       "      <td>...</td>\n",
       "      <td>...</td>\n",
       "      <td>...</td>\n",
       "      <td>...</td>\n",
       "      <td>...</td>\n",
       "      <td>...</td>\n",
       "      <td>...</td>\n",
       "      <td>...</td>\n",
       "      <td>...</td>\n",
       "      <td>...</td>\n",
       "    </tr>\n",
       "    <tr>\n",
       "      <th>RGI60-07.01562</th>\n",
       "      <td>2983.952766</td>\n",
       "      <td>0.166765</td>\n",
       "      <td>0.153430</td>\n",
       "      <td>0</td>\n",
       "      <td>3.475</td>\n",
       "      <td>10.7</td>\n",
       "      <td>0</td>\n",
       "      <td>241.288306</td>\n",
       "      <td>59.636145</td>\n",
       "      <td>300.924452</td>\n",
       "      <td>0.003311</td>\n",
       "      <td>1023.288889</td>\n",
       "      <td>1.402359</td>\n",
       "      <td>17.158871</td>\n",
       "      <td>11330.305987</td>\n",
       "      <td>0.628092</td>\n",
       "    </tr>\n",
       "    <tr>\n",
       "      <th>RGI60-07.01563</th>\n",
       "      <td>5225.809608</td>\n",
       "      <td>0.136647</td>\n",
       "      <td>0.126225</td>\n",
       "      <td>0</td>\n",
       "      <td>8.875</td>\n",
       "      <td>11.9</td>\n",
       "      <td>0</td>\n",
       "      <td>260.291092</td>\n",
       "      <td>71.350877</td>\n",
       "      <td>331.641968</td>\n",
       "      <td>0.003654</td>\n",
       "      <td>827.390012</td>\n",
       "      <td>1.483290</td>\n",
       "      <td>11.596073</td>\n",
       "      <td>12173.264720</td>\n",
       "      <td>0.159060</td>\n",
       "    </tr>\n",
       "    <tr>\n",
       "      <th>RGI60-07.01564</th>\n",
       "      <td>31510.734441</td>\n",
       "      <td>0.053654</td>\n",
       "      <td>0.051382</td>\n",
       "      <td>3</td>\n",
       "      <td>330.996</td>\n",
       "      <td>6.0</td>\n",
       "      <td>0</td>\n",
       "      <td>534.338951</td>\n",
       "      <td>129.530531</td>\n",
       "      <td>663.869488</td>\n",
       "      <td>0.002880</td>\n",
       "      <td>4066.157997</td>\n",
       "      <td>1.225338</td>\n",
       "      <td>31.391503</td>\n",
       "      <td>55054.263817</td>\n",
       "      <td>0.108077</td>\n",
       "    </tr>\n",
       "    <tr>\n",
       "      <th>RGI60-07.01566</th>\n",
       "      <td>3857.287637</td>\n",
       "      <td>0.097342</td>\n",
       "      <td>0.096279</td>\n",
       "      <td>0</td>\n",
       "      <td>6.924</td>\n",
       "      <td>10.6</td>\n",
       "      <td>0</td>\n",
       "      <td>352.339653</td>\n",
       "      <td>41.780538</td>\n",
       "      <td>394.120193</td>\n",
       "      <td>0.003961</td>\n",
       "      <td>1083.519801</td>\n",
       "      <td>2.150344</td>\n",
       "      <td>25.933601</td>\n",
       "      <td>8327.485137</td>\n",
       "      <td>0.765305</td>\n",
       "    </tr>\n",
       "    <tr>\n",
       "      <th>RGI60-07.01567</th>\n",
       "      <td>4833.062242</td>\n",
       "      <td>0.129628</td>\n",
       "      <td>0.127180</td>\n",
       "      <td>3</td>\n",
       "      <td>5.350</td>\n",
       "      <td>11.7</td>\n",
       "      <td>0</td>\n",
       "      <td>487.268161</td>\n",
       "      <td>41.212672</td>\n",
       "      <td>528.480838</td>\n",
       "      <td>0.004585</td>\n",
       "      <td>613.308966</td>\n",
       "      <td>1.579713</td>\n",
       "      <td>14.881563</td>\n",
       "      <td>5125.672252</td>\n",
       "      <td>0.085304</td>\n",
       "    </tr>\n",
       "  </tbody>\n",
       "</table>\n",
       "<p>850 rows × 16 columns</p>\n",
       "</div>"
      ],
      "text/plain": [
       "                      length  bed_slope  surf_slope  Surge     Area  Slope  \\\n",
       "RGI60-07.00004    913.899798   0.201471    0.211265      0    1.044   13.8   \n",
       "RGI60-07.00006   7126.067102   0.087083    0.082606      0   13.618   12.6   \n",
       "RGI60-07.00008   1567.942574   0.128219    0.135020      0    1.577   14.8   \n",
       "RGI60-07.00010   2180.241958   0.185345    0.185439      0    1.456   16.0   \n",
       "RGI60-07.00024   1472.682273   0.172078    0.172772      0    1.025   19.4   \n",
       "...                      ...        ...         ...    ...      ...    ...   \n",
       "RGI60-07.01562   2983.952766   0.166765    0.153430      0    3.475   10.7   \n",
       "RGI60-07.01563   5225.809608   0.136647    0.126225      0    8.875   11.9   \n",
       "RGI60-07.01564  31510.734441   0.053654    0.051382      3  330.996    6.0   \n",
       "RGI60-07.01566   3857.287637   0.097342    0.096279      0    6.924   10.6   \n",
       "RGI60-07.01567   4833.062242   0.129628    0.127180      3    5.350   11.7   \n",
       "\n",
       "                TermType         bed   thickness  surface_elevation       cmb  \\\n",
       "RGI60-07.00004         0  823.260914   30.600193         853.861111  0.005051   \n",
       "RGI60-07.00006         1  249.308085   56.154878         305.462963  0.006963   \n",
       "RGI60-07.00008         0  173.741327   20.128238         193.869565  0.006616   \n",
       "RGI60-07.00010         0  315.729296   19.246014         334.975309  0.006769   \n",
       "RGI60-07.00024         0  396.148187   13.090450         409.238636  0.007053   \n",
       "...                  ...         ...         ...                ...       ...   \n",
       "RGI60-07.01562         0  241.288306   59.636145         300.924452  0.003311   \n",
       "RGI60-07.01563         0  260.291092   71.350877         331.641968  0.003654   \n",
       "RGI60-07.01564         0  534.338951  129.530531         663.869488  0.002880   \n",
       "RGI60-07.01566         0  352.339653   41.780538         394.120193  0.003961   \n",
       "RGI60-07.01567         0  487.268161   41.212672         528.480838  0.004585   \n",
       "\n",
       "                width_centerline    Runoff         WH         WHsin     dummy  \n",
       "RGI60-07.00004        425.276089  1.135406  13.897824   3104.162397  0.351551  \n",
       "RGI60-07.00006       1156.936330  2.196162  20.602597  14172.246964  0.387579  \n",
       "RGI60-07.00008        587.915603  2.628263  29.208498   3022.869846  0.803769  \n",
       "RGI60-07.00010        633.852539  2.321316  32.934224   3362.537237  0.538773  \n",
       "RGI60-07.00024        327.444479  1.937088  25.013996   1423.774059  0.114366  \n",
       "...                          ...       ...        ...           ...       ...  \n",
       "RGI60-07.01562       1023.288889  1.402359  17.158871  11330.305987  0.628092  \n",
       "RGI60-07.01563        827.390012  1.483290  11.596073  12173.264720  0.159060  \n",
       "RGI60-07.01564       4066.157997  1.225338  31.391503  55054.263817  0.108077  \n",
       "RGI60-07.01566       1083.519801  2.150344  25.933601   8327.485137  0.765305  \n",
       "RGI60-07.01567        613.308966  1.579713  14.881563   5125.672252  0.085304  \n",
       "\n",
       "[850 rows x 16 columns]"
      ]
     },
     "execution_count": 6,
     "metadata": {},
     "output_type": "execute_result"
    }
   ],
   "source": [
    "df"
   ]
  },
  {
   "cell_type": "code",
   "execution_count": 7,
   "metadata": {},
   "outputs": [
    {
     "data": {
      "text/html": [
       "<div>\n",
       "<style scoped>\n",
       "    .dataframe tbody tr th:only-of-type {\n",
       "        vertical-align: middle;\n",
       "    }\n",
       "\n",
       "    .dataframe tbody tr th {\n",
       "        vertical-align: top;\n",
       "    }\n",
       "\n",
       "    .dataframe thead th {\n",
       "        text-align: right;\n",
       "    }\n",
       "</style>\n",
       "<table border=\"1\" class=\"dataframe\">\n",
       "  <thead>\n",
       "    <tr style=\"text-align: right;\">\n",
       "      <th></th>\n",
       "      <th>length</th>\n",
       "      <th>bed_slope</th>\n",
       "      <th>surf_slope</th>\n",
       "      <th>rgiid</th>\n",
       "      <th>x</th>\n",
       "      <th>y</th>\n",
       "      <th>Area</th>\n",
       "      <th>Slope</th>\n",
       "      <th>TermType</th>\n",
       "      <th>bed</th>\n",
       "      <th>thickness</th>\n",
       "      <th>surface_elevation</th>\n",
       "      <th>ELA</th>\n",
       "      <th>beta</th>\n",
       "      <th>cmb</th>\n",
       "      <th>width_centerline</th>\n",
       "      <th>Runoff</th>\n",
       "      <th>WH</th>\n",
       "      <th>WHsin</th>\n",
       "      <th>dummy</th>\n",
       "    </tr>\n",
       "    <tr>\n",
       "      <th>Surge</th>\n",
       "      <th></th>\n",
       "      <th></th>\n",
       "      <th></th>\n",
       "      <th></th>\n",
       "      <th></th>\n",
       "      <th></th>\n",
       "      <th></th>\n",
       "      <th></th>\n",
       "      <th></th>\n",
       "      <th></th>\n",
       "      <th></th>\n",
       "      <th></th>\n",
       "      <th></th>\n",
       "      <th></th>\n",
       "      <th></th>\n",
       "      <th></th>\n",
       "      <th></th>\n",
       "      <th></th>\n",
       "      <th></th>\n",
       "      <th></th>\n",
       "    </tr>\n",
       "  </thead>\n",
       "  <tbody>\n",
       "    <tr>\n",
       "      <th>0</th>\n",
       "      <td>751</td>\n",
       "      <td>751</td>\n",
       "      <td>751</td>\n",
       "      <td>751</td>\n",
       "      <td>751</td>\n",
       "      <td>751</td>\n",
       "      <td>751</td>\n",
       "      <td>751</td>\n",
       "      <td>751</td>\n",
       "      <td>751</td>\n",
       "      <td>751</td>\n",
       "      <td>751</td>\n",
       "      <td>751</td>\n",
       "      <td>751</td>\n",
       "      <td>751</td>\n",
       "      <td>750</td>\n",
       "      <td>751</td>\n",
       "      <td>750</td>\n",
       "      <td>750</td>\n",
       "      <td>751</td>\n",
       "    </tr>\n",
       "    <tr>\n",
       "      <th>3</th>\n",
       "      <td>100</td>\n",
       "      <td>100</td>\n",
       "      <td>100</td>\n",
       "      <td>100</td>\n",
       "      <td>100</td>\n",
       "      <td>100</td>\n",
       "      <td>100</td>\n",
       "      <td>100</td>\n",
       "      <td>100</td>\n",
       "      <td>100</td>\n",
       "      <td>100</td>\n",
       "      <td>100</td>\n",
       "      <td>100</td>\n",
       "      <td>100</td>\n",
       "      <td>100</td>\n",
       "      <td>100</td>\n",
       "      <td>100</td>\n",
       "      <td>100</td>\n",
       "      <td>100</td>\n",
       "      <td>100</td>\n",
       "    </tr>\n",
       "  </tbody>\n",
       "</table>\n",
       "</div>"
      ],
      "text/plain": [
       "       length  bed_slope  surf_slope  rgiid    x    y  Area  Slope  TermType  \\\n",
       "Surge                                                                          \n",
       "0         751        751         751    751  751  751   751    751       751   \n",
       "3         100        100         100    100  100  100   100    100       100   \n",
       "\n",
       "       bed  thickness  surface_elevation  ELA  beta  cmb  width_centerline  \\\n",
       "Surge                                                                        \n",
       "0      751        751                751  751   751  751               750   \n",
       "3      100        100                100  100   100  100               100   \n",
       "\n",
       "       Runoff   WH  WHsin  dummy  \n",
       "Surge                             \n",
       "0         751  750    750    751  \n",
       "3         100  100    100    100  "
      ]
     },
     "execution_count": 7,
     "metadata": {},
     "output_type": "execute_result"
    }
   ],
   "source": [
    "df_main.groupby('Surge').count()"
   ]
  },
  {
   "cell_type": "code",
   "execution_count": 8,
   "metadata": {},
   "outputs": [
    {
     "data": {
      "text/plain": [
       "0    750\n",
       "1    100\n",
       "Name: label, dtype: int64"
      ]
     },
     "execution_count": 8,
     "metadata": {},
     "output_type": "execute_result"
    }
   ],
   "source": [
    "df['Surge'] = df['Surge'].replace({3: 1})\n",
    "df = df.loc[df['Surge'].isin([0, 1])].copy()\n",
    "df = df.rename(columns = {'Surge': 'label'})\n",
    "df['label'].value_counts()"
   ]
  },
  {
   "cell_type": "code",
   "execution_count": 9,
   "metadata": {},
   "outputs": [
    {
     "data": {
      "text/plain": [
       "RGI60-07.00004    0\n",
       "RGI60-07.00006    0\n",
       "RGI60-07.00008    0\n",
       "RGI60-07.00010    0\n",
       "RGI60-07.00024    0\n",
       "                 ..\n",
       "RGI60-07.01562    0\n",
       "RGI60-07.01563    0\n",
       "RGI60-07.01564    1\n",
       "RGI60-07.01566    0\n",
       "RGI60-07.01567    1\n",
       "Name: label, Length: 850, dtype: int64"
      ]
     },
     "execution_count": 9,
     "metadata": {},
     "output_type": "execute_result"
    }
   ],
   "source": [
    "df['label']"
   ]
  },
  {
   "cell_type": "code",
   "execution_count": 10,
   "metadata": {},
   "outputs": [
    {
     "data": {
      "text/plain": [
       "Index(['length', 'bed_slope', 'surf_slope', 'label', 'Area', 'Slope',\n",
       "       'TermType', 'bed', 'thickness', 'surface_elevation', 'cmb',\n",
       "       'width_centerline', 'Runoff', 'WH', 'WHsin', 'dummy'],\n",
       "      dtype='object')"
      ]
     },
     "execution_count": 10,
     "metadata": {},
     "output_type": "execute_result"
    }
   ],
   "source": [
    "df.columns"
   ]
  },
  {
   "cell_type": "code",
   "execution_count": 11,
   "metadata": {},
   "outputs": [],
   "source": [
    "# Extract the labels\n",
    "labels = np.array(df.pop('label'))\n",
    "\n",
    "# 30% examples in test data\n",
    "train, test, train_labels, test_labels = train_test_split(df, labels, \n",
    "                                                          stratify = labels,\n",
    "                                                          test_size = 0.3, \n",
    "                                                          random_state = RSEED)"
   ]
  },
  {
   "cell_type": "code",
   "execution_count": 12,
   "metadata": {},
   "outputs": [
    {
     "data": {
      "text/plain": [
       "0.11764705882352941"
      ]
     },
     "execution_count": 12,
     "metadata": {},
     "output_type": "execute_result"
    }
   ],
   "source": [
    "train_labels.sum()/train_labels.shape[0]"
   ]
  },
  {
   "cell_type": "code",
   "execution_count": 13,
   "metadata": {},
   "outputs": [
    {
     "data": {
      "text/plain": [
       "0.11764705882352941"
      ]
     },
     "execution_count": 13,
     "metadata": {},
     "output_type": "execute_result"
    }
   ],
   "source": [
    "test_labels.sum()/test_labels.shape[0]"
   ]
  },
  {
   "cell_type": "code",
   "execution_count": 14,
   "metadata": {},
   "outputs": [
    {
     "name": "stdout",
     "output_type": "stream",
     "text": [
      "length\n",
      "False    850\n",
      "Name: length, dtype: int64\n",
      "\n",
      "bed_slope\n",
      "False    850\n",
      "Name: bed_slope, dtype: int64\n",
      "\n",
      "surf_slope\n",
      "False    850\n",
      "Name: surf_slope, dtype: int64\n",
      "\n",
      "Area\n",
      "False    850\n",
      "Name: Area, dtype: int64\n",
      "\n",
      "Slope\n",
      "False    850\n",
      "Name: Slope, dtype: int64\n",
      "\n",
      "TermType\n",
      "False    850\n",
      "Name: TermType, dtype: int64\n",
      "\n",
      "bed\n",
      "False    850\n",
      "Name: bed, dtype: int64\n",
      "\n",
      "thickness\n",
      "False    850\n",
      "Name: thickness, dtype: int64\n",
      "\n",
      "surface_elevation\n",
      "False    850\n",
      "Name: surface_elevation, dtype: int64\n",
      "\n",
      "cmb\n",
      "False    850\n",
      "Name: cmb, dtype: int64\n",
      "\n",
      "width_centerline\n",
      "False    850\n",
      "Name: width_centerline, dtype: int64\n",
      "\n",
      "Runoff\n",
      "False    850\n",
      "Name: Runoff, dtype: int64\n",
      "\n",
      "WH\n",
      "False    850\n",
      "Name: WH, dtype: int64\n",
      "\n",
      "WHsin\n",
      "False    850\n",
      "Name: WHsin, dtype: int64\n",
      "\n",
      "dummy\n",
      "False    850\n",
      "Name: dummy, dtype: int64\n",
      "\n"
     ]
    }
   ],
   "source": [
    "missing_data = df.isna()\n",
    "for column in missing_data.columns.values.tolist():\n",
    "    print(column)\n",
    "    print(missing_data[column].value_counts())\n",
    "    print(\"\")"
   ]
  },
  {
   "cell_type": "code",
   "execution_count": 15,
   "metadata": {},
   "outputs": [
    {
     "data": {
      "text/plain": [
       "0.04996143628417174"
      ]
     },
     "execution_count": 15,
     "metadata": {},
     "output_type": "execute_result"
    }
   ],
   "source": [
    "4081/81683"
   ]
  },
  {
   "cell_type": "code",
   "execution_count": 16,
   "metadata": {},
   "outputs": [
    {
     "data": {
      "text/plain": [
       "['length',\n",
       " 'bed_slope',\n",
       " 'surf_slope',\n",
       " 'Area',\n",
       " 'Slope',\n",
       " 'TermType',\n",
       " 'bed',\n",
       " 'thickness',\n",
       " 'surface_elevation',\n",
       " 'cmb',\n",
       " 'width_centerline',\n",
       " 'Runoff',\n",
       " 'WH',\n",
       " 'WHsin',\n",
       " 'dummy']"
      ]
     },
     "execution_count": 16,
     "metadata": {},
     "output_type": "execute_result"
    }
   ],
   "source": [
    "# Features for feature importances\n",
    "features = list(train.columns)\n",
    "features"
   ]
  },
  {
   "cell_type": "code",
   "execution_count": 17,
   "metadata": {},
   "outputs": [
    {
     "data": {
      "text/plain": [
       "(595, 15)"
      ]
     },
     "execution_count": 17,
     "metadata": {},
     "output_type": "execute_result"
    }
   ],
   "source": [
    "train.shape"
   ]
  },
  {
   "cell_type": "code",
   "execution_count": 18,
   "metadata": {},
   "outputs": [
    {
     "data": {
      "text/plain": [
       "(595,)"
      ]
     },
     "execution_count": 18,
     "metadata": {},
     "output_type": "execute_result"
    }
   ],
   "source": [
    "train_labels.shape"
   ]
  },
  {
   "cell_type": "code",
   "execution_count": 19,
   "metadata": {},
   "outputs": [
    {
     "data": {
      "text/plain": [
       "(255, 15)"
      ]
     },
     "execution_count": 19,
     "metadata": {},
     "output_type": "execute_result"
    }
   ],
   "source": [
    "test.shape"
   ]
  },
  {
   "cell_type": "markdown",
   "metadata": {},
   "source": [
    "### Evaluate the decision tree"
   ]
  },
  {
   "cell_type": "code",
   "execution_count": 20,
   "metadata": {},
   "outputs": [],
   "source": [
    "def evaluate_model(predictions, probs, train_predictions, train_probs):\n",
    "    \"\"\"Compare machine learning model to baseline performance.\n",
    "    Computes statistics and shows ROC curve.\"\"\"\n",
    "    \n",
    "    baseline = {}\n",
    "    \n",
    "    baseline['recall'] = recall_score(test_labels, [1 for _ in range(len(test_labels))])\n",
    "    baseline['precision'] = precision_score(test_labels, [1 for _ in range(len(test_labels))])\n",
    "    baseline['roc'] = 0.5\n",
    "    \n",
    "    results = {}\n",
    "    \n",
    "    results['recall'] = recall_score(test_labels, predictions)\n",
    "    results['precision'] = precision_score(test_labels, predictions)\n",
    "    results['roc'] = roc_auc_score(test_labels, probs)\n",
    "    \n",
    "    train_results = {}\n",
    "    train_results['recall'] = recall_score(train_labels, train_predictions)\n",
    "    train_results['precision'] = precision_score(train_labels, train_predictions)\n",
    "    train_results['roc'] = roc_auc_score(train_labels, train_probs)\n",
    "    \n",
    "    for metric in ['recall', 'precision', 'roc']:\n",
    "        print(f'{metric.capitalize()} Baseline: {round(baseline[metric], 2)} Test: {round(results[metric], 2)} Train: {round(train_results[metric], 2)}')\n",
    "    \n",
    "    # Calculate false positive rates and true positive rates\n",
    "    base_fpr, base_tpr, _ = roc_curve(test_labels, [1 for _ in range(len(test_labels))])\n",
    "    model_fpr, model_tpr, _ = roc_curve(test_labels, probs)\n",
    "\n",
    "    plt.figure(figsize = (8, 6))\n",
    "    plt.rcParams['font.size'] = 16\n",
    "    \n",
    "    # Plot both curves\n",
    "    plt.plot(base_fpr, base_tpr, 'k', label = 'baseline')\n",
    "    plt.plot(model_fpr, model_tpr, 'm', label = 'model')\n",
    "    plt.text(s = 'AUC = ' + str(round(roc_auc_score(train_labels, train_probs),2))\n",
    "    , x=0.6, y=0.0, fontsize=15\n",
    ")\n",
    "    plt.legend();\n",
    "    plt.xlabel('False Positive Rate'); plt.ylabel('True Positive Rate'); plt.title('ROC Curves');"
   ]
  },
  {
   "cell_type": "markdown",
   "metadata": {},
   "source": [
    "### Random forest"
   ]
  },
  {
   "cell_type": "code",
   "execution_count": 21,
   "metadata": {},
   "outputs": [
    {
     "data": {
      "text/plain": [
       "Index(['length', 'bed_slope', 'surf_slope', 'Area', 'Slope', 'TermType', 'bed',\n",
       "       'thickness', 'surface_elevation', 'cmb', 'width_centerline', 'Runoff',\n",
       "       'WH', 'WHsin', 'dummy'],\n",
       "      dtype='object')"
      ]
     },
     "execution_count": 21,
     "metadata": {},
     "output_type": "execute_result"
    }
   ],
   "source": [
    "df.columns"
   ]
  },
  {
   "cell_type": "code",
   "execution_count": 22,
   "metadata": {},
   "outputs": [
    {
     "name": "stderr",
     "output_type": "stream",
     "text": [
      "[Parallel(n_jobs=-1)]: Using backend ThreadingBackend with 8 concurrent workers.\n",
      "[Parallel(n_jobs=-1)]: Done  34 tasks      | elapsed:    0.0s\n",
      "[Parallel(n_jobs=-1)]: Done 184 tasks      | elapsed:    0.2s\n",
      "[Parallel(n_jobs=-1)]: Done 434 tasks      | elapsed:    0.6s\n",
      "[Parallel(n_jobs=-1)]: Done 784 tasks      | elapsed:    1.0s\n",
      "[Parallel(n_jobs=-1)]: Done 1000 out of 1000 | elapsed:    1.2s finished\n"
     ]
    },
    {
     "data": {
      "text/plain": [
       "RandomForestClassifier(max_depth=2, max_features='sqrt', n_estimators=1000,\n",
       "                       n_jobs=-1, random_state=50, verbose=1)"
      ]
     },
     "execution_count": 22,
     "metadata": {},
     "output_type": "execute_result"
    }
   ],
   "source": [
    "from sklearn.ensemble import RandomForestClassifier\n",
    "\n",
    "# Create the model with 100 trees\n",
    "model = RandomForestClassifier(n_estimators=1000, \n",
    "                               random_state=RSEED, \n",
    "                               max_features = 'sqrt',\n",
    "                               max_depth = 2,\n",
    "                               n_jobs=-1, verbose = 1)\n",
    "\n",
    "# Fit on training data\n",
    "model.fit(train, train_labels)"
   ]
  },
  {
   "cell_type": "code",
   "execution_count": 23,
   "metadata": {},
   "outputs": [
    {
     "name": "stdout",
     "output_type": "stream",
     "text": [
      "Average number of nodes 6\n",
      "Average maximum depth 2\n"
     ]
    }
   ],
   "source": [
    "n_nodes = []\n",
    "max_depths = []\n",
    "\n",
    "for ind_tree in model.estimators_:\n",
    "    n_nodes.append(ind_tree.tree_.node_count)\n",
    "    max_depths.append(ind_tree.tree_.max_depth)\n",
    "    \n",
    "print(f'Average number of nodes {int(np.mean(n_nodes))}')\n",
    "print(f'Average maximum depth {int(np.mean(max_depths))}')"
   ]
  },
  {
   "cell_type": "code",
   "execution_count": 24,
   "metadata": {},
   "outputs": [
    {
     "name": "stderr",
     "output_type": "stream",
     "text": [
      "[Parallel(n_jobs=8)]: Using backend ThreadingBackend with 8 concurrent workers.\n",
      "[Parallel(n_jobs=8)]: Done  34 tasks      | elapsed:    0.0s\n",
      "[Parallel(n_jobs=8)]: Done 184 tasks      | elapsed:    0.1s\n",
      "[Parallel(n_jobs=8)]: Done 434 tasks      | elapsed:    0.2s\n",
      "[Parallel(n_jobs=8)]: Done 784 tasks      | elapsed:    0.3s\n",
      "[Parallel(n_jobs=8)]: Done 1000 out of 1000 | elapsed:    0.3s finished\n",
      "[Parallel(n_jobs=8)]: Using backend ThreadingBackend with 8 concurrent workers.\n",
      "[Parallel(n_jobs=8)]: Done  34 tasks      | elapsed:    0.0s\n",
      "[Parallel(n_jobs=8)]: Done 184 tasks      | elapsed:    0.0s\n",
      "[Parallel(n_jobs=8)]: Done 434 tasks      | elapsed:    0.1s\n",
      "[Parallel(n_jobs=8)]: Done 784 tasks      | elapsed:    0.1s\n",
      "[Parallel(n_jobs=8)]: Done 1000 out of 1000 | elapsed:    0.2s finished\n",
      "[Parallel(n_jobs=8)]: Using backend ThreadingBackend with 8 concurrent workers.\n",
      "[Parallel(n_jobs=8)]: Done  34 tasks      | elapsed:    0.0s\n",
      "[Parallel(n_jobs=8)]: Done 184 tasks      | elapsed:    0.0s\n",
      "[Parallel(n_jobs=8)]: Done 434 tasks      | elapsed:    0.1s\n",
      "[Parallel(n_jobs=8)]: Done 784 tasks      | elapsed:    0.1s\n",
      "[Parallel(n_jobs=8)]: Done 1000 out of 1000 | elapsed:    0.2s finished\n",
      "[Parallel(n_jobs=8)]: Using backend ThreadingBackend with 8 concurrent workers.\n",
      "[Parallel(n_jobs=8)]: Done  34 tasks      | elapsed:    0.0s\n",
      "[Parallel(n_jobs=8)]: Done 184 tasks      | elapsed:    0.0s\n",
      "[Parallel(n_jobs=8)]: Done 434 tasks      | elapsed:    0.1s\n",
      "[Parallel(n_jobs=8)]: Done 784 tasks      | elapsed:    0.1s\n",
      "[Parallel(n_jobs=8)]: Done 1000 out of 1000 | elapsed:    0.2s finished\n"
     ]
    }
   ],
   "source": [
    "train_rf_predictions = model.predict(train)\n",
    "train_rf_probs = model.predict_proba(train)[:, 1]\n",
    "\n",
    "rf_predictions = model.predict(test)\n",
    "rf_probs = model.predict_proba(test)[:, 1]"
   ]
  },
  {
   "cell_type": "code",
   "execution_count": 25,
   "metadata": {},
   "outputs": [],
   "source": [
    "pd.DataFrame({'true':test_labels, 'predictions':rf_predictions, 'probs':rf_probs}).to_csv('/home/colili/Documents/PhD/project_john/DataFrame_produced/ROC_curve/df_compare_roc_RF_onewindow.csv')"
   ]
  },
  {
   "cell_type": "code",
   "execution_count": 26,
   "metadata": {},
   "outputs": [
    {
     "name": "stderr",
     "output_type": "stream",
     "text": [
      "/usr/local/lib64/python3.8/site-packages/sklearn/metrics/_classification.py:1245: UndefinedMetricWarning: Precision is ill-defined and being set to 0.0 due to no predicted samples. Use `zero_division` parameter to control this behavior.\n",
      "  _warn_prf(average, modifier, msg_start, len(result))\n",
      "/usr/local/lib64/python3.8/site-packages/sklearn/metrics/_classification.py:1245: UndefinedMetricWarning: Precision is ill-defined and being set to 0.0 due to no predicted samples. Use `zero_division` parameter to control this behavior.\n",
      "  _warn_prf(average, modifier, msg_start, len(result))\n"
     ]
    },
    {
     "name": "stdout",
     "output_type": "stream",
     "text": [
      "Recall Baseline: 1.0 Test: 0.0 Train: 0.0\n",
      "Precision Baseline: 0.12 Test: 0.0 Train: 0.0\n",
      "Roc Baseline: 0.5 Test: 0.76 Train: 0.87\n"
     ]
    },
    {
     "data": {
      "image/png": "[encoded data removed]",
      "text/plain": [
       "<Figure size 576x432 with 1 Axes>"
      ]
     },
     "metadata": {
      "needs_background": "light"
     },
     "output_type": "display_data"
    }
   ],
   "source": [
    "evaluate_model(rf_predictions, rf_probs, train_rf_predictions, train_rf_probs)"
   ]
  },
  {
   "cell_type": "code",
   "execution_count": 27,
   "metadata": {},
   "outputs": [],
   "source": [
    "from sklearn.metrics import confusion_matrix\n",
    "import itertools\n",
    "\n",
    "def plot_confusion_matrix(cm, classes,\n",
    "                          normalize=False,\n",
    "                          title='Confusion matrix',\n",
    "                          cmap=plt.cm.Oranges):\n",
    "    \"\"\"\n",
    "    This function prints and plots the confusion matrix.\n",
    "    Normalization can be applied by setting `normalize=True`.\n",
    "    Source: http://scikit-learn.org/stable/auto_examples/model_selection/plot_confusion_matrix.html\n",
    "    \"\"\"\n",
    "    if normalize:\n",
    "        cm = cm.astype('float') / cm.sum(axis=1)[:, np.newaxis]\n",
    "        print(\"Normalized confusion matrix\")\n",
    "    else:\n",
    "        print('Confusion matrix, without normalization')\n",
    "\n",
    "    print(cm)\n",
    "\n",
    "    plt.figure(figsize = (10, 10))\n",
    "    plt.imshow(cm, interpolation='nearest', cmap=cmap)\n",
    "    plt.title(title, size = 24)\n",
    "    cbar = plt.colorbar(aspect=4)\n",
    "    plt.clim(0,100)\n",
    "    cbar.set_label('Fraction (%)')\n",
    "    tick_marks = np.arange(len(classes))\n",
    "    plt.xticks(tick_marks, classes, rotation=45, size = 14)\n",
    "    plt.yticks(tick_marks, classes, size = 14)\n",
    "\n",
    "    fmt = '.2f' if normalize else 'd'\n",
    "    thresh = cm.max() / 2.\n",
    "    \n",
    "    # Labeling the plot\n",
    "    for i, j in itertools.product(range(cm.shape[0]), range(cm.shape[1])):\n",
    "        plt.text(j, i, format(cm[i, j], fmt), fontsize = 20,\n",
    "                 horizontalalignment=\"center\",\n",
    "                 color=\"white\" if cm[i, j] > thresh else \"black\")\n",
    "        \n",
    "    plt.grid(None)\n",
    "    plt.tight_layout()\n",
    "    plt.ylabel('True label', size = 18)\n",
    "    plt.xlabel('Predicted label', size = 18)"
   ]
  },
  {
   "cell_type": "code",
   "execution_count": null,
   "metadata": {},
   "outputs": [],
   "source": []
  },
  {
   "cell_type": "code",
   "execution_count": 28,
   "metadata": {},
   "outputs": [
    {
     "name": "stdout",
     "output_type": "stream",
     "text": [
      "Confusion matrix, without normalization\n",
      "[[88  0]\n",
      " [12  0]]\n"
     ]
    },
    {
     "data": {
      "image/png": "[encoded data removed]",
      "text/plain": [
       "<Figure size 720x720 with 2 Axes>"
      ]
     },
     "metadata": {
      "needs_background": "light"
     },
     "output_type": "display_data"
    }
   ],
   "source": [
    "cm_rf = confusion_matrix(test_labels, rf_predictions)\n",
    "plot_confusion_matrix(np.round(cm_rf/(test_labels.shape)*100).astype(int), classes = ['Surge', 'Non-surge'],\n",
    "                      title = 'Confusion Matrix RF', cmap='Purples')"
   ]
  },
  {
   "cell_type": "code",
   "execution_count": 29,
   "metadata": {},
   "outputs": [
    {
     "name": "stdout",
     "output_type": "stream",
     "text": [
      "Average precision-recall score: 0.12\n"
     ]
    }
   ],
   "source": [
    "from sklearn.metrics import average_precision_score\n",
    "average_precision_rf = average_precision_score(test_labels, rf_predictions)\n",
    "\n",
    "print('Average precision-recall score: {0:0.2f}'.format(\n",
    "      average_precision_rf))"
   ]
  },
  {
   "cell_type": "code",
   "execution_count": 30,
   "metadata": {},
   "outputs": [
    {
     "name": "stderr",
     "output_type": "stream",
     "text": [
      "[Parallel(n_jobs=8)]: Using backend ThreadingBackend with 8 concurrent workers.\n",
      "[Parallel(n_jobs=8)]: Done  34 tasks      | elapsed:    0.0s\n",
      "[Parallel(n_jobs=8)]: Done 184 tasks      | elapsed:    0.1s\n",
      "[Parallel(n_jobs=8)]: Done 434 tasks      | elapsed:    0.2s\n",
      "[Parallel(n_jobs=8)]: Done 784 tasks      | elapsed:    0.2s\n",
      "[Parallel(n_jobs=8)]: Done 1000 out of 1000 | elapsed:    0.3s finished\n"
     ]
    },
    {
     "data": {
      "text/plain": [
       "Text(0.5, 1.0, '2-class Precision-Recall curve RF: AP=0.12')"
      ]
     },
     "execution_count": 30,
     "metadata": {},
     "output_type": "execute_result"
    },
    {
     "data": {
      "image/png": "[encoded data removed]",
      "text/plain": [
       "<Figure size 432x288 with 1 Axes>"
      ]
     },
     "metadata": {
      "needs_background": "light"
     },
     "output_type": "display_data"
    }
   ],
   "source": [
    "from sklearn.metrics import precision_recall_curve\n",
    "from sklearn.metrics import plot_precision_recall_curve\n",
    "import matplotlib.pyplot as plt\n",
    "\n",
    "disp_rf = plot_precision_recall_curve(model, test, test_labels)\n",
    "disp_rf.ax_.set_title('2-class Precision-Recall curve RF: '\n",
    "                   'AP={0:0.2f}'.format(average_precision_rf))"
   ]
  },
  {
   "cell_type": "code",
   "execution_count": 31,
   "metadata": {},
   "outputs": [
    {
     "name": "stdout",
     "output_type": "stream",
     "text": [
      "Decision tree has 105 nodes with maximum depth 13.\n"
     ]
    }
   ],
   "source": [
    "tree = DecisionTreeClassifier(random_state=RSEED)\n",
    "tree.fit(train, train_labels)\n",
    "print(f'Decision tree has {tree.tree_.node_count} nodes with maximum depth {tree.tree_.max_depth}.')"
   ]
  },
  {
   "cell_type": "code",
   "execution_count": 32,
   "metadata": {},
   "outputs": [
    {
     "data": {
      "text/html": [
       "<div>\n",
       "<style scoped>\n",
       "    .dataframe tbody tr th:only-of-type {\n",
       "        vertical-align: middle;\n",
       "    }\n",
       "\n",
       "    .dataframe tbody tr th {\n",
       "        vertical-align: top;\n",
       "    }\n",
       "\n",
       "    .dataframe thead th {\n",
       "        text-align: right;\n",
       "    }\n",
       "</style>\n",
       "<table border=\"1\" class=\"dataframe\">\n",
       "  <thead>\n",
       "    <tr style=\"text-align: right;\">\n",
       "      <th></th>\n",
       "      <th>feature</th>\n",
       "      <th>importance</th>\n",
       "    </tr>\n",
       "  </thead>\n",
       "  <tbody>\n",
       "    <tr>\n",
       "      <th>3</th>\n",
       "      <td>Area</td>\n",
       "      <td>0.256317</td>\n",
       "    </tr>\n",
       "    <tr>\n",
       "      <th>0</th>\n",
       "      <td>length</td>\n",
       "      <td>0.155216</td>\n",
       "    </tr>\n",
       "    <tr>\n",
       "      <th>11</th>\n",
       "      <td>Runoff</td>\n",
       "      <td>0.134671</td>\n",
       "    </tr>\n",
       "    <tr>\n",
       "      <th>10</th>\n",
       "      <td>width_centerline</td>\n",
       "      <td>0.079272</td>\n",
       "    </tr>\n",
       "    <tr>\n",
       "      <th>12</th>\n",
       "      <td>WH</td>\n",
       "      <td>0.073018</td>\n",
       "    </tr>\n",
       "  </tbody>\n",
       "</table>\n",
       "</div>"
      ],
      "text/plain": [
       "             feature  importance\n",
       "3               Area    0.256317\n",
       "0             length    0.155216\n",
       "11            Runoff    0.134671\n",
       "10  width_centerline    0.079272\n",
       "12                WH    0.073018"
      ]
     },
     "execution_count": 32,
     "metadata": {},
     "output_type": "execute_result"
    }
   ],
   "source": [
    "fi = pd.DataFrame({'feature': features,\n",
    "                   'importance': tree.feature_importances_}).\\\n",
    "                    sort_values('importance', ascending = False)\n",
    "fi.head()"
   ]
  },
  {
   "cell_type": "markdown",
   "metadata": {},
   "source": [
    "# Gradient boosting"
   ]
  },
  {
   "cell_type": "code",
   "execution_count": 33,
   "metadata": {},
   "outputs": [],
   "source": [
    "import xgboost\n",
    "import sklearn.metrics as metrics\n",
    "from sklearn.model_selection import train_test_split"
   ]
  },
  {
   "cell_type": "code",
   "execution_count": 34,
   "metadata": {},
   "outputs": [],
   "source": [
    "dmatrix_train = xgboost.DMatrix(train, label=train_labels)\n",
    "dmatrix_test = xgboost.DMatrix(test, label=test_labels)"
   ]
  },
  {
   "cell_type": "code",
   "execution_count": 35,
   "metadata": {},
   "outputs": [
    {
     "name": "stdout",
     "output_type": "stream",
     "text": [
      "[15:45:09] WARNING: ../src/learner.cc:541: \n",
      "Parameters: { num_boost_round } might not be used.\n",
      "\n",
      "  This may not be accurate due to some parameters are only used in language bindings but\n",
      "  passed down to XGBoost core.  Or some parameters are not used but slip through this\n",
      "  verification. Please open an issue if you find above cases.\n",
      "\n",
      "\n"
     ]
    }
   ],
   "source": [
    "params = {'objective':'reg:logistic', 'num_boost_round':20000, 'max_depth':1, 'scale_pos_weight':0.3}\n",
    "\n",
    "xgb = xgboost.train(params, dmatrix_train, num_boost_round=20000)"
   ]
  },
  {
   "cell_type": "code",
   "execution_count": 36,
   "metadata": {},
   "outputs": [],
   "source": [
    "predictions_xgboost = xgb.predict(dmatrix_test)\n",
    "pd.DataFrame({'true':test_labels, 'predictions':predictions_xgboost})\n",
    "pd.DataFrame({'true':test_labels, 'predictions':predictions_xgboost}).to_csv('/home/colili/Documents/PhD/project_john/DataFrame_produced/ROC_curve/df_compare_roc_xgboost_1window.csv')"
   ]
  },
  {
   "cell_type": "code",
   "execution_count": 37,
   "metadata": {},
   "outputs": [
    {
     "data": {
      "text/plain": [
       "Text(0.6, 0.0, 'AUC = 0.76')"
      ]
     },
     "execution_count": 37,
     "metadata": {},
     "output_type": "execute_result"
    },
    {
     "data": {
      "image/png": "[encoded data removed]",
      "text/plain": [
       "<Figure size 648x576 with 1 Axes>"
      ]
     },
     "metadata": {
      "needs_background": "light"
     },
     "output_type": "display_data"
    }
   ],
   "source": [
    "fpr, tpr, t = metrics.roc_curve(y_true=test_labels, y_score=predictions_xgboost)\n",
    "\n",
    "fig, ax = plt.subplots(figsize=(9, 8))\n",
    "\n",
    "ax.plot(fpr, tpr, 'b')\n",
    "ax.plot([0, 1], [0, 1], 'k')\n",
    "\n",
    "ax.set_ylabel('True Positive Rate', fontsize=15)\n",
    "ax.set_xlabel('False Positive Rate', fontsize=15)\n",
    "ax.set_title('ROC XgBoost', fontsize=15)\n",
    "ax.text(\n",
    "s = 'AUC = ' + str(round(metrics.roc_auc_score(y_true=test_labels, y_score=predictions_xgboost),2))\n",
    "    , x=0.6, y=0.0, fontsize=15\n",
    ")"
   ]
  },
  {
   "cell_type": "code",
   "execution_count": 38,
   "metadata": {},
   "outputs": [
    {
     "data": {
      "text/plain": [
       "<matplotlib.axes._subplots.AxesSubplot at 0x7f01b77ec160>"
      ]
     },
     "execution_count": 38,
     "metadata": {},
     "output_type": "execute_result"
    },
    {
     "data": {
      "image/png": "[encoded data removed]",
      "text/plain": [
       "<Figure size 360x360 with 1 Axes>"
      ]
     },
     "metadata": {
      "needs_background": "light"
     },
     "output_type": "display_data"
    }
   ],
   "source": [
    "fig, ax = plt.subplots(figsize=(5, 5))\n",
    "xgboost.plot_importance(xgb, ax=ax)"
   ]
  },
  {
   "cell_type": "code",
   "execution_count": 39,
   "metadata": {},
   "outputs": [
    {
     "name": "stdout",
     "output_type": "stream",
     "text": [
      "Average precision-recall score: 0.33\n"
     ]
    }
   ],
   "source": [
    "average_precision_xgboost = average_precision_score(test_labels, predictions_xgboost)\n",
    "\n",
    "print('Average precision-recall score: {0:0.2f}'.format(\n",
    "      average_precision_xgboost))"
   ]
  },
  {
   "cell_type": "code",
   "execution_count": 40,
   "metadata": {},
   "outputs": [
    {
     "data": {
      "text/plain": [
       "dtype('int64')"
      ]
     },
     "execution_count": 40,
     "metadata": {},
     "output_type": "execute_result"
    }
   ],
   "source": [
    "test_labels.dtype"
   ]
  },
  {
   "cell_type": "code",
   "execution_count": null,
   "metadata": {},
   "outputs": [],
   "source": []
  },
  {
   "cell_type": "code",
   "execution_count": 41,
   "metadata": {},
   "outputs": [
    {
     "name": "stdout",
     "output_type": "stream",
     "text": [
      "Confusion matrix, without normalization\n",
      "[[83  4]\n",
      " [ 9  2]]\n"
     ]
    },
    {
     "data": {
      "image/png": "[encoded data removed]",
      "text/plain": [
       "<Figure size 720x720 with 2 Axes>"
      ]
     },
     "metadata": {
      "needs_background": "light"
     },
     "output_type": "display_data"
    }
   ],
   "source": [
    "# confusion_matrix(test_labels, predictions.round())\n",
    "cm_xgboost = confusion_matrix(test_labels, predictions_xgboost.round())\n",
    "plot_confusion_matrix((cm_xgboost/test_labels.shape*100).astype(int), classes = ['Surge', 'Non-surge'],\n",
    "                      title = 'Confusion Matrix XgBoost', cmap='Blues')"
   ]
  },
  {
   "cell_type": "markdown",
   "metadata": {},
   "source": [
    "Theory: https://towardsdatascience.com/introduction-to-logistic-regression-66248243c148\n",
    "\n",
    "Example: https://towardsdatascience.com/building-a-logistic-regression-in-python-step-by-step-becd4d56c9c8"
   ]
  },
  {
   "cell_type": "markdown",
   "metadata": {},
   "source": [
    "# Logistic regression"
   ]
  },
  {
   "cell_type": "code",
   "execution_count": 42,
   "metadata": {},
   "outputs": [],
   "source": [
    "from sklearn.linear_model import LogisticRegression"
   ]
  },
  {
   "cell_type": "code",
   "execution_count": 43,
   "metadata": {},
   "outputs": [
    {
     "name": "stderr",
     "output_type": "stream",
     "text": [
      "/usr/local/lib64/python3.8/site-packages/sklearn/linear_model/_logistic.py:763: ConvergenceWarning: lbfgs failed to converge (status=1):\n",
      "STOP: TOTAL NO. of ITERATIONS REACHED LIMIT.\n",
      "\n",
      "Increase the number of iterations (max_iter) or scale the data as shown in:\n",
      "    https://scikit-learn.org/stable/modules/preprocessing.html\n",
      "Please also refer to the documentation for alternative solver options:\n",
      "    https://scikit-learn.org/stable/modules/linear_model.html#logistic-regression\n",
      "  n_iter_i = _check_optimize_result(\n"
     ]
    },
    {
     "data": {
      "text/plain": [
       "LogisticRegression()"
      ]
     },
     "execution_count": 43,
     "metadata": {},
     "output_type": "execute_result"
    }
   ],
   "source": [
    "logreg = LogisticRegression()\n",
    "logreg.fit(train, train_labels)"
   ]
  },
  {
   "cell_type": "code",
   "execution_count": 44,
   "metadata": {},
   "outputs": [
    {
     "name": "stdout",
     "output_type": "stream",
     "text": [
      "Accuracy of logistic regression classifier on test set: 0.89\n"
     ]
    }
   ],
   "source": [
    "predictions_LR = logreg.predict(test)\n",
    "probs_LR = logreg.predict_proba(test)[:, 1]\n",
    "print('Accuracy of logistic regression classifier on test set: {:.2f}'.format(logreg.score(test, test_labels)))"
   ]
  },
  {
   "cell_type": "code",
   "execution_count": 45,
   "metadata": {},
   "outputs": [
    {
     "data": {
      "text/plain": [
       "30"
      ]
     },
     "execution_count": 45,
     "metadata": {},
     "output_type": "execute_result"
    }
   ],
   "source": [
    "test_labels.sum()"
   ]
  },
  {
   "cell_type": "code",
   "execution_count": 46,
   "metadata": {},
   "outputs": [],
   "source": [
    "pd.DataFrame({'true':test_labels, 'predictions':predictions_LR, 'prob':probs_LR}).to_csv('/home/colili/Documents/PhD/project_john/DataFrame_produced/ROC_curve/df_compare_roc_LR_1window.csv')"
   ]
  },
  {
   "cell_type": "code",
   "execution_count": 47,
   "metadata": {},
   "outputs": [
    {
     "data": {
      "image/png": "[encoded data removed]",
      "text/plain": [
       "<Figure size 648x576 with 1 Axes>"
      ]
     },
     "metadata": {
      "needs_background": "light"
     },
     "output_type": "display_data"
    }
   ],
   "source": [
    "logit_roc_auc = roc_auc_score(test_labels, logreg.predict_proba(test)[:,1])\n",
    "fpr, tpr, thresholds = roc_curve(test_labels, logreg.predict_proba(test)[:,1])\n",
    "plt.figure(figsize=(9, 8))\n",
    "plt.plot(fpr, tpr, 'g', label='AUC = %0.2f' % logit_roc_auc)\n",
    "plt.plot([0, 1], [0, 1], 'k')\n",
    "# # plt.xlim([0.0, 1.0])\n",
    "# plt.ylim([0.0, 1.05])\n",
    "plt.xlabel('False Positive Rate')\n",
    "plt.ylabel('True Positive Rate')\n",
    "plt.title('ROC Logistic regression')\n",
    "plt.legend(loc=\"lower right\")\n",
    "# plt.savefig('Log_ROC')\n",
    "plt.show()"
   ]
  },
  {
   "cell_type": "code",
   "execution_count": 48,
   "metadata": {},
   "outputs": [
    {
     "name": "stdout",
     "output_type": "stream",
     "text": [
      "<function confusion_matrix at 0x7f01bd64eaf0>\n",
      "Confusion matrix, without normalization\n",
      "[[87  1]\n",
      " [ 9  2]]\n"
     ]
    },
    {
     "data": {
      "image/png": "[encoded data removed]",
      "text/plain": [
       "<Figure size 720x720 with 2 Axes>"
      ]
     },
     "metadata": {
      "needs_background": "light"
     },
     "output_type": "display_data"
    }
   ],
   "source": [
    "from sklearn.metrics import confusion_matrix\n",
    "cm_LR = confusion_matrix(test_labels, predictions_LR)\n",
    "print(confusion_matrix)\n",
    "plot_confusion_matrix((cm_LR/test_labels.shape*100).astype(int), classes = ['Surge', 'Non-surge'],\n",
    "                      title = 'Confusion Matrix Logistic Regression', cmap='Greens')"
   ]
  },
  {
   "cell_type": "code",
   "execution_count": 49,
   "metadata": {},
   "outputs": [
    {
     "name": "stdout",
     "output_type": "stream",
     "text": [
      "Average precision-recall score: 0.23\n"
     ]
    }
   ],
   "source": [
    "average_precision_LR = average_precision_score(test_labels, predictions_LR)\n",
    "\n",
    "print('Average precision-recall score: {0:0.2f}'.format(\n",
    "      average_precision_LR))"
   ]
  },
  {
   "cell_type": "code",
   "execution_count": 50,
   "metadata": {},
   "outputs": [
    {
     "data": {
      "text/plain": [
       "Text(0.5, 1.0, '2-class Precision-Recall curve RF: AP=0.23')"
      ]
     },
     "execution_count": 50,
     "metadata": {},
     "output_type": "execute_result"
    },
    {
     "data": {
      "image/png": "[encoded data removed]",
      "text/plain": [
       "<Figure size 432x288 with 1 Axes>"
      ]
     },
     "metadata": {
      "needs_background": "light"
     },
     "output_type": "display_data"
    }
   ],
   "source": [
    "disp_lr = plot_precision_recall_curve(logreg, test, test_labels)\n",
    "disp_lr.ax_.set_title('2-class Precision-Recall curve RF: '\n",
    "                   'AP={0:0.2f}'.format(average_precision_LR))"
   ]
  }
 ],
 "metadata": {
  "kernelspec": {
   "display_name": "Python 3",
   "language": "python",
   "name": "python3"
  },
  "language_info": {
   "codemirror_mode": {
    "name": "ipython",
    "version": 3
   },
   "file_extension": ".py",
   "mimetype": "text/x-python",
   "name": "python",
   "nbconvert_exporter": "python",
   "pygments_lexer": "ipython3",
   "version": "3.8.6"
  }
 },
 "nbformat": 4,
 "nbformat_minor": 4
}
