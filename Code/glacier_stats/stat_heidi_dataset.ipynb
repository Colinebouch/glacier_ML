{
 "cells": [
  {
   "cell_type": "markdown",
   "metadata": {},
   "source": [
    "# Exploring with simple stats the surge data base of Heidi Sevestre"
   ]
  },
  {
   "cell_type": "markdown",
   "metadata": {},
   "source": [
    "Sevestre and Benn, 2015: https://www.cambridge.org/core/journals/journal-of-glaciology/article/climatic-and-geometric-controls-on-the-global-distribution-of-surgetype-glaciers-implications-for-a-unifying-model-of-surging/34D15501CBBF803608401FEAA6B0FC61 The excel spreadsheet has been sent by Doug Benn on request."
   ]
  },
  {
   "cell_type": "code",
   "execution_count": 1,
   "metadata": {},
   "outputs": [],
   "source": [
    "%matplotlib inline\n",
    "import pandas as pd\n",
    "import numpy as np\n",
    "from sklearn.model_selection import train_test_split\n",
    "from sklearn.linear_model import LogisticRegression\n",
    "import xgboost as xgb\n",
    "import matplotlib.pyplot as plt"
   ]
  },
  {
   "cell_type": "markdown",
   "metadata": {},
   "source": [
    "### Import data"
   ]
  },
  {
   "cell_type": "code",
   "execution_count": 2,
   "metadata": {},
   "outputs": [
    {
     "name": "stdout",
     "output_type": "stream",
     "text": [
      "(2280, 14)\n",
      "(2180, 14)\n",
      "there are (1503,) unique glaciers in the data set based on RGI_id\n",
      "there are (1669, 13) unique rows in the data set when removing the glacier name.\n"
     ]
    }
   ],
   "source": [
    "df = pd.read_excel('/home/colili/Documents/PhD/project_john/data_set/data_sevestre_benn/Surge_database_heidi.xlsx')\n",
    "\n",
    "# lat and lon import as non-floats\n",
    "df['CENLAT'] = df.CENLAT.astype(float)\n",
    "df['CENLON'] = df.CENLON.astype(float)\n",
    "\n",
    "print(df.shape)\n",
    "# some rows have only nans for relevant data\n",
    "df.dropna(inplace=True)\n",
    "print(df.shape)\n",
    "\n",
    "# create a column that tells us if a glacier is surgetype or not based on if it has observed surges\n",
    "df['surgetype'] = df.apply(lambda x: 1 if x['Number of dated surges'] > 0 else 0, axis=1)\n",
    "\n",
    "print('there are', df.RGI_ID.unique().shape, 'unique glaciers in the data set based on RGI_id')\n",
    "\n",
    "print('there are', df[['Country', 'RGI_ID', 'GLIMS_ID', \n",
    "       'Number of dated surges', 'CENLAT', 'CENLON', 'AREA', 'ZMIN', 'ZMAX',\n",
    "       'ZMED', 'SLOPE', 'ASPECT', 'LMAX']].drop_duplicates().shape, 'unique rows in the data set when removing the glacier name.')\n",
    "\n",
    "# we need an actual thickness, this is a bad estimate\n",
    "df['thickness'] = df.ZMAX - df.ZMIN"
   ]
  },
  {
   "cell_type": "code",
   "execution_count": 3,
   "metadata": {},
   "outputs": [
    {
     "data": {
      "text/plain": [
       "Index(['Country', 'RGI_ID', 'GLIMS_ID', 'Glacier_Name',\n",
       "       'Number of dated surges', 'CENLAT', 'CENLON', 'AREA', 'ZMIN', 'ZMAX',\n",
       "       'ZMED', 'SLOPE', 'ASPECT', 'LMAX', 'surgetype', 'thickness'],\n",
       "      dtype='object')"
      ]
     },
     "execution_count": 3,
     "metadata": {},
     "output_type": "execute_result"
    }
   ],
   "source": [
    "df.columns"
   ]
  },
  {
   "cell_type": "code",
   "execution_count": 4,
   "metadata": {},
   "outputs": [],
   "source": [
    "xcols = [ 'CENLAT', 'CENLON', 'AREA', 'ZMIN', 'ZMAX',\n",
    "       'ZMED', 'SLOPE', 'ASPECT', 'LMAX', 'thickness']\n",
    "\n",
    "ycol = 'surgetype'\n",
    "\n",
    "X = df[xcols]\n",
    "y = df[ycol]"
   ]
  },
  {
   "cell_type": "markdown",
   "metadata": {},
   "source": [
    "### Divide the dataset between train/test sets"
   ]
  },
  {
   "cell_type": "code",
   "execution_count": 5,
   "metadata": {},
   "outputs": [],
   "source": [
    "X_train, X_test, y_train, y_test = train_test_split(X, y, test_size=0.33, random_state=42)"
   ]
  },
  {
   "cell_type": "markdown",
   "metadata": {},
   "source": [
    "### Apply logistic regression"
   ]
  },
  {
   "cell_type": "code",
   "execution_count": 6,
   "metadata": {},
   "outputs": [
    {
     "data": {
      "text/plain": [
       "0.6222222222222222"
      ]
     },
     "execution_count": 6,
     "metadata": {},
     "output_type": "execute_result"
    }
   ],
   "source": [
    "lr = LogisticRegression(C=1, max_iter=1000)\n",
    "lr.fit(X_train, y_train)\n",
    "lr.score(X_test, y_test)"
   ]
  },
  {
   "cell_type": "markdown",
   "metadata": {},
   "source": [
    "### Apply gradient boosted model"
   ]
  },
  {
   "cell_type": "code",
   "execution_count": 7,
   "metadata": {},
   "outputs": [
    {
     "data": {
      "text/plain": [
       "0.7555555555555555"
      ]
     },
     "execution_count": 7,
     "metadata": {},
     "output_type": "execute_result"
    }
   ],
   "source": [
    "xg = xgb.XGBClassifier(n_estimators=20000, max_depth=1,)\n",
    "xg.fit(X_train, y_train)\n",
    "xg.score(X_test, y_test)"
   ]
  },
  {
   "cell_type": "code",
   "execution_count": 8,
   "metadata": {},
   "outputs": [
    {
     "data": {
      "text/plain": [
       "0.36527777777777776"
      ]
     },
     "execution_count": 8,
     "metadata": {},
     "output_type": "execute_result"
    }
   ],
   "source": [
    "y_test.sum()/y_test.count()"
   ]
  },
  {
   "cell_type": "code",
   "execution_count": 9,
   "metadata": {},
   "outputs": [
    {
     "data": {
      "text/plain": [
       "0.34178082191780823"
      ]
     },
     "execution_count": 9,
     "metadata": {},
     "output_type": "execute_result"
    }
   ],
   "source": [
    "y_train.sum()/y_train.count()"
   ]
  },
  {
   "cell_type": "markdown",
   "metadata": {},
   "source": [
    "### Feature of importance from the gradient boosted model"
   ]
  },
  {
   "cell_type": "code",
   "execution_count": 10,
   "metadata": {},
   "outputs": [
    {
     "data": {
      "text/plain": [
       "<AxesSubplot:title={'center':'Feature importance'}, xlabel='F score', ylabel='Features'>"
      ]
     },
     "execution_count": 10,
     "metadata": {},
     "output_type": "execute_result"
    },
    {
     "data": {
      "image/png": "[encoded data removed]",
      "text/plain": [
       "<Figure size 432x288 with 1 Axes>"
      ]
     },
     "metadata": {
      "needs_background": "light"
     },
     "output_type": "display_data"
    }
   ],
   "source": [
    "'''\n",
    "it is likely the case this model works so well because it simply knows that surge type glaciers cluster in speicfic areas on earth which is why cenlon and cenlat are so important. especially when the physical model says that the slope should be the most important.\n",
    "'''\n",
    "\n",
    "xgb.plot_importance(xg)"
   ]
  },
  {
   "cell_type": "markdown",
   "metadata": {},
   "source": [
    "### Correlation matrix"
   ]
  },
  {
   "cell_type": "code",
   "execution_count": 11,
   "metadata": {},
   "outputs": [
    {
     "data": {
      "text/html": [
       "<div>\n",
       "<style scoped>\n",
       "    .dataframe tbody tr th:only-of-type {\n",
       "        vertical-align: middle;\n",
       "    }\n",
       "\n",
       "    .dataframe tbody tr th {\n",
       "        vertical-align: top;\n",
       "    }\n",
       "\n",
       "    .dataframe thead th {\n",
       "        text-align: right;\n",
       "    }\n",
       "</style>\n",
       "<table border=\"1\" class=\"dataframe\">\n",
       "  <thead>\n",
       "    <tr style=\"text-align: right;\">\n",
       "      <th></th>\n",
       "      <th>Number of dated surges</th>\n",
       "      <th>CENLAT</th>\n",
       "      <th>CENLON</th>\n",
       "      <th>AREA</th>\n",
       "      <th>ZMIN</th>\n",
       "      <th>ZMAX</th>\n",
       "      <th>ZMED</th>\n",
       "      <th>SLOPE</th>\n",
       "      <th>ASPECT</th>\n",
       "      <th>LMAX</th>\n",
       "      <th>surgetype</th>\n",
       "      <th>thickness</th>\n",
       "    </tr>\n",
       "  </thead>\n",
       "  <tbody>\n",
       "    <tr>\n",
       "      <th>Number of dated surges</th>\n",
       "      <td>1.000000</td>\n",
       "      <td>0.072734</td>\n",
       "      <td>0.027326</td>\n",
       "      <td>0.211616</td>\n",
       "      <td>-0.170595</td>\n",
       "      <td>-0.032058</td>\n",
       "      <td>-0.107996</td>\n",
       "      <td>-0.107992</td>\n",
       "      <td>0.090357</td>\n",
       "      <td>0.202715</td>\n",
       "      <td>0.983353</td>\n",
       "      <td>0.125415</td>\n",
       "    </tr>\n",
       "    <tr>\n",
       "      <th>CENLAT</th>\n",
       "      <td>0.072734</td>\n",
       "      <td>1.000000</td>\n",
       "      <td>-0.616156</td>\n",
       "      <td>0.304101</td>\n",
       "      <td>-0.830648</td>\n",
       "      <td>-0.828061</td>\n",
       "      <td>-0.859796</td>\n",
       "      <td>-0.572891</td>\n",
       "      <td>0.067703</td>\n",
       "      <td>0.232510</td>\n",
       "      <td>0.070319</td>\n",
       "      <td>-0.232362</td>\n",
       "    </tr>\n",
       "    <tr>\n",
       "      <th>CENLON</th>\n",
       "      <td>0.027326</td>\n",
       "      <td>-0.616156</td>\n",
       "      <td>1.000000</td>\n",
       "      <td>-0.272312</td>\n",
       "      <td>0.645405</td>\n",
       "      <td>0.564483</td>\n",
       "      <td>0.642414</td>\n",
       "      <td>0.344860</td>\n",
       "      <td>-0.038474</td>\n",
       "      <td>-0.257406</td>\n",
       "      <td>0.047286</td>\n",
       "      <td>-0.098202</td>\n",
       "    </tr>\n",
       "    <tr>\n",
       "      <th>AREA</th>\n",
       "      <td>0.211616</td>\n",
       "      <td>0.304101</td>\n",
       "      <td>-0.272312</td>\n",
       "      <td>1.000000</td>\n",
       "      <td>-0.501386</td>\n",
       "      <td>-0.007245</td>\n",
       "      <td>-0.247600</td>\n",
       "      <td>-0.522178</td>\n",
       "      <td>-0.079842</td>\n",
       "      <td>0.970122</td>\n",
       "      <td>0.195242</td>\n",
       "      <td>0.670417</td>\n",
       "    </tr>\n",
       "    <tr>\n",
       "      <th>ZMIN</th>\n",
       "      <td>-0.170595</td>\n",
       "      <td>-0.830648</td>\n",
       "      <td>0.645405</td>\n",
       "      <td>-0.501386</td>\n",
       "      <td>1.000000</td>\n",
       "      <td>0.789321</td>\n",
       "      <td>0.932640</td>\n",
       "      <td>0.675343</td>\n",
       "      <td>-0.081067</td>\n",
       "      <td>-0.446566</td>\n",
       "      <td>-0.154428</td>\n",
       "      <td>0.000984</td>\n",
       "    </tr>\n",
       "    <tr>\n",
       "      <th>ZMAX</th>\n",
       "      <td>-0.032058</td>\n",
       "      <td>-0.828061</td>\n",
       "      <td>0.564483</td>\n",
       "      <td>-0.007245</td>\n",
       "      <td>0.789321</td>\n",
       "      <td>1.000000</td>\n",
       "      <td>0.924321</td>\n",
       "      <td>0.577744</td>\n",
       "      <td>-0.089395</td>\n",
       "      <td>0.061736</td>\n",
       "      <td>-0.029413</td>\n",
       "      <td>0.550067</td>\n",
       "    </tr>\n",
       "    <tr>\n",
       "      <th>ZMED</th>\n",
       "      <td>-0.107996</td>\n",
       "      <td>-0.859796</td>\n",
       "      <td>0.642414</td>\n",
       "      <td>-0.247600</td>\n",
       "      <td>0.932640</td>\n",
       "      <td>0.924321</td>\n",
       "      <td>1.000000</td>\n",
       "      <td>0.665680</td>\n",
       "      <td>-0.103461</td>\n",
       "      <td>-0.187495</td>\n",
       "      <td>-0.097601</td>\n",
       "      <td>0.290380</td>\n",
       "    </tr>\n",
       "    <tr>\n",
       "      <th>SLOPE</th>\n",
       "      <td>-0.107992</td>\n",
       "      <td>-0.572891</td>\n",
       "      <td>0.344860</td>\n",
       "      <td>-0.522178</td>\n",
       "      <td>0.675343</td>\n",
       "      <td>0.577744</td>\n",
       "      <td>0.665680</td>\n",
       "      <td>1.000000</td>\n",
       "      <td>-0.040015</td>\n",
       "      <td>-0.485040</td>\n",
       "      <td>-0.097481</td>\n",
       "      <td>0.100821</td>\n",
       "    </tr>\n",
       "    <tr>\n",
       "      <th>ASPECT</th>\n",
       "      <td>0.090357</td>\n",
       "      <td>0.067703</td>\n",
       "      <td>-0.038474</td>\n",
       "      <td>-0.079842</td>\n",
       "      <td>-0.081067</td>\n",
       "      <td>-0.089395</td>\n",
       "      <td>-0.103461</td>\n",
       "      <td>-0.040015</td>\n",
       "      <td>1.000000</td>\n",
       "      <td>-0.087930</td>\n",
       "      <td>0.092739</td>\n",
       "      <td>-0.098303</td>\n",
       "    </tr>\n",
       "    <tr>\n",
       "      <th>LMAX</th>\n",
       "      <td>0.202715</td>\n",
       "      <td>0.232510</td>\n",
       "      <td>-0.257406</td>\n",
       "      <td>0.970122</td>\n",
       "      <td>-0.446566</td>\n",
       "      <td>0.061736</td>\n",
       "      <td>-0.187495</td>\n",
       "      <td>-0.485040</td>\n",
       "      <td>-0.087930</td>\n",
       "      <td>1.000000</td>\n",
       "      <td>0.186413</td>\n",
       "      <td>0.727664</td>\n",
       "    </tr>\n",
       "    <tr>\n",
       "      <th>surgetype</th>\n",
       "      <td>0.983353</td>\n",
       "      <td>0.070319</td>\n",
       "      <td>0.047286</td>\n",
       "      <td>0.195242</td>\n",
       "      <td>-0.154428</td>\n",
       "      <td>-0.029413</td>\n",
       "      <td>-0.097601</td>\n",
       "      <td>-0.097481</td>\n",
       "      <td>0.092739</td>\n",
       "      <td>0.186413</td>\n",
       "      <td>1.000000</td>\n",
       "      <td>0.108715</td>\n",
       "    </tr>\n",
       "    <tr>\n",
       "      <th>thickness</th>\n",
       "      <td>0.125415</td>\n",
       "      <td>-0.232362</td>\n",
       "      <td>-0.098202</td>\n",
       "      <td>0.670417</td>\n",
       "      <td>0.000984</td>\n",
       "      <td>0.550067</td>\n",
       "      <td>0.290380</td>\n",
       "      <td>0.100821</td>\n",
       "      <td>-0.098303</td>\n",
       "      <td>0.727664</td>\n",
       "      <td>0.108715</td>\n",
       "      <td>1.000000</td>\n",
       "    </tr>\n",
       "  </tbody>\n",
       "</table>\n",
       "</div>"
      ],
      "text/plain": [
       "                        Number of dated surges    CENLAT    CENLON      AREA  \\\n",
       "Number of dated surges                1.000000  0.072734  0.027326  0.211616   \n",
       "CENLAT                                0.072734  1.000000 -0.616156  0.304101   \n",
       "CENLON                                0.027326 -0.616156  1.000000 -0.272312   \n",
       "AREA                                  0.211616  0.304101 -0.272312  1.000000   \n",
       "ZMIN                                 -0.170595 -0.830648  0.645405 -0.501386   \n",
       "ZMAX                                 -0.032058 -0.828061  0.564483 -0.007245   \n",
       "ZMED                                 -0.107996 -0.859796  0.642414 -0.247600   \n",
       "SLOPE                                -0.107992 -0.572891  0.344860 -0.522178   \n",
       "ASPECT                                0.090357  0.067703 -0.038474 -0.079842   \n",
       "LMAX                                  0.202715  0.232510 -0.257406  0.970122   \n",
       "surgetype                             0.983353  0.070319  0.047286  0.195242   \n",
       "thickness                             0.125415 -0.232362 -0.098202  0.670417   \n",
       "\n",
       "                            ZMIN      ZMAX      ZMED     SLOPE    ASPECT  \\\n",
       "Number of dated surges -0.170595 -0.032058 -0.107996 -0.107992  0.090357   \n",
       "CENLAT                 -0.830648 -0.828061 -0.859796 -0.572891  0.067703   \n",
       "CENLON                  0.645405  0.564483  0.642414  0.344860 -0.038474   \n",
       "AREA                   -0.501386 -0.007245 -0.247600 -0.522178 -0.079842   \n",
       "ZMIN                    1.000000  0.789321  0.932640  0.675343 -0.081067   \n",
       "ZMAX                    0.789321  1.000000  0.924321  0.577744 -0.089395   \n",
       "ZMED                    0.932640  0.924321  1.000000  0.665680 -0.103461   \n",
       "SLOPE                   0.675343  0.577744  0.665680  1.000000 -0.040015   \n",
       "ASPECT                 -0.081067 -0.089395 -0.103461 -0.040015  1.000000   \n",
       "LMAX                   -0.446566  0.061736 -0.187495 -0.485040 -0.087930   \n",
       "surgetype              -0.154428 -0.029413 -0.097601 -0.097481  0.092739   \n",
       "thickness               0.000984  0.550067  0.290380  0.100821 -0.098303   \n",
       "\n",
       "                            LMAX  surgetype  thickness  \n",
       "Number of dated surges  0.202715   0.983353   0.125415  \n",
       "CENLAT                  0.232510   0.070319  -0.232362  \n",
       "CENLON                 -0.257406   0.047286  -0.098202  \n",
       "AREA                    0.970122   0.195242   0.670417  \n",
       "ZMIN                   -0.446566  -0.154428   0.000984  \n",
       "ZMAX                    0.061736  -0.029413   0.550067  \n",
       "ZMED                   -0.187495  -0.097601   0.290380  \n",
       "SLOPE                  -0.485040  -0.097481   0.100821  \n",
       "ASPECT                 -0.087930   0.092739  -0.098303  \n",
       "LMAX                    1.000000   0.186413   0.727664  \n",
       "surgetype               0.186413   1.000000   0.108715  \n",
       "thickness               0.727664   0.108715   1.000000  "
      ]
     },
     "execution_count": 11,
     "metadata": {},
     "output_type": "execute_result"
    }
   ],
   "source": [
    "df.corr('spearman')"
   ]
  },
  {
   "cell_type": "markdown",
   "metadata": {},
   "source": [
    "### Correlation matric for surging glacier"
   ]
  },
  {
   "cell_type": "code",
   "execution_count": 23,
   "metadata": {},
   "outputs": [
    {
     "data": {
      "text/html": [
       "<div>\n",
       "<style scoped>\n",
       "    .dataframe tbody tr th:only-of-type {\n",
       "        vertical-align: middle;\n",
       "    }\n",
       "\n",
       "    .dataframe tbody tr th {\n",
       "        vertical-align: top;\n",
       "    }\n",
       "\n",
       "    .dataframe thead th {\n",
       "        text-align: right;\n",
       "    }\n",
       "</style>\n",
       "<table border=\"1\" class=\"dataframe\">\n",
       "  <thead>\n",
       "    <tr style=\"text-align: right;\">\n",
       "      <th></th>\n",
       "      <th>Number of dated surges</th>\n",
       "      <th>CENLAT</th>\n",
       "      <th>CENLON</th>\n",
       "      <th>AREA</th>\n",
       "      <th>ZMIN</th>\n",
       "      <th>ZMAX</th>\n",
       "      <th>ZMED</th>\n",
       "      <th>SLOPE</th>\n",
       "      <th>ASPECT</th>\n",
       "      <th>LMAX</th>\n",
       "      <th>surgetype</th>\n",
       "      <th>thickness</th>\n",
       "    </tr>\n",
       "  </thead>\n",
       "  <tbody>\n",
       "    <tr>\n",
       "      <th>Number of dated surges</th>\n",
       "      <td>1.000000</td>\n",
       "      <td>0.025961</td>\n",
       "      <td>-0.196805</td>\n",
       "      <td>0.240463</td>\n",
       "      <td>-0.184191</td>\n",
       "      <td>-0.052222</td>\n",
       "      <td>-0.127160</td>\n",
       "      <td>-0.145947</td>\n",
       "      <td>-0.013147</td>\n",
       "      <td>0.266798</td>\n",
       "      <td>NaN</td>\n",
       "      <td>0.160669</td>\n",
       "    </tr>\n",
       "    <tr>\n",
       "      <th>CENLAT</th>\n",
       "      <td>0.025961</td>\n",
       "      <td>1.000000</td>\n",
       "      <td>-0.323524</td>\n",
       "      <td>0.136923</td>\n",
       "      <td>-0.786138</td>\n",
       "      <td>-0.780380</td>\n",
       "      <td>-0.809522</td>\n",
       "      <td>-0.616932</td>\n",
       "      <td>0.006164</td>\n",
       "      <td>0.128675</td>\n",
       "      <td>NaN</td>\n",
       "      <td>-0.362457</td>\n",
       "    </tr>\n",
       "    <tr>\n",
       "      <th>CENLON</th>\n",
       "      <td>-0.196805</td>\n",
       "      <td>-0.323524</td>\n",
       "      <td>1.000000</td>\n",
       "      <td>-0.239335</td>\n",
       "      <td>0.618512</td>\n",
       "      <td>0.399400</td>\n",
       "      <td>0.553989</td>\n",
       "      <td>0.274877</td>\n",
       "      <td>-0.015573</td>\n",
       "      <td>-0.316660</td>\n",
       "      <td>NaN</td>\n",
       "      <td>-0.118284</td>\n",
       "    </tr>\n",
       "    <tr>\n",
       "      <th>AREA</th>\n",
       "      <td>0.240463</td>\n",
       "      <td>0.136923</td>\n",
       "      <td>-0.239335</td>\n",
       "      <td>1.000000</td>\n",
       "      <td>-0.250860</td>\n",
       "      <td>0.033463</td>\n",
       "      <td>-0.144182</td>\n",
       "      <td>-0.279015</td>\n",
       "      <td>-0.064082</td>\n",
       "      <td>0.857375</td>\n",
       "      <td>NaN</td>\n",
       "      <td>0.415467</td>\n",
       "    </tr>\n",
       "    <tr>\n",
       "      <th>ZMIN</th>\n",
       "      <td>-0.184191</td>\n",
       "      <td>-0.786138</td>\n",
       "      <td>0.618512</td>\n",
       "      <td>-0.250860</td>\n",
       "      <td>1.000000</td>\n",
       "      <td>0.853439</td>\n",
       "      <td>0.969303</td>\n",
       "      <td>0.730356</td>\n",
       "      <td>0.000541</td>\n",
       "      <td>-0.274890</td>\n",
       "      <td>NaN</td>\n",
       "      <td>0.199268</td>\n",
       "    </tr>\n",
       "    <tr>\n",
       "      <th>ZMAX</th>\n",
       "      <td>-0.052222</td>\n",
       "      <td>-0.780380</td>\n",
       "      <td>0.399400</td>\n",
       "      <td>0.033463</td>\n",
       "      <td>0.853439</td>\n",
       "      <td>1.000000</td>\n",
       "      <td>0.941587</td>\n",
       "      <td>0.706488</td>\n",
       "      <td>-0.040763</td>\n",
       "      <td>0.135084</td>\n",
       "      <td>NaN</td>\n",
       "      <td>0.680803</td>\n",
       "    </tr>\n",
       "    <tr>\n",
       "      <th>ZMED</th>\n",
       "      <td>-0.127160</td>\n",
       "      <td>-0.809522</td>\n",
       "      <td>0.553989</td>\n",
       "      <td>-0.144182</td>\n",
       "      <td>0.969303</td>\n",
       "      <td>0.941587</td>\n",
       "      <td>1.000000</td>\n",
       "      <td>0.752158</td>\n",
       "      <td>-0.016945</td>\n",
       "      <td>-0.118863</td>\n",
       "      <td>NaN</td>\n",
       "      <td>0.408143</td>\n",
       "    </tr>\n",
       "    <tr>\n",
       "      <th>SLOPE</th>\n",
       "      <td>-0.145947</td>\n",
       "      <td>-0.616932</td>\n",
       "      <td>0.274877</td>\n",
       "      <td>-0.279015</td>\n",
       "      <td>0.730356</td>\n",
       "      <td>0.706488</td>\n",
       "      <td>0.752158</td>\n",
       "      <td>1.000000</td>\n",
       "      <td>0.013185</td>\n",
       "      <td>-0.299683</td>\n",
       "      <td>NaN</td>\n",
       "      <td>0.301919</td>\n",
       "    </tr>\n",
       "    <tr>\n",
       "      <th>ASPECT</th>\n",
       "      <td>-0.013147</td>\n",
       "      <td>0.006164</td>\n",
       "      <td>-0.015573</td>\n",
       "      <td>-0.064082</td>\n",
       "      <td>0.000541</td>\n",
       "      <td>-0.040763</td>\n",
       "      <td>-0.016945</td>\n",
       "      <td>0.013185</td>\n",
       "      <td>1.000000</td>\n",
       "      <td>-0.093081</td>\n",
       "      <td>NaN</td>\n",
       "      <td>-0.077403</td>\n",
       "    </tr>\n",
       "    <tr>\n",
       "      <th>LMAX</th>\n",
       "      <td>0.266798</td>\n",
       "      <td>0.128675</td>\n",
       "      <td>-0.316660</td>\n",
       "      <td>0.857375</td>\n",
       "      <td>-0.274890</td>\n",
       "      <td>0.135084</td>\n",
       "      <td>-0.118863</td>\n",
       "      <td>-0.299683</td>\n",
       "      <td>-0.093081</td>\n",
       "      <td>1.000000</td>\n",
       "      <td>NaN</td>\n",
       "      <td>0.640306</td>\n",
       "    </tr>\n",
       "    <tr>\n",
       "      <th>surgetype</th>\n",
       "      <td>NaN</td>\n",
       "      <td>NaN</td>\n",
       "      <td>NaN</td>\n",
       "      <td>NaN</td>\n",
       "      <td>NaN</td>\n",
       "      <td>NaN</td>\n",
       "      <td>NaN</td>\n",
       "      <td>NaN</td>\n",
       "      <td>NaN</td>\n",
       "      <td>NaN</td>\n",
       "      <td>NaN</td>\n",
       "      <td>NaN</td>\n",
       "    </tr>\n",
       "    <tr>\n",
       "      <th>thickness</th>\n",
       "      <td>0.160669</td>\n",
       "      <td>-0.362457</td>\n",
       "      <td>-0.118284</td>\n",
       "      <td>0.415467</td>\n",
       "      <td>0.199268</td>\n",
       "      <td>0.680803</td>\n",
       "      <td>0.408143</td>\n",
       "      <td>0.301919</td>\n",
       "      <td>-0.077403</td>\n",
       "      <td>0.640306</td>\n",
       "      <td>NaN</td>\n",
       "      <td>1.000000</td>\n",
       "    </tr>\n",
       "  </tbody>\n",
       "</table>\n",
       "</div>"
      ],
      "text/plain": [
       "                        Number of dated surges    CENLAT    CENLON      AREA  \\\n",
       "Number of dated surges                1.000000  0.025961 -0.196805  0.240463   \n",
       "CENLAT                                0.025961  1.000000 -0.323524  0.136923   \n",
       "CENLON                               -0.196805 -0.323524  1.000000 -0.239335   \n",
       "AREA                                  0.240463  0.136923 -0.239335  1.000000   \n",
       "ZMIN                                 -0.184191 -0.786138  0.618512 -0.250860   \n",
       "ZMAX                                 -0.052222 -0.780380  0.399400  0.033463   \n",
       "ZMED                                 -0.127160 -0.809522  0.553989 -0.144182   \n",
       "SLOPE                                -0.145947 -0.616932  0.274877 -0.279015   \n",
       "ASPECT                               -0.013147  0.006164 -0.015573 -0.064082   \n",
       "LMAX                                  0.266798  0.128675 -0.316660  0.857375   \n",
       "surgetype                                  NaN       NaN       NaN       NaN   \n",
       "thickness                             0.160669 -0.362457 -0.118284  0.415467   \n",
       "\n",
       "                            ZMIN      ZMAX      ZMED     SLOPE    ASPECT  \\\n",
       "Number of dated surges -0.184191 -0.052222 -0.127160 -0.145947 -0.013147   \n",
       "CENLAT                 -0.786138 -0.780380 -0.809522 -0.616932  0.006164   \n",
       "CENLON                  0.618512  0.399400  0.553989  0.274877 -0.015573   \n",
       "AREA                   -0.250860  0.033463 -0.144182 -0.279015 -0.064082   \n",
       "ZMIN                    1.000000  0.853439  0.969303  0.730356  0.000541   \n",
       "ZMAX                    0.853439  1.000000  0.941587  0.706488 -0.040763   \n",
       "ZMED                    0.969303  0.941587  1.000000  0.752158 -0.016945   \n",
       "SLOPE                   0.730356  0.706488  0.752158  1.000000  0.013185   \n",
       "ASPECT                  0.000541 -0.040763 -0.016945  0.013185  1.000000   \n",
       "LMAX                   -0.274890  0.135084 -0.118863 -0.299683 -0.093081   \n",
       "surgetype                    NaN       NaN       NaN       NaN       NaN   \n",
       "thickness               0.199268  0.680803  0.408143  0.301919 -0.077403   \n",
       "\n",
       "                            LMAX  surgetype  thickness  \n",
       "Number of dated surges  0.266798        NaN   0.160669  \n",
       "CENLAT                  0.128675        NaN  -0.362457  \n",
       "CENLON                 -0.316660        NaN  -0.118284  \n",
       "AREA                    0.857375        NaN   0.415467  \n",
       "ZMIN                   -0.274890        NaN   0.199268  \n",
       "ZMAX                    0.135084        NaN   0.680803  \n",
       "ZMED                   -0.118863        NaN   0.408143  \n",
       "SLOPE                  -0.299683        NaN   0.301919  \n",
       "ASPECT                 -0.093081        NaN  -0.077403  \n",
       "LMAX                    1.000000        NaN   0.640306  \n",
       "surgetype                    NaN        NaN        NaN  \n",
       "thickness               0.640306        NaN   1.000000  "
      ]
     },
     "execution_count": 23,
     "metadata": {},
     "output_type": "execute_result"
    }
   ],
   "source": [
    "df[df.surgetype==1].corr()"
   ]
  },
  {
   "cell_type": "markdown",
   "metadata": {},
   "source": [
    "### Correlation matrix for non-surging glacier"
   ]
  },
  {
   "cell_type": "code",
   "execution_count": 24,
   "metadata": {},
   "outputs": [
    {
     "data": {
      "text/html": [
       "<div>\n",
       "<style scoped>\n",
       "    .dataframe tbody tr th:only-of-type {\n",
       "        vertical-align: middle;\n",
       "    }\n",
       "\n",
       "    .dataframe tbody tr th {\n",
       "        vertical-align: top;\n",
       "    }\n",
       "\n",
       "    .dataframe thead th {\n",
       "        text-align: right;\n",
       "    }\n",
       "</style>\n",
       "<table border=\"1\" class=\"dataframe\">\n",
       "  <thead>\n",
       "    <tr style=\"text-align: right;\">\n",
       "      <th></th>\n",
       "      <th>Number of dated surges</th>\n",
       "      <th>CENLAT</th>\n",
       "      <th>CENLON</th>\n",
       "      <th>AREA</th>\n",
       "      <th>ZMIN</th>\n",
       "      <th>ZMAX</th>\n",
       "      <th>ZMED</th>\n",
       "      <th>SLOPE</th>\n",
       "      <th>ASPECT</th>\n",
       "      <th>LMAX</th>\n",
       "      <th>surgetype</th>\n",
       "      <th>thickness</th>\n",
       "    </tr>\n",
       "  </thead>\n",
       "  <tbody>\n",
       "    <tr>\n",
       "      <th>Number of dated surges</th>\n",
       "      <td>NaN</td>\n",
       "      <td>NaN</td>\n",
       "      <td>NaN</td>\n",
       "      <td>NaN</td>\n",
       "      <td>NaN</td>\n",
       "      <td>NaN</td>\n",
       "      <td>NaN</td>\n",
       "      <td>NaN</td>\n",
       "      <td>NaN</td>\n",
       "      <td>NaN</td>\n",
       "      <td>NaN</td>\n",
       "      <td>NaN</td>\n",
       "    </tr>\n",
       "    <tr>\n",
       "      <th>CENLAT</th>\n",
       "      <td>NaN</td>\n",
       "      <td>1.000000</td>\n",
       "      <td>-0.594388</td>\n",
       "      <td>0.196514</td>\n",
       "      <td>-0.902568</td>\n",
       "      <td>-0.863137</td>\n",
       "      <td>-0.931032</td>\n",
       "      <td>-0.508492</td>\n",
       "      <td>0.099763</td>\n",
       "      <td>0.220872</td>\n",
       "      <td>NaN</td>\n",
       "      <td>-0.064369</td>\n",
       "    </tr>\n",
       "    <tr>\n",
       "      <th>CENLON</th>\n",
       "      <td>NaN</td>\n",
       "      <td>-0.594388</td>\n",
       "      <td>1.000000</td>\n",
       "      <td>-0.273172</td>\n",
       "      <td>0.699856</td>\n",
       "      <td>0.488189</td>\n",
       "      <td>0.643978</td>\n",
       "      <td>0.214900</td>\n",
       "      <td>-0.004162</td>\n",
       "      <td>-0.358186</td>\n",
       "      <td>NaN</td>\n",
       "      <td>-0.250362</td>\n",
       "    </tr>\n",
       "    <tr>\n",
       "      <th>AREA</th>\n",
       "      <td>NaN</td>\n",
       "      <td>0.196514</td>\n",
       "      <td>-0.273172</td>\n",
       "      <td>1.000000</td>\n",
       "      <td>-0.302986</td>\n",
       "      <td>0.063747</td>\n",
       "      <td>-0.181907</td>\n",
       "      <td>-0.343630</td>\n",
       "      <td>-0.018537</td>\n",
       "      <td>0.878424</td>\n",
       "      <td>NaN</td>\n",
       "      <td>0.564536</td>\n",
       "    </tr>\n",
       "    <tr>\n",
       "      <th>ZMIN</th>\n",
       "      <td>NaN</td>\n",
       "      <td>-0.902568</td>\n",
       "      <td>0.699856</td>\n",
       "      <td>-0.302986</td>\n",
       "      <td>1.000000</td>\n",
       "      <td>0.804994</td>\n",
       "      <td>0.962458</td>\n",
       "      <td>0.561760</td>\n",
       "      <td>-0.080729</td>\n",
       "      <td>-0.382800</td>\n",
       "      <td>NaN</td>\n",
       "      <td>-0.179589</td>\n",
       "    </tr>\n",
       "    <tr>\n",
       "      <th>ZMAX</th>\n",
       "      <td>NaN</td>\n",
       "      <td>-0.863137</td>\n",
       "      <td>0.488189</td>\n",
       "      <td>0.063747</td>\n",
       "      <td>0.804994</td>\n",
       "      <td>1.000000</td>\n",
       "      <td>0.920360</td>\n",
       "      <td>0.444316</td>\n",
       "      <td>-0.127434</td>\n",
       "      <td>0.117233</td>\n",
       "      <td>NaN</td>\n",
       "      <td>0.439069</td>\n",
       "    </tr>\n",
       "    <tr>\n",
       "      <th>ZMED</th>\n",
       "      <td>NaN</td>\n",
       "      <td>-0.931032</td>\n",
       "      <td>0.643978</td>\n",
       "      <td>-0.181907</td>\n",
       "      <td>0.962458</td>\n",
       "      <td>0.920360</td>\n",
       "      <td>1.000000</td>\n",
       "      <td>0.545870</td>\n",
       "      <td>-0.114832</td>\n",
       "      <td>-0.204470</td>\n",
       "      <td>NaN</td>\n",
       "      <td>0.068556</td>\n",
       "    </tr>\n",
       "    <tr>\n",
       "      <th>SLOPE</th>\n",
       "      <td>NaN</td>\n",
       "      <td>-0.508492</td>\n",
       "      <td>0.214900</td>\n",
       "      <td>-0.343630</td>\n",
       "      <td>0.561760</td>\n",
       "      <td>0.444316</td>\n",
       "      <td>0.545870</td>\n",
       "      <td>1.000000</td>\n",
       "      <td>-0.013580</td>\n",
       "      <td>-0.425296</td>\n",
       "      <td>NaN</td>\n",
       "      <td>-0.113982</td>\n",
       "    </tr>\n",
       "    <tr>\n",
       "      <th>ASPECT</th>\n",
       "      <td>NaN</td>\n",
       "      <td>0.099763</td>\n",
       "      <td>-0.004162</td>\n",
       "      <td>-0.018537</td>\n",
       "      <td>-0.080729</td>\n",
       "      <td>-0.127434</td>\n",
       "      <td>-0.114832</td>\n",
       "      <td>-0.013580</td>\n",
       "      <td>1.000000</td>\n",
       "      <td>-0.069969</td>\n",
       "      <td>NaN</td>\n",
       "      <td>-0.089049</td>\n",
       "    </tr>\n",
       "    <tr>\n",
       "      <th>LMAX</th>\n",
       "      <td>NaN</td>\n",
       "      <td>0.220872</td>\n",
       "      <td>-0.358186</td>\n",
       "      <td>0.878424</td>\n",
       "      <td>-0.382800</td>\n",
       "      <td>0.117233</td>\n",
       "      <td>-0.204470</td>\n",
       "      <td>-0.425296</td>\n",
       "      <td>-0.069969</td>\n",
       "      <td>1.000000</td>\n",
       "      <td>NaN</td>\n",
       "      <td>0.774092</td>\n",
       "    </tr>\n",
       "    <tr>\n",
       "      <th>surgetype</th>\n",
       "      <td>NaN</td>\n",
       "      <td>NaN</td>\n",
       "      <td>NaN</td>\n",
       "      <td>NaN</td>\n",
       "      <td>NaN</td>\n",
       "      <td>NaN</td>\n",
       "      <td>NaN</td>\n",
       "      <td>NaN</td>\n",
       "      <td>NaN</td>\n",
       "      <td>NaN</td>\n",
       "      <td>NaN</td>\n",
       "      <td>NaN</td>\n",
       "    </tr>\n",
       "    <tr>\n",
       "      <th>thickness</th>\n",
       "      <td>NaN</td>\n",
       "      <td>-0.064369</td>\n",
       "      <td>-0.250362</td>\n",
       "      <td>0.564536</td>\n",
       "      <td>-0.179589</td>\n",
       "      <td>0.439069</td>\n",
       "      <td>0.068556</td>\n",
       "      <td>-0.113982</td>\n",
       "      <td>-0.089049</td>\n",
       "      <td>0.774092</td>\n",
       "      <td>NaN</td>\n",
       "      <td>1.000000</td>\n",
       "    </tr>\n",
       "  </tbody>\n",
       "</table>\n",
       "</div>"
      ],
      "text/plain": [
       "                        Number of dated surges    CENLAT    CENLON      AREA  \\\n",
       "Number of dated surges                     NaN       NaN       NaN       NaN   \n",
       "CENLAT                                     NaN  1.000000 -0.594388  0.196514   \n",
       "CENLON                                     NaN -0.594388  1.000000 -0.273172   \n",
       "AREA                                       NaN  0.196514 -0.273172  1.000000   \n",
       "ZMIN                                       NaN -0.902568  0.699856 -0.302986   \n",
       "ZMAX                                       NaN -0.863137  0.488189  0.063747   \n",
       "ZMED                                       NaN -0.931032  0.643978 -0.181907   \n",
       "SLOPE                                      NaN -0.508492  0.214900 -0.343630   \n",
       "ASPECT                                     NaN  0.099763 -0.004162 -0.018537   \n",
       "LMAX                                       NaN  0.220872 -0.358186  0.878424   \n",
       "surgetype                                  NaN       NaN       NaN       NaN   \n",
       "thickness                                  NaN -0.064369 -0.250362  0.564536   \n",
       "\n",
       "                            ZMIN      ZMAX      ZMED     SLOPE    ASPECT  \\\n",
       "Number of dated surges       NaN       NaN       NaN       NaN       NaN   \n",
       "CENLAT                 -0.902568 -0.863137 -0.931032 -0.508492  0.099763   \n",
       "CENLON                  0.699856  0.488189  0.643978  0.214900 -0.004162   \n",
       "AREA                   -0.302986  0.063747 -0.181907 -0.343630 -0.018537   \n",
       "ZMIN                    1.000000  0.804994  0.962458  0.561760 -0.080729   \n",
       "ZMAX                    0.804994  1.000000  0.920360  0.444316 -0.127434   \n",
       "ZMED                    0.962458  0.920360  1.000000  0.545870 -0.114832   \n",
       "SLOPE                   0.561760  0.444316  0.545870  1.000000 -0.013580   \n",
       "ASPECT                 -0.080729 -0.127434 -0.114832 -0.013580  1.000000   \n",
       "LMAX                   -0.382800  0.117233 -0.204470 -0.425296 -0.069969   \n",
       "surgetype                    NaN       NaN       NaN       NaN       NaN   \n",
       "thickness              -0.179589  0.439069  0.068556 -0.113982 -0.089049   \n",
       "\n",
       "                            LMAX  surgetype  thickness  \n",
       "Number of dated surges       NaN        NaN        NaN  \n",
       "CENLAT                  0.220872        NaN  -0.064369  \n",
       "CENLON                 -0.358186        NaN  -0.250362  \n",
       "AREA                    0.878424        NaN   0.564536  \n",
       "ZMIN                   -0.382800        NaN  -0.179589  \n",
       "ZMAX                    0.117233        NaN   0.439069  \n",
       "ZMED                   -0.204470        NaN   0.068556  \n",
       "SLOPE                  -0.425296        NaN  -0.113982  \n",
       "ASPECT                 -0.069969        NaN  -0.089049  \n",
       "LMAX                    1.000000        NaN   0.774092  \n",
       "surgetype                    NaN        NaN        NaN  \n",
       "thickness               0.774092        NaN   1.000000  "
      ]
     },
     "execution_count": 24,
     "metadata": {},
     "output_type": "execute_result"
    }
   ],
   "source": [
    "df[df.surgetype==0].corr()"
   ]
  },
  {
   "cell_type": "markdown",
   "metadata": {},
   "source": [
    "### Plot slope/length"
   ]
  },
  {
   "cell_type": "code",
   "execution_count": 22,
   "metadata": {},
   "outputs": [
    {
     "data": {
      "text/plain": [
       "<AxesSubplot:xlabel='SLOPE', ylabel='LMAX'>"
      ]
     },
     "execution_count": 22,
     "metadata": {},
     "output_type": "execute_result"
    },
    {
     "data": {
      "image/png": "[encoded data removed]",
      "text/plain": [
       "<Figure size 648x504 with 2 Axes>"
      ]
     },
     "metadata": {
      "needs_background": "light"
     },
     "output_type": "display_data"
    }
   ],
   "source": [
    "fig, ax = plt.subplots(figsize=(9,7))\n",
    "df.plot.scatter(x='SLOPE', y='LMAX', c='thickness', cmap='cool', ax=ax)"
   ]
  },
  {
   "cell_type": "code",
   "execution_count": 13,
   "metadata": {},
   "outputs": [
    {
     "data": {
      "text/plain": [
       "0       -736.687681\n",
       "1      -5869.340488\n",
       "2      -1001.531411\n",
       "3      -2246.084626\n",
       "4      -6549.458056\n",
       "           ...     \n",
       "2195    -838.081561\n",
       "2196   -1522.235620\n",
       "2197   -1782.546254\n",
       "2198   -1221.115441\n",
       "2199   -1926.221171\n",
       "Length: 2180, dtype: float64"
      ]
     },
     "execution_count": 13,
     "metadata": {},
     "output_type": "execute_result"
    }
   ],
   "source": [
    "df.apply(lambda x: x['ZMAX'] - x['ZMIN'] - x['LMAX'] * np.tan((x['SLOPE']/180 )*np.pi), axis=1)"
   ]
  },
  {
   "cell_type": "code",
   "execution_count": 14,
   "metadata": {},
   "outputs": [
    {
     "data": {
      "text/plain": [
       "<AxesSubplot:>"
      ]
     },
     "execution_count": 14,
     "metadata": {},
     "output_type": "execute_result"
    },
    {
     "data": {
      "image/png": "[encoded data removed]",
      "text/plain": [
       "<Figure size 432x288 with 1 Axes>"
      ]
     },
     "metadata": {
      "needs_background": "light"
     },
     "output_type": "display_data"
    }
   ],
   "source": [
    "df.ZMAX.hist()"
   ]
  },
  {
   "cell_type": "code",
   "execution_count": 15,
   "metadata": {},
   "outputs": [
    {
     "data": {
      "text/plain": [
       "<AxesSubplot:>"
      ]
     },
     "execution_count": 15,
     "metadata": {},
     "output_type": "execute_result"
    },
    {
     "data": {
      "image/png": "[encoded data removed]",
      "text/plain": [
       "<Figure size 432x288 with 1 Axes>"
      ]
     },
     "metadata": {
      "needs_background": "light"
     },
     "output_type": "display_data"
    }
   ],
   "source": [
    "df.ZMIN.hist()"
   ]
  },
  {
   "cell_type": "code",
   "execution_count": 16,
   "metadata": {},
   "outputs": [
    {
     "data": {
      "text/plain": [
       "<AxesSubplot:>"
      ]
     },
     "execution_count": 16,
     "metadata": {},
     "output_type": "execute_result"
    },
    {
     "data": {
      "image/png": "[encoded data removed]",
      "text/plain": [
       "<Figure size 432x288 with 1 Axes>"
      ]
     },
     "metadata": {
      "needs_background": "light"
     },
     "output_type": "display_data"
    }
   ],
   "source": [
    "(df.ZMAX - df.ZMIN).hist(bins=np.arange(0, 6000, 100))"
   ]
  },
  {
   "cell_type": "code",
   "execution_count": 17,
   "metadata": {},
   "outputs": [
    {
     "data": {
      "text/plain": [
       "<AxesSubplot:>"
      ]
     },
     "execution_count": 17,
     "metadata": {},
     "output_type": "execute_result"
    },
    {
     "data": {
      "image/png": "[encoded data removed]",
      "text/plain": [
       "<Figure size 432x288 with 1 Axes>"
      ]
     },
     "metadata": {
      "needs_background": "light"
     },
     "output_type": "display_data"
    }
   ],
   "source": [
    "(df.SLOPE.apply(lambda x: np.tan(x*np.pi/180))).hist(bins=50)"
   ]
  },
  {
   "cell_type": "code",
   "execution_count": 18,
   "metadata": {},
   "outputs": [
    {
     "data": {
      "text/plain": [
       "<AxesSubplot:>"
      ]
     },
     "execution_count": 18,
     "metadata": {},
     "output_type": "execute_result"
    },
    {
     "data": {
      "image/png": "[encoded data removed]",
      "text/plain": [
       "<Figure size 432x288 with 1 Axes>"
      ]
     },
     "metadata": {
      "needs_background": "light"
     },
     "output_type": "display_data"
    }
   ],
   "source": [
    "(df.SLOPE.apply(lambda x: np.tan(x*np.pi/180)) * df.LMAX).hist()"
   ]
  }
 ],
 "metadata": {
  "kernelspec": {
   "display_name": "Python 3",
   "language": "python",
   "name": "python3"
  },
  "language_info": {
   "codemirror_mode": {
    "name": "ipython",
    "version": 3
   },
   "file_extension": ".py",
   "mimetype": "text/x-python",
   "name": "python",
   "nbconvert_exporter": "python",
   "pygments_lexer": "ipython3",
   "version": "3.8.6"
  }
 },
 "nbformat": 4,
 "nbformat_minor": 4
}
