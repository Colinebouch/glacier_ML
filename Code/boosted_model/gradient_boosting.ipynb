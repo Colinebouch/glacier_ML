{
 "cells": [
  {
   "cell_type": "markdown",
   "metadata": {},
   "source": [
    "# Run gradient boosted model on the dataframe produced in data_per_window_for_boosting"
   ]
  },
  {
   "cell_type": "code",
   "execution_count": 2,
   "metadata": {},
   "outputs": [],
   "source": [
    "import xarray as xr\n",
    "import numpy as np\n",
    "import scipy.interpolate as interp\n",
    "import pandas as pd\n",
    "\n",
    "import numpy as np\n",
    "import scipy.stats as stats\n",
    "\n",
    "import matplotlib.pyplot as plt"
   ]
  },
  {
   "cell_type": "code",
   "execution_count": 3,
   "metadata": {},
   "outputs": [],
   "source": [
    "statmodel_df = pd.read_csv('/home/colili/Documents/PhD/project_john/DataFrame_produced/df_statmodel.csv')"
   ]
  },
  {
   "cell_type": "code",
   "execution_count": 4,
   "metadata": {},
   "outputs": [],
   "source": [
    "columns_for_modeling = ['surgetype', 'Area',\n",
    "       'Zmin', 'Zmax', 'Zmed', 'Lmax', 'thick_w0',\n",
    "       'thick_w1', 'thick_w2', 'thick_w3', 'thick_w4', 'thick_w5', 'thick_w6', 'thick_w7', 'thick_w8', 'thick_w9', 'thick_w10', 'thick_w11',\n",
    "       'windowlength_w0', 'windowlength_w1', 'windowlength_w2',\n",
    "       'windowlength_w3', 'windowlength_w4', 'windowlength_w5',\n",
    "       'windowlength_w6', 'windowlength_w7', 'windowlength_w8',\n",
    "       'windowlength_w9', 'windowlength_w10', 'windowlength_w11',\n",
    "       'bedslope_w0', 'bedslope_w1', 'bedslope_w2', 'bedslope_w3',\n",
    "       'bedslope_w4', 'bedslope_w5', 'bedslope_w6', 'bedslope_w7',\n",
    "       'bedslope_w8', 'bedslope_w9', 'bedslope_w10', 'bedslope_w11',\n",
    "       'surfslope_w0', 'surfslope_w1', 'surfslope_w2', 'surfslope_w3',\n",
    "       'surfslope_w4', 'surfslope_w5', 'surfslope_w6', 'surfslope_w7',\n",
    "       'surfslope_w8', 'surfslope_w9', 'surfslope_w10', 'surfslope_w11'\n",
    "                       ]"
   ]
  },
  {
   "cell_type": "code",
   "execution_count": 5,
   "metadata": {},
   "outputs": [],
   "source": [
    "import xgboost\n",
    "import sklearn.metrics as metrics\n",
    "from sklearn.model_selection import train_test_split\n"
   ]
  },
  {
   "cell_type": "code",
   "execution_count": 6,
   "metadata": {},
   "outputs": [],
   "source": [
    "x_train, x_test, y_train, y_test = train_test_split(statmodel_df[columns_for_modeling[1:]], statmodel_df[columns_for_modeling[0]], random_state=42)"
   ]
  },
  {
   "cell_type": "code",
   "execution_count": 7,
   "metadata": {},
   "outputs": [
    {
     "data": {
      "text/html": [
       "<div>\n",
       "<style scoped>\n",
       "    .dataframe tbody tr th:only-of-type {\n",
       "        vertical-align: middle;\n",
       "    }\n",
       "\n",
       "    .dataframe tbody tr th {\n",
       "        vertical-align: top;\n",
       "    }\n",
       "\n",
       "    .dataframe thead th {\n",
       "        text-align: right;\n",
       "    }\n",
       "</style>\n",
       "<table border=\"1\" class=\"dataframe\">\n",
       "  <thead>\n",
       "    <tr style=\"text-align: right;\">\n",
       "      <th></th>\n",
       "      <th>Area</th>\n",
       "      <th>Zmin</th>\n",
       "      <th>Zmax</th>\n",
       "      <th>Zmed</th>\n",
       "      <th>Lmax</th>\n",
       "      <th>thick_w0</th>\n",
       "      <th>thick_w1</th>\n",
       "      <th>thick_w2</th>\n",
       "      <th>thick_w3</th>\n",
       "      <th>thick_w4</th>\n",
       "      <th>...</th>\n",
       "      <th>surfslope_w2</th>\n",
       "      <th>surfslope_w3</th>\n",
       "      <th>surfslope_w4</th>\n",
       "      <th>surfslope_w5</th>\n",
       "      <th>surfslope_w6</th>\n",
       "      <th>surfslope_w7</th>\n",
       "      <th>surfslope_w8</th>\n",
       "      <th>surfslope_w9</th>\n",
       "      <th>surfslope_w10</th>\n",
       "      <th>surfslope_w11</th>\n",
       "    </tr>\n",
       "  </thead>\n",
       "  <tbody>\n",
       "    <tr>\n",
       "      <th>10</th>\n",
       "      <td>175.992</td>\n",
       "      <td>1</td>\n",
       "      <td>613</td>\n",
       "      <td>355</td>\n",
       "      <td>19358</td>\n",
       "      <td>520.713000</td>\n",
       "      <td>494.912570</td>\n",
       "      <td>430.861500</td>\n",
       "      <td>369.864350</td>\n",
       "      <td>331.950800</td>\n",
       "      <td>...</td>\n",
       "      <td>0.018236</td>\n",
       "      <td>0.019241</td>\n",
       "      <td>0.022831</td>\n",
       "      <td>0.026232</td>\n",
       "      <td>0.028275</td>\n",
       "      <td>0.019038</td>\n",
       "      <td>0.014562</td>\n",
       "      <td>0.023710</td>\n",
       "      <td>0.059726</td>\n",
       "      <td>NaN</td>\n",
       "    </tr>\n",
       "    <tr>\n",
       "      <th>398</th>\n",
       "      <td>20.345</td>\n",
       "      <td>165</td>\n",
       "      <td>947</td>\n",
       "      <td>500</td>\n",
       "      <td>7536</td>\n",
       "      <td>31.208435</td>\n",
       "      <td>36.359400</td>\n",
       "      <td>29.617794</td>\n",
       "      <td>26.980675</td>\n",
       "      <td>35.126167</td>\n",
       "      <td>...</td>\n",
       "      <td>0.125122</td>\n",
       "      <td>0.148700</td>\n",
       "      <td>0.090466</td>\n",
       "      <td>0.083815</td>\n",
       "      <td>0.105424</td>\n",
       "      <td>0.045638</td>\n",
       "      <td>0.067654</td>\n",
       "      <td>0.100588</td>\n",
       "      <td>0.125866</td>\n",
       "      <td>NaN</td>\n",
       "    </tr>\n",
       "    <tr>\n",
       "      <th>361</th>\n",
       "      <td>111.779</td>\n",
       "      <td>92</td>\n",
       "      <td>1015</td>\n",
       "      <td>525</td>\n",
       "      <td>22147</td>\n",
       "      <td>NaN</td>\n",
       "      <td>123.223680</td>\n",
       "      <td>187.035600</td>\n",
       "      <td>167.091190</td>\n",
       "      <td>194.136870</td>\n",
       "      <td>...</td>\n",
       "      <td>0.024106</td>\n",
       "      <td>0.036574</td>\n",
       "      <td>0.039941</td>\n",
       "      <td>0.021337</td>\n",
       "      <td>0.037867</td>\n",
       "      <td>0.038163</td>\n",
       "      <td>0.027474</td>\n",
       "      <td>0.023582</td>\n",
       "      <td>0.005828</td>\n",
       "      <td>NaN</td>\n",
       "    </tr>\n",
       "    <tr>\n",
       "      <th>448</th>\n",
       "      <td>2.664</td>\n",
       "      <td>71</td>\n",
       "      <td>537</td>\n",
       "      <td>283</td>\n",
       "      <td>2821</td>\n",
       "      <td>NaN</td>\n",
       "      <td>21.481419</td>\n",
       "      <td>21.551622</td>\n",
       "      <td>23.725868</td>\n",
       "      <td>30.728722</td>\n",
       "      <td>...</td>\n",
       "      <td>0.175646</td>\n",
       "      <td>0.241584</td>\n",
       "      <td>0.228931</td>\n",
       "      <td>0.172840</td>\n",
       "      <td>0.065637</td>\n",
       "      <td>0.035336</td>\n",
       "      <td>0.099140</td>\n",
       "      <td>0.088995</td>\n",
       "      <td>0.206511</td>\n",
       "      <td>NaN</td>\n",
       "    </tr>\n",
       "    <tr>\n",
       "      <th>362</th>\n",
       "      <td>90.645</td>\n",
       "      <td>100</td>\n",
       "      <td>1136</td>\n",
       "      <td>597</td>\n",
       "      <td>22585</td>\n",
       "      <td>80.545030</td>\n",
       "      <td>145.068910</td>\n",
       "      <td>190.212860</td>\n",
       "      <td>152.951320</td>\n",
       "      <td>135.171680</td>\n",
       "      <td>...</td>\n",
       "      <td>0.028527</td>\n",
       "      <td>0.035672</td>\n",
       "      <td>0.030022</td>\n",
       "      <td>0.046784</td>\n",
       "      <td>0.033905</td>\n",
       "      <td>0.042566</td>\n",
       "      <td>0.019948</td>\n",
       "      <td>0.026402</td>\n",
       "      <td>0.017772</td>\n",
       "      <td>NaN</td>\n",
       "    </tr>\n",
       "    <tr>\n",
       "      <th>...</th>\n",
       "      <td>...</td>\n",
       "      <td>...</td>\n",
       "      <td>...</td>\n",
       "      <td>...</td>\n",
       "      <td>...</td>\n",
       "      <td>...</td>\n",
       "      <td>...</td>\n",
       "      <td>...</td>\n",
       "      <td>...</td>\n",
       "      <td>...</td>\n",
       "      <td>...</td>\n",
       "      <td>...</td>\n",
       "      <td>...</td>\n",
       "      <td>...</td>\n",
       "      <td>...</td>\n",
       "      <td>...</td>\n",
       "      <td>...</td>\n",
       "      <td>...</td>\n",
       "      <td>...</td>\n",
       "      <td>...</td>\n",
       "      <td>...</td>\n",
       "    </tr>\n",
       "    <tr>\n",
       "      <th>106</th>\n",
       "      <td>1.948</td>\n",
       "      <td>295</td>\n",
       "      <td>1129</td>\n",
       "      <td>746</td>\n",
       "      <td>2929</td>\n",
       "      <td>10.571068</td>\n",
       "      <td>10.245738</td>\n",
       "      <td>14.258488</td>\n",
       "      <td>19.613495</td>\n",
       "      <td>15.209396</td>\n",
       "      <td>...</td>\n",
       "      <td>0.607518</td>\n",
       "      <td>0.309257</td>\n",
       "      <td>0.319429</td>\n",
       "      <td>0.198591</td>\n",
       "      <td>0.073128</td>\n",
       "      <td>0.231441</td>\n",
       "      <td>0.235774</td>\n",
       "      <td>0.189325</td>\n",
       "      <td>NaN</td>\n",
       "      <td>NaN</td>\n",
       "    </tr>\n",
       "    <tr>\n",
       "      <th>270</th>\n",
       "      <td>17.492</td>\n",
       "      <td>165</td>\n",
       "      <td>736</td>\n",
       "      <td>494</td>\n",
       "      <td>8783</td>\n",
       "      <td>53.287830</td>\n",
       "      <td>70.397644</td>\n",
       "      <td>58.169050</td>\n",
       "      <td>38.071243</td>\n",
       "      <td>38.361690</td>\n",
       "      <td>...</td>\n",
       "      <td>0.101908</td>\n",
       "      <td>0.105155</td>\n",
       "      <td>0.080557</td>\n",
       "      <td>0.042749</td>\n",
       "      <td>0.051114</td>\n",
       "      <td>0.059897</td>\n",
       "      <td>0.044389</td>\n",
       "      <td>0.064720</td>\n",
       "      <td>0.060217</td>\n",
       "      <td>NaN</td>\n",
       "    </tr>\n",
       "    <tr>\n",
       "      <th>860</th>\n",
       "      <td>2.339</td>\n",
       "      <td>299</td>\n",
       "      <td>674</td>\n",
       "      <td>444</td>\n",
       "      <td>2930</td>\n",
       "      <td>15.822762</td>\n",
       "      <td>13.159531</td>\n",
       "      <td>12.914165</td>\n",
       "      <td>17.974497</td>\n",
       "      <td>16.364810</td>\n",
       "      <td>...</td>\n",
       "      <td>0.132399</td>\n",
       "      <td>-0.025792</td>\n",
       "      <td>0.047584</td>\n",
       "      <td>0.135265</td>\n",
       "      <td>0.135357</td>\n",
       "      <td>0.104381</td>\n",
       "      <td>0.097949</td>\n",
       "      <td>0.103645</td>\n",
       "      <td>0.000000</td>\n",
       "      <td>NaN</td>\n",
       "    </tr>\n",
       "    <tr>\n",
       "      <th>435</th>\n",
       "      <td>16.906</td>\n",
       "      <td>115</td>\n",
       "      <td>963</td>\n",
       "      <td>438</td>\n",
       "      <td>8858</td>\n",
       "      <td>38.505460</td>\n",
       "      <td>58.012043</td>\n",
       "      <td>82.550415</td>\n",
       "      <td>104.422010</td>\n",
       "      <td>98.745834</td>\n",
       "      <td>...</td>\n",
       "      <td>0.088913</td>\n",
       "      <td>0.043377</td>\n",
       "      <td>0.073094</td>\n",
       "      <td>0.072100</td>\n",
       "      <td>0.047473</td>\n",
       "      <td>0.055103</td>\n",
       "      <td>0.087896</td>\n",
       "      <td>0.119140</td>\n",
       "      <td>0.119147</td>\n",
       "      <td>NaN</td>\n",
       "    </tr>\n",
       "    <tr>\n",
       "      <th>102</th>\n",
       "      <td>10.084</td>\n",
       "      <td>316</td>\n",
       "      <td>1020</td>\n",
       "      <td>605</td>\n",
       "      <td>4361</td>\n",
       "      <td>13.489531</td>\n",
       "      <td>22.980844</td>\n",
       "      <td>34.766850</td>\n",
       "      <td>42.401330</td>\n",
       "      <td>48.459830</td>\n",
       "      <td>...</td>\n",
       "      <td>0.166065</td>\n",
       "      <td>0.219034</td>\n",
       "      <td>0.127343</td>\n",
       "      <td>0.109553</td>\n",
       "      <td>0.139629</td>\n",
       "      <td>0.027973</td>\n",
       "      <td>0.095114</td>\n",
       "      <td>0.131739</td>\n",
       "      <td>NaN</td>\n",
       "      <td>NaN</td>\n",
       "    </tr>\n",
       "  </tbody>\n",
       "</table>\n",
       "<p>735 rows × 53 columns</p>\n",
       "</div>"
      ],
      "text/plain": [
       "        Area  Zmin  Zmax  Zmed   Lmax    thick_w0    thick_w1    thick_w2  \\\n",
       "10   175.992     1   613   355  19358  520.713000  494.912570  430.861500   \n",
       "398   20.345   165   947   500   7536   31.208435   36.359400   29.617794   \n",
       "361  111.779    92  1015   525  22147         NaN  123.223680  187.035600   \n",
       "448    2.664    71   537   283   2821         NaN   21.481419   21.551622   \n",
       "362   90.645   100  1136   597  22585   80.545030  145.068910  190.212860   \n",
       "..       ...   ...   ...   ...    ...         ...         ...         ...   \n",
       "106    1.948   295  1129   746   2929   10.571068   10.245738   14.258488   \n",
       "270   17.492   165   736   494   8783   53.287830   70.397644   58.169050   \n",
       "860    2.339   299   674   444   2930   15.822762   13.159531   12.914165   \n",
       "435   16.906   115   963   438   8858   38.505460   58.012043   82.550415   \n",
       "102   10.084   316  1020   605   4361   13.489531   22.980844   34.766850   \n",
       "\n",
       "       thick_w3    thick_w4  ...  surfslope_w2  surfslope_w3  surfslope_w4  \\\n",
       "10   369.864350  331.950800  ...      0.018236      0.019241      0.022831   \n",
       "398   26.980675   35.126167  ...      0.125122      0.148700      0.090466   \n",
       "361  167.091190  194.136870  ...      0.024106      0.036574      0.039941   \n",
       "448   23.725868   30.728722  ...      0.175646      0.241584      0.228931   \n",
       "362  152.951320  135.171680  ...      0.028527      0.035672      0.030022   \n",
       "..          ...         ...  ...           ...           ...           ...   \n",
       "106   19.613495   15.209396  ...      0.607518      0.309257      0.319429   \n",
       "270   38.071243   38.361690  ...      0.101908      0.105155      0.080557   \n",
       "860   17.974497   16.364810  ...      0.132399     -0.025792      0.047584   \n",
       "435  104.422010   98.745834  ...      0.088913      0.043377      0.073094   \n",
       "102   42.401330   48.459830  ...      0.166065      0.219034      0.127343   \n",
       "\n",
       "     surfslope_w5  surfslope_w6  surfslope_w7  surfslope_w8  surfslope_w9  \\\n",
       "10       0.026232      0.028275      0.019038      0.014562      0.023710   \n",
       "398      0.083815      0.105424      0.045638      0.067654      0.100588   \n",
       "361      0.021337      0.037867      0.038163      0.027474      0.023582   \n",
       "448      0.172840      0.065637      0.035336      0.099140      0.088995   \n",
       "362      0.046784      0.033905      0.042566      0.019948      0.026402   \n",
       "..            ...           ...           ...           ...           ...   \n",
       "106      0.198591      0.073128      0.231441      0.235774      0.189325   \n",
       "270      0.042749      0.051114      0.059897      0.044389      0.064720   \n",
       "860      0.135265      0.135357      0.104381      0.097949      0.103645   \n",
       "435      0.072100      0.047473      0.055103      0.087896      0.119140   \n",
       "102      0.109553      0.139629      0.027973      0.095114      0.131739   \n",
       "\n",
       "     surfslope_w10  surfslope_w11  \n",
       "10        0.059726            NaN  \n",
       "398       0.125866            NaN  \n",
       "361       0.005828            NaN  \n",
       "448       0.206511            NaN  \n",
       "362       0.017772            NaN  \n",
       "..             ...            ...  \n",
       "106            NaN            NaN  \n",
       "270       0.060217            NaN  \n",
       "860       0.000000            NaN  \n",
       "435       0.119147            NaN  \n",
       "102            NaN            NaN  \n",
       "\n",
       "[735 rows x 53 columns]"
      ]
     },
     "execution_count": 7,
     "metadata": {},
     "output_type": "execute_result"
    }
   ],
   "source": [
    "x_train"
   ]
  },
  {
   "cell_type": "code",
   "execution_count": 8,
   "metadata": {},
   "outputs": [],
   "source": [
    "dmatrix_train = xgboost.DMatrix(x_train, label=y_train)\n",
    "dmatrix_test = xgboost.DMatrix(x_test, label=y_test)"
   ]
  },
  {
   "cell_type": "code",
   "execution_count": 9,
   "metadata": {},
   "outputs": [
    {
     "name": "stdout",
     "output_type": "stream",
     "text": [
      "[16:07:16] WARNING: ../src/learner.cc:541: \n",
      "Parameters: { num_boost_round } might not be used.\n",
      "\n",
      "  This may not be accurate due to some parameters are only used in language bindings but\n",
      "  passed down to XGBoost core.  Or some parameters are not used but slip through this\n",
      "  verification. Please open an issue if you find above cases.\n",
      "\n",
      "\n"
     ]
    }
   ],
   "source": [
    "params = {'objective':'reg:logistic', 'num_boost_round':20000, 'max_depth':1, 'scale_pos_weight':0.3}\n",
    "\n",
    "xgb = xgboost.train(params, dmatrix_train, num_boost_round=20000)"
   ]
  },
  {
   "cell_type": "code",
   "execution_count": 10,
   "metadata": {},
   "outputs": [],
   "source": [
    "predictions = xgb.predict(dmatrix_test)"
   ]
  },
  {
   "cell_type": "code",
   "execution_count": 15,
   "metadata": {},
   "outputs": [
    {
     "data": {
      "text/plain": [
       "'/home/colili/Documents/PhD/project_john/Code/boosted_model'"
      ]
     },
     "execution_count": 15,
     "metadata": {},
     "output_type": "execute_result"
    }
   ],
   "source": [
    "pwd"
   ]
  },
  {
   "cell_type": "code",
   "execution_count": 16,
   "metadata": {},
   "outputs": [],
   "source": [
    "pd.DataFrame({'true':y_test, 'predictions':predictions}).to_csv('/home/colili/Documents/PhD/project_john/DataFrame_produced/df_data_roc.csv')"
   ]
  },
  {
   "cell_type": "code",
   "execution_count": 59,
   "metadata": {},
   "outputs": [],
   "source": [
    "# predictions.to_csv('bed-el-basic.csv', index=False)"
   ]
  },
  {
   "cell_type": "code",
   "execution_count": 11,
   "metadata": {},
   "outputs": [
    {
     "data": {
      "text/plain": [
       "789    0\n",
       "497    0\n",
       "139    1\n",
       "570    0\n",
       "66     0\n",
       "      ..\n",
       "525    0\n",
       "344    1\n",
       "851    0\n",
       "25     0\n",
       "84     0\n",
       "Name: surgetype, Length: 246, dtype: int64"
      ]
     },
     "execution_count": 11,
     "metadata": {},
     "output_type": "execute_result"
    }
   ],
   "source": [
    "y_test"
   ]
  },
  {
   "cell_type": "code",
   "execution_count": 12,
   "metadata": {},
   "outputs": [
    {
     "data": {
      "text/plain": [
       "Text(0.6, 0.0, 'AUC = 0.75')"
      ]
     },
     "execution_count": 12,
     "metadata": {},
     "output_type": "execute_result"
    },
    {
     "data": {
      "image/png": "[encoded data removed]",
      "text/plain": [
       "<Figure size 648x576 with 1 Axes>"
      ]
     },
     "metadata": {
      "needs_background": "light"
     },
     "output_type": "display_data"
    }
   ],
   "source": [
    "fpr, tpr, t = metrics.roc_curve(y_true=y_test, y_score=predictions)\n",
    "\n",
    "fig, ax = plt.subplots(figsize=(9, 8))\n",
    "\n",
    "ax.plot(fpr, tpr)\n",
    "ax.plot([0, 1], [0, 1])\n",
    "\n",
    "ax.set_ylabel('True Positive Rate', fontsize=15)\n",
    "ax.set_xlabel('False Positive Rate', fontsize=15)\n",
    "ax.text(\n",
    "s = 'AUC = ' + str(round(metrics.roc_auc_score(y_true=y_test, y_score=predictions),2))\n",
    "    , x=0.6, y=0.0, fontsize=15\n",
    ")"
   ]
  },
  {
   "cell_type": "code",
   "execution_count": 13,
   "metadata": {},
   "outputs": [
    {
     "data": {
      "text/plain": [
       "(array([177.,  10.,   5.,   8.,   4.,   3.,   1.,   7.,   8.,  23.]),\n",
       " array([1.1278087e-09, 9.9997595e-02, 1.9999519e-01, 2.9999277e-01,\n",
       "        3.9999038e-01, 4.9998796e-01, 5.9998554e-01, 6.9998312e-01,\n",
       "        7.9998076e-01, 8.9997834e-01, 9.9997592e-01], dtype=float32),\n",
       " <a list of 10 Patch objects>)"
      ]
     },
     "execution_count": 13,
     "metadata": {},
     "output_type": "execute_result"
    },
    {
     "data": {
      "image/png": "[encoded data removed]",
      "text/plain": [
       "<Figure size 432x288 with 1 Axes>"
      ]
     },
     "metadata": {
      "needs_background": "light"
     },
     "output_type": "display_data"
    }
   ],
   "source": [
    "plt.hist(predictions)"
   ]
  },
  {
   "cell_type": "code",
   "execution_count": 14,
   "metadata": {},
   "outputs": [
    {
     "data": {
      "text/plain": [
       "<matplotlib.axes._subplots.AxesSubplot at 0x7f02d560a760>"
      ]
     },
     "execution_count": 14,
     "metadata": {},
     "output_type": "execute_result"
    },
    {
     "data": {
      "image/png": "[encoded data removed]",
      "text/plain": [
       "<Figure size 360x1080 with 1 Axes>"
      ]
     },
     "metadata": {
      "needs_background": "light"
     },
     "output_type": "display_data"
    }
   ],
   "source": [
    "fig, ax = plt.subplots(figsize=(5, 15))\n",
    "xgboost.plot_importance(xgb, ax=ax)"
   ]
  }
 ],
 "metadata": {
  "kernelspec": {
   "display_name": "Python 3",
   "language": "python",
   "name": "python3"
  },
  "language_info": {
   "codemirror_mode": {
    "name": "ipython",
    "version": 3
   },
   "file_extension": ".py",
   "mimetype": "text/x-python",
   "name": "python",
   "nbconvert_exporter": "python",
   "pygments_lexer": "ipython3",
   "version": "3.8.6"
  }
 },
 "nbformat": 4,
 "nbformat_minor": 4
}
